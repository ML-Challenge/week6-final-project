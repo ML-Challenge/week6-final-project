{
 "cells": [
  {
   "cell_type": "markdown",
   "metadata": {},
   "source": [
    "## Import dependencies"
   ]
  },
  {
   "cell_type": "code",
   "execution_count": 1,
   "metadata": {
    "ExecuteTime": {
     "end_time": "2020-03-16T09:29:25.084475Z",
     "start_time": "2020-03-16T09:29:24.155631Z"
    }
   },
   "outputs": [],
   "source": [
    "import pandas as pd\n",
    "import numpy as np\n",
    "import matplotlib.pyplot as plt\n",
    "\n",
    "import missingno as msno\n",
    "\n",
    "from utils import *\n",
    "\n",
    "from sklearn.model_selection import train_test_split\n",
    "from sklearn.decomposition import PCA\n",
    "from sklearn.metrics import roc_auc_score\n",
    "from sklearn.feature_selection import SelectKBest\n",
    "from sklearn.linear_model import SGDClassifier\n",
    "from sklearn.preprocessing import StandardScaler\n",
    "\n",
    "# magic word for producing visualizations in notebook\n",
    "%matplotlib inline\n",
    "\n",
    "# and setting the size of all plots.\n",
    "plt.rcParams['figure.figsize'] = [11, 7]"
   ]
  },
  {
   "cell_type": "markdown",
   "metadata": {},
   "source": [
    "## Exploratory Data Analysis (EDA)"
   ]
  },
  {
   "cell_type": "code",
   "execution_count": 2,
   "metadata": {
    "ExecuteTime": {
     "end_time": "2020-03-16T09:29:25.162267Z",
     "start_time": "2020-03-16T09:29:25.085473Z"
    }
   },
   "outputs": [
    {
     "name": "stdout",
     "output_type": "stream",
     "text": [
      "1.Exploratory Data Analysis.ipynb\n",
      "2.Experiments - ML Challenge Solution - AUC  0.87833.ipynb\n",
      "2.Experiments.ipynb\n",
      "3.Experiments - XGBoostClassifier (GridSearch Optimization) - AUC 0.88335-Copy1.ipynb\n",
      "3.Experiments - XGBoostClassifier (GridSearch Optimization) - AUC 0.88335.ipynb\n",
      "4.Experiments - RUSBoostClassifier (Bayesian Optimization) - AUC 0.87795.ipynb\n",
      "5.Experiments - BalancedRandomForest (Bayesian Optimization) - AUC 0.87623.ipynb\n",
      "6.Experiments - Voting Classifier - AUC 0.88166.ipynb\n",
      "7.Experiments - DeepLearning with fast.ai Tabular-Copy1.ipynb\n",
      "7.Experiments - DeepLearning with fast.ai Tabular-Copy2.ipynb\n",
      "7.Experiments - DeepLearning with fast.ai Tabular.ipynb\n",
      "8.Experiments - XGBoostClassifier (Bayesian Optimization) - AUC 0.8814.ipynb\n",
      "README.md\n",
      "__pycache__\n",
      "data\n",
      "temp\n",
      "utils.py\n"
     ]
    }
   ],
   "source": [
    "!ls"
   ]
  },
  {
   "cell_type": "code",
   "execution_count": 3,
   "metadata": {
    "ExecuteTime": {
     "end_time": "2020-03-16T09:29:25.255021Z",
     "start_time": "2020-03-16T09:29:25.163264Z"
    }
   },
   "outputs": [
    {
     "name": "stdout",
     "output_type": "stream",
     "text": [
      "census-income.data\n",
      "census-income.data.html\n",
      "census-income.names\n",
      "census-income.test\n",
      "census.tar.gz\n",
      "sampleSubmission.csv\n",
      "sample_submission.csv\n",
      "solution.csv\n",
      "test.csv\n",
      "train.csv\n"
     ]
    }
   ],
   "source": [
    "!ls data"
   ]
  },
  {
   "cell_type": "code",
   "execution_count": 4,
   "metadata": {
    "ExecuteTime": {
     "end_time": "2020-03-16T09:29:25.347424Z",
     "start_time": "2020-03-16T09:29:25.258012Z"
    }
   },
   "outputs": [
    {
     "name": "stdout",
     "output_type": "stream",
     "text": [
      "73, Not in universe, 0, 0, High school graduate, 0, Not in universe, Widowed, Not in universe or children, Not in universe, White, All other, Female, Not in universe, Not in universe, Not in labor force, 0, 0, 0, Nonfiler, Not in universe, Not in universe, Other Rel 18+ ever marr not in subfamily, Other relative of householder, 1700.09, ?, ?, ?, Not in universe under 1 year old, ?, 0, Not in universe, United-States, United-States, United-States, Native- Born in the United States, 0, Not in universe, 2, 0, 95, - 50000.\n",
      "58, Self-employed-not incorporated, 4, 34, Some college but no degree, 0, Not in universe, Divorced, Construction, Precision production craft & repair, White, All other, Male, Not in universe, Not in universe, Children or Armed Forces, 0, 0, 0, Head of household, South, Arkansas, Householder, Householder, 1053.55, MSA to MSA, Same county, Same county, No, Yes, 1, Not in universe, United-States, United-States, United-States, Native- Born in the United States, 0, Not in universe, 2, 52, 94, - 50000.\n",
      "18, Not in universe, 0, 0, 10th grade, 0, High school, Never married, Not in universe or children, Not in universe, Asian or Pacific Islander, All other, Female, Not in universe, Not in universe, Not in labor force, 0, 0, 0, Nonfiler, Not in universe, Not in universe, Child 18+ never marr Not in a subfamily, Child 18 or older, 991.95, ?, ?, ?, Not in universe under 1 year old, ?, 0, Not in universe, Vietnam, Vietnam, Vietnam, Foreign born- Not a citizen of U S , 0, Not in universe, 2, 0, 95, - 50000.\n",
      "9, Not in universe, 0, 0, Children, 0, Not in universe, Never married, Not in universe or children, Not in universe, White, All other, Female, Not in universe, Not in universe, Children or Armed Forces, 0, 0, 0, Nonfiler, Not in universe, Not in universe, Child <18 never marr not in subfamily, Child under 18 never married, 1758.14, Nonmover, Nonmover, Nonmover, Yes, Not in universe, 0, Both parents present, United-States, United-States, United-States, Native- Born in the United States, 0, Not in universe, 0, 0, 94, - 50000.\n",
      "10, Not in universe, 0, 0, Children, 0, Not in universe, Never married, Not in universe or children, Not in universe, White, All other, Female, Not in universe, Not in universe, Children or Armed Forces, 0, 0, 0, Nonfiler, Not in universe, Not in universe, Child <18 never marr not in subfamily, Child under 18 never married, 1069.16, Nonmover, Nonmover, Nonmover, Yes, Not in universe, 0, Both parents present, United-States, United-States, United-States, Native- Born in the United States, 0, Not in universe, 0, 0, 94, - 50000.\n"
     ]
    }
   ],
   "source": [
    "!head -n 5 data/census-income.data"
   ]
  },
  {
   "cell_type": "markdown",
   "metadata": {},
   "source": [
    "From the above listing we can conclude the following:\n",
    "\n",
    "* There is no header present in the data file. We will have to compute our own based on the documentation\n",
    "* There is a space after the comma `,` so our separator will be `, ` or `,\\s` as RegEx. \n",
    "* The missing values are represented by a question mark `?`"
   ]
  },
  {
   "cell_type": "markdown",
   "metadata": {},
   "source": [
    "### Read the dataset"
   ]
  },
  {
   "cell_type": "code",
   "execution_count": 5,
   "metadata": {
    "ExecuteTime": {
     "end_time": "2020-03-16T09:29:30.877629Z",
     "start_time": "2020-03-16T09:29:25.348418Z"
    },
    "scrolled": true
   },
   "outputs": [
    {
     "data": {
      "text/html": [
       "<div>\n",
       "<style scoped>\n",
       "    .dataframe tbody tr th:only-of-type {\n",
       "        vertical-align: middle;\n",
       "    }\n",
       "\n",
       "    .dataframe tbody tr th {\n",
       "        vertical-align: top;\n",
       "    }\n",
       "\n",
       "    .dataframe thead th {\n",
       "        text-align: right;\n",
       "    }\n",
       "</style>\n",
       "<table border=\"1\" class=\"dataframe\">\n",
       "  <thead>\n",
       "    <tr style=\"text-align: right;\">\n",
       "      <th></th>\n",
       "      <th>0</th>\n",
       "      <th>1</th>\n",
       "      <th>2</th>\n",
       "      <th>3</th>\n",
       "      <th>4</th>\n",
       "      <th>5</th>\n",
       "      <th>6</th>\n",
       "      <th>7</th>\n",
       "      <th>8</th>\n",
       "      <th>9</th>\n",
       "      <th>...</th>\n",
       "      <th>32</th>\n",
       "      <th>33</th>\n",
       "      <th>34</th>\n",
       "      <th>35</th>\n",
       "      <th>36</th>\n",
       "      <th>37</th>\n",
       "      <th>38</th>\n",
       "      <th>39</th>\n",
       "      <th>40</th>\n",
       "      <th>41</th>\n",
       "    </tr>\n",
       "  </thead>\n",
       "  <tbody>\n",
       "    <tr>\n",
       "      <th>0</th>\n",
       "      <td>73</td>\n",
       "      <td>Not in universe</td>\n",
       "      <td>0</td>\n",
       "      <td>0</td>\n",
       "      <td>High school graduate</td>\n",
       "      <td>0</td>\n",
       "      <td>Not in universe</td>\n",
       "      <td>Widowed</td>\n",
       "      <td>Not in universe or children</td>\n",
       "      <td>Not in universe</td>\n",
       "      <td>...</td>\n",
       "      <td>United-States</td>\n",
       "      <td>United-States</td>\n",
       "      <td>United-States</td>\n",
       "      <td>Native- Born in the United States</td>\n",
       "      <td>0</td>\n",
       "      <td>Not in universe</td>\n",
       "      <td>2</td>\n",
       "      <td>0</td>\n",
       "      <td>95</td>\n",
       "      <td>- 50000.</td>\n",
       "    </tr>\n",
       "    <tr>\n",
       "      <th>1</th>\n",
       "      <td>58</td>\n",
       "      <td>Self-employed-not incorporated</td>\n",
       "      <td>4</td>\n",
       "      <td>34</td>\n",
       "      <td>Some college but no degree</td>\n",
       "      <td>0</td>\n",
       "      <td>Not in universe</td>\n",
       "      <td>Divorced</td>\n",
       "      <td>Construction</td>\n",
       "      <td>Precision production craft &amp; repair</td>\n",
       "      <td>...</td>\n",
       "      <td>United-States</td>\n",
       "      <td>United-States</td>\n",
       "      <td>United-States</td>\n",
       "      <td>Native- Born in the United States</td>\n",
       "      <td>0</td>\n",
       "      <td>Not in universe</td>\n",
       "      <td>2</td>\n",
       "      <td>52</td>\n",
       "      <td>94</td>\n",
       "      <td>- 50000.</td>\n",
       "    </tr>\n",
       "    <tr>\n",
       "      <th>2</th>\n",
       "      <td>18</td>\n",
       "      <td>Not in universe</td>\n",
       "      <td>0</td>\n",
       "      <td>0</td>\n",
       "      <td>10th grade</td>\n",
       "      <td>0</td>\n",
       "      <td>High school</td>\n",
       "      <td>Never married</td>\n",
       "      <td>Not in universe or children</td>\n",
       "      <td>Not in universe</td>\n",
       "      <td>...</td>\n",
       "      <td>Vietnam</td>\n",
       "      <td>Vietnam</td>\n",
       "      <td>Vietnam</td>\n",
       "      <td>Foreign born- Not a citizen of U S</td>\n",
       "      <td>0</td>\n",
       "      <td>Not in universe</td>\n",
       "      <td>2</td>\n",
       "      <td>0</td>\n",
       "      <td>95</td>\n",
       "      <td>- 50000.</td>\n",
       "    </tr>\n",
       "    <tr>\n",
       "      <th>3</th>\n",
       "      <td>9</td>\n",
       "      <td>Not in universe</td>\n",
       "      <td>0</td>\n",
       "      <td>0</td>\n",
       "      <td>Children</td>\n",
       "      <td>0</td>\n",
       "      <td>Not in universe</td>\n",
       "      <td>Never married</td>\n",
       "      <td>Not in universe or children</td>\n",
       "      <td>Not in universe</td>\n",
       "      <td>...</td>\n",
       "      <td>United-States</td>\n",
       "      <td>United-States</td>\n",
       "      <td>United-States</td>\n",
       "      <td>Native- Born in the United States</td>\n",
       "      <td>0</td>\n",
       "      <td>Not in universe</td>\n",
       "      <td>0</td>\n",
       "      <td>0</td>\n",
       "      <td>94</td>\n",
       "      <td>- 50000.</td>\n",
       "    </tr>\n",
       "    <tr>\n",
       "      <th>4</th>\n",
       "      <td>10</td>\n",
       "      <td>Not in universe</td>\n",
       "      <td>0</td>\n",
       "      <td>0</td>\n",
       "      <td>Children</td>\n",
       "      <td>0</td>\n",
       "      <td>Not in universe</td>\n",
       "      <td>Never married</td>\n",
       "      <td>Not in universe or children</td>\n",
       "      <td>Not in universe</td>\n",
       "      <td>...</td>\n",
       "      <td>United-States</td>\n",
       "      <td>United-States</td>\n",
       "      <td>United-States</td>\n",
       "      <td>Native- Born in the United States</td>\n",
       "      <td>0</td>\n",
       "      <td>Not in universe</td>\n",
       "      <td>0</td>\n",
       "      <td>0</td>\n",
       "      <td>94</td>\n",
       "      <td>- 50000.</td>\n",
       "    </tr>\n",
       "  </tbody>\n",
       "</table>\n",
       "<p>5 rows × 42 columns</p>\n",
       "</div>"
      ],
      "text/plain": [
       "   0                               1   2   3                           4   5   \\\n",
       "0  73                 Not in universe   0   0        High school graduate   0   \n",
       "1  58  Self-employed-not incorporated   4  34  Some college but no degree   0   \n",
       "2  18                 Not in universe   0   0                  10th grade   0   \n",
       "3   9                 Not in universe   0   0                    Children   0   \n",
       "4  10                 Not in universe   0   0                    Children   0   \n",
       "\n",
       "                6              7                            8   \\\n",
       "0  Not in universe        Widowed  Not in universe or children   \n",
       "1  Not in universe       Divorced                 Construction   \n",
       "2      High school  Never married  Not in universe or children   \n",
       "3  Not in universe  Never married  Not in universe or children   \n",
       "4  Not in universe  Never married  Not in universe or children   \n",
       "\n",
       "                                    9   ...             32             33  \\\n",
       "0                      Not in universe  ...  United-States  United-States   \n",
       "1  Precision production craft & repair  ...  United-States  United-States   \n",
       "2                      Not in universe  ...        Vietnam        Vietnam   \n",
       "3                      Not in universe  ...  United-States  United-States   \n",
       "4                      Not in universe  ...  United-States  United-States   \n",
       "\n",
       "              34                                   35 36               37  38  \\\n",
       "0  United-States    Native- Born in the United States  0  Not in universe   2   \n",
       "1  United-States    Native- Born in the United States  0  Not in universe   2   \n",
       "2        Vietnam  Foreign born- Not a citizen of U S   0  Not in universe   2   \n",
       "3  United-States    Native- Born in the United States  0  Not in universe   0   \n",
       "4  United-States    Native- Born in the United States  0  Not in universe   0   \n",
       "\n",
       "   39  40        41  \n",
       "0   0  95  - 50000.  \n",
       "1  52  94  - 50000.  \n",
       "2   0  95  - 50000.  \n",
       "3   0  94  - 50000.  \n",
       "4   0  94  - 50000.  \n",
       "\n",
       "[5 rows x 42 columns]"
      ]
     },
     "execution_count": 5,
     "metadata": {},
     "output_type": "execute_result"
    }
   ],
   "source": [
    "# The C engine doesn't support RegEx so we set it to Python to avoid the warning\n",
    "#census = pd.read_csv('data/census-income.data', header=None, sep=',\\s', na_values=['?'], engine='python')\n",
    "census = pd.read_csv('data/census-income.data', header=None, sep=',\\s', na_values=['?', 'Do not know', 'Not identifiable'], engine='python')\n",
    "census.head()"
   ]
  },
  {
   "cell_type": "markdown",
   "metadata": {},
   "source": [
    "Build a lists with columns names based on the provided documentation"
   ]
  },
  {
   "cell_type": "code",
   "execution_count": 6,
   "metadata": {
    "ExecuteTime": {
     "end_time": "2020-03-16T09:29:30.892588Z",
     "start_time": "2020-03-16T09:29:30.878627Z"
    }
   },
   "outputs": [],
   "source": [
    "census_columns = [\n",
    "    'age',\n",
    "    'class of worker',\n",
    "    'detailed industry recode',\n",
    "    'detailed occupation recode',\n",
    "    'education',\n",
    "    'wage per hour',\n",
    "    'enroll in edu inst last wk',\n",
    "    'marital status',\n",
    "    'major industry code',\n",
    "    'major occupation code',\n",
    "    'race',\n",
    "    'hispanic origin',\n",
    "    'sex',\n",
    "    'member of a labor union',\n",
    "    'reason for unemployment',\n",
    "    'full or part time employment stat',\n",
    "    'capital gains',\n",
    "    'capital losses',\n",
    "    'dividends from stocks',\n",
    "    'tax filer stat',\n",
    "    'region of previous residence',\n",
    "    'state of previous residence',\n",
    "    'detailed household and family stat',\n",
    "    'detailed household summary in household',\n",
    "    'instance weight',\n",
    "    'migration code-change in msa',\n",
    "    'migration code-change in reg',\n",
    "    'migration code-move within reg',\n",
    "    'live in this house 1 year ago',\n",
    "    'migration prev res in sunbelt',\n",
    "    'num persons worked for employer',\n",
    "    'family members under 18',\n",
    "    'country of birth father',\n",
    "    'country of birth mother',\n",
    "    'country of birth self',\n",
    "    'citizenship',\n",
    "    'own business or self employed',\n",
    "    'fill inc questionnaire for veteran\\'s admin',\n",
    "    'veterans benefits',\n",
    "    'weeks worked in year',\n",
    "    'year',\n",
    "    'income class'\n",
    "]"
   ]
  },
  {
   "cell_type": "markdown",
   "metadata": {},
   "source": [
    "Set the column names to the dataset"
   ]
  },
  {
   "cell_type": "code",
   "execution_count": 7,
   "metadata": {
    "ExecuteTime": {
     "end_time": "2020-03-16T09:29:30.908576Z",
     "start_time": "2020-03-16T09:29:30.893587Z"
    }
   },
   "outputs": [],
   "source": [
    "census.columns = census_columns"
   ]
  },
  {
   "cell_type": "code",
   "execution_count": 8,
   "metadata": {
    "ExecuteTime": {
     "end_time": "2020-03-16T09:29:30.939495Z",
     "start_time": "2020-03-16T09:29:30.910541Z"
    },
    "scrolled": true
   },
   "outputs": [
    {
     "data": {
      "text/html": [
       "<div>\n",
       "<style scoped>\n",
       "    .dataframe tbody tr th:only-of-type {\n",
       "        vertical-align: middle;\n",
       "    }\n",
       "\n",
       "    .dataframe tbody tr th {\n",
       "        vertical-align: top;\n",
       "    }\n",
       "\n",
       "    .dataframe thead th {\n",
       "        text-align: right;\n",
       "    }\n",
       "</style>\n",
       "<table border=\"1\" class=\"dataframe\">\n",
       "  <thead>\n",
       "    <tr style=\"text-align: right;\">\n",
       "      <th></th>\n",
       "      <th>age</th>\n",
       "      <th>class of worker</th>\n",
       "      <th>detailed industry recode</th>\n",
       "      <th>detailed occupation recode</th>\n",
       "      <th>education</th>\n",
       "      <th>wage per hour</th>\n",
       "      <th>enroll in edu inst last wk</th>\n",
       "      <th>marital status</th>\n",
       "      <th>major industry code</th>\n",
       "      <th>major occupation code</th>\n",
       "      <th>...</th>\n",
       "      <th>country of birth father</th>\n",
       "      <th>country of birth mother</th>\n",
       "      <th>country of birth self</th>\n",
       "      <th>citizenship</th>\n",
       "      <th>own business or self employed</th>\n",
       "      <th>fill inc questionnaire for veteran's admin</th>\n",
       "      <th>veterans benefits</th>\n",
       "      <th>weeks worked in year</th>\n",
       "      <th>year</th>\n",
       "      <th>income class</th>\n",
       "    </tr>\n",
       "  </thead>\n",
       "  <tbody>\n",
       "    <tr>\n",
       "      <th>0</th>\n",
       "      <td>73</td>\n",
       "      <td>Not in universe</td>\n",
       "      <td>0</td>\n",
       "      <td>0</td>\n",
       "      <td>High school graduate</td>\n",
       "      <td>0</td>\n",
       "      <td>Not in universe</td>\n",
       "      <td>Widowed</td>\n",
       "      <td>Not in universe or children</td>\n",
       "      <td>Not in universe</td>\n",
       "      <td>...</td>\n",
       "      <td>United-States</td>\n",
       "      <td>United-States</td>\n",
       "      <td>United-States</td>\n",
       "      <td>Native- Born in the United States</td>\n",
       "      <td>0</td>\n",
       "      <td>Not in universe</td>\n",
       "      <td>2</td>\n",
       "      <td>0</td>\n",
       "      <td>95</td>\n",
       "      <td>- 50000.</td>\n",
       "    </tr>\n",
       "    <tr>\n",
       "      <th>1</th>\n",
       "      <td>58</td>\n",
       "      <td>Self-employed-not incorporated</td>\n",
       "      <td>4</td>\n",
       "      <td>34</td>\n",
       "      <td>Some college but no degree</td>\n",
       "      <td>0</td>\n",
       "      <td>Not in universe</td>\n",
       "      <td>Divorced</td>\n",
       "      <td>Construction</td>\n",
       "      <td>Precision production craft &amp; repair</td>\n",
       "      <td>...</td>\n",
       "      <td>United-States</td>\n",
       "      <td>United-States</td>\n",
       "      <td>United-States</td>\n",
       "      <td>Native- Born in the United States</td>\n",
       "      <td>0</td>\n",
       "      <td>Not in universe</td>\n",
       "      <td>2</td>\n",
       "      <td>52</td>\n",
       "      <td>94</td>\n",
       "      <td>- 50000.</td>\n",
       "    </tr>\n",
       "    <tr>\n",
       "      <th>2</th>\n",
       "      <td>18</td>\n",
       "      <td>Not in universe</td>\n",
       "      <td>0</td>\n",
       "      <td>0</td>\n",
       "      <td>10th grade</td>\n",
       "      <td>0</td>\n",
       "      <td>High school</td>\n",
       "      <td>Never married</td>\n",
       "      <td>Not in universe or children</td>\n",
       "      <td>Not in universe</td>\n",
       "      <td>...</td>\n",
       "      <td>Vietnam</td>\n",
       "      <td>Vietnam</td>\n",
       "      <td>Vietnam</td>\n",
       "      <td>Foreign born- Not a citizen of U S</td>\n",
       "      <td>0</td>\n",
       "      <td>Not in universe</td>\n",
       "      <td>2</td>\n",
       "      <td>0</td>\n",
       "      <td>95</td>\n",
       "      <td>- 50000.</td>\n",
       "    </tr>\n",
       "    <tr>\n",
       "      <th>3</th>\n",
       "      <td>9</td>\n",
       "      <td>Not in universe</td>\n",
       "      <td>0</td>\n",
       "      <td>0</td>\n",
       "      <td>Children</td>\n",
       "      <td>0</td>\n",
       "      <td>Not in universe</td>\n",
       "      <td>Never married</td>\n",
       "      <td>Not in universe or children</td>\n",
       "      <td>Not in universe</td>\n",
       "      <td>...</td>\n",
       "      <td>United-States</td>\n",
       "      <td>United-States</td>\n",
       "      <td>United-States</td>\n",
       "      <td>Native- Born in the United States</td>\n",
       "      <td>0</td>\n",
       "      <td>Not in universe</td>\n",
       "      <td>0</td>\n",
       "      <td>0</td>\n",
       "      <td>94</td>\n",
       "      <td>- 50000.</td>\n",
       "    </tr>\n",
       "    <tr>\n",
       "      <th>4</th>\n",
       "      <td>10</td>\n",
       "      <td>Not in universe</td>\n",
       "      <td>0</td>\n",
       "      <td>0</td>\n",
       "      <td>Children</td>\n",
       "      <td>0</td>\n",
       "      <td>Not in universe</td>\n",
       "      <td>Never married</td>\n",
       "      <td>Not in universe or children</td>\n",
       "      <td>Not in universe</td>\n",
       "      <td>...</td>\n",
       "      <td>United-States</td>\n",
       "      <td>United-States</td>\n",
       "      <td>United-States</td>\n",
       "      <td>Native- Born in the United States</td>\n",
       "      <td>0</td>\n",
       "      <td>Not in universe</td>\n",
       "      <td>0</td>\n",
       "      <td>0</td>\n",
       "      <td>94</td>\n",
       "      <td>- 50000.</td>\n",
       "    </tr>\n",
       "  </tbody>\n",
       "</table>\n",
       "<p>5 rows × 42 columns</p>\n",
       "</div>"
      ],
      "text/plain": [
       "   age                 class of worker  detailed industry recode  \\\n",
       "0   73                 Not in universe                         0   \n",
       "1   58  Self-employed-not incorporated                         4   \n",
       "2   18                 Not in universe                         0   \n",
       "3    9                 Not in universe                         0   \n",
       "4   10                 Not in universe                         0   \n",
       "\n",
       "   detailed occupation recode                   education  wage per hour  \\\n",
       "0                           0        High school graduate              0   \n",
       "1                          34  Some college but no degree              0   \n",
       "2                           0                  10th grade              0   \n",
       "3                           0                    Children              0   \n",
       "4                           0                    Children              0   \n",
       "\n",
       "  enroll in edu inst last wk marital status          major industry code  \\\n",
       "0            Not in universe        Widowed  Not in universe or children   \n",
       "1            Not in universe       Divorced                 Construction   \n",
       "2                High school  Never married  Not in universe or children   \n",
       "3            Not in universe  Never married  Not in universe or children   \n",
       "4            Not in universe  Never married  Not in universe or children   \n",
       "\n",
       "                 major occupation code  ... country of birth father  \\\n",
       "0                      Not in universe  ...           United-States   \n",
       "1  Precision production craft & repair  ...           United-States   \n",
       "2                      Not in universe  ...                 Vietnam   \n",
       "3                      Not in universe  ...           United-States   \n",
       "4                      Not in universe  ...           United-States   \n",
       "\n",
       "  country of birth mother country of birth self  \\\n",
       "0           United-States         United-States   \n",
       "1           United-States         United-States   \n",
       "2                 Vietnam               Vietnam   \n",
       "3           United-States         United-States   \n",
       "4           United-States         United-States   \n",
       "\n",
       "                           citizenship own business or self employed  \\\n",
       "0    Native- Born in the United States                             0   \n",
       "1    Native- Born in the United States                             0   \n",
       "2  Foreign born- Not a citizen of U S                              0   \n",
       "3    Native- Born in the United States                             0   \n",
       "4    Native- Born in the United States                             0   \n",
       "\n",
       "  fill inc questionnaire for veteran's admin  veterans benefits  \\\n",
       "0                            Not in universe                  2   \n",
       "1                            Not in universe                  2   \n",
       "2                            Not in universe                  2   \n",
       "3                            Not in universe                  0   \n",
       "4                            Not in universe                  0   \n",
       "\n",
       "   weeks worked in year  year income class  \n",
       "0                     0    95     - 50000.  \n",
       "1                    52    94     - 50000.  \n",
       "2                     0    95     - 50000.  \n",
       "3                     0    94     - 50000.  \n",
       "4                     0    94     - 50000.  \n",
       "\n",
       "[5 rows x 42 columns]"
      ]
     },
     "execution_count": 8,
     "metadata": {},
     "output_type": "execute_result"
    }
   ],
   "source": [
    "census.head()"
   ]
  },
  {
   "cell_type": "code",
   "execution_count": 9,
   "metadata": {
    "ExecuteTime": {
     "end_time": "2020-03-16T09:29:31.139695Z",
     "start_time": "2020-03-16T09:29:30.942469Z"
    },
    "scrolled": true
   },
   "outputs": [
    {
     "name": "stdout",
     "output_type": "stream",
     "text": [
      "<class 'pandas.core.frame.DataFrame'>\n",
      "RangeIndex: 199523 entries, 0 to 199522\n",
      "Data columns (total 42 columns):\n",
      " #   Column                                      Non-Null Count   Dtype  \n",
      "---  ------                                      --------------   -----  \n",
      " 0   age                                         199523 non-null  int64  \n",
      " 1   class of worker                             199523 non-null  object \n",
      " 2   detailed industry recode                    199523 non-null  int64  \n",
      " 3   detailed occupation recode                  199523 non-null  int64  \n",
      " 4   education                                   199523 non-null  object \n",
      " 5   wage per hour                               199523 non-null  int64  \n",
      " 6   enroll in edu inst last wk                  199523 non-null  object \n",
      " 7   marital status                              199523 non-null  object \n",
      " 8   major industry code                         199523 non-null  object \n",
      " 9   major occupation code                       199523 non-null  object \n",
      " 10  race                                        199523 non-null  object \n",
      " 11  hispanic origin                             198343 non-null  object \n",
      " 12  sex                                         199523 non-null  object \n",
      " 13  member of a labor union                     199523 non-null  object \n",
      " 14  reason for unemployment                     199523 non-null  object \n",
      " 15  full or part time employment stat           199523 non-null  object \n",
      " 16  capital gains                               199523 non-null  int64  \n",
      " 17  capital losses                              199523 non-null  int64  \n",
      " 18  dividends from stocks                       199523 non-null  int64  \n",
      " 19  tax filer stat                              199523 non-null  object \n",
      " 20  region of previous residence                199523 non-null  object \n",
      " 21  state of previous residence                 198815 non-null  object \n",
      " 22  detailed household and family stat          199523 non-null  object \n",
      " 23  detailed household summary in household     199523 non-null  object \n",
      " 24  instance weight                             199523 non-null  float64\n",
      " 25  migration code-change in msa                99397 non-null   object \n",
      " 26  migration code-change in reg                99827 non-null   object \n",
      " 27  migration code-move within reg              99827 non-null   object \n",
      " 28  live in this house 1 year ago               199523 non-null  object \n",
      " 29  migration prev res in sunbelt               99827 non-null   object \n",
      " 30  num persons worked for employer             199523 non-null  int64  \n",
      " 31  family members under 18                     199523 non-null  object \n",
      " 32  country of birth father                     192810 non-null  object \n",
      " 33  country of birth mother                     193404 non-null  object \n",
      " 34  country of birth self                       196130 non-null  object \n",
      " 35  citizenship                                 199523 non-null  object \n",
      " 36  own business or self employed               199523 non-null  int64  \n",
      " 37  fill inc questionnaire for veteran's admin  199523 non-null  object \n",
      " 38  veterans benefits                           199523 non-null  int64  \n",
      " 39  weeks worked in year                        199523 non-null  int64  \n",
      " 40  year                                        199523 non-null  int64  \n",
      " 41  income class                                199523 non-null  object \n",
      "dtypes: float64(1), int64(12), object(29)\n",
      "memory usage: 63.9+ MB\n"
     ]
    }
   ],
   "source": [
    "census.info()"
   ]
  },
  {
   "cell_type": "markdown",
   "metadata": {},
   "source": [
    "Try to reduce the size of the data-frame and set correct data types"
   ]
  },
  {
   "cell_type": "code",
   "execution_count": 10,
   "metadata": {
    "ExecuteTime": {
     "end_time": "2020-03-16T09:29:31.278596Z",
     "start_time": "2020-03-16T09:29:31.141596Z"
    }
   },
   "outputs": [
    {
     "name": "stdout",
     "output_type": "stream",
     "text": [
      "Memory usage of dataframe:  63.93418884277344  MB\n"
     ]
    },
    {
     "data": {
      "application/vnd.jupyter.widget-view+json": {
       "model_id": "e9309942a9e749b8848367e0994c1945",
       "version_major": 2,
       "version_minor": 0
      },
      "text/plain": [
       "HBox(children=(FloatProgress(value=0.0, max=42.0), HTML(value='')))"
      ]
     },
     "metadata": {},
     "output_type": "display_data"
    },
    {
     "name": "stdout",
     "output_type": "stream",
     "text": [
      "\n",
      "___MEMORY USAGE AFTER COMPLETION:___\n",
      "Memory usage is: 48.7117919921875 MB\n",
      "This is 76.19% of the initial size\n"
     ]
    }
   ],
   "source": [
    "census, _ = reduce_mem_usage(census)"
   ]
  },
  {
   "cell_type": "code",
   "execution_count": 11,
   "metadata": {
    "ExecuteTime": {
     "end_time": "2020-03-16T09:29:31.480089Z",
     "start_time": "2020-03-16T09:29:31.279593Z"
    }
   },
   "outputs": [
    {
     "name": "stdout",
     "output_type": "stream",
     "text": [
      "<class 'pandas.core.frame.DataFrame'>\n",
      "RangeIndex: 199523 entries, 0 to 199522\n",
      "Data columns (total 42 columns):\n",
      " #   Column                                      Non-Null Count   Dtype  \n",
      "---  ------                                      --------------   -----  \n",
      " 0   age                                         199523 non-null  uint8  \n",
      " 1   class of worker                             199523 non-null  object \n",
      " 2   detailed industry recode                    199523 non-null  uint8  \n",
      " 3   detailed occupation recode                  199523 non-null  uint8  \n",
      " 4   education                                   199523 non-null  object \n",
      " 5   wage per hour                               199523 non-null  uint16 \n",
      " 6   enroll in edu inst last wk                  199523 non-null  object \n",
      " 7   marital status                              199523 non-null  object \n",
      " 8   major industry code                         199523 non-null  object \n",
      " 9   major occupation code                       199523 non-null  object \n",
      " 10  race                                        199523 non-null  object \n",
      " 11  hispanic origin                             198343 non-null  object \n",
      " 12  sex                                         199523 non-null  object \n",
      " 13  member of a labor union                     199523 non-null  object \n",
      " 14  reason for unemployment                     199523 non-null  object \n",
      " 15  full or part time employment stat           199523 non-null  object \n",
      " 16  capital gains                               199523 non-null  uint32 \n",
      " 17  capital losses                              199523 non-null  uint16 \n",
      " 18  dividends from stocks                       199523 non-null  uint32 \n",
      " 19  tax filer stat                              199523 non-null  object \n",
      " 20  region of previous residence                199523 non-null  object \n",
      " 21  state of previous residence                 198815 non-null  object \n",
      " 22  detailed household and family stat          199523 non-null  object \n",
      " 23  detailed household summary in household     199523 non-null  object \n",
      " 24  instance weight                             199523 non-null  float32\n",
      " 25  migration code-change in msa                99397 non-null   object \n",
      " 26  migration code-change in reg                99827 non-null   object \n",
      " 27  migration code-move within reg              99827 non-null   object \n",
      " 28  live in this house 1 year ago               199523 non-null  object \n",
      " 29  migration prev res in sunbelt               99827 non-null   object \n",
      " 30  num persons worked for employer             199523 non-null  uint8  \n",
      " 31  family members under 18                     199523 non-null  object \n",
      " 32  country of birth father                     192810 non-null  object \n",
      " 33  country of birth mother                     193404 non-null  object \n",
      " 34  country of birth self                       196130 non-null  object \n",
      " 35  citizenship                                 199523 non-null  object \n",
      " 36  own business or self employed               199523 non-null  uint8  \n",
      " 37  fill inc questionnaire for veteran's admin  199523 non-null  object \n",
      " 38  veterans benefits                           199523 non-null  uint8  \n",
      " 39  weeks worked in year                        199523 non-null  uint8  \n",
      " 40  year                                        199523 non-null  uint8  \n",
      " 41  income class                                199523 non-null  object \n",
      "dtypes: float32(1), object(29), uint16(2), uint32(2), uint8(8)\n",
      "memory usage: 48.7+ MB\n"
     ]
    }
   ],
   "source": [
    "census.info()"
   ]
  },
  {
   "cell_type": "markdown",
   "metadata": {},
   "source": [
    "The documentation says to ignore the `instance weight` column"
   ]
  },
  {
   "cell_type": "code",
   "execution_count": 12,
   "metadata": {
    "ExecuteTime": {
     "end_time": "2020-03-16T09:29:31.756474Z",
     "start_time": "2020-03-16T09:29:31.481054Z"
    }
   },
   "outputs": [
    {
     "name": "stdout",
     "output_type": "stream",
     "text": [
      "<class 'pandas.core.frame.DataFrame'>\n",
      "RangeIndex: 199523 entries, 0 to 199522\n",
      "Data columns (total 41 columns):\n",
      " #   Column                                      Non-Null Count   Dtype \n",
      "---  ------                                      --------------   ----- \n",
      " 0   age                                         199523 non-null  uint8 \n",
      " 1   class of worker                             199523 non-null  object\n",
      " 2   detailed industry recode                    199523 non-null  uint8 \n",
      " 3   detailed occupation recode                  199523 non-null  uint8 \n",
      " 4   education                                   199523 non-null  object\n",
      " 5   wage per hour                               199523 non-null  uint16\n",
      " 6   enroll in edu inst last wk                  199523 non-null  object\n",
      " 7   marital status                              199523 non-null  object\n",
      " 8   major industry code                         199523 non-null  object\n",
      " 9   major occupation code                       199523 non-null  object\n",
      " 10  race                                        199523 non-null  object\n",
      " 11  hispanic origin                             198343 non-null  object\n",
      " 12  sex                                         199523 non-null  object\n",
      " 13  member of a labor union                     199523 non-null  object\n",
      " 14  reason for unemployment                     199523 non-null  object\n",
      " 15  full or part time employment stat           199523 non-null  object\n",
      " 16  capital gains                               199523 non-null  uint32\n",
      " 17  capital losses                              199523 non-null  uint16\n",
      " 18  dividends from stocks                       199523 non-null  uint32\n",
      " 19  tax filer stat                              199523 non-null  object\n",
      " 20  region of previous residence                199523 non-null  object\n",
      " 21  state of previous residence                 198815 non-null  object\n",
      " 22  detailed household and family stat          199523 non-null  object\n",
      " 23  detailed household summary in household     199523 non-null  object\n",
      " 24  migration code-change in msa                99397 non-null   object\n",
      " 25  migration code-change in reg                99827 non-null   object\n",
      " 26  migration code-move within reg              99827 non-null   object\n",
      " 27  live in this house 1 year ago               199523 non-null  object\n",
      " 28  migration prev res in sunbelt               99827 non-null   object\n",
      " 29  num persons worked for employer             199523 non-null  uint8 \n",
      " 30  family members under 18                     199523 non-null  object\n",
      " 31  country of birth father                     192810 non-null  object\n",
      " 32  country of birth mother                     193404 non-null  object\n",
      " 33  country of birth self                       196130 non-null  object\n",
      " 34  citizenship                                 199523 non-null  object\n",
      " 35  own business or self employed               199523 non-null  uint8 \n",
      " 36  fill inc questionnaire for veteran's admin  199523 non-null  object\n",
      " 37  veterans benefits                           199523 non-null  uint8 \n",
      " 38  weeks worked in year                        199523 non-null  uint8 \n",
      " 39  year                                        199523 non-null  uint8 \n",
      " 40  income class                                199523 non-null  object\n",
      "dtypes: object(29), uint16(2), uint32(2), uint8(8)\n",
      "memory usage: 48.0+ MB\n"
     ]
    }
   ],
   "source": [
    "# Make a copy first\n",
    "census_clean = census.copy()\n",
    "census_clean = census_clean.drop('instance weight', axis=1)\n",
    "census_clean.info()"
   ]
  },
  {
   "cell_type": "markdown",
   "metadata": {},
   "source": [
    "## Missing Values"
   ]
  },
  {
   "cell_type": "markdown",
   "metadata": {},
   "source": [
    "Look at the columns and their missing values"
   ]
  },
  {
   "cell_type": "code",
   "execution_count": 13,
   "metadata": {
    "ExecuteTime": {
     "end_time": "2020-03-16T09:29:35.506440Z",
     "start_time": "2020-03-16T09:29:31.757469Z"
    }
   },
   "outputs": [
    {
     "data": {
      "image/png": "[encoded data removed]",
      "text/plain": [
       "<Figure size 1728x720 with 3 Axes>"
      ]
     },
     "metadata": {
      "needs_background": "light"
     },
     "output_type": "display_data"
    }
   ],
   "source": [
    "_ = msno.bar(census_clean)"
   ]
  },
  {
   "cell_type": "code",
   "execution_count": 14,
   "metadata": {
    "ExecuteTime": {
     "end_time": "2020-03-16T09:29:35.707901Z",
     "start_time": "2020-03-16T09:29:35.508436Z"
    }
   },
   "outputs": [
    {
     "data": {
      "text/html": [
       "<div>\n",
       "<style scoped>\n",
       "    .dataframe tbody tr th:only-of-type {\n",
       "        vertical-align: middle;\n",
       "    }\n",
       "\n",
       "    .dataframe tbody tr th {\n",
       "        vertical-align: top;\n",
       "    }\n",
       "\n",
       "    .dataframe thead th {\n",
       "        text-align: right;\n",
       "    }\n",
       "</style>\n",
       "<table border=\"1\" class=\"dataframe\">\n",
       "  <thead>\n",
       "    <tr style=\"text-align: right;\">\n",
       "      <th></th>\n",
       "      <th>nan_count</th>\n",
       "    </tr>\n",
       "  </thead>\n",
       "  <tbody>\n",
       "    <tr>\n",
       "      <th>migration code-change in msa</th>\n",
       "      <td>50.182686</td>\n",
       "    </tr>\n",
       "    <tr>\n",
       "      <th>migration code-change in reg</th>\n",
       "      <td>49.967172</td>\n",
       "    </tr>\n",
       "    <tr>\n",
       "      <th>migration code-move within reg</th>\n",
       "      <td>49.967172</td>\n",
       "    </tr>\n",
       "    <tr>\n",
       "      <th>migration prev res in sunbelt</th>\n",
       "      <td>49.967172</td>\n",
       "    </tr>\n",
       "    <tr>\n",
       "      <th>country of birth father</th>\n",
       "      <td>3.364524</td>\n",
       "    </tr>\n",
       "    <tr>\n",
       "      <th>country of birth mother</th>\n",
       "      <td>3.066814</td>\n",
       "    </tr>\n",
       "    <tr>\n",
       "      <th>country of birth self</th>\n",
       "      <td>1.700556</td>\n",
       "    </tr>\n",
       "    <tr>\n",
       "      <th>hispanic origin</th>\n",
       "      <td>0.591411</td>\n",
       "    </tr>\n",
       "    <tr>\n",
       "      <th>state of previous residence</th>\n",
       "      <td>0.354846</td>\n",
       "    </tr>\n",
       "  </tbody>\n",
       "</table>\n",
       "</div>"
      ],
      "text/plain": [
       "                                nan_count\n",
       "migration code-change in msa    50.182686\n",
       "migration code-change in reg    49.967172\n",
       "migration code-move within reg  49.967172\n",
       "migration prev res in sunbelt   49.967172\n",
       "country of birth father          3.364524\n",
       "country of birth mother          3.066814\n",
       "country of birth self            1.700556\n",
       "hispanic origin                  0.591411\n",
       "state of previous residence      0.354846"
      ]
     },
     "execution_count": 14,
     "metadata": {},
     "output_type": "execute_result"
    }
   ],
   "source": [
    "column_nans = nans_count(census_clean)\n",
    "column_nans.sort_values('nan_count', ascending=False)"
   ]
  },
  {
   "cell_type": "code",
   "execution_count": 15,
   "metadata": {
    "ExecuteTime": {
     "end_time": "2020-03-16T09:29:36.032067Z",
     "start_time": "2020-03-16T09:29:35.708899Z"
    }
   },
   "outputs": [
    {
     "data": {
      "application/vnd.jupyter.widget-view+json": {
       "model_id": "6ee6191b08d545b89a787e92cf5e4e44",
       "version_major": 2,
       "version_minor": 0
      },
      "text/plain": [
       "HBox(children=(FloatProgress(value=0.0, max=29.0), HTML(value='')))"
      ]
     },
     "metadata": {},
     "output_type": "display_data"
    },
    {
     "name": "stdout",
     "output_type": "stream",
     "text": [
      "class of worker: ['Not in universe', 'Self-employed-not incorporated', 'Private', 'Local government', 'Federal government', 'Self-employed-incorporated', 'State government', 'Never worked', 'Without pay']\n",
      "education: ['High school graduate', 'Some college but no degree', '10th grade', 'Children', 'Bachelors degree(BA AB BS)', 'Masters degree(MA MS MEng MEd MSW MBA)', 'Less than 1st grade', 'Associates degree-academic program', '7th and 8th grade', '12th grade no diploma', 'Associates degree-occup /vocational', 'Prof school degree (MD DDS DVM LLB JD)', '5th or 6th grade', '11th grade', 'Doctorate degree(PhD EdD)', '9th grade', '1st 2nd 3rd or 4th grade']\n",
      "enroll in edu inst last wk: ['Not in universe', 'High school', 'College or university']\n",
      "marital status: ['Widowed', 'Divorced', 'Never married', 'Married-civilian spouse present', 'Separated', 'Married-spouse absent', 'Married-A F spouse present']\n",
      "major industry code: ['Not in universe or children', 'Construction', 'Entertainment', 'Finance insurance and real estate', 'Education', 'Business and repair services', 'Manufacturing-nondurable goods', 'Personal services except private HH', 'Manufacturing-durable goods', 'Other professional services', 'Mining', 'Transportation', 'Wholesale trade', 'Public administration', 'Retail trade', 'Social services', 'Private household services', 'Utilities and sanitary services', 'Communications', 'Hospital services', 'Medical except hospital', 'Agriculture', 'Forestry and fisheries', 'Armed Forces']\n",
      "major occupation code: ['Not in universe', 'Precision production craft & repair', 'Professional specialty', 'Executive admin and managerial', 'Handlers equip cleaners etc ', 'Adm support including clerical', 'Machine operators assmblrs & inspctrs', 'Other service', 'Sales', 'Private household services', 'Technicians and related support', 'Transportation and material moving', 'Farming forestry and fishing', 'Protective services', 'Armed Forces']\n",
      "race: ['White', 'Asian or Pacific Islander', 'Amer Indian Aleut or Eskimo', 'Black', 'Other']\n",
      "hispanic origin: ['All other', nan, 'Central or South American', 'Mexican (Mexicano)', 'Mexican-American', 'Other Spanish', 'Puerto Rican', 'Cuban', 'Chicano']\n",
      "sex: ['Female', 'Male']\n",
      "member of a labor union: ['Not in universe', 'No', 'Yes']\n",
      "reason for unemployment: ['Not in universe', 'Job loser - on layoff', 'Other job loser', 'New entrant', 'Re-entrant', 'Job leaver']\n",
      "full or part time employment stat: ['Not in labor force', 'Children or Armed Forces', 'Full-time schedules', 'Unemployed full-time', 'Unemployed part- time', 'PT for non-econ reasons usually FT', 'PT for econ reasons usually PT', 'PT for econ reasons usually FT']\n",
      "tax filer stat: ['Nonfiler', 'Head of household', 'Joint both under 65', 'Single', 'Joint both 65+', 'Joint one under 65 & one 65+']\n",
      "region of previous residence: ['Not in universe', 'South', 'Northeast', 'Midwest', 'West', 'Abroad']\n",
      "state of previous residence: ['Not in universe', 'Arkansas', 'Utah', 'Michigan', 'Minnesota', 'Alaska', 'Kansas', 'Indiana', nan, 'Massachusetts', 'New Mexico', 'Nevada', 'Tennessee', 'Colorado', 'Abroad', 'Kentucky', 'California', 'Arizona', 'North Carolina', 'Connecticut', 'Florida', 'Vermont', 'Maryland', 'Oklahoma', 'Oregon', 'Ohio', 'South Carolina', 'Texas', 'Montana', 'Wyoming', 'Georgia', 'Pennsylvania', 'Iowa', 'New Hampshire', 'Missouri', 'Alabama', 'North Dakota', 'New Jersey', 'Louisiana', 'West Virginia', 'Delaware', 'Illinois', 'Maine', 'Wisconsin', 'New York', 'Idaho', 'District of Columbia', 'South Dakota', 'Nebraska', 'Virginia', 'Mississippi']\n",
      "detailed household and family stat: ['Other Rel 18+ ever marr not in subfamily', 'Householder', 'Child 18+ never marr Not in a subfamily', 'Child <18 never marr not in subfamily', 'Spouse of householder', 'Secondary individual', 'Other Rel 18+ never marr not in subfamily', 'Nonfamily householder', 'Grandchild <18 never marr not in subfamily', 'Grandchild <18 never marr child of subfamily RP', 'Child 18+ ever marr Not in a subfamily', 'Child 18+ never marr RP of subfamily', 'Child 18+ spouse of subfamily RP', 'Other Rel <18 never marr child of subfamily RP', 'Child under 18 of RP of unrel subfamily', 'Grandchild 18+ never marr not in subfamily', 'Child 18+ ever marr RP of subfamily', 'Other Rel 18+ ever marr RP of subfamily', 'RP of unrelated subfamily', 'Other Rel 18+ spouse of subfamily RP', 'Other Rel <18 never marr not in subfamily', 'Other Rel <18 spouse of subfamily RP', 'In group quarters', 'Grandchild 18+ spouse of subfamily RP', 'Other Rel 18+ never marr RP of subfamily', 'Child <18 never marr RP of subfamily', 'Child <18 ever marr not in subfamily', 'Other Rel <18 ever marr RP of subfamily', 'Grandchild 18+ ever marr not in subfamily', 'Child <18 spouse of subfamily RP', 'Spouse of RP of unrelated subfamily', 'Other Rel <18 never married RP of subfamily', 'Grandchild 18+ never marr RP of subfamily', 'Grandchild 18+ ever marr RP of subfamily', 'Child <18 ever marr RP of subfamily', 'Other Rel <18 ever marr not in subfamily', 'Grandchild <18 never marr RP of subfamily', 'Grandchild <18 ever marr not in subfamily']\n",
      "detailed household summary in household: ['Other relative of householder', 'Householder', 'Child 18 or older', 'Child under 18 never married', 'Spouse of householder', 'Nonrelative of householder', 'Group Quarters- Secondary individual', 'Child under 18 ever married']\n",
      "migration code-change in msa: [nan, 'MSA to MSA', 'Nonmover', 'NonMSA to nonMSA', 'Not in universe', 'Abroad to MSA', 'MSA to nonMSA', 'Abroad to nonMSA', 'NonMSA to MSA']\n",
      "migration code-change in reg: [nan, 'Same county', 'Nonmover', 'Different region', 'Different county same state', 'Not in universe', 'Different division same region', 'Abroad', 'Different state same division']\n",
      "migration code-move within reg: [nan, 'Same county', 'Nonmover', 'Different state in South', 'Different county same state', 'Not in universe', 'Different state in Northeast', 'Abroad', 'Different state in Midwest', 'Different state in West']\n",
      "live in this house 1 year ago: ['Not in universe under 1 year old', 'No', 'Yes']\n",
      "migration prev res in sunbelt: [nan, 'Yes', 'Not in universe', 'No']\n",
      "family members under 18: ['Not in universe', 'Both parents present', 'Mother only present', 'Neither parent present', 'Father only present']\n",
      "country of birth father: ['United-States', 'Vietnam', 'Philippines', nan, 'Columbia', 'Germany', 'Mexico', 'Japan', 'Peru', 'Dominican-Republic', 'South Korea', 'Cuba', 'El-Salvador', 'Canada', 'Scotland', 'Outlying-U S (Guam USVI etc)', 'Italy', 'Guatemala', 'Ecuador', 'Puerto-Rico', 'Cambodia', 'China', 'Poland', 'Nicaragua', 'Taiwan', 'England', 'Ireland', 'Hungary', 'Yugoslavia', 'Trinadad&Tobago', 'Jamaica', 'Honduras', 'Portugal', 'Iran', 'France', 'India', 'Hong Kong', 'Haiti', 'Greece', 'Holand-Netherlands', 'Thailand', 'Laos', 'Panama']\n",
      "country of birth mother: ['United-States', 'Vietnam', nan, 'Columbia', 'Mexico', 'El-Salvador', 'Peru', 'Puerto-Rico', 'Cuba', 'Philippines', 'Dominican-Republic', 'Germany', 'England', 'Guatemala', 'Scotland', 'Portugal', 'Italy', 'Ecuador', 'Yugoslavia', 'China', 'Poland', 'Hungary', 'Nicaragua', 'Taiwan', 'Ireland', 'Canada', 'South Korea', 'Trinadad&Tobago', 'Jamaica', 'Honduras', 'Iran', 'France', 'Cambodia', 'India', 'Hong Kong', 'Haiti', 'Japan', 'Greece', 'Holand-Netherlands', 'Thailand', 'Panama', 'Laos', 'Outlying-U S (Guam USVI etc)']\n",
      "country of birth self: ['United-States', 'Vietnam', nan, 'Columbia', 'Mexico', 'Peru', 'Cuba', 'Philippines', 'Dominican-Republic', 'El-Salvador', 'Canada', 'Scotland', 'Portugal', 'Guatemala', 'Ecuador', 'Germany', 'Outlying-U S (Guam USVI etc)', 'Puerto-Rico', 'Italy', 'China', 'Poland', 'Nicaragua', 'Taiwan', 'England', 'Ireland', 'South Korea', 'Trinadad&Tobago', 'Jamaica', 'Honduras', 'Iran', 'Hungary', 'France', 'Cambodia', 'India', 'Hong Kong', 'Japan', 'Haiti', 'Holand-Netherlands', 'Greece', 'Thailand', 'Panama', 'Yugoslavia', 'Laos']\n",
      "citizenship: ['Native- Born in the United States', 'Foreign born- Not a citizen of U S ', 'Foreign born- U S citizen by naturalization', 'Native- Born abroad of American Parent(s)', 'Native- Born in Puerto Rico or U S Outlying']\n",
      "fill inc questionnaire for veteran's admin: ['Not in universe', 'No', 'Yes']\n",
      "income class: ['- 50000.', '50000+.']\n",
      "\n"
     ]
    }
   ],
   "source": [
    "categorical = census_clean.select_dtypes(include='object')\n",
    "unique_values(categorical)"
   ]
  },
  {
   "cell_type": "code",
   "execution_count": 16,
   "metadata": {
    "ExecuteTime": {
     "end_time": "2020-03-16T09:29:42.122745Z",
     "start_time": "2020-03-16T09:29:36.033033Z"
    }
   },
   "outputs": [],
   "source": [
    "# replace field that contains Not in Universe with NaN\n",
    "census_clean = census_clean.replace(r'Not in universe\\w*?', np.nan, regex=True)"
   ]
  },
  {
   "cell_type": "code",
   "execution_count": 17,
   "metadata": {
    "ExecuteTime": {
     "end_time": "2020-03-16T09:29:42.492756Z",
     "start_time": "2020-03-16T09:29:42.123743Z"
    },
    "scrolled": true
   },
   "outputs": [
    {
     "data": {
      "application/vnd.jupyter.widget-view+json": {
       "model_id": "918217a332cd49458fb88193fe634abc",
       "version_major": 2,
       "version_minor": 0
      },
      "text/plain": [
       "HBox(children=(FloatProgress(value=0.0, max=29.0), HTML(value='')))"
      ]
     },
     "metadata": {},
     "output_type": "display_data"
    },
    {
     "name": "stdout",
     "output_type": "stream",
     "text": [
      "class of worker: [nan, 'Self-employed-not incorporated', 'Private', 'Local government', 'Federal government', 'Self-employed-incorporated', 'State government', 'Never worked', 'Without pay']\n",
      "education: ['High school graduate', 'Some college but no degree', '10th grade', 'Children', 'Bachelors degree(BA AB BS)', 'Masters degree(MA MS MEng MEd MSW MBA)', 'Less than 1st grade', 'Associates degree-academic program', '7th and 8th grade', '12th grade no diploma', 'Associates degree-occup /vocational', 'Prof school degree (MD DDS DVM LLB JD)', '5th or 6th grade', '11th grade', 'Doctorate degree(PhD EdD)', '9th grade', '1st 2nd 3rd or 4th grade']\n",
      "enroll in edu inst last wk: [nan, 'High school', 'College or university']\n",
      "marital status: ['Widowed', 'Divorced', 'Never married', 'Married-civilian spouse present', 'Separated', 'Married-spouse absent', 'Married-A F spouse present']\n",
      "major industry code: [nan, 'Construction', 'Entertainment', 'Finance insurance and real estate', 'Education', 'Business and repair services', 'Manufacturing-nondurable goods', 'Personal services except private HH', 'Manufacturing-durable goods', 'Other professional services', 'Mining', 'Transportation', 'Wholesale trade', 'Public administration', 'Retail trade', 'Social services', 'Private household services', 'Utilities and sanitary services', 'Communications', 'Hospital services', 'Medical except hospital', 'Agriculture', 'Forestry and fisheries', 'Armed Forces']\n",
      "major occupation code: [nan, 'Precision production craft & repair', 'Professional specialty', 'Executive admin and managerial', 'Handlers equip cleaners etc ', 'Adm support including clerical', 'Machine operators assmblrs & inspctrs', 'Other service', 'Sales', 'Private household services', 'Technicians and related support', 'Transportation and material moving', 'Farming forestry and fishing', 'Protective services', 'Armed Forces']\n",
      "race: ['White', 'Asian or Pacific Islander', 'Amer Indian Aleut or Eskimo', 'Black', 'Other']\n",
      "hispanic origin: ['All other', nan, 'Central or South American', 'Mexican (Mexicano)', 'Mexican-American', 'Other Spanish', 'Puerto Rican', 'Cuban', 'Chicano']\n",
      "sex: ['Female', 'Male']\n",
      "member of a labor union: [nan, 'No', 'Yes']\n",
      "reason for unemployment: [nan, 'Job loser - on layoff', 'Other job loser', 'New entrant', 'Re-entrant', 'Job leaver']\n",
      "full or part time employment stat: ['Not in labor force', 'Children or Armed Forces', 'Full-time schedules', 'Unemployed full-time', 'Unemployed part- time', 'PT for non-econ reasons usually FT', 'PT for econ reasons usually PT', 'PT for econ reasons usually FT']\n",
      "tax filer stat: ['Nonfiler', 'Head of household', 'Joint both under 65', 'Single', 'Joint both 65+', 'Joint one under 65 & one 65+']\n",
      "region of previous residence: [nan, 'South', 'Northeast', 'Midwest', 'West', 'Abroad']\n",
      "state of previous residence: [nan, 'Arkansas', 'Utah', 'Michigan', 'Minnesota', 'Alaska', 'Kansas', 'Indiana', 'Massachusetts', 'New Mexico', 'Nevada', 'Tennessee', 'Colorado', 'Abroad', 'Kentucky', 'California', 'Arizona', 'North Carolina', 'Connecticut', 'Florida', 'Vermont', 'Maryland', 'Oklahoma', 'Oregon', 'Ohio', 'South Carolina', 'Texas', 'Montana', 'Wyoming', 'Georgia', 'Pennsylvania', 'Iowa', 'New Hampshire', 'Missouri', 'Alabama', 'North Dakota', 'New Jersey', 'Louisiana', 'West Virginia', 'Delaware', 'Illinois', 'Maine', 'Wisconsin', 'New York', 'Idaho', 'District of Columbia', 'South Dakota', 'Nebraska', 'Virginia', 'Mississippi']\n",
      "detailed household and family stat: ['Other Rel 18+ ever marr not in subfamily', 'Householder', 'Child 18+ never marr Not in a subfamily', 'Child <18 never marr not in subfamily', 'Spouse of householder', 'Secondary individual', 'Other Rel 18+ never marr not in subfamily', 'Nonfamily householder', 'Grandchild <18 never marr not in subfamily', 'Grandchild <18 never marr child of subfamily RP', 'Child 18+ ever marr Not in a subfamily', 'Child 18+ never marr RP of subfamily', 'Child 18+ spouse of subfamily RP', 'Other Rel <18 never marr child of subfamily RP', 'Child under 18 of RP of unrel subfamily', 'Grandchild 18+ never marr not in subfamily', 'Child 18+ ever marr RP of subfamily', 'Other Rel 18+ ever marr RP of subfamily', 'RP of unrelated subfamily', 'Other Rel 18+ spouse of subfamily RP', 'Other Rel <18 never marr not in subfamily', 'Other Rel <18 spouse of subfamily RP', 'In group quarters', 'Grandchild 18+ spouse of subfamily RP', 'Other Rel 18+ never marr RP of subfamily', 'Child <18 never marr RP of subfamily', 'Child <18 ever marr not in subfamily', 'Other Rel <18 ever marr RP of subfamily', 'Grandchild 18+ ever marr not in subfamily', 'Child <18 spouse of subfamily RP', 'Spouse of RP of unrelated subfamily', 'Other Rel <18 never married RP of subfamily', 'Grandchild 18+ never marr RP of subfamily', 'Grandchild 18+ ever marr RP of subfamily', 'Child <18 ever marr RP of subfamily', 'Other Rel <18 ever marr not in subfamily', 'Grandchild <18 never marr RP of subfamily', 'Grandchild <18 ever marr not in subfamily']\n",
      "detailed household summary in household: ['Other relative of householder', 'Householder', 'Child 18 or older', 'Child under 18 never married', 'Spouse of householder', 'Nonrelative of householder', 'Group Quarters- Secondary individual', 'Child under 18 ever married']\n",
      "migration code-change in msa: [nan, 'MSA to MSA', 'Nonmover', 'NonMSA to nonMSA', 'Abroad to MSA', 'MSA to nonMSA', 'Abroad to nonMSA', 'NonMSA to MSA']\n",
      "migration code-change in reg: [nan, 'Same county', 'Nonmover', 'Different region', 'Different county same state', 'Different division same region', 'Abroad', 'Different state same division']\n",
      "migration code-move within reg: [nan, 'Same county', 'Nonmover', 'Different state in South', 'Different county same state', 'Different state in Northeast', 'Abroad', 'Different state in Midwest', 'Different state in West']\n",
      "live in this house 1 year ago: [nan, 'No', 'Yes']\n",
      "migration prev res in sunbelt: [nan, 'Yes', 'No']\n",
      "family members under 18: [nan, 'Both parents present', 'Mother only present', 'Neither parent present', 'Father only present']\n",
      "country of birth father: ['United-States', 'Vietnam', 'Philippines', nan, 'Columbia', 'Germany', 'Mexico', 'Japan', 'Peru', 'Dominican-Republic', 'South Korea', 'Cuba', 'El-Salvador', 'Canada', 'Scotland', 'Outlying-U S (Guam USVI etc)', 'Italy', 'Guatemala', 'Ecuador', 'Puerto-Rico', 'Cambodia', 'China', 'Poland', 'Nicaragua', 'Taiwan', 'England', 'Ireland', 'Hungary', 'Yugoslavia', 'Trinadad&Tobago', 'Jamaica', 'Honduras', 'Portugal', 'Iran', 'France', 'India', 'Hong Kong', 'Haiti', 'Greece', 'Holand-Netherlands', 'Thailand', 'Laos', 'Panama']\n",
      "country of birth mother: ['United-States', 'Vietnam', nan, 'Columbia', 'Mexico', 'El-Salvador', 'Peru', 'Puerto-Rico', 'Cuba', 'Philippines', 'Dominican-Republic', 'Germany', 'England', 'Guatemala', 'Scotland', 'Portugal', 'Italy', 'Ecuador', 'Yugoslavia', 'China', 'Poland', 'Hungary', 'Nicaragua', 'Taiwan', 'Ireland', 'Canada', 'South Korea', 'Trinadad&Tobago', 'Jamaica', 'Honduras', 'Iran', 'France', 'Cambodia', 'India', 'Hong Kong', 'Haiti', 'Japan', 'Greece', 'Holand-Netherlands', 'Thailand', 'Panama', 'Laos', 'Outlying-U S (Guam USVI etc)']\n",
      "country of birth self: ['United-States', 'Vietnam', nan, 'Columbia', 'Mexico', 'Peru', 'Cuba', 'Philippines', 'Dominican-Republic', 'El-Salvador', 'Canada', 'Scotland', 'Portugal', 'Guatemala', 'Ecuador', 'Germany', 'Outlying-U S (Guam USVI etc)', 'Puerto-Rico', 'Italy', 'China', 'Poland', 'Nicaragua', 'Taiwan', 'England', 'Ireland', 'South Korea', 'Trinadad&Tobago', 'Jamaica', 'Honduras', 'Iran', 'Hungary', 'France', 'Cambodia', 'India', 'Hong Kong', 'Japan', 'Haiti', 'Holand-Netherlands', 'Greece', 'Thailand', 'Panama', 'Yugoslavia', 'Laos']\n",
      "citizenship: ['Native- Born in the United States', 'Foreign born- Not a citizen of U S ', 'Foreign born- U S citizen by naturalization', 'Native- Born abroad of American Parent(s)', 'Native- Born in Puerto Rico or U S Outlying']\n",
      "fill inc questionnaire for veteran's admin: [nan, 'No', 'Yes']\n",
      "income class: ['- 50000.', '50000+.']\n",
      "\n"
     ]
    }
   ],
   "source": [
    "categorical = census_clean.select_dtypes(include='object')\n",
    "unique_values(categorical)"
   ]
  },
  {
   "cell_type": "code",
   "execution_count": 18,
   "metadata": {
    "ExecuteTime": {
     "end_time": "2020-03-16T09:29:46.209838Z",
     "start_time": "2020-03-16T09:29:42.493753Z"
    }
   },
   "outputs": [
    {
     "data": {
      "image/png": "[encoded data removed]",
      "text/plain": [
       "<Figure size 1728x720 with 3 Axes>"
      ]
     },
     "metadata": {
      "needs_background": "light"
     },
     "output_type": "display_data"
    }
   ],
   "source": [
    "_ = msno.bar(census_clean)"
   ]
  },
  {
   "cell_type": "code",
   "execution_count": 19,
   "metadata": {
    "ExecuteTime": {
     "end_time": "2020-03-16T09:29:46.410309Z",
     "start_time": "2020-03-16T09:29:46.210811Z"
    }
   },
   "outputs": [
    {
     "data": {
      "text/html": [
       "<div>\n",
       "<style scoped>\n",
       "    .dataframe tbody tr th:only-of-type {\n",
       "        vertical-align: middle;\n",
       "    }\n",
       "\n",
       "    .dataframe tbody tr th {\n",
       "        vertical-align: top;\n",
       "    }\n",
       "\n",
       "    .dataframe thead th {\n",
       "        text-align: right;\n",
       "    }\n",
       "</style>\n",
       "<table border=\"1\" class=\"dataframe\">\n",
       "  <thead>\n",
       "    <tr style=\"text-align: right;\">\n",
       "      <th></th>\n",
       "      <th>nan_count</th>\n",
       "    </tr>\n",
       "  </thead>\n",
       "  <tbody>\n",
       "    <tr>\n",
       "      <th>fill inc questionnaire for veteran's admin</th>\n",
       "      <td>99.005628</td>\n",
       "    </tr>\n",
       "    <tr>\n",
       "      <th>reason for unemployment</th>\n",
       "      <td>96.957744</td>\n",
       "    </tr>\n",
       "    <tr>\n",
       "      <th>enroll in edu inst last wk</th>\n",
       "      <td>93.694962</td>\n",
       "    </tr>\n",
       "    <tr>\n",
       "      <th>state of previous residence</th>\n",
       "      <td>92.449492</td>\n",
       "    </tr>\n",
       "    <tr>\n",
       "      <th>migration prev res in sunbelt</th>\n",
       "      <td>92.094646</td>\n",
       "    </tr>\n",
       "    <tr>\n",
       "      <th>region of previous residence</th>\n",
       "      <td>92.094646</td>\n",
       "    </tr>\n",
       "    <tr>\n",
       "      <th>member of a labor union</th>\n",
       "      <td>90.445212</td>\n",
       "    </tr>\n",
       "    <tr>\n",
       "      <th>family members under 18</th>\n",
       "      <td>72.288408</td>\n",
       "    </tr>\n",
       "    <tr>\n",
       "      <th>migration code-change in msa</th>\n",
       "      <td>50.942498</td>\n",
       "    </tr>\n",
       "    <tr>\n",
       "      <th>migration code-change in reg</th>\n",
       "      <td>50.726984</td>\n",
       "    </tr>\n",
       "    <tr>\n",
       "      <th>migration code-move within reg</th>\n",
       "      <td>50.726984</td>\n",
       "    </tr>\n",
       "    <tr>\n",
       "      <th>live in this house 1 year ago</th>\n",
       "      <td>50.726984</td>\n",
       "    </tr>\n",
       "    <tr>\n",
       "      <th>major occupation code</th>\n",
       "      <td>50.462353</td>\n",
       "    </tr>\n",
       "    <tr>\n",
       "      <th>major industry code</th>\n",
       "      <td>50.462353</td>\n",
       "    </tr>\n",
       "    <tr>\n",
       "      <th>class of worker</th>\n",
       "      <td>50.242328</td>\n",
       "    </tr>\n",
       "    <tr>\n",
       "      <th>country of birth father</th>\n",
       "      <td>3.364524</td>\n",
       "    </tr>\n",
       "    <tr>\n",
       "      <th>country of birth mother</th>\n",
       "      <td>3.066814</td>\n",
       "    </tr>\n",
       "    <tr>\n",
       "      <th>country of birth self</th>\n",
       "      <td>1.700556</td>\n",
       "    </tr>\n",
       "    <tr>\n",
       "      <th>hispanic origin</th>\n",
       "      <td>0.591411</td>\n",
       "    </tr>\n",
       "  </tbody>\n",
       "</table>\n",
       "</div>"
      ],
      "text/plain": [
       "                                            nan_count\n",
       "fill inc questionnaire for veteran's admin  99.005628\n",
       "reason for unemployment                     96.957744\n",
       "enroll in edu inst last wk                  93.694962\n",
       "state of previous residence                 92.449492\n",
       "migration prev res in sunbelt               92.094646\n",
       "region of previous residence                92.094646\n",
       "member of a labor union                     90.445212\n",
       "family members under 18                     72.288408\n",
       "migration code-change in msa                50.942498\n",
       "migration code-change in reg                50.726984\n",
       "migration code-move within reg              50.726984\n",
       "live in this house 1 year ago               50.726984\n",
       "major occupation code                       50.462353\n",
       "major industry code                         50.462353\n",
       "class of worker                             50.242328\n",
       "country of birth father                      3.364524\n",
       "country of birth mother                      3.066814\n",
       "country of birth self                        1.700556\n",
       "hispanic origin                              0.591411"
      ]
     },
     "execution_count": 19,
     "metadata": {},
     "output_type": "execute_result"
    }
   ],
   "source": [
    "column_nans = nans_count(census_clean)\n",
    "column_nans.sort_values('nan_count', ascending=False)"
   ]
  },
  {
   "cell_type": "code",
   "execution_count": 20,
   "metadata": {
    "ExecuteTime": {
     "end_time": "2020-03-16T09:29:46.579824Z",
     "start_time": "2020-03-16T09:29:46.412274Z"
    }
   },
   "outputs": [
    {
     "data": {
      "image/png": "[encoded data removed]",
      "text/plain": [
       "<Figure size 792x504 with 1 Axes>"
      ]
     },
     "metadata": {
      "needs_background": "light"
     },
     "output_type": "display_data"
    }
   ],
   "source": [
    "column_nans.hist(grid=False)\n",
    "plt.title('Distribution of missing value counts per column')\n",
    "plt.show()"
   ]
  },
  {
   "cell_type": "code",
   "execution_count": 21,
   "metadata": {
    "ExecuteTime": {
     "end_time": "2020-03-16T09:29:46.625703Z",
     "start_time": "2020-03-16T09:29:46.581819Z"
    }
   },
   "outputs": [
    {
     "data": {
      "text/plain": [
       "['class of worker',\n",
       " 'enroll in edu inst last wk',\n",
       " 'major industry code',\n",
       " 'major occupation code',\n",
       " 'member of a labor union',\n",
       " 'reason for unemployment',\n",
       " 'region of previous residence',\n",
       " 'state of previous residence',\n",
       " 'migration code-change in msa',\n",
       " 'migration code-change in reg',\n",
       " 'migration code-move within reg',\n",
       " 'live in this house 1 year ago',\n",
       " 'migration prev res in sunbelt',\n",
       " 'family members under 18',\n",
       " \"fill inc questionnaire for veteran's admin\"]"
      ]
     },
     "execution_count": 21,
     "metadata": {},
     "output_type": "execute_result"
    }
   ],
   "source": [
    "column_nan_threshold = 50\n",
    "\n",
    "nans_to_drop = column_nans[column_nans['nan_count'] > column_nan_threshold].index.tolist()\n",
    "census_clean.drop(nans_to_drop, axis=1, inplace=True)\n",
    "\n",
    "# droped columns\n",
    "nans_to_drop"
   ]
  },
  {
   "cell_type": "code",
   "execution_count": 22,
   "metadata": {
    "ExecuteTime": {
     "end_time": "2020-03-16T09:29:46.734409Z",
     "start_time": "2020-03-16T09:29:46.626699Z"
    }
   },
   "outputs": [
    {
     "data": {
      "text/html": [
       "<div>\n",
       "<style scoped>\n",
       "    .dataframe tbody tr th:only-of-type {\n",
       "        vertical-align: middle;\n",
       "    }\n",
       "\n",
       "    .dataframe tbody tr th {\n",
       "        vertical-align: top;\n",
       "    }\n",
       "\n",
       "    .dataframe thead th {\n",
       "        text-align: right;\n",
       "    }\n",
       "</style>\n",
       "<table border=\"1\" class=\"dataframe\">\n",
       "  <thead>\n",
       "    <tr style=\"text-align: right;\">\n",
       "      <th></th>\n",
       "      <th>nan_count</th>\n",
       "    </tr>\n",
       "  </thead>\n",
       "  <tbody>\n",
       "    <tr>\n",
       "      <th>country of birth father</th>\n",
       "      <td>3.364524</td>\n",
       "    </tr>\n",
       "    <tr>\n",
       "      <th>country of birth mother</th>\n",
       "      <td>3.066814</td>\n",
       "    </tr>\n",
       "    <tr>\n",
       "      <th>country of birth self</th>\n",
       "      <td>1.700556</td>\n",
       "    </tr>\n",
       "    <tr>\n",
       "      <th>hispanic origin</th>\n",
       "      <td>0.591411</td>\n",
       "    </tr>\n",
       "  </tbody>\n",
       "</table>\n",
       "</div>"
      ],
      "text/plain": [
       "                         nan_count\n",
       "country of birth father   3.364524\n",
       "country of birth mother   3.066814\n",
       "country of birth self     1.700556\n",
       "hispanic origin           0.591411"
      ]
     },
     "execution_count": 22,
     "metadata": {},
     "output_type": "execute_result"
    }
   ],
   "source": [
    "column_nans = nans_count(census_clean)\n",
    "column_nans.sort_values('nan_count', ascending=False)"
   ]
  },
  {
   "cell_type": "code",
   "execution_count": 23,
   "metadata": {
    "ExecuteTime": {
     "end_time": "2020-03-16T09:29:46.918917Z",
     "start_time": "2020-03-16T09:29:46.738401Z"
    }
   },
   "outputs": [
    {
     "data": {
      "application/vnd.jupyter.widget-view+json": {
       "model_id": "68703f94483444c19f88cd97c7f2473f",
       "version_major": 2,
       "version_minor": 0
      },
      "text/plain": [
       "HBox(children=(FloatProgress(value=0.0, max=14.0), HTML(value='')))"
      ]
     },
     "metadata": {},
     "output_type": "display_data"
    },
    {
     "name": "stdout",
     "output_type": "stream",
     "text": [
      "education: ['High school graduate', 'Some college but no degree', '10th grade', 'Children', 'Bachelors degree(BA AB BS)', 'Masters degree(MA MS MEng MEd MSW MBA)', 'Less than 1st grade', 'Associates degree-academic program', '7th and 8th grade', '12th grade no diploma', 'Associates degree-occup /vocational', 'Prof school degree (MD DDS DVM LLB JD)', '5th or 6th grade', '11th grade', 'Doctorate degree(PhD EdD)', '9th grade', '1st 2nd 3rd or 4th grade']\n",
      "marital status: ['Widowed', 'Divorced', 'Never married', 'Married-civilian spouse present', 'Separated', 'Married-spouse absent', 'Married-A F spouse present']\n",
      "race: ['White', 'Asian or Pacific Islander', 'Amer Indian Aleut or Eskimo', 'Black', 'Other']\n",
      "hispanic origin: ['All other', nan, 'Central or South American', 'Mexican (Mexicano)', 'Mexican-American', 'Other Spanish', 'Puerto Rican', 'Cuban', 'Chicano']\n",
      "sex: ['Female', 'Male']\n",
      "full or part time employment stat: ['Not in labor force', 'Children or Armed Forces', 'Full-time schedules', 'Unemployed full-time', 'Unemployed part- time', 'PT for non-econ reasons usually FT', 'PT for econ reasons usually PT', 'PT for econ reasons usually FT']\n",
      "tax filer stat: ['Nonfiler', 'Head of household', 'Joint both under 65', 'Single', 'Joint both 65+', 'Joint one under 65 & one 65+']\n",
      "detailed household and family stat: ['Other Rel 18+ ever marr not in subfamily', 'Householder', 'Child 18+ never marr Not in a subfamily', 'Child <18 never marr not in subfamily', 'Spouse of householder', 'Secondary individual', 'Other Rel 18+ never marr not in subfamily', 'Nonfamily householder', 'Grandchild <18 never marr not in subfamily', 'Grandchild <18 never marr child of subfamily RP', 'Child 18+ ever marr Not in a subfamily', 'Child 18+ never marr RP of subfamily', 'Child 18+ spouse of subfamily RP', 'Other Rel <18 never marr child of subfamily RP', 'Child under 18 of RP of unrel subfamily', 'Grandchild 18+ never marr not in subfamily', 'Child 18+ ever marr RP of subfamily', 'Other Rel 18+ ever marr RP of subfamily', 'RP of unrelated subfamily', 'Other Rel 18+ spouse of subfamily RP', 'Other Rel <18 never marr not in subfamily', 'Other Rel <18 spouse of subfamily RP', 'In group quarters', 'Grandchild 18+ spouse of subfamily RP', 'Other Rel 18+ never marr RP of subfamily', 'Child <18 never marr RP of subfamily', 'Child <18 ever marr not in subfamily', 'Other Rel <18 ever marr RP of subfamily', 'Grandchild 18+ ever marr not in subfamily', 'Child <18 spouse of subfamily RP', 'Spouse of RP of unrelated subfamily', 'Other Rel <18 never married RP of subfamily', 'Grandchild 18+ never marr RP of subfamily', 'Grandchild 18+ ever marr RP of subfamily', 'Child <18 ever marr RP of subfamily', 'Other Rel <18 ever marr not in subfamily', 'Grandchild <18 never marr RP of subfamily', 'Grandchild <18 ever marr not in subfamily']\n",
      "detailed household summary in household: ['Other relative of householder', 'Householder', 'Child 18 or older', 'Child under 18 never married', 'Spouse of householder', 'Nonrelative of householder', 'Group Quarters- Secondary individual', 'Child under 18 ever married']\n",
      "country of birth father: ['United-States', 'Vietnam', 'Philippines', nan, 'Columbia', 'Germany', 'Mexico', 'Japan', 'Peru', 'Dominican-Republic', 'South Korea', 'Cuba', 'El-Salvador', 'Canada', 'Scotland', 'Outlying-U S (Guam USVI etc)', 'Italy', 'Guatemala', 'Ecuador', 'Puerto-Rico', 'Cambodia', 'China', 'Poland', 'Nicaragua', 'Taiwan', 'England', 'Ireland', 'Hungary', 'Yugoslavia', 'Trinadad&Tobago', 'Jamaica', 'Honduras', 'Portugal', 'Iran', 'France', 'India', 'Hong Kong', 'Haiti', 'Greece', 'Holand-Netherlands', 'Thailand', 'Laos', 'Panama']\n",
      "country of birth mother: ['United-States', 'Vietnam', nan, 'Columbia', 'Mexico', 'El-Salvador', 'Peru', 'Puerto-Rico', 'Cuba', 'Philippines', 'Dominican-Republic', 'Germany', 'England', 'Guatemala', 'Scotland', 'Portugal', 'Italy', 'Ecuador', 'Yugoslavia', 'China', 'Poland', 'Hungary', 'Nicaragua', 'Taiwan', 'Ireland', 'Canada', 'South Korea', 'Trinadad&Tobago', 'Jamaica', 'Honduras', 'Iran', 'France', 'Cambodia', 'India', 'Hong Kong', 'Haiti', 'Japan', 'Greece', 'Holand-Netherlands', 'Thailand', 'Panama', 'Laos', 'Outlying-U S (Guam USVI etc)']\n",
      "country of birth self: ['United-States', 'Vietnam', nan, 'Columbia', 'Mexico', 'Peru', 'Cuba', 'Philippines', 'Dominican-Republic', 'El-Salvador', 'Canada', 'Scotland', 'Portugal', 'Guatemala', 'Ecuador', 'Germany', 'Outlying-U S (Guam USVI etc)', 'Puerto-Rico', 'Italy', 'China', 'Poland', 'Nicaragua', 'Taiwan', 'England', 'Ireland', 'South Korea', 'Trinadad&Tobago', 'Jamaica', 'Honduras', 'Iran', 'Hungary', 'France', 'Cambodia', 'India', 'Hong Kong', 'Japan', 'Haiti', 'Holand-Netherlands', 'Greece', 'Thailand', 'Panama', 'Yugoslavia', 'Laos']\n",
      "citizenship: ['Native- Born in the United States', 'Foreign born- Not a citizen of U S ', 'Foreign born- U S citizen by naturalization', 'Native- Born abroad of American Parent(s)', 'Native- Born in Puerto Rico or U S Outlying']\n",
      "income class: ['- 50000.', '50000+.']\n",
      "\n"
     ]
    }
   ],
   "source": [
    "categorical = census_clean.select_dtypes(include='object')\n",
    "unique_values(categorical)"
   ]
  },
  {
   "cell_type": "markdown",
   "metadata": {},
   "source": [
    "Re-encode some columns"
   ]
  },
  {
   "cell_type": "code",
   "execution_count": 24,
   "metadata": {
    "ExecuteTime": {
     "end_time": "2020-03-16T09:29:47.149326Z",
     "start_time": "2020-03-16T09:29:46.920912Z"
    }
   },
   "outputs": [
    {
     "name": "stdout",
     "output_type": "stream",
     "text": [
      "Memory usage of dataframe:  25.117076873779297  MB\n"
     ]
    },
    {
     "data": {
      "application/vnd.jupyter.widget-view+json": {
       "model_id": "3ffbeed283b64f5f9ed4a7de09f11284",
       "version_major": 2,
       "version_minor": 0
      },
      "text/plain": [
       "HBox(children=(FloatProgress(value=0.0, max=26.0), HTML(value='')))"
      ]
     },
     "metadata": {},
     "output_type": "display_data"
    },
    {
     "name": "stdout",
     "output_type": "stream",
     "text": [
      "\n",
      "___MEMORY USAGE AFTER COMPLETION:___\n",
      "Memory usage is: 22.453157424926758 MB\n",
      "This is 89.39% of the initial size\n",
      "<class 'pandas.core.frame.DataFrame'>\n",
      "RangeIndex: 199523 entries, 0 to 199522\n",
      "Data columns (total 26 columns):\n",
      " #   Column                                   Non-Null Count   Dtype \n",
      "---  ------                                   --------------   ----- \n",
      " 0   age                                      199523 non-null  uint8 \n",
      " 1   detailed industry recode                 199523 non-null  uint8 \n",
      " 2   detailed occupation recode               199523 non-null  uint8 \n",
      " 3   education                                199523 non-null  object\n",
      " 4   wage per hour                            199523 non-null  uint16\n",
      " 5   marital status                           199523 non-null  object\n",
      " 6   race                                     199523 non-null  object\n",
      " 7   hispanic origin                          198343 non-null  object\n",
      " 8   sex                                      199523 non-null  uint8 \n",
      " 9   full or part time employment stat        199523 non-null  object\n",
      " 10  capital gains                            199523 non-null  uint32\n",
      " 11  capital losses                           199523 non-null  uint16\n",
      " 12  dividends from stocks                    199523 non-null  uint32\n",
      " 13  tax filer stat                           199523 non-null  object\n",
      " 14  detailed household and family stat       199523 non-null  object\n",
      " 15  detailed household summary in household  199523 non-null  object\n",
      " 16  num persons worked for employer          199523 non-null  uint8 \n",
      " 17  country of birth father                  192810 non-null  object\n",
      " 18  country of birth mother                  193404 non-null  object\n",
      " 19  country of birth self                    196130 non-null  object\n",
      " 20  citizenship                              199523 non-null  object\n",
      " 21  own business or self employed            199523 non-null  uint8 \n",
      " 22  veterans benefits                        199523 non-null  uint8 \n",
      " 23  weeks worked in year                     199523 non-null  uint8 \n",
      " 24  year                                     199523 non-null  uint8 \n",
      " 25  income class                             199523 non-null  uint8 \n",
      "dtypes: object(12), uint16(2), uint32(2), uint8(10)\n",
      "memory usage: 22.5+ MB\n"
     ]
    }
   ],
   "source": [
    "census_clean['sex'] = census_clean['sex'].map({'Female': 0, 'Male': 1})\n",
    "census_clean['income class'] = census_clean['income class'].map({'- 50000.': 0, '50000+.': 1})\n",
    "\n",
    "census_clean, _ = reduce_mem_usage(census_clean)\n",
    "census_clean.info()"
   ]
  },
  {
   "cell_type": "code",
   "execution_count": 25,
   "metadata": {
    "ExecuteTime": {
     "end_time": "2020-03-16T09:29:47.349764Z",
     "start_time": "2020-03-16T09:29:47.150330Z"
    },
    "scrolled": true
   },
   "outputs": [
    {
     "name": "stdout",
     "output_type": "stream",
     "text": [
      "<class 'pandas.core.frame.DataFrame'>\n",
      "RangeIndex: 199523 entries, 0 to 199522\n",
      "Data columns (total 26 columns):\n",
      " #   Column                                   Non-Null Count   Dtype \n",
      "---  ------                                   --------------   ----- \n",
      " 0   age                                      199523 non-null  uint8 \n",
      " 1   detailed industry recode                 199523 non-null  uint8 \n",
      " 2   detailed occupation recode               199523 non-null  uint8 \n",
      " 3   education                                199523 non-null  object\n",
      " 4   wage per hour                            199523 non-null  uint16\n",
      " 5   marital status                           199523 non-null  object\n",
      " 6   race                                     199523 non-null  object\n",
      " 7   hispanic origin                          199523 non-null  object\n",
      " 8   sex                                      199523 non-null  uint8 \n",
      " 9   full or part time employment stat        199523 non-null  object\n",
      " 10  capital gains                            199523 non-null  uint32\n",
      " 11  capital losses                           199523 non-null  uint16\n",
      " 12  dividends from stocks                    199523 non-null  uint32\n",
      " 13  tax filer stat                           199523 non-null  object\n",
      " 14  detailed household and family stat       199523 non-null  object\n",
      " 15  detailed household summary in household  199523 non-null  object\n",
      " 16  num persons worked for employer          199523 non-null  uint8 \n",
      " 17  country of birth father                  199523 non-null  object\n",
      " 18  country of birth mother                  199523 non-null  object\n",
      " 19  country of birth self                    199523 non-null  object\n",
      " 20  citizenship                              199523 non-null  object\n",
      " 21  own business or self employed            199523 non-null  uint8 \n",
      " 22  veterans benefits                        199523 non-null  uint8 \n",
      " 23  weeks worked in year                     199523 non-null  uint8 \n",
      " 24  year                                     199523 non-null  uint8 \n",
      " 25  income class                             199523 non-null  uint8 \n",
      "dtypes: object(12), uint16(2), uint32(2), uint8(10)\n",
      "memory usage: 22.5+ MB\n"
     ]
    }
   ],
   "source": [
    "census_clean = census_clean.fillna('Unknown')\n",
    "census_clean.info()"
   ]
  },
  {
   "cell_type": "markdown",
   "metadata": {},
   "source": [
    "## One Hot Encode"
   ]
  },
  {
   "cell_type": "code",
   "execution_count": 26,
   "metadata": {
    "ExecuteTime": {
     "end_time": "2020-03-16T09:29:47.673898Z",
     "start_time": "2020-03-16T09:29:47.350763Z"
    }
   },
   "outputs": [
    {
     "data": {
      "text/html": [
       "<div>\n",
       "<style scoped>\n",
       "    .dataframe tbody tr th:only-of-type {\n",
       "        vertical-align: middle;\n",
       "    }\n",
       "\n",
       "    .dataframe tbody tr th {\n",
       "        vertical-align: top;\n",
       "    }\n",
       "\n",
       "    .dataframe thead th {\n",
       "        text-align: right;\n",
       "    }\n",
       "</style>\n",
       "<table border=\"1\" class=\"dataframe\">\n",
       "  <thead>\n",
       "    <tr style=\"text-align: right;\">\n",
       "      <th></th>\n",
       "      <th>education_10th grade</th>\n",
       "      <th>education_11th grade</th>\n",
       "      <th>education_12th grade no diploma</th>\n",
       "      <th>education_1st 2nd 3rd or 4th grade</th>\n",
       "      <th>education_5th or 6th grade</th>\n",
       "      <th>education_7th and 8th grade</th>\n",
       "      <th>education_9th grade</th>\n",
       "      <th>education_Associates degree-academic program</th>\n",
       "      <th>education_Associates degree-occup /vocational</th>\n",
       "      <th>education_Bachelors degree(BA AB BS)</th>\n",
       "      <th>...</th>\n",
       "      <th>country of birth self_Trinadad&amp;Tobago</th>\n",
       "      <th>country of birth self_United-States</th>\n",
       "      <th>country of birth self_Unknown</th>\n",
       "      <th>country of birth self_Vietnam</th>\n",
       "      <th>country of birth self_Yugoslavia</th>\n",
       "      <th>citizenship_Foreign born- Not a citizen of U S</th>\n",
       "      <th>citizenship_Foreign born- U S citizen by naturalization</th>\n",
       "      <th>citizenship_Native- Born abroad of American Parent(s)</th>\n",
       "      <th>citizenship_Native- Born in Puerto Rico or U S Outlying</th>\n",
       "      <th>citizenship_Native- Born in the United States</th>\n",
       "    </tr>\n",
       "  </thead>\n",
       "  <tbody>\n",
       "    <tr>\n",
       "      <th>0</th>\n",
       "      <td>0</td>\n",
       "      <td>0</td>\n",
       "      <td>0</td>\n",
       "      <td>0</td>\n",
       "      <td>0</td>\n",
       "      <td>0</td>\n",
       "      <td>0</td>\n",
       "      <td>0</td>\n",
       "      <td>0</td>\n",
       "      <td>0</td>\n",
       "      <td>...</td>\n",
       "      <td>0</td>\n",
       "      <td>1</td>\n",
       "      <td>0</td>\n",
       "      <td>0</td>\n",
       "      <td>0</td>\n",
       "      <td>0</td>\n",
       "      <td>0</td>\n",
       "      <td>0</td>\n",
       "      <td>0</td>\n",
       "      <td>1</td>\n",
       "    </tr>\n",
       "    <tr>\n",
       "      <th>1</th>\n",
       "      <td>0</td>\n",
       "      <td>0</td>\n",
       "      <td>0</td>\n",
       "      <td>0</td>\n",
       "      <td>0</td>\n",
       "      <td>0</td>\n",
       "      <td>0</td>\n",
       "      <td>0</td>\n",
       "      <td>0</td>\n",
       "      <td>0</td>\n",
       "      <td>...</td>\n",
       "      <td>0</td>\n",
       "      <td>1</td>\n",
       "      <td>0</td>\n",
       "      <td>0</td>\n",
       "      <td>0</td>\n",
       "      <td>0</td>\n",
       "      <td>0</td>\n",
       "      <td>0</td>\n",
       "      <td>0</td>\n",
       "      <td>1</td>\n",
       "    </tr>\n",
       "    <tr>\n",
       "      <th>2</th>\n",
       "      <td>1</td>\n",
       "      <td>0</td>\n",
       "      <td>0</td>\n",
       "      <td>0</td>\n",
       "      <td>0</td>\n",
       "      <td>0</td>\n",
       "      <td>0</td>\n",
       "      <td>0</td>\n",
       "      <td>0</td>\n",
       "      <td>0</td>\n",
       "      <td>...</td>\n",
       "      <td>0</td>\n",
       "      <td>0</td>\n",
       "      <td>0</td>\n",
       "      <td>1</td>\n",
       "      <td>0</td>\n",
       "      <td>1</td>\n",
       "      <td>0</td>\n",
       "      <td>0</td>\n",
       "      <td>0</td>\n",
       "      <td>0</td>\n",
       "    </tr>\n",
       "    <tr>\n",
       "      <th>3</th>\n",
       "      <td>0</td>\n",
       "      <td>0</td>\n",
       "      <td>0</td>\n",
       "      <td>0</td>\n",
       "      <td>0</td>\n",
       "      <td>0</td>\n",
       "      <td>0</td>\n",
       "      <td>0</td>\n",
       "      <td>0</td>\n",
       "      <td>0</td>\n",
       "      <td>...</td>\n",
       "      <td>0</td>\n",
       "      <td>1</td>\n",
       "      <td>0</td>\n",
       "      <td>0</td>\n",
       "      <td>0</td>\n",
       "      <td>0</td>\n",
       "      <td>0</td>\n",
       "      <td>0</td>\n",
       "      <td>0</td>\n",
       "      <td>1</td>\n",
       "    </tr>\n",
       "    <tr>\n",
       "      <th>4</th>\n",
       "      <td>0</td>\n",
       "      <td>0</td>\n",
       "      <td>0</td>\n",
       "      <td>0</td>\n",
       "      <td>0</td>\n",
       "      <td>0</td>\n",
       "      <td>0</td>\n",
       "      <td>0</td>\n",
       "      <td>0</td>\n",
       "      <td>0</td>\n",
       "      <td>...</td>\n",
       "      <td>0</td>\n",
       "      <td>1</td>\n",
       "      <td>0</td>\n",
       "      <td>0</td>\n",
       "      <td>0</td>\n",
       "      <td>0</td>\n",
       "      <td>0</td>\n",
       "      <td>0</td>\n",
       "      <td>0</td>\n",
       "      <td>1</td>\n",
       "    </tr>\n",
       "  </tbody>\n",
       "</table>\n",
       "<p>5 rows × 232 columns</p>\n",
       "</div>"
      ],
      "text/plain": [
       "   education_10th grade  education_11th grade  \\\n",
       "0                     0                     0   \n",
       "1                     0                     0   \n",
       "2                     1                     0   \n",
       "3                     0                     0   \n",
       "4                     0                     0   \n",
       "\n",
       "   education_12th grade no diploma  education_1st 2nd 3rd or 4th grade  \\\n",
       "0                                0                                   0   \n",
       "1                                0                                   0   \n",
       "2                                0                                   0   \n",
       "3                                0                                   0   \n",
       "4                                0                                   0   \n",
       "\n",
       "   education_5th or 6th grade  education_7th and 8th grade  \\\n",
       "0                           0                            0   \n",
       "1                           0                            0   \n",
       "2                           0                            0   \n",
       "3                           0                            0   \n",
       "4                           0                            0   \n",
       "\n",
       "   education_9th grade  education_Associates degree-academic program  \\\n",
       "0                    0                                             0   \n",
       "1                    0                                             0   \n",
       "2                    0                                             0   \n",
       "3                    0                                             0   \n",
       "4                    0                                             0   \n",
       "\n",
       "   education_Associates degree-occup /vocational  \\\n",
       "0                                              0   \n",
       "1                                              0   \n",
       "2                                              0   \n",
       "3                                              0   \n",
       "4                                              0   \n",
       "\n",
       "   education_Bachelors degree(BA AB BS)  ...  \\\n",
       "0                                     0  ...   \n",
       "1                                     0  ...   \n",
       "2                                     0  ...   \n",
       "3                                     0  ...   \n",
       "4                                     0  ...   \n",
       "\n",
       "   country of birth self_Trinadad&Tobago  country of birth self_United-States  \\\n",
       "0                                      0                                    1   \n",
       "1                                      0                                    1   \n",
       "2                                      0                                    0   \n",
       "3                                      0                                    1   \n",
       "4                                      0                                    1   \n",
       "\n",
       "   country of birth self_Unknown  country of birth self_Vietnam  \\\n",
       "0                              0                              0   \n",
       "1                              0                              0   \n",
       "2                              0                              1   \n",
       "3                              0                              0   \n",
       "4                              0                              0   \n",
       "\n",
       "   country of birth self_Yugoslavia  \\\n",
       "0                                 0   \n",
       "1                                 0   \n",
       "2                                 0   \n",
       "3                                 0   \n",
       "4                                 0   \n",
       "\n",
       "   citizenship_Foreign born- Not a citizen of U S   \\\n",
       "0                                                0   \n",
       "1                                                0   \n",
       "2                                                1   \n",
       "3                                                0   \n",
       "4                                                0   \n",
       "\n",
       "   citizenship_Foreign born- U S citizen by naturalization  \\\n",
       "0                                                  0         \n",
       "1                                                  0         \n",
       "2                                                  0         \n",
       "3                                                  0         \n",
       "4                                                  0         \n",
       "\n",
       "   citizenship_Native- Born abroad of American Parent(s)  \\\n",
       "0                                                  0       \n",
       "1                                                  0       \n",
       "2                                                  0       \n",
       "3                                                  0       \n",
       "4                                                  0       \n",
       "\n",
       "   citizenship_Native- Born in Puerto Rico or U S Outlying  \\\n",
       "0                                                  0         \n",
       "1                                                  0         \n",
       "2                                                  0         \n",
       "3                                                  0         \n",
       "4                                                  0         \n",
       "\n",
       "   citizenship_Native- Born in the United States  \n",
       "0                                              1  \n",
       "1                                              1  \n",
       "2                                              0  \n",
       "3                                              1  \n",
       "4                                              1  \n",
       "\n",
       "[5 rows x 232 columns]"
      ]
     },
     "execution_count": 26,
     "metadata": {},
     "output_type": "execute_result"
    }
   ],
   "source": [
    "categorical = census_clean.select_dtypes(include='object')\n",
    "encoded = pd.get_dummies(categorical)\n",
    "\n",
    "encoded.head()"
   ]
  },
  {
   "cell_type": "code",
   "execution_count": 27,
   "metadata": {
    "ExecuteTime": {
     "end_time": "2020-03-16T09:29:47.796598Z",
     "start_time": "2020-03-16T09:29:47.674895Z"
    },
    "scrolled": true
   },
   "outputs": [
    {
     "name": "stdout",
     "output_type": "stream",
     "text": [
      "<class 'pandas.core.frame.DataFrame'>\n",
      "RangeIndex: 199523 entries, 0 to 199522\n",
      "Columns: 246 entries, age to citizenship_Native- Born in the United States\n",
      "dtypes: uint16(2), uint32(2), uint8(242)\n",
      "memory usage: 48.3 MB\n"
     ]
    }
   ],
   "source": [
    "census_clean = census_clean.drop(categorical, axis=1)\n",
    "census_clean = pd.concat([census_clean, encoded], axis=1)\n",
    "\n",
    "census_clean.info()"
   ]
  },
  {
   "cell_type": "markdown",
   "metadata": {},
   "source": [
    "## Scale"
   ]
  },
  {
   "cell_type": "code",
   "execution_count": 28,
   "metadata": {
    "ExecuteTime": {
     "end_time": "2020-03-16T09:29:47.982100Z",
     "start_time": "2020-03-16T09:29:47.797566Z"
    }
   },
   "outputs": [
    {
     "data": {
      "text/html": [
       "<div>\n",
       "<style scoped>\n",
       "    .dataframe tbody tr th:only-of-type {\n",
       "        vertical-align: middle;\n",
       "    }\n",
       "\n",
       "    .dataframe tbody tr th {\n",
       "        vertical-align: top;\n",
       "    }\n",
       "\n",
       "    .dataframe thead th {\n",
       "        text-align: right;\n",
       "    }\n",
       "</style>\n",
       "<table border=\"1\" class=\"dataframe\">\n",
       "  <thead>\n",
       "    <tr style=\"text-align: right;\">\n",
       "      <th></th>\n",
       "      <th>age</th>\n",
       "      <th>detailed industry recode</th>\n",
       "      <th>detailed occupation recode</th>\n",
       "      <th>wage per hour</th>\n",
       "      <th>sex</th>\n",
       "      <th>capital gains</th>\n",
       "      <th>capital losses</th>\n",
       "      <th>dividends from stocks</th>\n",
       "      <th>num persons worked for employer</th>\n",
       "      <th>own business or self employed</th>\n",
       "      <th>...</th>\n",
       "      <th>country of birth self_Trinadad&amp;Tobago</th>\n",
       "      <th>country of birth self_United-States</th>\n",
       "      <th>country of birth self_Unknown</th>\n",
       "      <th>country of birth self_Vietnam</th>\n",
       "      <th>country of birth self_Yugoslavia</th>\n",
       "      <th>citizenship_Foreign born- Not a citizen of U S</th>\n",
       "      <th>citizenship_Foreign born- U S citizen by naturalization</th>\n",
       "      <th>citizenship_Native- Born abroad of American Parent(s)</th>\n",
       "      <th>citizenship_Native- Born in Puerto Rico or U S Outlying</th>\n",
       "      <th>citizenship_Native- Born in the United States</th>\n",
       "    </tr>\n",
       "  </thead>\n",
       "  <tbody>\n",
       "    <tr>\n",
       "      <th>0</th>\n",
       "      <td>1.725879</td>\n",
       "      <td>0</td>\n",
       "      <td>0</td>\n",
       "      <td>-0.201629</td>\n",
       "      <td>0</td>\n",
       "      <td>-0.092542</td>\n",
       "      <td>-0.137236</td>\n",
       "      <td>-0.099553</td>\n",
       "      <td>0</td>\n",
       "      <td>0</td>\n",
       "      <td>...</td>\n",
       "      <td>0</td>\n",
       "      <td>1</td>\n",
       "      <td>0</td>\n",
       "      <td>0</td>\n",
       "      <td>0</td>\n",
       "      <td>0</td>\n",
       "      <td>0</td>\n",
       "      <td>0</td>\n",
       "      <td>0</td>\n",
       "      <td>1</td>\n",
       "    </tr>\n",
       "    <tr>\n",
       "      <th>1</th>\n",
       "      <td>1.053560</td>\n",
       "      <td>4</td>\n",
       "      <td>34</td>\n",
       "      <td>-0.201629</td>\n",
       "      <td>1</td>\n",
       "      <td>-0.092542</td>\n",
       "      <td>-0.137236</td>\n",
       "      <td>-0.099553</td>\n",
       "      <td>1</td>\n",
       "      <td>0</td>\n",
       "      <td>...</td>\n",
       "      <td>0</td>\n",
       "      <td>1</td>\n",
       "      <td>0</td>\n",
       "      <td>0</td>\n",
       "      <td>0</td>\n",
       "      <td>0</td>\n",
       "      <td>0</td>\n",
       "      <td>0</td>\n",
       "      <td>0</td>\n",
       "      <td>1</td>\n",
       "    </tr>\n",
       "    <tr>\n",
       "      <th>2</th>\n",
       "      <td>-0.739291</td>\n",
       "      <td>0</td>\n",
       "      <td>0</td>\n",
       "      <td>-0.201629</td>\n",
       "      <td>0</td>\n",
       "      <td>-0.092542</td>\n",
       "      <td>-0.137236</td>\n",
       "      <td>-0.099553</td>\n",
       "      <td>0</td>\n",
       "      <td>0</td>\n",
       "      <td>...</td>\n",
       "      <td>0</td>\n",
       "      <td>0</td>\n",
       "      <td>0</td>\n",
       "      <td>1</td>\n",
       "      <td>0</td>\n",
       "      <td>1</td>\n",
       "      <td>0</td>\n",
       "      <td>0</td>\n",
       "      <td>0</td>\n",
       "      <td>0</td>\n",
       "    </tr>\n",
       "    <tr>\n",
       "      <th>3</th>\n",
       "      <td>-1.142682</td>\n",
       "      <td>0</td>\n",
       "      <td>0</td>\n",
       "      <td>-0.201629</td>\n",
       "      <td>0</td>\n",
       "      <td>-0.092542</td>\n",
       "      <td>-0.137236</td>\n",
       "      <td>-0.099553</td>\n",
       "      <td>0</td>\n",
       "      <td>0</td>\n",
       "      <td>...</td>\n",
       "      <td>0</td>\n",
       "      <td>1</td>\n",
       "      <td>0</td>\n",
       "      <td>0</td>\n",
       "      <td>0</td>\n",
       "      <td>0</td>\n",
       "      <td>0</td>\n",
       "      <td>0</td>\n",
       "      <td>0</td>\n",
       "      <td>1</td>\n",
       "    </tr>\n",
       "    <tr>\n",
       "      <th>4</th>\n",
       "      <td>-1.097861</td>\n",
       "      <td>0</td>\n",
       "      <td>0</td>\n",
       "      <td>-0.201629</td>\n",
       "      <td>0</td>\n",
       "      <td>-0.092542</td>\n",
       "      <td>-0.137236</td>\n",
       "      <td>-0.099553</td>\n",
       "      <td>0</td>\n",
       "      <td>0</td>\n",
       "      <td>...</td>\n",
       "      <td>0</td>\n",
       "      <td>1</td>\n",
       "      <td>0</td>\n",
       "      <td>0</td>\n",
       "      <td>0</td>\n",
       "      <td>0</td>\n",
       "      <td>0</td>\n",
       "      <td>0</td>\n",
       "      <td>0</td>\n",
       "      <td>1</td>\n",
       "    </tr>\n",
       "  </tbody>\n",
       "</table>\n",
       "<p>5 rows × 246 columns</p>\n",
       "</div>"
      ],
      "text/plain": [
       "        age  detailed industry recode  detailed occupation recode  \\\n",
       "0  1.725879                         0                           0   \n",
       "1  1.053560                         4                          34   \n",
       "2 -0.739291                         0                           0   \n",
       "3 -1.142682                         0                           0   \n",
       "4 -1.097861                         0                           0   \n",
       "\n",
       "   wage per hour  sex  capital gains  capital losses  dividends from stocks  \\\n",
       "0      -0.201629    0      -0.092542       -0.137236              -0.099553   \n",
       "1      -0.201629    1      -0.092542       -0.137236              -0.099553   \n",
       "2      -0.201629    0      -0.092542       -0.137236              -0.099553   \n",
       "3      -0.201629    0      -0.092542       -0.137236              -0.099553   \n",
       "4      -0.201629    0      -0.092542       -0.137236              -0.099553   \n",
       "\n",
       "   num persons worked for employer  own business or self employed  ...  \\\n",
       "0                                0                              0  ...   \n",
       "1                                1                              0  ...   \n",
       "2                                0                              0  ...   \n",
       "3                                0                              0  ...   \n",
       "4                                0                              0  ...   \n",
       "\n",
       "   country of birth self_Trinadad&Tobago  country of birth self_United-States  \\\n",
       "0                                      0                                    1   \n",
       "1                                      0                                    1   \n",
       "2                                      0                                    0   \n",
       "3                                      0                                    1   \n",
       "4                                      0                                    1   \n",
       "\n",
       "   country of birth self_Unknown  country of birth self_Vietnam  \\\n",
       "0                              0                              0   \n",
       "1                              0                              0   \n",
       "2                              0                              1   \n",
       "3                              0                              0   \n",
       "4                              0                              0   \n",
       "\n",
       "   country of birth self_Yugoslavia  \\\n",
       "0                                 0   \n",
       "1                                 0   \n",
       "2                                 0   \n",
       "3                                 0   \n",
       "4                                 0   \n",
       "\n",
       "   citizenship_Foreign born- Not a citizen of U S   \\\n",
       "0                                                0   \n",
       "1                                                0   \n",
       "2                                                1   \n",
       "3                                                0   \n",
       "4                                                0   \n",
       "\n",
       "   citizenship_Foreign born- U S citizen by naturalization  \\\n",
       "0                                                  0         \n",
       "1                                                  0         \n",
       "2                                                  0         \n",
       "3                                                  0         \n",
       "4                                                  0         \n",
       "\n",
       "   citizenship_Native- Born abroad of American Parent(s)  \\\n",
       "0                                                  0       \n",
       "1                                                  0       \n",
       "2                                                  0       \n",
       "3                                                  0       \n",
       "4                                                  0       \n",
       "\n",
       "   citizenship_Native- Born in Puerto Rico or U S Outlying  \\\n",
       "0                                                  0         \n",
       "1                                                  0         \n",
       "2                                                  0         \n",
       "3                                                  0         \n",
       "4                                                  0         \n",
       "\n",
       "   citizenship_Native- Born in the United States  \n",
       "0                                              1  \n",
       "1                                              1  \n",
       "2                                              0  \n",
       "3                                              1  \n",
       "4                                              1  \n",
       "\n",
       "[5 rows x 246 columns]"
      ]
     },
     "execution_count": 28,
     "metadata": {},
     "output_type": "execute_result"
    }
   ],
   "source": [
    "numerical = ['age', 'wage per hour', 'capital gains', 'capital losses', 'dividends from stocks']\n",
    "\n",
    "scaler = StandardScaler()\n",
    "census_clean[numerical] = scaler.fit_transform(census_clean[numerical])\n",
    "census_clean.head()"
   ]
  },
  {
   "cell_type": "markdown",
   "metadata": {},
   "source": [
    "## Dimensionality Reduction"
   ]
  },
  {
   "cell_type": "code",
   "execution_count": 29,
   "metadata": {
    "ExecuteTime": {
     "end_time": "2020-03-16T09:30:12.850558Z",
     "start_time": "2020-03-16T09:29:47.983107Z"
    },
    "scrolled": true
   },
   "outputs": [
    {
     "data": {
      "text/html": [
       "<div>\n",
       "<style scoped>\n",
       "    .dataframe tbody tr th:only-of-type {\n",
       "        vertical-align: middle;\n",
       "    }\n",
       "\n",
       "    .dataframe tbody tr th {\n",
       "        vertical-align: top;\n",
       "    }\n",
       "\n",
       "    .dataframe thead th {\n",
       "        text-align: right;\n",
       "    }\n",
       "</style>\n",
       "<table border=\"1\" class=\"dataframe\">\n",
       "  <thead>\n",
       "    <tr style=\"text-align: right;\">\n",
       "      <th></th>\n",
       "      <th>age</th>\n",
       "      <th>detailed industry recode</th>\n",
       "      <th>detailed occupation recode</th>\n",
       "      <th>wage per hour</th>\n",
       "      <th>sex</th>\n",
       "      <th>capital gains</th>\n",
       "      <th>capital losses</th>\n",
       "      <th>dividends from stocks</th>\n",
       "      <th>num persons worked for employer</th>\n",
       "      <th>own business or self employed</th>\n",
       "      <th>...</th>\n",
       "      <th>country of birth self_Trinadad&amp;Tobago</th>\n",
       "      <th>country of birth self_United-States</th>\n",
       "      <th>country of birth self_Unknown</th>\n",
       "      <th>country of birth self_Vietnam</th>\n",
       "      <th>country of birth self_Yugoslavia</th>\n",
       "      <th>citizenship_Foreign born- Not a citizen of U S</th>\n",
       "      <th>citizenship_Foreign born- U S citizen by naturalization</th>\n",
       "      <th>citizenship_Native- Born abroad of American Parent(s)</th>\n",
       "      <th>citizenship_Native- Born in Puerto Rico or U S Outlying</th>\n",
       "      <th>citizenship_Native- Born in the United States</th>\n",
       "    </tr>\n",
       "  </thead>\n",
       "  <tbody>\n",
       "    <tr>\n",
       "      <th>age</th>\n",
       "      <td>1.000000</td>\n",
       "      <td>0.157822</td>\n",
       "      <td>0.117414</td>\n",
       "      <td>0.036938</td>\n",
       "      <td>-0.052560</td>\n",
       "      <td>0.053590</td>\n",
       "      <td>0.063351</td>\n",
       "      <td>0.104976</td>\n",
       "      <td>0.140887</td>\n",
       "      <td>-0.002265</td>\n",
       "      <td>...</td>\n",
       "      <td>0.004563</td>\n",
       "      <td>-0.064116</td>\n",
       "      <td>0.032290</td>\n",
       "      <td>-0.004354</td>\n",
       "      <td>0.012432</td>\n",
       "      <td>-0.001346</td>\n",
       "      <td>0.114889</td>\n",
       "      <td>-0.006549</td>\n",
       "      <td>0.021387</td>\n",
       "      <td>-0.064141</td>\n",
       "    </tr>\n",
       "    <tr>\n",
       "      <th>detailed industry recode</th>\n",
       "      <td>0.157822</td>\n",
       "      <td>1.000000</td>\n",
       "      <td>0.563493</td>\n",
       "      <td>0.165980</td>\n",
       "      <td>-0.025911</td>\n",
       "      <td>0.066017</td>\n",
       "      <td>0.072586</td>\n",
       "      <td>0.012774</td>\n",
       "      <td>0.642096</td>\n",
       "      <td>0.252694</td>\n",
       "      <td>...</td>\n",
       "      <td>0.003215</td>\n",
       "      <td>-0.025854</td>\n",
       "      <td>0.019526</td>\n",
       "      <td>-0.003612</td>\n",
       "      <td>-0.002048</td>\n",
       "      <td>0.003974</td>\n",
       "      <td>0.036342</td>\n",
       "      <td>0.014168</td>\n",
       "      <td>-0.003058</td>\n",
       "      <td>-0.025863</td>\n",
       "    </tr>\n",
       "    <tr>\n",
       "      <th>detailed occupation recode</th>\n",
       "      <td>0.117414</td>\n",
       "      <td>0.563493</td>\n",
       "      <td>1.000000</td>\n",
       "      <td>0.194498</td>\n",
       "      <td>0.138841</td>\n",
       "      <td>0.002534</td>\n",
       "      <td>0.043680</td>\n",
       "      <td>-0.026726</td>\n",
       "      <td>0.515554</td>\n",
       "      <td>0.228952</td>\n",
       "      <td>...</td>\n",
       "      <td>0.004534</td>\n",
       "      <td>-0.073951</td>\n",
       "      <td>0.004907</td>\n",
       "      <td>0.006822</td>\n",
       "      <td>-0.000252</td>\n",
       "      <td>0.073811</td>\n",
       "      <td>0.021680</td>\n",
       "      <td>0.006073</td>\n",
       "      <td>0.008000</td>\n",
       "      <td>-0.073924</td>\n",
       "    </tr>\n",
       "    <tr>\n",
       "      <th>wage per hour</th>\n",
       "      <td>0.036938</td>\n",
       "      <td>0.165980</td>\n",
       "      <td>0.194498</td>\n",
       "      <td>1.000000</td>\n",
       "      <td>0.023230</td>\n",
       "      <td>-0.001082</td>\n",
       "      <td>0.010993</td>\n",
       "      <td>-0.005731</td>\n",
       "      <td>0.191543</td>\n",
       "      <td>0.054051</td>\n",
       "      <td>...</td>\n",
       "      <td>0.002167</td>\n",
       "      <td>0.008415</td>\n",
       "      <td>0.002299</td>\n",
       "      <td>-0.002486</td>\n",
       "      <td>0.002593</td>\n",
       "      <td>-0.014599</td>\n",
       "      <td>0.009011</td>\n",
       "      <td>-0.001495</td>\n",
       "      <td>-0.004456</td>\n",
       "      <td>0.008406</td>\n",
       "    </tr>\n",
       "    <tr>\n",
       "      <th>sex</th>\n",
       "      <td>-0.052560</td>\n",
       "      <td>-0.025911</td>\n",
       "      <td>0.138841</td>\n",
       "      <td>0.023230</td>\n",
       "      <td>1.000000</td>\n",
       "      <td>0.054963</td>\n",
       "      <td>0.065799</td>\n",
       "      <td>0.011132</td>\n",
       "      <td>0.053625</td>\n",
       "      <td>0.036327</td>\n",
       "      <td>...</td>\n",
       "      <td>-0.001436</td>\n",
       "      <td>0.004283</td>\n",
       "      <td>0.003981</td>\n",
       "      <td>0.001537</td>\n",
       "      <td>0.004633</td>\n",
       "      <td>0.002048</td>\n",
       "      <td>-0.010319</td>\n",
       "      <td>0.006892</td>\n",
       "      <td>-0.008929</td>\n",
       "      <td>0.004301</td>\n",
       "    </tr>\n",
       "    <tr>\n",
       "      <th>...</th>\n",
       "      <td>...</td>\n",
       "      <td>...</td>\n",
       "      <td>...</td>\n",
       "      <td>...</td>\n",
       "      <td>...</td>\n",
       "      <td>...</td>\n",
       "      <td>...</td>\n",
       "      <td>...</td>\n",
       "      <td>...</td>\n",
       "      <td>...</td>\n",
       "      <td>...</td>\n",
       "      <td>...</td>\n",
       "      <td>...</td>\n",
       "      <td>...</td>\n",
       "      <td>...</td>\n",
       "      <td>...</td>\n",
       "      <td>...</td>\n",
       "      <td>...</td>\n",
       "      <td>...</td>\n",
       "      <td>...</td>\n",
       "      <td>...</td>\n",
       "    </tr>\n",
       "    <tr>\n",
       "      <th>citizenship_Foreign born- Not a citizen of U S</th>\n",
       "      <td>-0.001346</td>\n",
       "      <td>0.003974</td>\n",
       "      <td>0.073811</td>\n",
       "      <td>-0.014599</td>\n",
       "      <td>0.002048</td>\n",
       "      <td>-0.010700</td>\n",
       "      <td>-0.009319</td>\n",
       "      <td>-0.019078</td>\n",
       "      <td>-0.006627</td>\n",
       "      <td>-0.024629</td>\n",
       "      <td>...</td>\n",
       "      <td>0.041365</td>\n",
       "      <td>-0.752010</td>\n",
       "      <td>0.270107</td>\n",
       "      <td>0.102205</td>\n",
       "      <td>0.018242</td>\n",
       "      <td>1.000000</td>\n",
       "      <td>-0.046656</td>\n",
       "      <td>-0.025285</td>\n",
       "      <td>-0.023502</td>\n",
       "      <td>-0.752067</td>\n",
       "    </tr>\n",
       "    <tr>\n",
       "      <th>citizenship_Foreign born- U S citizen by naturalization</th>\n",
       "      <td>0.114889</td>\n",
       "      <td>0.036342</td>\n",
       "      <td>0.021680</td>\n",
       "      <td>0.009011</td>\n",
       "      <td>-0.010319</td>\n",
       "      <td>0.013232</td>\n",
       "      <td>0.006070</td>\n",
       "      <td>0.002143</td>\n",
       "      <td>0.030594</td>\n",
       "      <td>-0.015403</td>\n",
       "      <td>...</td>\n",
       "      <td>0.032765</td>\n",
       "      <td>-0.487291</td>\n",
       "      <td>0.217383</td>\n",
       "      <td>0.071532</td>\n",
       "      <td>0.067059</td>\n",
       "      <td>-0.046656</td>\n",
       "      <td>1.000000</td>\n",
       "      <td>-0.016384</td>\n",
       "      <td>-0.015229</td>\n",
       "      <td>-0.487328</td>\n",
       "    </tr>\n",
       "    <tr>\n",
       "      <th>citizenship_Native- Born abroad of American Parent(s)</th>\n",
       "      <td>-0.006549</td>\n",
       "      <td>0.014168</td>\n",
       "      <td>0.006073</td>\n",
       "      <td>-0.001495</td>\n",
       "      <td>0.006892</td>\n",
       "      <td>0.000439</td>\n",
       "      <td>0.001879</td>\n",
       "      <td>0.000812</td>\n",
       "      <td>0.012954</td>\n",
       "      <td>0.009394</td>\n",
       "      <td>...</td>\n",
       "      <td>0.004188</td>\n",
       "      <td>-0.264082</td>\n",
       "      <td>0.143246</td>\n",
       "      <td>0.021305</td>\n",
       "      <td>0.004188</td>\n",
       "      <td>-0.025285</td>\n",
       "      <td>-0.016384</td>\n",
       "      <td>1.000000</td>\n",
       "      <td>-0.008253</td>\n",
       "      <td>-0.264102</td>\n",
       "    </tr>\n",
       "    <tr>\n",
       "      <th>citizenship_Native- Born in Puerto Rico or U S Outlying</th>\n",
       "      <td>0.021387</td>\n",
       "      <td>-0.003058</td>\n",
       "      <td>0.008000</td>\n",
       "      <td>-0.004456</td>\n",
       "      <td>-0.008929</td>\n",
       "      <td>-0.002783</td>\n",
       "      <td>-0.004225</td>\n",
       "      <td>-0.006517</td>\n",
       "      <td>-0.001595</td>\n",
       "      <td>-0.011090</td>\n",
       "      <td>...</td>\n",
       "      <td>-0.001593</td>\n",
       "      <td>-0.245469</td>\n",
       "      <td>-0.011520</td>\n",
       "      <td>-0.003881</td>\n",
       "      <td>-0.001593</td>\n",
       "      <td>-0.023502</td>\n",
       "      <td>-0.015229</td>\n",
       "      <td>-0.008253</td>\n",
       "      <td>1.000000</td>\n",
       "      <td>-0.245487</td>\n",
       "    </tr>\n",
       "    <tr>\n",
       "      <th>citizenship_Native- Born in the United States</th>\n",
       "      <td>-0.064141</td>\n",
       "      <td>-0.025863</td>\n",
       "      <td>-0.073924</td>\n",
       "      <td>0.008406</td>\n",
       "      <td>0.004301</td>\n",
       "      <td>0.002041</td>\n",
       "      <td>0.004739</td>\n",
       "      <td>0.015496</td>\n",
       "      <td>-0.014457</td>\n",
       "      <td>0.027965</td>\n",
       "      <td>...</td>\n",
       "      <td>-0.050984</td>\n",
       "      <td>0.999925</td>\n",
       "      <td>-0.368643</td>\n",
       "      <td>-0.124195</td>\n",
       "      <td>-0.050984</td>\n",
       "      <td>-0.752067</td>\n",
       "      <td>-0.487328</td>\n",
       "      <td>-0.264102</td>\n",
       "      <td>-0.245487</td>\n",
       "      <td>1.000000</td>\n",
       "    </tr>\n",
       "  </tbody>\n",
       "</table>\n",
       "<p>246 rows × 246 columns</p>\n",
       "</div>"
      ],
      "text/plain": [
       "                                                         age  \\\n",
       "age                                                 1.000000   \n",
       "detailed industry recode                            0.157822   \n",
       "detailed occupation recode                          0.117414   \n",
       "wage per hour                                       0.036938   \n",
       "sex                                                -0.052560   \n",
       "...                                                      ...   \n",
       "citizenship_Foreign born- Not a citizen of U S     -0.001346   \n",
       "citizenship_Foreign born- U S citizen by natura...  0.114889   \n",
       "citizenship_Native- Born abroad of American Par... -0.006549   \n",
       "citizenship_Native- Born in Puerto Rico or U S ...  0.021387   \n",
       "citizenship_Native- Born in the United States      -0.064141   \n",
       "\n",
       "                                                    detailed industry recode  \\\n",
       "age                                                                 0.157822   \n",
       "detailed industry recode                                            1.000000   \n",
       "detailed occupation recode                                          0.563493   \n",
       "wage per hour                                                       0.165980   \n",
       "sex                                                                -0.025911   \n",
       "...                                                                      ...   \n",
       "citizenship_Foreign born- Not a citizen of U S                      0.003974   \n",
       "citizenship_Foreign born- U S citizen by natura...                  0.036342   \n",
       "citizenship_Native- Born abroad of American Par...                  0.014168   \n",
       "citizenship_Native- Born in Puerto Rico or U S ...                 -0.003058   \n",
       "citizenship_Native- Born in the United States                      -0.025863   \n",
       "\n",
       "                                                    detailed occupation recode  \\\n",
       "age                                                                   0.117414   \n",
       "detailed industry recode                                              0.563493   \n",
       "detailed occupation recode                                            1.000000   \n",
       "wage per hour                                                         0.194498   \n",
       "sex                                                                   0.138841   \n",
       "...                                                                        ...   \n",
       "citizenship_Foreign born- Not a citizen of U S                        0.073811   \n",
       "citizenship_Foreign born- U S citizen by natura...                    0.021680   \n",
       "citizenship_Native- Born abroad of American Par...                    0.006073   \n",
       "citizenship_Native- Born in Puerto Rico or U S ...                    0.008000   \n",
       "citizenship_Native- Born in the United States                        -0.073924   \n",
       "\n",
       "                                                    wage per hour       sex  \\\n",
       "age                                                      0.036938 -0.052560   \n",
       "detailed industry recode                                 0.165980 -0.025911   \n",
       "detailed occupation recode                               0.194498  0.138841   \n",
       "wage per hour                                            1.000000  0.023230   \n",
       "sex                                                      0.023230  1.000000   \n",
       "...                                                           ...       ...   \n",
       "citizenship_Foreign born- Not a citizen of U S          -0.014599  0.002048   \n",
       "citizenship_Foreign born- U S citizen by natura...       0.009011 -0.010319   \n",
       "citizenship_Native- Born abroad of American Par...      -0.001495  0.006892   \n",
       "citizenship_Native- Born in Puerto Rico or U S ...      -0.004456 -0.008929   \n",
       "citizenship_Native- Born in the United States            0.008406  0.004301   \n",
       "\n",
       "                                                    capital gains  \\\n",
       "age                                                      0.053590   \n",
       "detailed industry recode                                 0.066017   \n",
       "detailed occupation recode                               0.002534   \n",
       "wage per hour                                           -0.001082   \n",
       "sex                                                      0.054963   \n",
       "...                                                           ...   \n",
       "citizenship_Foreign born- Not a citizen of U S          -0.010700   \n",
       "citizenship_Foreign born- U S citizen by natura...       0.013232   \n",
       "citizenship_Native- Born abroad of American Par...       0.000439   \n",
       "citizenship_Native- Born in Puerto Rico or U S ...      -0.002783   \n",
       "citizenship_Native- Born in the United States            0.002041   \n",
       "\n",
       "                                                    capital losses  \\\n",
       "age                                                       0.063351   \n",
       "detailed industry recode                                  0.072586   \n",
       "detailed occupation recode                                0.043680   \n",
       "wage per hour                                             0.010993   \n",
       "sex                                                       0.065799   \n",
       "...                                                            ...   \n",
       "citizenship_Foreign born- Not a citizen of U S           -0.009319   \n",
       "citizenship_Foreign born- U S citizen by natura...        0.006070   \n",
       "citizenship_Native- Born abroad of American Par...        0.001879   \n",
       "citizenship_Native- Born in Puerto Rico or U S ...       -0.004225   \n",
       "citizenship_Native- Born in the United States             0.004739   \n",
       "\n",
       "                                                    dividends from stocks  \\\n",
       "age                                                              0.104976   \n",
       "detailed industry recode                                         0.012774   \n",
       "detailed occupation recode                                      -0.026726   \n",
       "wage per hour                                                   -0.005731   \n",
       "sex                                                              0.011132   \n",
       "...                                                                   ...   \n",
       "citizenship_Foreign born- Not a citizen of U S                  -0.019078   \n",
       "citizenship_Foreign born- U S citizen by natura...               0.002143   \n",
       "citizenship_Native- Born abroad of American Par...               0.000812   \n",
       "citizenship_Native- Born in Puerto Rico or U S ...              -0.006517   \n",
       "citizenship_Native- Born in the United States                    0.015496   \n",
       "\n",
       "                                                    num persons worked for employer  \\\n",
       "age                                                                        0.140887   \n",
       "detailed industry recode                                                   0.642096   \n",
       "detailed occupation recode                                                 0.515554   \n",
       "wage per hour                                                              0.191543   \n",
       "sex                                                                        0.053625   \n",
       "...                                                                             ...   \n",
       "citizenship_Foreign born- Not a citizen of U S                            -0.006627   \n",
       "citizenship_Foreign born- U S citizen by natura...                         0.030594   \n",
       "citizenship_Native- Born abroad of American Par...                         0.012954   \n",
       "citizenship_Native- Born in Puerto Rico or U S ...                        -0.001595   \n",
       "citizenship_Native- Born in the United States                             -0.014457   \n",
       "\n",
       "                                                    own business or self employed  \\\n",
       "age                                                                     -0.002265   \n",
       "detailed industry recode                                                 0.252694   \n",
       "detailed occupation recode                                               0.228952   \n",
       "wage per hour                                                            0.054051   \n",
       "sex                                                                      0.036327   \n",
       "...                                                                           ...   \n",
       "citizenship_Foreign born- Not a citizen of U S                          -0.024629   \n",
       "citizenship_Foreign born- U S citizen by natura...                      -0.015403   \n",
       "citizenship_Native- Born abroad of American Par...                       0.009394   \n",
       "citizenship_Native- Born in Puerto Rico or U S ...                      -0.011090   \n",
       "citizenship_Native- Born in the United States                            0.027965   \n",
       "\n",
       "                                                    ...  \\\n",
       "age                                                 ...   \n",
       "detailed industry recode                            ...   \n",
       "detailed occupation recode                          ...   \n",
       "wage per hour                                       ...   \n",
       "sex                                                 ...   \n",
       "...                                                 ...   \n",
       "citizenship_Foreign born- Not a citizen of U S      ...   \n",
       "citizenship_Foreign born- U S citizen by natura...  ...   \n",
       "citizenship_Native- Born abroad of American Par...  ...   \n",
       "citizenship_Native- Born in Puerto Rico or U S ...  ...   \n",
       "citizenship_Native- Born in the United States       ...   \n",
       "\n",
       "                                                    country of birth self_Trinadad&Tobago  \\\n",
       "age                                                                              0.004563   \n",
       "detailed industry recode                                                         0.003215   \n",
       "detailed occupation recode                                                       0.004534   \n",
       "wage per hour                                                                    0.002167   \n",
       "sex                                                                             -0.001436   \n",
       "...                                                                                   ...   \n",
       "citizenship_Foreign born- Not a citizen of U S                                   0.041365   \n",
       "citizenship_Foreign born- U S citizen by natura...                               0.032765   \n",
       "citizenship_Native- Born abroad of American Par...                               0.004188   \n",
       "citizenship_Native- Born in Puerto Rico or U S ...                              -0.001593   \n",
       "citizenship_Native- Born in the United States                                   -0.050984   \n",
       "\n",
       "                                                    country of birth self_United-States  \\\n",
       "age                                                                           -0.064116   \n",
       "detailed industry recode                                                      -0.025854   \n",
       "detailed occupation recode                                                    -0.073951   \n",
       "wage per hour                                                                  0.008415   \n",
       "sex                                                                            0.004283   \n",
       "...                                                                                 ...   \n",
       "citizenship_Foreign born- Not a citizen of U S                                -0.752010   \n",
       "citizenship_Foreign born- U S citizen by natura...                            -0.487291   \n",
       "citizenship_Native- Born abroad of American Par...                            -0.264082   \n",
       "citizenship_Native- Born in Puerto Rico or U S ...                            -0.245469   \n",
       "citizenship_Native- Born in the United States                                  0.999925   \n",
       "\n",
       "                                                    country of birth self_Unknown  \\\n",
       "age                                                                      0.032290   \n",
       "detailed industry recode                                                 0.019526   \n",
       "detailed occupation recode                                               0.004907   \n",
       "wage per hour                                                            0.002299   \n",
       "sex                                                                      0.003981   \n",
       "...                                                                           ...   \n",
       "citizenship_Foreign born- Not a citizen of U S                           0.270107   \n",
       "citizenship_Foreign born- U S citizen by natura...                       0.217383   \n",
       "citizenship_Native- Born abroad of American Par...                       0.143246   \n",
       "citizenship_Native- Born in Puerto Rico or U S ...                      -0.011520   \n",
       "citizenship_Native- Born in the United States                           -0.368643   \n",
       "\n",
       "                                                    country of birth self_Vietnam  \\\n",
       "age                                                                     -0.004354   \n",
       "detailed industry recode                                                -0.003612   \n",
       "detailed occupation recode                                               0.006822   \n",
       "wage per hour                                                           -0.002486   \n",
       "sex                                                                      0.001537   \n",
       "...                                                                           ...   \n",
       "citizenship_Foreign born- Not a citizen of U S                           0.102205   \n",
       "citizenship_Foreign born- U S citizen by natura...                       0.071532   \n",
       "citizenship_Native- Born abroad of American Par...                       0.021305   \n",
       "citizenship_Native- Born in Puerto Rico or U S ...                      -0.003881   \n",
       "citizenship_Native- Born in the United States                           -0.124195   \n",
       "\n",
       "                                                    country of birth self_Yugoslavia  \\\n",
       "age                                                                         0.012432   \n",
       "detailed industry recode                                                   -0.002048   \n",
       "detailed occupation recode                                                 -0.000252   \n",
       "wage per hour                                                               0.002593   \n",
       "sex                                                                         0.004633   \n",
       "...                                                                              ...   \n",
       "citizenship_Foreign born- Not a citizen of U S                              0.018242   \n",
       "citizenship_Foreign born- U S citizen by natura...                          0.067059   \n",
       "citizenship_Native- Born abroad of American Par...                          0.004188   \n",
       "citizenship_Native- Born in Puerto Rico or U S ...                         -0.001593   \n",
       "citizenship_Native- Born in the United States                              -0.050984   \n",
       "\n",
       "                                                    citizenship_Foreign born- Not a citizen of U S   \\\n",
       "age                                                                                       -0.001346   \n",
       "detailed industry recode                                                                   0.003974   \n",
       "detailed occupation recode                                                                 0.073811   \n",
       "wage per hour                                                                             -0.014599   \n",
       "sex                                                                                        0.002048   \n",
       "...                                                                                             ...   \n",
       "citizenship_Foreign born- Not a citizen of U S                                             1.000000   \n",
       "citizenship_Foreign born- U S citizen by natura...                                        -0.046656   \n",
       "citizenship_Native- Born abroad of American Par...                                        -0.025285   \n",
       "citizenship_Native- Born in Puerto Rico or U S ...                                        -0.023502   \n",
       "citizenship_Native- Born in the United States                                             -0.752067   \n",
       "\n",
       "                                                    citizenship_Foreign born- U S citizen by naturalization  \\\n",
       "age                                                                                          0.114889         \n",
       "detailed industry recode                                                                     0.036342         \n",
       "detailed occupation recode                                                                   0.021680         \n",
       "wage per hour                                                                                0.009011         \n",
       "sex                                                                                         -0.010319         \n",
       "...                                                                                               ...         \n",
       "citizenship_Foreign born- Not a citizen of U S                                              -0.046656         \n",
       "citizenship_Foreign born- U S citizen by natura...                                           1.000000         \n",
       "citizenship_Native- Born abroad of American Par...                                          -0.016384         \n",
       "citizenship_Native- Born in Puerto Rico or U S ...                                          -0.015229         \n",
       "citizenship_Native- Born in the United States                                               -0.487328         \n",
       "\n",
       "                                                    citizenship_Native- Born abroad of American Parent(s)  \\\n",
       "age                                                                                         -0.006549       \n",
       "detailed industry recode                                                                     0.014168       \n",
       "detailed occupation recode                                                                   0.006073       \n",
       "wage per hour                                                                               -0.001495       \n",
       "sex                                                                                          0.006892       \n",
       "...                                                                                               ...       \n",
       "citizenship_Foreign born- Not a citizen of U S                                              -0.025285       \n",
       "citizenship_Foreign born- U S citizen by natura...                                          -0.016384       \n",
       "citizenship_Native- Born abroad of American Par...                                           1.000000       \n",
       "citizenship_Native- Born in Puerto Rico or U S ...                                          -0.008253       \n",
       "citizenship_Native- Born in the United States                                               -0.264102       \n",
       "\n",
       "                                                    citizenship_Native- Born in Puerto Rico or U S Outlying  \\\n",
       "age                                                                                          0.021387         \n",
       "detailed industry recode                                                                    -0.003058         \n",
       "detailed occupation recode                                                                   0.008000         \n",
       "wage per hour                                                                               -0.004456         \n",
       "sex                                                                                         -0.008929         \n",
       "...                                                                                               ...         \n",
       "citizenship_Foreign born- Not a citizen of U S                                              -0.023502         \n",
       "citizenship_Foreign born- U S citizen by natura...                                          -0.015229         \n",
       "citizenship_Native- Born abroad of American Par...                                          -0.008253         \n",
       "citizenship_Native- Born in Puerto Rico or U S ...                                           1.000000         \n",
       "citizenship_Native- Born in the United States                                               -0.245487         \n",
       "\n",
       "                                                    citizenship_Native- Born in the United States  \n",
       "age                                                                                     -0.064141  \n",
       "detailed industry recode                                                                -0.025863  \n",
       "detailed occupation recode                                                              -0.073924  \n",
       "wage per hour                                                                            0.008406  \n",
       "sex                                                                                      0.004301  \n",
       "...                                                                                           ...  \n",
       "citizenship_Foreign born- Not a citizen of U S                                          -0.752067  \n",
       "citizenship_Foreign born- U S citizen by natura...                                      -0.487328  \n",
       "citizenship_Native- Born abroad of American Par...                                      -0.264102  \n",
       "citizenship_Native- Born in Puerto Rico or U S ...                                      -0.245487  \n",
       "citizenship_Native- Born in the United States                                            1.000000  \n",
       "\n",
       "[246 rows x 246 columns]"
      ]
     },
     "execution_count": 29,
     "metadata": {},
     "output_type": "execute_result"
    }
   ],
   "source": [
    "# Print out the column correlations of the dataset\n",
    "corr_matrix = census_clean.corr()\n",
    "corr_matrix"
   ]
  },
  {
   "cell_type": "code",
   "execution_count": 30,
   "metadata": {
    "ExecuteTime": {
     "end_time": "2020-03-16T09:30:12.881505Z",
     "start_time": "2020-03-16T09:30:12.851556Z"
    }
   },
   "outputs": [
    {
     "data": {
      "text/plain": [
       "country of birth self_United-States                                   citizenship_Native- Born in the United States                               0.999925\n",
       "citizenship_Native- Born in the United States                         country of birth self_United-States                                         0.999925\n",
       "detailed household and family stat_Spouse of householder              detailed household summary in household_Spouse of householder               0.999788\n",
       "detailed household summary in household_Spouse of householder         detailed household and family stat_Spouse of householder                    0.999788\n",
       "detailed household summary in household_Child under 18 never married  detailed household and family stat_Child <18 never marr not in subfamily    0.998673\n",
       "                                                                                                                                                    ...   \n",
       "country of birth self_Cuba                                            country of birth mother_Cuba                                                0.804900\n",
       "country of birth self_Vietnam                                         country of birth father_Vietnam                                             0.801546\n",
       "country of birth father_Vietnam                                       country of birth self_Vietnam                                               0.801546\n",
       "country of birth self_Columbia                                        country of birth father_Columbia                                            0.801512\n",
       "country of birth father_Columbia                                      country of birth self_Columbia                                              0.801512\n",
       "Length: 110, dtype: float64"
      ]
     },
     "execution_count": 30,
     "metadata": {},
     "output_type": "execute_result"
    }
   ],
   "source": [
    "corrs = corr_matrix.abs().unstack().sort_values(kind='quicksort', ascending=False)\n",
    "corrs[(corrs>0.80) & (corrs<1.0)]"
   ]
  },
  {
   "cell_type": "code",
   "execution_count": 31,
   "metadata": {
    "ExecuteTime": {
     "end_time": "2020-03-16T09:30:12.942312Z",
     "start_time": "2020-03-16T09:30:12.882495Z"
    }
   },
   "outputs": [],
   "source": [
    "# Set up PCA and the X vector for diminsionality reduction\n",
    "pca = PCA(random_state=666)\n",
    "census_X = census_clean.drop(\"income class\", axis=1)"
   ]
  },
  {
   "cell_type": "code",
   "execution_count": 32,
   "metadata": {
    "ExecuteTime": {
     "end_time": "2020-03-16T09:30:15.933313Z",
     "start_time": "2020-03-16T09:30:12.943310Z"
    }
   },
   "outputs": [
    {
     "data": {
      "text/plain": [
       "PCA(copy=True, iterated_power='auto', n_components=None, random_state=666,\n",
       "    svd_solver='auto', tol=0.0, whiten=False)"
      ]
     },
     "execution_count": 32,
     "metadata": {},
     "output_type": "execute_result"
    }
   ],
   "source": [
    "pca.fit(census_X)"
   ]
  },
  {
   "cell_type": "code",
   "execution_count": 33,
   "metadata": {
    "ExecuteTime": {
     "end_time": "2020-03-16T09:30:16.118816Z",
     "start_time": "2020-03-16T09:30:15.934333Z"
    }
   },
   "outputs": [
    {
     "data": {
      "text/html": [
       "<div>\n",
       "<style scoped>\n",
       "    .dataframe tbody tr th:only-of-type {\n",
       "        vertical-align: middle;\n",
       "    }\n",
       "\n",
       "    .dataframe tbody tr th {\n",
       "        vertical-align: top;\n",
       "    }\n",
       "\n",
       "    .dataframe thead th {\n",
       "        text-align: right;\n",
       "    }\n",
       "</style>\n",
       "<table border=\"1\" class=\"dataframe\">\n",
       "  <thead>\n",
       "    <tr style=\"text-align: right;\">\n",
       "      <th></th>\n",
       "      <th>Explained Cumulative Variance</th>\n",
       "      <th>Explained Variance Ratio</th>\n",
       "      <th>age</th>\n",
       "      <th>detailed industry recode</th>\n",
       "      <th>detailed occupation recode</th>\n",
       "      <th>wage per hour</th>\n",
       "      <th>sex</th>\n",
       "      <th>capital gains</th>\n",
       "      <th>capital losses</th>\n",
       "      <th>dividends from stocks</th>\n",
       "      <th>...</th>\n",
       "      <th>country of birth self_Trinadad&amp;Tobago</th>\n",
       "      <th>country of birth self_United-States</th>\n",
       "      <th>country of birth self_Unknown</th>\n",
       "      <th>country of birth self_Vietnam</th>\n",
       "      <th>country of birth self_Yugoslavia</th>\n",
       "      <th>citizenship_Foreign born- Not a citizen of U S</th>\n",
       "      <th>citizenship_Foreign born- U S citizen by naturalization</th>\n",
       "      <th>citizenship_Native- Born abroad of American Parent(s)</th>\n",
       "      <th>citizenship_Native- Born in Puerto Rico or U S Outlying</th>\n",
       "      <th>citizenship_Native- Born in the United States</th>\n",
       "    </tr>\n",
       "  </thead>\n",
       "  <tbody>\n",
       "    <tr>\n",
       "      <th>Dimension 1</th>\n",
       "      <td>0.8084</td>\n",
       "      <td>0.8084</td>\n",
       "      <td>0.0065</td>\n",
       "      <td>0.5181</td>\n",
       "      <td>0.3565</td>\n",
       "      <td>0.0068</td>\n",
       "      <td>0.0014</td>\n",
       "      <td>0.0024</td>\n",
       "      <td>0.0030</td>\n",
       "      <td>0.0003</td>\n",
       "      <td>...</td>\n",
       "      <td>0.0000</td>\n",
       "      <td>-0.0005</td>\n",
       "      <td>0.0001</td>\n",
       "      <td>0.0000</td>\n",
       "      <td>-0.0000</td>\n",
       "      <td>0.0002</td>\n",
       "      <td>0.0002</td>\n",
       "      <td>0.0000</td>\n",
       "      <td>-0.0000</td>\n",
       "      <td>-0.0005</td>\n",
       "    </tr>\n",
       "    <tr>\n",
       "      <th>Dimension 2</th>\n",
       "      <td>0.9041</td>\n",
       "      <td>0.0957</td>\n",
       "      <td>-0.0007</td>\n",
       "      <td>-0.6955</td>\n",
       "      <td>0.7042</td>\n",
       "      <td>0.0052</td>\n",
       "      <td>0.0096</td>\n",
       "      <td>-0.0047</td>\n",
       "      <td>-0.0011</td>\n",
       "      <td>-0.0035</td>\n",
       "      <td>...</td>\n",
       "      <td>0.0000</td>\n",
       "      <td>-0.0016</td>\n",
       "      <td>-0.0002</td>\n",
       "      <td>0.0000</td>\n",
       "      <td>0.0000</td>\n",
       "      <td>0.0017</td>\n",
       "      <td>-0.0001</td>\n",
       "      <td>-0.0001</td>\n",
       "      <td>0.0001</td>\n",
       "      <td>-0.0016</td>\n",
       "    </tr>\n",
       "    <tr>\n",
       "      <th>Dimension 3</th>\n",
       "      <td>0.9879</td>\n",
       "      <td>0.0838</td>\n",
       "      <td>-0.0067</td>\n",
       "      <td>0.4970</td>\n",
       "      <td>0.6136</td>\n",
       "      <td>0.0029</td>\n",
       "      <td>-0.0034</td>\n",
       "      <td>-0.0067</td>\n",
       "      <td>-0.0050</td>\n",
       "      <td>-0.0035</td>\n",
       "      <td>...</td>\n",
       "      <td>-0.0000</td>\n",
       "      <td>-0.0011</td>\n",
       "      <td>0.0000</td>\n",
       "      <td>0.0000</td>\n",
       "      <td>-0.0000</td>\n",
       "      <td>0.0012</td>\n",
       "      <td>-0.0002</td>\n",
       "      <td>0.0000</td>\n",
       "      <td>0.0001</td>\n",
       "      <td>-0.0011</td>\n",
       "    </tr>\n",
       "    <tr>\n",
       "      <th>Dimension 4</th>\n",
       "      <td>0.9900</td>\n",
       "      <td>0.0021</td>\n",
       "      <td>0.0551</td>\n",
       "      <td>-0.0244</td>\n",
       "      <td>-0.0051</td>\n",
       "      <td>0.0641</td>\n",
       "      <td>-0.0102</td>\n",
       "      <td>-0.0033</td>\n",
       "      <td>0.0214</td>\n",
       "      <td>0.0075</td>\n",
       "      <td>...</td>\n",
       "      <td>-0.0000</td>\n",
       "      <td>0.0030</td>\n",
       "      <td>-0.0004</td>\n",
       "      <td>0.0001</td>\n",
       "      <td>-0.0000</td>\n",
       "      <td>-0.0042</td>\n",
       "      <td>0.0007</td>\n",
       "      <td>0.0002</td>\n",
       "      <td>0.0003</td>\n",
       "      <td>0.0030</td>\n",
       "    </tr>\n",
       "    <tr>\n",
       "      <th>Dimension 5</th>\n",
       "      <td>0.9917</td>\n",
       "      <td>0.0017</td>\n",
       "      <td>0.6438</td>\n",
       "      <td>-0.0025</td>\n",
       "      <td>-0.0020</td>\n",
       "      <td>-0.0160</td>\n",
       "      <td>-0.0348</td>\n",
       "      <td>0.0637</td>\n",
       "      <td>0.0554</td>\n",
       "      <td>0.1426</td>\n",
       "      <td>...</td>\n",
       "      <td>0.0001</td>\n",
       "      <td>-0.0256</td>\n",
       "      <td>0.0046</td>\n",
       "      <td>0.0002</td>\n",
       "      <td>0.0002</td>\n",
       "      <td>0.0101</td>\n",
       "      <td>0.0138</td>\n",
       "      <td>-0.0001</td>\n",
       "      <td>0.0019</td>\n",
       "      <td>-0.0257</td>\n",
       "    </tr>\n",
       "    <tr>\n",
       "      <th>Dimension 6</th>\n",
       "      <td>0.9927</td>\n",
       "      <td>0.0010</td>\n",
       "      <td>-0.0735</td>\n",
       "      <td>0.0001</td>\n",
       "      <td>0.0090</td>\n",
       "      <td>-0.0601</td>\n",
       "      <td>0.0594</td>\n",
       "      <td>0.6949</td>\n",
       "      <td>0.1203</td>\n",
       "      <td>0.6763</td>\n",
       "      <td>...</td>\n",
       "      <td>-0.0001</td>\n",
       "      <td>0.0150</td>\n",
       "      <td>-0.0011</td>\n",
       "      <td>-0.0003</td>\n",
       "      <td>-0.0001</td>\n",
       "      <td>-0.0100</td>\n",
       "      <td>-0.0037</td>\n",
       "      <td>-0.0001</td>\n",
       "      <td>-0.0012</td>\n",
       "      <td>0.0150</td>\n",
       "    </tr>\n",
       "    <tr>\n",
       "      <th>Dimension 7</th>\n",
       "      <td>0.9936</td>\n",
       "      <td>0.0009</td>\n",
       "      <td>-0.0102</td>\n",
       "      <td>0.0021</td>\n",
       "      <td>0.0013</td>\n",
       "      <td>-0.0755</td>\n",
       "      <td>0.0509</td>\n",
       "      <td>-0.2689</td>\n",
       "      <td>0.9435</td>\n",
       "      <td>0.0618</td>\n",
       "      <td>...</td>\n",
       "      <td>0.0001</td>\n",
       "      <td>0.0074</td>\n",
       "      <td>-0.0009</td>\n",
       "      <td>-0.0000</td>\n",
       "      <td>0.0000</td>\n",
       "      <td>-0.0049</td>\n",
       "      <td>-0.0021</td>\n",
       "      <td>0.0001</td>\n",
       "      <td>-0.0004</td>\n",
       "      <td>0.0074</td>\n",
       "    </tr>\n",
       "    <tr>\n",
       "      <th>Dimension 8</th>\n",
       "      <td>0.9944</td>\n",
       "      <td>0.0008</td>\n",
       "      <td>0.0054</td>\n",
       "      <td>0.0003</td>\n",
       "      <td>-0.0067</td>\n",
       "      <td>0.9886</td>\n",
       "      <td>0.0035</td>\n",
       "      <td>-0.0283</td>\n",
       "      <td>0.0617</td>\n",
       "      <td>0.1018</td>\n",
       "      <td>...</td>\n",
       "      <td>-0.0000</td>\n",
       "      <td>0.0182</td>\n",
       "      <td>-0.0014</td>\n",
       "      <td>-0.0003</td>\n",
       "      <td>0.0000</td>\n",
       "      <td>-0.0139</td>\n",
       "      <td>-0.0023</td>\n",
       "      <td>-0.0008</td>\n",
       "      <td>-0.0012</td>\n",
       "      <td>0.0182</td>\n",
       "    </tr>\n",
       "    <tr>\n",
       "      <th>Dimension 9</th>\n",
       "      <td>0.9952</td>\n",
       "      <td>0.0007</td>\n",
       "      <td>-0.0341</td>\n",
       "      <td>-0.0011</td>\n",
       "      <td>0.0001</td>\n",
       "      <td>-0.0782</td>\n",
       "      <td>-0.0537</td>\n",
       "      <td>-0.6423</td>\n",
       "      <td>-0.2119</td>\n",
       "      <td>0.7094</td>\n",
       "      <td>...</td>\n",
       "      <td>-0.0000</td>\n",
       "      <td>0.0103</td>\n",
       "      <td>-0.0026</td>\n",
       "      <td>-0.0001</td>\n",
       "      <td>-0.0001</td>\n",
       "      <td>-0.0051</td>\n",
       "      <td>-0.0040</td>\n",
       "      <td>-0.0002</td>\n",
       "      <td>-0.0011</td>\n",
       "      <td>0.0103</td>\n",
       "    </tr>\n",
       "    <tr>\n",
       "      <th>Dimension 10</th>\n",
       "      <td>0.9957</td>\n",
       "      <td>0.0005</td>\n",
       "      <td>-0.1563</td>\n",
       "      <td>-0.0032</td>\n",
       "      <td>0.0067</td>\n",
       "      <td>-0.0048</td>\n",
       "      <td>-0.1478</td>\n",
       "      <td>0.1097</td>\n",
       "      <td>0.1786</td>\n",
       "      <td>-0.0190</td>\n",
       "      <td>...</td>\n",
       "      <td>-0.0000</td>\n",
       "      <td>-0.0147</td>\n",
       "      <td>0.0001</td>\n",
       "      <td>0.0000</td>\n",
       "      <td>-0.0000</td>\n",
       "      <td>0.0131</td>\n",
       "      <td>0.0031</td>\n",
       "      <td>-0.0001</td>\n",
       "      <td>-0.0014</td>\n",
       "      <td>-0.0147</td>\n",
       "    </tr>\n",
       "  </tbody>\n",
       "</table>\n",
       "<p>10 rows × 247 columns</p>\n",
       "</div>"
      ],
      "text/plain": [
       "              Explained Cumulative Variance  Explained Variance Ratio     age  \\\n",
       "Dimension 1                          0.8084                    0.8084  0.0065   \n",
       "Dimension 2                          0.9041                    0.0957 -0.0007   \n",
       "Dimension 3                          0.9879                    0.0838 -0.0067   \n",
       "Dimension 4                          0.9900                    0.0021  0.0551   \n",
       "Dimension 5                          0.9917                    0.0017  0.6438   \n",
       "Dimension 6                          0.9927                    0.0010 -0.0735   \n",
       "Dimension 7                          0.9936                    0.0009 -0.0102   \n",
       "Dimension 8                          0.9944                    0.0008  0.0054   \n",
       "Dimension 9                          0.9952                    0.0007 -0.0341   \n",
       "Dimension 10                         0.9957                    0.0005 -0.1563   \n",
       "\n",
       "              detailed industry recode  detailed occupation recode  \\\n",
       "Dimension 1                     0.5181                      0.3565   \n",
       "Dimension 2                    -0.6955                      0.7042   \n",
       "Dimension 3                     0.4970                      0.6136   \n",
       "Dimension 4                    -0.0244                     -0.0051   \n",
       "Dimension 5                    -0.0025                     -0.0020   \n",
       "Dimension 6                     0.0001                      0.0090   \n",
       "Dimension 7                     0.0021                      0.0013   \n",
       "Dimension 8                     0.0003                     -0.0067   \n",
       "Dimension 9                    -0.0011                      0.0001   \n",
       "Dimension 10                   -0.0032                      0.0067   \n",
       "\n",
       "              wage per hour     sex  capital gains  capital losses  \\\n",
       "Dimension 1          0.0068  0.0014         0.0024          0.0030   \n",
       "Dimension 2          0.0052  0.0096        -0.0047         -0.0011   \n",
       "Dimension 3          0.0029 -0.0034        -0.0067         -0.0050   \n",
       "Dimension 4          0.0641 -0.0102        -0.0033          0.0214   \n",
       "Dimension 5         -0.0160 -0.0348         0.0637          0.0554   \n",
       "Dimension 6         -0.0601  0.0594         0.6949          0.1203   \n",
       "Dimension 7         -0.0755  0.0509        -0.2689          0.9435   \n",
       "Dimension 8          0.9886  0.0035        -0.0283          0.0617   \n",
       "Dimension 9         -0.0782 -0.0537        -0.6423         -0.2119   \n",
       "Dimension 10        -0.0048 -0.1478         0.1097          0.1786   \n",
       "\n",
       "              dividends from stocks  ...  \\\n",
       "Dimension 1                  0.0003  ...   \n",
       "Dimension 2                 -0.0035  ...   \n",
       "Dimension 3                 -0.0035  ...   \n",
       "Dimension 4                  0.0075  ...   \n",
       "Dimension 5                  0.1426  ...   \n",
       "Dimension 6                  0.6763  ...   \n",
       "Dimension 7                  0.0618  ...   \n",
       "Dimension 8                  0.1018  ...   \n",
       "Dimension 9                  0.7094  ...   \n",
       "Dimension 10                -0.0190  ...   \n",
       "\n",
       "              country of birth self_Trinadad&Tobago  \\\n",
       "Dimension 1                                  0.0000   \n",
       "Dimension 2                                  0.0000   \n",
       "Dimension 3                                 -0.0000   \n",
       "Dimension 4                                 -0.0000   \n",
       "Dimension 5                                  0.0001   \n",
       "Dimension 6                                 -0.0001   \n",
       "Dimension 7                                  0.0001   \n",
       "Dimension 8                                 -0.0000   \n",
       "Dimension 9                                 -0.0000   \n",
       "Dimension 10                                -0.0000   \n",
       "\n",
       "              country of birth self_United-States  \\\n",
       "Dimension 1                               -0.0005   \n",
       "Dimension 2                               -0.0016   \n",
       "Dimension 3                               -0.0011   \n",
       "Dimension 4                                0.0030   \n",
       "Dimension 5                               -0.0256   \n",
       "Dimension 6                                0.0150   \n",
       "Dimension 7                                0.0074   \n",
       "Dimension 8                                0.0182   \n",
       "Dimension 9                                0.0103   \n",
       "Dimension 10                              -0.0147   \n",
       "\n",
       "              country of birth self_Unknown  country of birth self_Vietnam  \\\n",
       "Dimension 1                          0.0001                         0.0000   \n",
       "Dimension 2                         -0.0002                         0.0000   \n",
       "Dimension 3                          0.0000                         0.0000   \n",
       "Dimension 4                         -0.0004                         0.0001   \n",
       "Dimension 5                          0.0046                         0.0002   \n",
       "Dimension 6                         -0.0011                        -0.0003   \n",
       "Dimension 7                         -0.0009                        -0.0000   \n",
       "Dimension 8                         -0.0014                        -0.0003   \n",
       "Dimension 9                         -0.0026                        -0.0001   \n",
       "Dimension 10                         0.0001                         0.0000   \n",
       "\n",
       "              country of birth self_Yugoslavia  \\\n",
       "Dimension 1                            -0.0000   \n",
       "Dimension 2                             0.0000   \n",
       "Dimension 3                            -0.0000   \n",
       "Dimension 4                            -0.0000   \n",
       "Dimension 5                             0.0002   \n",
       "Dimension 6                            -0.0001   \n",
       "Dimension 7                             0.0000   \n",
       "Dimension 8                             0.0000   \n",
       "Dimension 9                            -0.0001   \n",
       "Dimension 10                           -0.0000   \n",
       "\n",
       "              citizenship_Foreign born- Not a citizen of U S   \\\n",
       "Dimension 1                                            0.0002   \n",
       "Dimension 2                                            0.0017   \n",
       "Dimension 3                                            0.0012   \n",
       "Dimension 4                                           -0.0042   \n",
       "Dimension 5                                            0.0101   \n",
       "Dimension 6                                           -0.0100   \n",
       "Dimension 7                                           -0.0049   \n",
       "Dimension 8                                           -0.0139   \n",
       "Dimension 9                                           -0.0051   \n",
       "Dimension 10                                           0.0131   \n",
       "\n",
       "              citizenship_Foreign born- U S citizen by naturalization  \\\n",
       "Dimension 1                                              0.0002         \n",
       "Dimension 2                                             -0.0001         \n",
       "Dimension 3                                             -0.0002         \n",
       "Dimension 4                                              0.0007         \n",
       "Dimension 5                                              0.0138         \n",
       "Dimension 6                                             -0.0037         \n",
       "Dimension 7                                             -0.0021         \n",
       "Dimension 8                                             -0.0023         \n",
       "Dimension 9                                             -0.0040         \n",
       "Dimension 10                                             0.0031         \n",
       "\n",
       "              citizenship_Native- Born abroad of American Parent(s)  \\\n",
       "Dimension 1                                              0.0000       \n",
       "Dimension 2                                             -0.0001       \n",
       "Dimension 3                                              0.0000       \n",
       "Dimension 4                                              0.0002       \n",
       "Dimension 5                                             -0.0001       \n",
       "Dimension 6                                             -0.0001       \n",
       "Dimension 7                                              0.0001       \n",
       "Dimension 8                                             -0.0008       \n",
       "Dimension 9                                             -0.0002       \n",
       "Dimension 10                                            -0.0001       \n",
       "\n",
       "              citizenship_Native- Born in Puerto Rico or U S Outlying  \\\n",
       "Dimension 1                                             -0.0000         \n",
       "Dimension 2                                              0.0001         \n",
       "Dimension 3                                              0.0001         \n",
       "Dimension 4                                              0.0003         \n",
       "Dimension 5                                              0.0019         \n",
       "Dimension 6                                             -0.0012         \n",
       "Dimension 7                                             -0.0004         \n",
       "Dimension 8                                             -0.0012         \n",
       "Dimension 9                                             -0.0011         \n",
       "Dimension 10                                            -0.0014         \n",
       "\n",
       "              citizenship_Native- Born in the United States  \n",
       "Dimension 1                                         -0.0005  \n",
       "Dimension 2                                         -0.0016  \n",
       "Dimension 3                                         -0.0011  \n",
       "Dimension 4                                          0.0030  \n",
       "Dimension 5                                         -0.0257  \n",
       "Dimension 6                                          0.0150  \n",
       "Dimension 7                                          0.0074  \n",
       "Dimension 8                                          0.0182  \n",
       "Dimension 9                                          0.0103  \n",
       "Dimension 10                                        -0.0147  \n",
       "\n",
       "[10 rows x 247 columns]"
      ]
     },
     "execution_count": 33,
     "metadata": {},
     "output_type": "execute_result"
    },
    {
     "data": {
      "image/png": "[encoded data removed]",
      "text/plain": [
       "<Figure size 1008x576 with 1 Axes>"
      ]
     },
     "metadata": {
      "needs_background": "light"
     },
     "output_type": "display_data"
    }
   ],
   "source": [
    "results = pca_results(census_X, pca)\n",
    "results.head(10)"
   ]
  },
  {
   "cell_type": "code",
   "execution_count": 34,
   "metadata": {
    "ExecuteTime": {
     "end_time": "2020-03-16T09:30:16.133776Z",
     "start_time": "2020-03-16T09:30:16.119814Z"
    }
   },
   "outputs": [],
   "source": [
    "n_components = 10"
   ]
  },
  {
   "cell_type": "code",
   "execution_count": 35,
   "metadata": {
    "ExecuteTime": {
     "end_time": "2020-03-16T09:30:16.149733Z",
     "start_time": "2020-03-16T09:30:16.134775Z"
    }
   },
   "outputs": [
    {
     "data": {
      "text/plain": [
       "0.9962"
      ]
     },
     "execution_count": 35,
     "metadata": {},
     "output_type": "execute_result"
    }
   ],
   "source": [
    "explained_variance = results.iloc[n_components, 0]\n",
    "explained_variance"
   ]
  },
  {
   "cell_type": "code",
   "execution_count": 36,
   "metadata": {
    "ExecuteTime": {
     "end_time": "2020-03-16T09:30:18.139440Z",
     "start_time": "2020-03-16T09:30:16.150734Z"
    }
   },
   "outputs": [],
   "source": [
    "pca = PCA(n_components=n_components, random_state=666)\n",
    "census_pca = pca.fit_transform(census_X)"
   ]
  },
  {
   "cell_type": "code",
   "execution_count": 37,
   "metadata": {
    "ExecuteTime": {
     "end_time": "2020-03-16T09:30:18.155371Z",
     "start_time": "2020-03-16T09:30:18.140442Z"
    }
   },
   "outputs": [
    {
     "name": "stdout",
     "output_type": "stream",
     "text": [
      "Weights for PC1\n",
      "Top 5 weights\n",
      "weeks worked in year               0.7746\n",
      "detailed industry recode           0.5181\n",
      "detailed occupation recode         0.3565\n",
      "num persons worked for employer    0.0584\n",
      "veterans benefits                  0.0155\n",
      "Name: 0, dtype: float64\n",
      "\n",
      "\n",
      "Bottom 5 weights\n",
      "marital status_Never married                                               -0.0061\n",
      "detailed household summary in household_Child under 18 never married       -0.0076\n",
      "detailed household and family stat_Child <18 never marr not in subfamily   -0.0076\n",
      "education_Children                                                         -0.0077\n",
      "tax filer stat_Nonfiler                                                    -0.0113\n",
      "Name: 0, dtype: float64\n"
     ]
    }
   ],
   "source": [
    "print_pcs(census_X, pca, comp=1)"
   ]
  },
  {
   "cell_type": "code",
   "execution_count": 38,
   "metadata": {
    "ExecuteTime": {
     "end_time": "2020-03-16T09:30:18.170330Z",
     "start_time": "2020-03-16T09:30:18.157366Z"
    }
   },
   "outputs": [
    {
     "name": "stdout",
     "output_type": "stream",
     "text": [
      "Weights for PC2\n",
      "Top 5 weights\n",
      "detailed occupation recode        0.7042\n",
      "weeks worked in year              0.1413\n",
      "sex                               0.0096\n",
      "education_High school graduate    0.0077\n",
      "wage per hour                     0.0052\n",
      "Name: 1, dtype: float64\n",
      "\n",
      "\n",
      "Bottom 5 weights\n",
      "detailed household and family stat_Spouse of householder   -0.0039\n",
      "capital gains                                              -0.0047\n",
      "num persons worked for employer                            -0.0054\n",
      "education_Bachelors degree(BA AB BS)                       -0.0060\n",
      "detailed industry recode                                   -0.6955\n",
      "Name: 1, dtype: float64\n"
     ]
    }
   ],
   "source": [
    "print_pcs(census_X, pca, comp=2)"
   ]
  },
  {
   "cell_type": "code",
   "execution_count": 39,
   "metadata": {
    "ExecuteTime": {
     "end_time": "2020-03-16T09:30:18.186320Z",
     "start_time": "2020-03-16T09:30:18.171351Z"
    }
   },
   "outputs": [
    {
     "name": "stdout",
     "output_type": "stream",
     "text": [
      "Weights for PC3\n",
      "Top 5 weights\n",
      "detailed occupation recode                                   0.6136\n",
      "detailed industry recode                                     0.4970\n",
      "marital status_Never married                                 0.0055\n",
      "tax filer stat_Nonfiler                                      0.0043\n",
      "detailed household summary in household_Child 18 or older    0.0034\n",
      "Name: 2, dtype: float64\n",
      "\n",
      "\n",
      "Bottom 5 weights\n",
      "marital status_Married-civilian spouse present   -0.0059\n",
      "age                                              -0.0067\n",
      "capital gains                                    -0.0067\n",
      "num persons worked for employer                  -0.0221\n",
      "weeks worked in year                             -0.6129\n",
      "Name: 2, dtype: float64\n"
     ]
    }
   ],
   "source": [
    "print_pcs(census_X, pca, comp=3)"
   ]
  },
  {
   "cell_type": "code",
   "execution_count": 40,
   "metadata": {
    "ExecuteTime": {
     "end_time": "2020-03-16T09:30:18.201249Z",
     "start_time": "2020-03-16T09:30:18.187314Z"
    }
   },
   "outputs": [
    {
     "data": {
      "text/html": [
       "<div>\n",
       "<style scoped>\n",
       "    .dataframe tbody tr th:only-of-type {\n",
       "        vertical-align: middle;\n",
       "    }\n",
       "\n",
       "    .dataframe tbody tr th {\n",
       "        vertical-align: top;\n",
       "    }\n",
       "\n",
       "    .dataframe thead th {\n",
       "        text-align: right;\n",
       "    }\n",
       "</style>\n",
       "<table border=\"1\" class=\"dataframe\">\n",
       "  <thead>\n",
       "    <tr style=\"text-align: right;\">\n",
       "      <th></th>\n",
       "      <th>comp_1</th>\n",
       "      <th>comp_2</th>\n",
       "      <th>comp_3</th>\n",
       "      <th>comp_4</th>\n",
       "      <th>comp_5</th>\n",
       "      <th>comp_6</th>\n",
       "      <th>comp_7</th>\n",
       "      <th>comp_8</th>\n",
       "      <th>comp_9</th>\n",
       "      <th>comp_10</th>\n",
       "    </tr>\n",
       "  </thead>\n",
       "  <tbody>\n",
       "    <tr>\n",
       "      <th>0</th>\n",
       "      <td>-30.047131</td>\n",
       "      <td>-0.549089</td>\n",
       "      <td>-0.323147</td>\n",
       "      <td>0.094969</td>\n",
       "      <td>2.231062</td>\n",
       "      <td>-0.462873</td>\n",
       "      <td>-0.139125</td>\n",
       "      <td>0.006473</td>\n",
       "      <td>-0.140666</td>\n",
       "      <td>-0.626465</td>\n",
       "    </tr>\n",
       "    <tr>\n",
       "      <th>1</th>\n",
       "      <td>24.507579</td>\n",
       "      <td>27.964472</td>\n",
       "      <td>-9.379467</td>\n",
       "      <td>-2.423512</td>\n",
       "      <td>0.749888</td>\n",
       "      <td>-0.076934</td>\n",
       "      <td>-0.010078</td>\n",
       "      <td>-0.303489</td>\n",
       "      <td>-0.036961</td>\n",
       "      <td>-0.881406</td>\n",
       "    </tr>\n",
       "    <tr>\n",
       "      <th>2</th>\n",
       "      <td>-30.070048</td>\n",
       "      <td>-0.546903</td>\n",
       "      <td>-0.289329</td>\n",
       "      <td>-0.060988</td>\n",
       "      <td>0.311240</td>\n",
       "      <td>-0.271709</td>\n",
       "      <td>-0.100106</td>\n",
       "      <td>-0.128212</td>\n",
       "      <td>-0.095432</td>\n",
       "      <td>-0.457406</td>\n",
       "    </tr>\n",
       "    <tr>\n",
       "      <th>3</th>\n",
       "      <td>-30.126841</td>\n",
       "      <td>-0.563604</td>\n",
       "      <td>-0.300821</td>\n",
       "      <td>-0.479269</td>\n",
       "      <td>-1.733652</td>\n",
       "      <td>0.174680</td>\n",
       "      <td>0.020914</td>\n",
       "      <td>0.052019</td>\n",
       "      <td>0.086779</td>\n",
       "      <td>0.237921</td>\n",
       "    </tr>\n",
       "    <tr>\n",
       "      <th>4</th>\n",
       "      <td>-30.126550</td>\n",
       "      <td>-0.563634</td>\n",
       "      <td>-0.301122</td>\n",
       "      <td>-0.476799</td>\n",
       "      <td>-1.704794</td>\n",
       "      <td>0.171387</td>\n",
       "      <td>0.020459</td>\n",
       "      <td>0.052262</td>\n",
       "      <td>0.085250</td>\n",
       "      <td>0.230916</td>\n",
       "    </tr>\n",
       "  </tbody>\n",
       "</table>\n",
       "</div>"
      ],
      "text/plain": [
       "      comp_1     comp_2    comp_3    comp_4    comp_5    comp_6    comp_7  \\\n",
       "0 -30.047131  -0.549089 -0.323147  0.094969  2.231062 -0.462873 -0.139125   \n",
       "1  24.507579  27.964472 -9.379467 -2.423512  0.749888 -0.076934 -0.010078   \n",
       "2 -30.070048  -0.546903 -0.289329 -0.060988  0.311240 -0.271709 -0.100106   \n",
       "3 -30.126841  -0.563604 -0.300821 -0.479269 -1.733652  0.174680  0.020914   \n",
       "4 -30.126550  -0.563634 -0.301122 -0.476799 -1.704794  0.171387  0.020459   \n",
       "\n",
       "     comp_8    comp_9   comp_10  \n",
       "0  0.006473 -0.140666 -0.626465  \n",
       "1 -0.303489 -0.036961 -0.881406  \n",
       "2 -0.128212 -0.095432 -0.457406  \n",
       "3  0.052019  0.086779  0.237921  \n",
       "4  0.052262  0.085250  0.230916  "
      ]
     },
     "execution_count": 40,
     "metadata": {},
     "output_type": "execute_result"
    }
   ],
   "source": [
    "X = pd.DataFrame(census_pca, columns=[f'comp_{c+1}' for c in range(census_pca.shape[1])])\n",
    "X.head()"
   ]
  },
  {
   "cell_type": "code",
   "execution_count": 41,
   "metadata": {
    "ExecuteTime": {
     "end_time": "2020-03-16T09:30:18.217229Z",
     "start_time": "2020-03-16T09:30:18.203244Z"
    }
   },
   "outputs": [
    {
     "data": {
      "text/plain": [
       "0    0\n",
       "1    0\n",
       "2    0\n",
       "3    0\n",
       "4    0\n",
       "Name: income class, dtype: uint8"
      ]
     },
     "execution_count": 41,
     "metadata": {},
     "output_type": "execute_result"
    }
   ],
   "source": [
    "y = census_clean['income class']\n",
    "y.head()"
   ]
  },
  {
   "cell_type": "code",
   "execution_count": 42,
   "metadata": {
    "ExecuteTime": {
     "end_time": "2020-03-16T09:30:18.339908Z",
     "start_time": "2020-03-16T09:30:18.218202Z"
    }
   },
   "outputs": [
    {
     "data": {
      "image/png": "[encoded data removed]",
      "text/plain": [
       "<Figure size 360x360 with 1 Axes>"
      ]
     },
     "metadata": {
      "needs_background": "light"
     },
     "output_type": "display_data"
    }
   ],
   "source": [
    "class_distribution(census_clean[['income class']])"
   ]
  },
  {
   "cell_type": "markdown",
   "metadata": {},
   "source": [
    "## Feature Selection"
   ]
  },
  {
   "cell_type": "code",
   "execution_count": 43,
   "metadata": {
    "ExecuteTime": {
     "end_time": "2020-03-16T09:30:19.406024Z",
     "start_time": "2020-03-16T09:30:18.340903Z"
    }
   },
   "outputs": [],
   "source": [
    "selector = SelectKBest()\n",
    "X_new = selector.fit_transform(census_X, y)"
   ]
  },
  {
   "cell_type": "code",
   "execution_count": 44,
   "metadata": {
    "ExecuteTime": {
     "end_time": "2020-03-16T09:30:19.421981Z",
     "start_time": "2020-03-16T09:30:19.407022Z"
    }
   },
   "outputs": [],
   "source": [
    "# Get columns to keep and create new dataframe with those only\n",
    "cols = selector.get_support(indices=True)\n",
    "features_df_new = census_X.iloc[:,cols]"
   ]
  },
  {
   "cell_type": "code",
   "execution_count": 45,
   "metadata": {
    "ExecuteTime": {
     "end_time": "2020-03-16T09:30:19.436942Z",
     "start_time": "2020-03-16T09:30:19.422979Z"
    },
    "scrolled": true
   },
   "outputs": [
    {
     "name": "stdout",
     "output_type": "stream",
     "text": [
      "<class 'pandas.core.frame.DataFrame'>\n",
      "RangeIndex: 199523 entries, 0 to 199522\n",
      "Data columns (total 10 columns):\n",
      " #   Column                                               Non-Null Count   Dtype  \n",
      "---  ------                                               --------------   -----  \n",
      " 0   detailed industry recode                             199523 non-null  uint8  \n",
      " 1   capital gains                                        199523 non-null  float64\n",
      " 2   num persons worked for employer                      199523 non-null  uint8  \n",
      " 3   weeks worked in year                                 199523 non-null  uint8  \n",
      " 4   education_Masters degree(MA MS MEng MEd MSW MBA)     199523 non-null  uint8  \n",
      " 5   education_Prof school degree (MD DDS DVM LLB JD)     199523 non-null  uint8  \n",
      " 6   tax filer stat_Joint both under 65                   199523 non-null  uint8  \n",
      " 7   tax filer stat_Nonfiler                              199523 non-null  uint8  \n",
      " 8   detailed household and family stat_Householder       199523 non-null  uint8  \n",
      " 9   detailed household summary in household_Householder  199523 non-null  uint8  \n",
      "dtypes: float64(1), uint8(9)\n",
      "memory usage: 3.2 MB\n"
     ]
    }
   ],
   "source": [
    "features_df_new.info()"
   ]
  },
  {
   "cell_type": "markdown",
   "metadata": {},
   "source": [
    "## Baseline Models"
   ]
  },
  {
   "cell_type": "markdown",
   "metadata": {},
   "source": [
    "### PCA"
   ]
  },
  {
   "cell_type": "code",
   "execution_count": 46,
   "metadata": {
    "ExecuteTime": {
     "end_time": "2020-03-16T09:30:19.545683Z",
     "start_time": "2020-03-16T09:30:19.437941Z"
    }
   },
   "outputs": [],
   "source": [
    "X_train, X_val, y_train, y_val = train_test_split(X, y, test_size = 0.3, stratify=y, random_state = 666)"
   ]
  },
  {
   "cell_type": "code",
   "execution_count": 47,
   "metadata": {
    "ExecuteTime": {
     "end_time": "2020-03-16T09:30:21.196236Z",
     "start_time": "2020-03-16T09:30:19.546680Z"
    }
   },
   "outputs": [
    {
     "name": "stdout",
     "output_type": "stream",
     "text": [
      "ROC AUC score for training: 0.7578790715889477\n"
     ]
    }
   ],
   "source": [
    "clf_pca = SGDClassifier(random_state=666, loss='log', penalty='elasticnet', l1_ratio=0.7, class_weight={0:0.01, 1:1})\n",
    "\n",
    "clf_pca.fit(X_train, y_train)\n",
    "y_pred = clf_pca.predict(X_val)\n",
    "\n",
    "print(f'ROC AUC score for training: {roc_auc_score(y_val, y_pred)}')"
   ]
  },
  {
   "cell_type": "markdown",
   "metadata": {},
   "source": [
    "###  KBest"
   ]
  },
  {
   "cell_type": "code",
   "execution_count": 48,
   "metadata": {
    "ExecuteTime": {
     "end_time": "2020-03-16T09:30:21.319905Z",
     "start_time": "2020-03-16T09:30:21.198231Z"
    }
   },
   "outputs": [],
   "source": [
    "X_train, X_val, y_train, y_val = train_test_split(X_new, y, test_size = 0.3, stratify=y, random_state = 666)"
   ]
  },
  {
   "cell_type": "code",
   "execution_count": 49,
   "metadata": {
    "ExecuteTime": {
     "end_time": "2020-03-16T09:30:22.890705Z",
     "start_time": "2020-03-16T09:30:21.320904Z"
    }
   },
   "outputs": [
    {
     "name": "stdout",
     "output_type": "stream",
     "text": [
      "ROC AUC score for training: 0.7578790715889477\n"
     ]
    }
   ],
   "source": [
    "clf_kbest = SGDClassifier(random_state=666, loss='log', penalty='elasticnet', l1_ratio=0.7, class_weight={0:0.01, 1:1})\n",
    "\n",
    "clf_kbest.fit(X_train, y_train)\n",
    "y_pred_new = clf_kbest.predict(X_val)\n",
    "\n",
    "print(f'ROC AUC score for training: {roc_auc_score(y_val, y_pred)}')"
   ]
  },
  {
   "cell_type": "code",
   "execution_count": null,
   "metadata": {},
   "outputs": [],
   "source": []
  }
 ],
 "metadata": {
  "kernelspec": {
   "display_name": "Python 3",
   "language": "python",
   "name": "python3"
  },
  "language_info": {
   "codemirror_mode": {
    "name": "ipython",
    "version": 3
   },
   "file_extension": ".py",
   "mimetype": "text/x-python",
   "name": "python",
   "nbconvert_exporter": "python",
   "pygments_lexer": "ipython3",
   "version": "3.7.6"
  },
  "toc": {
   "base_numbering": 1,
   "nav_menu": {},
   "number_sections": true,
   "sideBar": true,
   "skip_h1_title": false,
   "title_cell": "Table of Contents",
   "title_sidebar": "Contents",
   "toc_cell": false,
   "toc_position": {},
   "toc_section_display": true,
   "toc_window_display": true
  },
  "varInspector": {
   "cols": {
    "lenName": 16,
    "lenType": 16,
    "lenVar": 40
   },
   "kernels_config": {
    "python": {
     "delete_cmd_postfix": "",
     "delete_cmd_prefix": "del ",
     "library": "var_list.py",
     "varRefreshCmd": "print(var_dic_list())"
    },
    "r": {
     "delete_cmd_postfix": ") ",
     "delete_cmd_prefix": "rm(",
     "library": "var_list.r",
     "varRefreshCmd": "cat(var_dic_list()) "
    }
   },
   "types_to_exclude": [
    "module",
    "function",
    "builtin_function_or_method",
    "instance",
    "_Feature"
   ],
   "window_display": false
  }
 },
 "nbformat": 4,
 "nbformat_minor": 4
}
