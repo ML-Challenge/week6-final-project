{
 "cells": [
  {
   "cell_type": "markdown",
   "metadata": {
    "heading_collapsed": true
   },
   "source": [
    "## Import Dependencies"
   ]
  },
  {
   "cell_type": "code",
   "execution_count": 1,
   "metadata": {
    "ExecuteTime": {
     "end_time": "2020-02-28T10:16:15.908255Z",
     "start_time": "2020-02-28T10:16:12.750348Z"
    },
    "hidden": true
   },
   "outputs": [
    {
     "name": "stderr",
     "output_type": "stream",
     "text": [
      "Using TensorFlow backend.\n"
     ]
    }
   ],
   "source": [
    "import pandas as pd\n",
    "import numpy as np\n",
    "import matplotlib.pyplot as plt\n",
    "\n",
    "import missingno as msno\n",
    "\n",
    "from utils import *\n",
    "\n",
    "import xgboost as xgb\n",
    "from xgboost import XGBClassifier\n",
    "\n",
    "#from sklearn.pipeline import Pipeline\n",
    "from imblearn.pipeline import Pipeline\n",
    "from sklearn.model_selection import train_test_split, GridSearchCV, cross_val_score\n",
    "from sklearn.decomposition import PCA\n",
    "from sklearn.metrics import roc_auc_score\n",
    "from sklearn.feature_selection import SelectKBest\n",
    "from sklearn.compose import make_column_transformer\n",
    "from sklearn.preprocessing import OneHotEncoder, PowerTransformer, StandardScaler\n",
    "from sklearn.feature_extraction import FeatureHasher\n",
    "from sklearn.impute import SimpleImputer\n",
    "from sklearn.metrics import classification_report, plot_roc_curve, roc_curve, roc_auc_score, auc\n",
    "from sklearn.linear_model import SGDClassifier\n",
    "from sklearn.ensemble import VotingClassifier\n",
    "\n",
    "from imblearn.over_sampling import SMOTE\n",
    "\n",
    "from imblearn.ensemble import BalancedRandomForestClassifier, RUSBoostClassifier, BalancedBaggingClassifier\n",
    "\n",
    "# Hyperparameters tuning\n",
    "from hyperopt import STATUS_OK, Trials, fmin, hp, tpe\n",
    "\n",
    "# magic word for producing visualizations in notebook\n",
    "%matplotlib inline\n",
    "\n",
    "# and setting the size of all plots.\n",
    "plt.rcParams['figure.figsize'] = [11, 7]"
   ]
  },
  {
   "cell_type": "markdown",
   "metadata": {
    "heading_collapsed": true
   },
   "source": [
    "## Load Dataset"
   ]
  },
  {
   "cell_type": "code",
   "execution_count": 2,
   "metadata": {
    "ExecuteTime": {
     "end_time": "2020-02-28T10:16:21.530575Z",
     "start_time": "2020-02-28T10:16:16.084144Z"
    },
    "hidden": true
   },
   "outputs": [],
   "source": [
    "# The C engine doesn't support RegEx so we set it to Python to avoid the warning\n",
    "census = pd.read_csv('data/census-income.data', header=None, sep=',\\s', na_values=['?'], engine='python')"
   ]
  },
  {
   "cell_type": "code",
   "execution_count": 3,
   "metadata": {
    "ExecuteTime": {
     "end_time": "2020-02-28T10:16:22.419316Z",
     "start_time": "2020-02-28T10:16:22.388401Z"
    },
    "hidden": true
   },
   "outputs": [
    {
     "data": {
      "text/html": [
       "<div>\n",
       "<style scoped>\n",
       "    .dataframe tbody tr th:only-of-type {\n",
       "        vertical-align: middle;\n",
       "    }\n",
       "\n",
       "    .dataframe tbody tr th {\n",
       "        vertical-align: top;\n",
       "    }\n",
       "\n",
       "    .dataframe thead th {\n",
       "        text-align: right;\n",
       "    }\n",
       "</style>\n",
       "<table border=\"1\" class=\"dataframe\">\n",
       "  <thead>\n",
       "    <tr style=\"text-align: right;\">\n",
       "      <th></th>\n",
       "      <th>age</th>\n",
       "      <th>class of worker</th>\n",
       "      <th>detailed industry recode</th>\n",
       "      <th>detailed occupation recode</th>\n",
       "      <th>education</th>\n",
       "      <th>wage per hour</th>\n",
       "      <th>enroll in edu inst last wk</th>\n",
       "      <th>marital status</th>\n",
       "      <th>major industry code</th>\n",
       "      <th>major occupation code</th>\n",
       "      <th>...</th>\n",
       "      <th>country of birth father</th>\n",
       "      <th>country of birth mother</th>\n",
       "      <th>country of birth self</th>\n",
       "      <th>citizenship</th>\n",
       "      <th>own business or self employed</th>\n",
       "      <th>fill inc questionnaire for veteran's admin</th>\n",
       "      <th>veterans benefits</th>\n",
       "      <th>weeks worked in year</th>\n",
       "      <th>year</th>\n",
       "      <th>income class</th>\n",
       "    </tr>\n",
       "  </thead>\n",
       "  <tbody>\n",
       "    <tr>\n",
       "      <th>0</th>\n",
       "      <td>73</td>\n",
       "      <td>Not in universe</td>\n",
       "      <td>0</td>\n",
       "      <td>0</td>\n",
       "      <td>High school graduate</td>\n",
       "      <td>0</td>\n",
       "      <td>Not in universe</td>\n",
       "      <td>Widowed</td>\n",
       "      <td>Not in universe or children</td>\n",
       "      <td>Not in universe</td>\n",
       "      <td>...</td>\n",
       "      <td>United-States</td>\n",
       "      <td>United-States</td>\n",
       "      <td>United-States</td>\n",
       "      <td>Native- Born in the United States</td>\n",
       "      <td>0</td>\n",
       "      <td>Not in universe</td>\n",
       "      <td>2</td>\n",
       "      <td>0</td>\n",
       "      <td>95</td>\n",
       "      <td>- 50000.</td>\n",
       "    </tr>\n",
       "    <tr>\n",
       "      <th>1</th>\n",
       "      <td>58</td>\n",
       "      <td>Self-employed-not incorporated</td>\n",
       "      <td>4</td>\n",
       "      <td>34</td>\n",
       "      <td>Some college but no degree</td>\n",
       "      <td>0</td>\n",
       "      <td>Not in universe</td>\n",
       "      <td>Divorced</td>\n",
       "      <td>Construction</td>\n",
       "      <td>Precision production craft &amp; repair</td>\n",
       "      <td>...</td>\n",
       "      <td>United-States</td>\n",
       "      <td>United-States</td>\n",
       "      <td>United-States</td>\n",
       "      <td>Native- Born in the United States</td>\n",
       "      <td>0</td>\n",
       "      <td>Not in universe</td>\n",
       "      <td>2</td>\n",
       "      <td>52</td>\n",
       "      <td>94</td>\n",
       "      <td>- 50000.</td>\n",
       "    </tr>\n",
       "    <tr>\n",
       "      <th>2</th>\n",
       "      <td>18</td>\n",
       "      <td>Not in universe</td>\n",
       "      <td>0</td>\n",
       "      <td>0</td>\n",
       "      <td>10th grade</td>\n",
       "      <td>0</td>\n",
       "      <td>High school</td>\n",
       "      <td>Never married</td>\n",
       "      <td>Not in universe or children</td>\n",
       "      <td>Not in universe</td>\n",
       "      <td>...</td>\n",
       "      <td>Vietnam</td>\n",
       "      <td>Vietnam</td>\n",
       "      <td>Vietnam</td>\n",
       "      <td>Foreign born- Not a citizen of U S</td>\n",
       "      <td>0</td>\n",
       "      <td>Not in universe</td>\n",
       "      <td>2</td>\n",
       "      <td>0</td>\n",
       "      <td>95</td>\n",
       "      <td>- 50000.</td>\n",
       "    </tr>\n",
       "    <tr>\n",
       "      <th>3</th>\n",
       "      <td>9</td>\n",
       "      <td>Not in universe</td>\n",
       "      <td>0</td>\n",
       "      <td>0</td>\n",
       "      <td>Children</td>\n",
       "      <td>0</td>\n",
       "      <td>Not in universe</td>\n",
       "      <td>Never married</td>\n",
       "      <td>Not in universe or children</td>\n",
       "      <td>Not in universe</td>\n",
       "      <td>...</td>\n",
       "      <td>United-States</td>\n",
       "      <td>United-States</td>\n",
       "      <td>United-States</td>\n",
       "      <td>Native- Born in the United States</td>\n",
       "      <td>0</td>\n",
       "      <td>Not in universe</td>\n",
       "      <td>0</td>\n",
       "      <td>0</td>\n",
       "      <td>94</td>\n",
       "      <td>- 50000.</td>\n",
       "    </tr>\n",
       "    <tr>\n",
       "      <th>4</th>\n",
       "      <td>10</td>\n",
       "      <td>Not in universe</td>\n",
       "      <td>0</td>\n",
       "      <td>0</td>\n",
       "      <td>Children</td>\n",
       "      <td>0</td>\n",
       "      <td>Not in universe</td>\n",
       "      <td>Never married</td>\n",
       "      <td>Not in universe or children</td>\n",
       "      <td>Not in universe</td>\n",
       "      <td>...</td>\n",
       "      <td>United-States</td>\n",
       "      <td>United-States</td>\n",
       "      <td>United-States</td>\n",
       "      <td>Native- Born in the United States</td>\n",
       "      <td>0</td>\n",
       "      <td>Not in universe</td>\n",
       "      <td>0</td>\n",
       "      <td>0</td>\n",
       "      <td>94</td>\n",
       "      <td>- 50000.</td>\n",
       "    </tr>\n",
       "  </tbody>\n",
       "</table>\n",
       "<p>5 rows × 42 columns</p>\n",
       "</div>"
      ],
      "text/plain": [
       "   age                 class of worker  detailed industry recode  \\\n",
       "0   73                 Not in universe                         0   \n",
       "1   58  Self-employed-not incorporated                         4   \n",
       "2   18                 Not in universe                         0   \n",
       "3    9                 Not in universe                         0   \n",
       "4   10                 Not in universe                         0   \n",
       "\n",
       "   detailed occupation recode                   education  wage per hour  \\\n",
       "0                           0        High school graduate              0   \n",
       "1                          34  Some college but no degree              0   \n",
       "2                           0                  10th grade              0   \n",
       "3                           0                    Children              0   \n",
       "4                           0                    Children              0   \n",
       "\n",
       "  enroll in edu inst last wk marital status          major industry code  \\\n",
       "0            Not in universe        Widowed  Not in universe or children   \n",
       "1            Not in universe       Divorced                 Construction   \n",
       "2                High school  Never married  Not in universe or children   \n",
       "3            Not in universe  Never married  Not in universe or children   \n",
       "4            Not in universe  Never married  Not in universe or children   \n",
       "\n",
       "                 major occupation code  ... country of birth father  \\\n",
       "0                      Not in universe  ...           United-States   \n",
       "1  Precision production craft & repair  ...           United-States   \n",
       "2                      Not in universe  ...                 Vietnam   \n",
       "3                      Not in universe  ...           United-States   \n",
       "4                      Not in universe  ...           United-States   \n",
       "\n",
       "  country of birth mother country of birth self  \\\n",
       "0           United-States         United-States   \n",
       "1           United-States         United-States   \n",
       "2                 Vietnam               Vietnam   \n",
       "3           United-States         United-States   \n",
       "4           United-States         United-States   \n",
       "\n",
       "                           citizenship own business or self employed  \\\n",
       "0    Native- Born in the United States                             0   \n",
       "1    Native- Born in the United States                             0   \n",
       "2  Foreign born- Not a citizen of U S                              0   \n",
       "3    Native- Born in the United States                             0   \n",
       "4    Native- Born in the United States                             0   \n",
       "\n",
       "  fill inc questionnaire for veteran's admin  veterans benefits  \\\n",
       "0                            Not in universe                  2   \n",
       "1                            Not in universe                  2   \n",
       "2                            Not in universe                  2   \n",
       "3                            Not in universe                  0   \n",
       "4                            Not in universe                  0   \n",
       "\n",
       "   weeks worked in year  year income class  \n",
       "0                     0    95     - 50000.  \n",
       "1                    52    94     - 50000.  \n",
       "2                     0    95     - 50000.  \n",
       "3                     0    94     - 50000.  \n",
       "4                     0    94     - 50000.  \n",
       "\n",
       "[5 rows x 42 columns]"
      ]
     },
     "execution_count": 3,
     "metadata": {},
     "output_type": "execute_result"
    }
   ],
   "source": [
    "census_columns = [\n",
    "    'age',\n",
    "    'class of worker',\n",
    "    'detailed industry recode',\n",
    "    'detailed occupation recode',\n",
    "    'education',\n",
    "    'wage per hour',\n",
    "    'enroll in edu inst last wk',\n",
    "    'marital status',\n",
    "    'major industry code',\n",
    "    'major occupation code',\n",
    "    'race',\n",
    "    'hispanic origin',\n",
    "    'sex',\n",
    "    'member of a labor union',\n",
    "    'reason for unemployment',\n",
    "    'full or part time employment stat',\n",
    "    'capital gains',\n",
    "    'capital losses',\n",
    "    'dividends from stocks',\n",
    "    'tax filer stat',\n",
    "    'region of previous residence',\n",
    "    'state of previous residence',\n",
    "    'detailed household and family stat',\n",
    "    'detailed household summary in household',\n",
    "    'instance weight',\n",
    "    'migration code-change in msa',\n",
    "    'migration code-change in reg',\n",
    "    'migration code-move within reg',\n",
    "    'live in this house 1 year ago',\n",
    "    'migration prev res in sunbelt',\n",
    "    'num persons worked for employer',\n",
    "    'family members under 18',\n",
    "    'country of birth father',\n",
    "    'country of birth mother',\n",
    "    'country of birth self',\n",
    "    'citizenship',\n",
    "    'own business or self employed',\n",
    "    'fill inc questionnaire for veteran\\'s admin',\n",
    "    'veterans benefits',\n",
    "    'weeks worked in year',\n",
    "    'year',\n",
    "    'income class'\n",
    "]\n",
    "census.columns = census_columns\n",
    "census.head()"
   ]
  },
  {
   "cell_type": "code",
   "execution_count": 4,
   "metadata": {
    "ExecuteTime": {
     "end_time": "2020-02-28T10:16:23.468056Z",
     "start_time": "2020-02-28T10:16:23.281090Z"
    },
    "hidden": true
   },
   "outputs": [
    {
     "name": "stdout",
     "output_type": "stream",
     "text": [
      "<class 'pandas.core.frame.DataFrame'>\n",
      "RangeIndex: 199523 entries, 0 to 199522\n",
      "Data columns (total 42 columns):\n",
      " #   Column                                      Non-Null Count   Dtype  \n",
      "---  ------                                      --------------   -----  \n",
      " 0   age                                         199523 non-null  int64  \n",
      " 1   class of worker                             199523 non-null  object \n",
      " 2   detailed industry recode                    199523 non-null  int64  \n",
      " 3   detailed occupation recode                  199523 non-null  int64  \n",
      " 4   education                                   199523 non-null  object \n",
      " 5   wage per hour                               199523 non-null  int64  \n",
      " 6   enroll in edu inst last wk                  199523 non-null  object \n",
      " 7   marital status                              199523 non-null  object \n",
      " 8   major industry code                         199523 non-null  object \n",
      " 9   major occupation code                       199523 non-null  object \n",
      " 10  race                                        199523 non-null  object \n",
      " 11  hispanic origin                             198649 non-null  object \n",
      " 12  sex                                         199523 non-null  object \n",
      " 13  member of a labor union                     199523 non-null  object \n",
      " 14  reason for unemployment                     199523 non-null  object \n",
      " 15  full or part time employment stat           199523 non-null  object \n",
      " 16  capital gains                               199523 non-null  int64  \n",
      " 17  capital losses                              199523 non-null  int64  \n",
      " 18  dividends from stocks                       199523 non-null  int64  \n",
      " 19  tax filer stat                              199523 non-null  object \n",
      " 20  region of previous residence                199523 non-null  object \n",
      " 21  state of previous residence                 198815 non-null  object \n",
      " 22  detailed household and family stat          199523 non-null  object \n",
      " 23  detailed household summary in household     199523 non-null  object \n",
      " 24  instance weight                             199523 non-null  float64\n",
      " 25  migration code-change in msa                99827 non-null   object \n",
      " 26  migration code-change in reg                99827 non-null   object \n",
      " 27  migration code-move within reg              99827 non-null   object \n",
      " 28  live in this house 1 year ago               199523 non-null  object \n",
      " 29  migration prev res in sunbelt               99827 non-null   object \n",
      " 30  num persons worked for employer             199523 non-null  int64  \n",
      " 31  family members under 18                     199523 non-null  object \n",
      " 32  country of birth father                     192810 non-null  object \n",
      " 33  country of birth mother                     193404 non-null  object \n",
      " 34  country of birth self                       196130 non-null  object \n",
      " 35  citizenship                                 199523 non-null  object \n",
      " 36  own business or self employed               199523 non-null  int64  \n",
      " 37  fill inc questionnaire for veteran's admin  199523 non-null  object \n",
      " 38  veterans benefits                           199523 non-null  int64  \n",
      " 39  weeks worked in year                        199523 non-null  int64  \n",
      " 40  year                                        199523 non-null  int64  \n",
      " 41  income class                                199523 non-null  object \n",
      "dtypes: float64(1), int64(12), object(29)\n",
      "memory usage: 63.9+ MB\n"
     ]
    }
   ],
   "source": [
    "census.info()"
   ]
  },
  {
   "cell_type": "markdown",
   "metadata": {
    "hidden": true
   },
   "source": [
    " ## Clean Dataset"
   ]
  },
  {
   "cell_type": "code",
   "execution_count": 5,
   "metadata": {
    "ExecuteTime": {
     "end_time": "2020-02-28T10:16:30.602938Z",
     "start_time": "2020-02-28T10:16:24.328720Z"
    },
    "hidden": true
   },
   "outputs": [
    {
     "name": "stdout",
     "output_type": "stream",
     "text": [
      "Memory usage of dataframe:  50.234031677246094  MB\n"
     ]
    },
    {
     "data": {
      "application/vnd.jupyter.widget-view+json": {
       "model_id": "582863a1ae65463aaa1cfd93f256d553",
       "version_major": 2,
       "version_minor": 0
      },
      "text/plain": [
       "HBox(children=(FloatProgress(value=0.0, max=33.0), HTML(value='')))"
      ]
     },
     "metadata": {},
     "output_type": "display_data"
    },
    {
     "name": "stdout",
     "output_type": "stream",
     "text": [
      "\n",
      "___MEMORY USAGE AFTER COMPLETION:___\n",
      "Memory usage is: 34.440794944763184 MB\n",
      "This is 68.56% of the initial size\n"
     ]
    },
    {
     "data": {
      "text/html": [
       "<div>\n",
       "<style scoped>\n",
       "    .dataframe tbody tr th:only-of-type {\n",
       "        vertical-align: middle;\n",
       "    }\n",
       "\n",
       "    .dataframe tbody tr th {\n",
       "        vertical-align: top;\n",
       "    }\n",
       "\n",
       "    .dataframe thead th {\n",
       "        text-align: right;\n",
       "    }\n",
       "</style>\n",
       "<table border=\"1\" class=\"dataframe\">\n",
       "  <thead>\n",
       "    <tr style=\"text-align: right;\">\n",
       "      <th></th>\n",
       "      <th>age</th>\n",
       "      <th>class of worker</th>\n",
       "      <th>detailed industry recode</th>\n",
       "      <th>detailed occupation recode</th>\n",
       "      <th>education</th>\n",
       "      <th>wage per hour</th>\n",
       "      <th>marital status</th>\n",
       "      <th>major industry code</th>\n",
       "      <th>major occupation code</th>\n",
       "      <th>race</th>\n",
       "      <th>...</th>\n",
       "      <th>num persons worked for employer</th>\n",
       "      <th>country of birth father</th>\n",
       "      <th>country of birth mother</th>\n",
       "      <th>country of birth self</th>\n",
       "      <th>citizenship</th>\n",
       "      <th>own business or self employed</th>\n",
       "      <th>veterans benefits</th>\n",
       "      <th>weeks worked in year</th>\n",
       "      <th>year</th>\n",
       "      <th>income class</th>\n",
       "    </tr>\n",
       "  </thead>\n",
       "  <tbody>\n",
       "    <tr>\n",
       "      <th>0</th>\n",
       "      <td>73</td>\n",
       "      <td>NaN</td>\n",
       "      <td>0</td>\n",
       "      <td>0</td>\n",
       "      <td>High school graduate</td>\n",
       "      <td>0</td>\n",
       "      <td>Widowed</td>\n",
       "      <td>NaN</td>\n",
       "      <td>NaN</td>\n",
       "      <td>White</td>\n",
       "      <td>...</td>\n",
       "      <td>0</td>\n",
       "      <td>United-States</td>\n",
       "      <td>United-States</td>\n",
       "      <td>United-States</td>\n",
       "      <td>Native- Born in the United States</td>\n",
       "      <td>0</td>\n",
       "      <td>2</td>\n",
       "      <td>0</td>\n",
       "      <td>95</td>\n",
       "      <td>0</td>\n",
       "    </tr>\n",
       "    <tr>\n",
       "      <th>1</th>\n",
       "      <td>58</td>\n",
       "      <td>Self-employed-not incorporated</td>\n",
       "      <td>4</td>\n",
       "      <td>34</td>\n",
       "      <td>Some college but no degree</td>\n",
       "      <td>0</td>\n",
       "      <td>Divorced</td>\n",
       "      <td>Construction</td>\n",
       "      <td>Precision production craft &amp; repair</td>\n",
       "      <td>White</td>\n",
       "      <td>...</td>\n",
       "      <td>1</td>\n",
       "      <td>United-States</td>\n",
       "      <td>United-States</td>\n",
       "      <td>United-States</td>\n",
       "      <td>Native- Born in the United States</td>\n",
       "      <td>0</td>\n",
       "      <td>2</td>\n",
       "      <td>52</td>\n",
       "      <td>94</td>\n",
       "      <td>0</td>\n",
       "    </tr>\n",
       "    <tr>\n",
       "      <th>2</th>\n",
       "      <td>18</td>\n",
       "      <td>NaN</td>\n",
       "      <td>0</td>\n",
       "      <td>0</td>\n",
       "      <td>10th grade</td>\n",
       "      <td>0</td>\n",
       "      <td>Never married</td>\n",
       "      <td>NaN</td>\n",
       "      <td>NaN</td>\n",
       "      <td>Asian or Pacific Islander</td>\n",
       "      <td>...</td>\n",
       "      <td>0</td>\n",
       "      <td>Vietnam</td>\n",
       "      <td>Vietnam</td>\n",
       "      <td>Vietnam</td>\n",
       "      <td>Foreign born- Not a citizen of U S</td>\n",
       "      <td>0</td>\n",
       "      <td>2</td>\n",
       "      <td>0</td>\n",
       "      <td>95</td>\n",
       "      <td>0</td>\n",
       "    </tr>\n",
       "    <tr>\n",
       "      <th>3</th>\n",
       "      <td>9</td>\n",
       "      <td>NaN</td>\n",
       "      <td>0</td>\n",
       "      <td>0</td>\n",
       "      <td>Children</td>\n",
       "      <td>0</td>\n",
       "      <td>Never married</td>\n",
       "      <td>NaN</td>\n",
       "      <td>NaN</td>\n",
       "      <td>White</td>\n",
       "      <td>...</td>\n",
       "      <td>0</td>\n",
       "      <td>United-States</td>\n",
       "      <td>United-States</td>\n",
       "      <td>United-States</td>\n",
       "      <td>Native- Born in the United States</td>\n",
       "      <td>0</td>\n",
       "      <td>0</td>\n",
       "      <td>0</td>\n",
       "      <td>94</td>\n",
       "      <td>0</td>\n",
       "    </tr>\n",
       "    <tr>\n",
       "      <th>4</th>\n",
       "      <td>10</td>\n",
       "      <td>NaN</td>\n",
       "      <td>0</td>\n",
       "      <td>0</td>\n",
       "      <td>Children</td>\n",
       "      <td>0</td>\n",
       "      <td>Never married</td>\n",
       "      <td>NaN</td>\n",
       "      <td>NaN</td>\n",
       "      <td>White</td>\n",
       "      <td>...</td>\n",
       "      <td>0</td>\n",
       "      <td>United-States</td>\n",
       "      <td>United-States</td>\n",
       "      <td>United-States</td>\n",
       "      <td>Native- Born in the United States</td>\n",
       "      <td>0</td>\n",
       "      <td>0</td>\n",
       "      <td>0</td>\n",
       "      <td>94</td>\n",
       "      <td>0</td>\n",
       "    </tr>\n",
       "  </tbody>\n",
       "</table>\n",
       "<p>5 rows × 33 columns</p>\n",
       "</div>"
      ],
      "text/plain": [
       "   age                 class of worker  detailed industry recode  \\\n",
       "0   73                             NaN                         0   \n",
       "1   58  Self-employed-not incorporated                         4   \n",
       "2   18                             NaN                         0   \n",
       "3    9                             NaN                         0   \n",
       "4   10                             NaN                         0   \n",
       "\n",
       "   detailed occupation recode                   education  wage per hour  \\\n",
       "0                           0        High school graduate              0   \n",
       "1                          34  Some college but no degree              0   \n",
       "2                           0                  10th grade              0   \n",
       "3                           0                    Children              0   \n",
       "4                           0                    Children              0   \n",
       "\n",
       "  marital status major industry code                major occupation code  \\\n",
       "0        Widowed                 NaN                                  NaN   \n",
       "1       Divorced        Construction  Precision production craft & repair   \n",
       "2  Never married                 NaN                                  NaN   \n",
       "3  Never married                 NaN                                  NaN   \n",
       "4  Never married                 NaN                                  NaN   \n",
       "\n",
       "                        race  ... num persons worked for employer  \\\n",
       "0                      White  ...                               0   \n",
       "1                      White  ...                               1   \n",
       "2  Asian or Pacific Islander  ...                               0   \n",
       "3                      White  ...                               0   \n",
       "4                      White  ...                               0   \n",
       "\n",
       "  country of birth father country of birth mother  country of birth self  \\\n",
       "0           United-States           United-States          United-States   \n",
       "1           United-States           United-States          United-States   \n",
       "2                 Vietnam                 Vietnam                Vietnam   \n",
       "3           United-States           United-States          United-States   \n",
       "4           United-States           United-States          United-States   \n",
       "\n",
       "                           citizenship  own business or self employed  \\\n",
       "0    Native- Born in the United States                              0   \n",
       "1    Native- Born in the United States                              0   \n",
       "2  Foreign born- Not a citizen of U S                               0   \n",
       "3    Native- Born in the United States                              0   \n",
       "4    Native- Born in the United States                              0   \n",
       "\n",
       "  veterans benefits weeks worked in year year income class  \n",
       "0                 2                    0   95            0  \n",
       "1                 2                   52   94            0  \n",
       "2                 2                    0   95            0  \n",
       "3                 0                    0   94            0  \n",
       "4                 0                    0   94            0  \n",
       "\n",
       "[5 rows x 33 columns]"
      ]
     },
     "execution_count": 5,
     "metadata": {},
     "output_type": "execute_result"
    }
   ],
   "source": [
    "census = clean_dataset(census)\n",
    "census.head()"
   ]
  },
  {
   "cell_type": "code",
   "execution_count": 6,
   "metadata": {
    "ExecuteTime": {
     "end_time": "2020-02-28T10:16:31.468513Z",
     "start_time": "2020-02-28T10:16:31.315890Z"
    },
    "hidden": true
   },
   "outputs": [
    {
     "name": "stdout",
     "output_type": "stream",
     "text": [
      "<class 'pandas.core.frame.DataFrame'>\n",
      "RangeIndex: 199523 entries, 0 to 199522\n",
      "Data columns (total 33 columns):\n",
      " #   Column                                   Non-Null Count   Dtype \n",
      "---  ------                                   --------------   ----- \n",
      " 0   age                                      199523 non-null  uint8 \n",
      " 1   class of worker                          99278 non-null   object\n",
      " 2   detailed industry recode                 199523 non-null  uint8 \n",
      " 3   detailed occupation recode               199523 non-null  uint8 \n",
      " 4   education                                199523 non-null  object\n",
      " 5   wage per hour                            199523 non-null  uint16\n",
      " 6   marital status                           199523 non-null  object\n",
      " 7   major industry code                      98839 non-null   object\n",
      " 8   major occupation code                    98839 non-null   object\n",
      " 9   race                                     199523 non-null  object\n",
      " 10  hispanic origin                          198649 non-null  object\n",
      " 11  sex                                      199523 non-null  object\n",
      " 12  full or part time employment stat        199523 non-null  object\n",
      " 13  capital gains                            199523 non-null  uint32\n",
      " 14  capital losses                           199523 non-null  uint16\n",
      " 15  dividends from stocks                    199523 non-null  uint32\n",
      " 16  tax filer stat                           199523 non-null  object\n",
      " 17  detailed household and family stat       199523 non-null  object\n",
      " 18  detailed household summary in household  199523 non-null  object\n",
      " 19  migration code-change in msa             98311 non-null   object\n",
      " 20  migration code-change in reg             98311 non-null   object\n",
      " 21  migration code-move within reg           98311 non-null   object\n",
      " 22  live in this house 1 year ago            98311 non-null   object\n",
      " 23  num persons worked for employer          199523 non-null  uint8 \n",
      " 24  country of birth father                  192810 non-null  object\n",
      " 25  country of birth mother                  193404 non-null  object\n",
      " 26  country of birth self                    196130 non-null  object\n",
      " 27  citizenship                              199523 non-null  object\n",
      " 28  own business or self employed            199523 non-null  uint8 \n",
      " 29  veterans benefits                        199523 non-null  uint8 \n",
      " 30  weeks worked in year                     199523 non-null  uint8 \n",
      " 31  year                                     199523 non-null  uint8 \n",
      " 32  income class                             199523 non-null  uint8 \n",
      "dtypes: object(20), uint16(2), uint32(2), uint8(9)\n",
      "memory usage: 34.4+ MB\n"
     ]
    }
   ],
   "source": [
    "census.info()"
   ]
  },
  {
   "cell_type": "markdown",
   "metadata": {
    "heading_collapsed": true
   },
   "source": [
    "## Split train and validation sets"
   ]
  },
  {
   "cell_type": "code",
   "execution_count": 7,
   "metadata": {
    "ExecuteTime": {
     "end_time": "2020-02-28T10:16:32.200206Z",
     "start_time": "2020-02-28T10:16:32.155037Z"
    },
    "hidden": true
   },
   "outputs": [],
   "source": [
    "X = census.drop('income class', axis=1)\n",
    "y = census['income class']"
   ]
  },
  {
   "cell_type": "code",
   "execution_count": 8,
   "metadata": {
    "ExecuteTime": {
     "end_time": "2020-02-28T10:16:33.428762Z",
     "start_time": "2020-02-28T10:16:33.414802Z"
    },
    "hidden": true
   },
   "outputs": [
    {
     "data": {
      "text/plain": [
       "0.06205800834991455"
      ]
     },
     "execution_count": 8,
     "metadata": {},
     "output_type": "execute_result"
    }
   ],
   "source": [
    "y.mean()"
   ]
  },
  {
   "cell_type": "code",
   "execution_count": 9,
   "metadata": {
    "ExecuteTime": {
     "end_time": "2020-02-28T10:16:34.765323Z",
     "start_time": "2020-02-28T10:16:34.638527Z"
    },
    "hidden": true
   },
   "outputs": [
    {
     "data": {
      "image/png": "[encoded data removed]",
      "text/plain": [
       "<Figure size 360x360 with 1 Axes>"
      ]
     },
     "metadata": {
      "needs_background": "light"
     },
     "output_type": "display_data"
    }
   ],
   "source": [
    "class_distribution(census[['income class']])"
   ]
  },
  {
   "cell_type": "code",
   "execution_count": 10,
   "metadata": {
    "ExecuteTime": {
     "end_time": "2020-02-28T10:16:36.054406Z",
     "start_time": "2020-02-28T10:16:35.977596Z"
    },
    "hidden": true
   },
   "outputs": [],
   "source": [
    "X_train, X_val, y_train, y_val = train_test_split(X, y, test_size=0.3, random_state=666)"
   ]
  },
  {
   "cell_type": "markdown",
   "metadata": {},
   "source": [
    "## Bayesian Hyperparameter Tuning with Hyperopt"
   ]
  },
  {
   "cell_type": "markdown",
   "metadata": {},
   "source": [
    "### Simple Pipeline"
   ]
  },
  {
   "cell_type": "code",
   "execution_count": 35,
   "metadata": {
    "ExecuteTime": {
     "end_time": "2020-02-28T10:53:16.616104Z",
     "start_time": "2020-02-28T10:53:16.607161Z"
    }
   },
   "outputs": [],
   "source": [
    "preprocessor = make_column_transformer(\n",
    "    (Pipeline([\n",
    "        ('num', SimpleImputer()),\n",
    "        ('sc', StandardScaler()),\n",
    "    ]), numerical_features),\n",
    "    (Pipeline([\n",
    "        ('num', SimpleImputer(strategy='constant', fill_value='Unknown')),\n",
    "        ( 'enc', OneHotEncoder(categories='auto', sparse = False, handle_unknown='ignore' ))\n",
    "    ]), categorical_features),\n",
    "    remainder='drop'\n",
    ")\n",
    "\n",
    "pipeline = Pipeline([\n",
    "    ('pre', preprocessor)\n",
    "])"
   ]
  },
  {
   "cell_type": "code",
   "execution_count": 37,
   "metadata": {
    "ExecuteTime": {
     "end_time": "2020-02-28T10:53:35.997267Z",
     "start_time": "2020-02-28T10:53:34.161849Z"
    }
   },
   "outputs": [],
   "source": [
    "X_tr = pipeline.fit_transform(X)"
   ]
  },
  {
   "cell_type": "code",
   "execution_count": 38,
   "metadata": {
    "ExecuteTime": {
     "end_time": "2020-02-28T10:53:55.428280Z",
     "start_time": "2020-02-28T10:53:55.420307Z"
    }
   },
   "outputs": [],
   "source": [
    "# Scoring and optimization functions\n",
    "def objective_rus(params):\n",
    "    print(\"Training with params: \")\n",
    "    print(params)\n",
    "    \n",
    "    model = RUSBoostClassifier(n_estimators=int(params['n_estimators']), \n",
    "                               learning_rate=params['learning_rate'], \n",
    "                               random_state=666)\n",
    "   \n",
    "    # The score function should return the loss (1-score)\n",
    "    # since the optimize function looks for the minimum\n",
    "    best_score = cross_val_score(model, X_tr, y, scoring='roc_auc', cv=2, n_jobs=5).mean()\n",
    "    loss = 1 - best_score\n",
    "    \n",
    "    return {'loss': loss, 'status': STATUS_OK}"
   ]
  },
  {
   "cell_type": "code",
   "execution_count": 39,
   "metadata": {
    "ExecuteTime": {
     "end_time": "2020-02-28T12:17:53.522871Z",
     "start_time": "2020-02-28T10:53:58.794464Z"
    },
    "scrolled": true
   },
   "outputs": [
    {
     "name": "stdout",
     "output_type": "stream",
     "text": [
      "Training with params:                                                                    \n",
      "{'learning_rate': 0.7250000000000001, 'n_estimators': 577.0}                             \n",
      "Training with params:                                                                    \n",
      "{'learning_rate': 0.225, 'n_estimators': 614.0}                                          \n",
      "Training with params:                                                                    \n",
      "{'learning_rate': 0.15000000000000002, 'n_estimators': 886.0}                            \n",
      "Training with params:                                                                    \n",
      "{'learning_rate': 0.4, 'n_estimators': 80.0}                                             \n",
      "Training with params:                                                                    \n",
      "{'learning_rate': 0.05, 'n_estimators': 56.0}                                            \n",
      "Training with params:                                                                    \n",
      "{'learning_rate': 0.675, 'n_estimators': 779.0}                                          \n",
      "Training with params:                                                                    \n",
      "{'learning_rate': 0.875, 'n_estimators': 843.0}                                          \n",
      "Training with params:                                                                    \n",
      "{'learning_rate': 1.0, 'n_estimators': 663.0}                                            \n",
      "Training with params:                                                                    \n",
      "{'learning_rate': 0.7250000000000001, 'n_estimators': 536.0}                             \n",
      "Training with params:                                                                    \n",
      "{'learning_rate': 0.7250000000000001, 'n_estimators': 374.0}                             \n",
      "Training with params:                                                                    \n",
      "{'learning_rate': 0.625, 'n_estimators': 734.0}                                          \n",
      "Training with params:                                                                    \n",
      "{'learning_rate': 0.25, 'n_estimators': 104.0}                                           \n",
      "Training with params:                                                                    \n",
      "{'learning_rate': 0.025, 'n_estimators': 157.0}                                          \n",
      "Training with params:                                                                    \n",
      "{'learning_rate': 0.47500000000000003, 'n_estimators': 880.0}                            \n",
      "Training with params:                                                                    \n",
      "{'learning_rate': 0.125, 'n_estimators': 204.0}                                          \n",
      "Training with params:                                                                    \n",
      "{'learning_rate': 0.125, 'n_estimators': 685.0}                                          \n",
      "Training with params:                                                                    \n",
      "{'learning_rate': 0.9500000000000001, 'n_estimators': 633.0}                             \n",
      "Training with params:                                                                    \n",
      "{'learning_rate': 0.125, 'n_estimators': 135.0}                                          \n",
      "Training with params:                                                                    \n",
      "{'learning_rate': 0.4, 'n_estimators': 330.0}                                            \n",
      "Training with params:                                                                    \n",
      "{'learning_rate': 0.35000000000000003, 'n_estimators': 339.0}                            \n",
      "100%|████████████████| 20/20 [1:23:54<00:00, 251.74s/it, best loss: 0.052684710709538285]\n"
     ]
    },
    {
     "data": {
      "text/plain": [
       "{'eta': 0.15000000000000002, 'n_estimators': 886.0}"
      ]
     },
     "execution_count": 39,
     "metadata": {},
     "output_type": "execute_result"
    }
   ],
   "source": [
    "# Set up space dictionary with specified hyperparameters\n",
    "space = {\n",
    "    'n_estimators': hp.quniform('n_estimators', 50, 1000, 1),\n",
    "    'learning_rate': hp.quniform('eta', 0.025, 1, 0.025),\n",
    "}\n",
    "\n",
    "# Run the algorithm\n",
    "best = fmin(fn=objective_rus,space=space, max_evals=20, rstate=np.random.RandomState(666), algo=tpe.suggest)\n",
    "best"
   ]
  },
  {
   "cell_type": "code",
   "execution_count": 41,
   "metadata": {
    "ExecuteTime": {
     "end_time": "2020-02-28T12:27:45.903160Z",
     "start_time": "2020-02-28T12:27:45.895183Z"
    }
   },
   "outputs": [],
   "source": [
    "preprocessor = make_column_transformer(\n",
    "    (Pipeline([\n",
    "        ('num', SimpleImputer()),\n",
    "        ('sc', StandardScaler()),\n",
    "    ]), numerical_features),\n",
    "    (Pipeline([\n",
    "        ('num', SimpleImputer(strategy='constant', fill_value='Unknown')),\n",
    "        ( 'enc', OneHotEncoder(categories='auto', sparse = False, handle_unknown='ignore' ))\n",
    "    ]), categorical_features),\n",
    "    remainder='drop'\n",
    ")\n",
    "\n",
    "model = Pipeline([\n",
    "    ('pre', preprocessor),\n",
    "    ('clf', RUSBoostClassifier(n_estimators=886, learning_rate=0.15, random_state=666))\n",
    "])"
   ]
  },
  {
   "cell_type": "code",
   "execution_count": 42,
   "metadata": {
    "ExecuteTime": {
     "end_time": "2020-02-28T12:34:10.791708Z",
     "start_time": "2020-02-28T12:27:59.800256Z"
    }
   },
   "outputs": [
    {
     "name": "stdout",
     "output_type": "stream",
     "text": [
      "              precision    recall  f1-score   support\n",
      "\n",
      "           0       0.99      0.86      0.92     56129\n",
      "           1       0.29      0.89      0.44      3728\n",
      "\n",
      "    accuracy                           0.86     59857\n",
      "   macro avg       0.64      0.87      0.68     59857\n",
      "weighted avg       0.95      0.86      0.89     59857\n",
      "\n",
      "AUC: 0.8741214577975919\n"
     ]
    }
   ],
   "source": [
    "model.fit(X_train, y_train);\n",
    "y_pred = model.predict(X_val)\n",
    "\n",
    "print(classification_report(y_val, y_pred))\n",
    "fpr, tpr, thresholds = roc_curve(y_val, y_pred)\n",
    "\n",
    "print(\"AUC: %s\" % auc(fpr, tpr))"
   ]
  },
  {
   "cell_type": "markdown",
   "metadata": {
    "heading_collapsed": true
   },
   "source": [
    "## Test"
   ]
  },
  {
   "cell_type": "code",
   "execution_count": 43,
   "metadata": {
    "ExecuteTime": {
     "end_time": "2020-02-28T12:35:22.357032Z",
     "start_time": "2020-02-28T12:35:19.279176Z"
    },
    "hidden": true
   },
   "outputs": [],
   "source": [
    "# The C engine doesn't support RegEx so we set it to Python to avoid the warning\n",
    "census_test = pd.read_csv('data/census-income.test', header=None, sep=',\\s', na_values=['?'], engine='python')"
   ]
  },
  {
   "cell_type": "code",
   "execution_count": 44,
   "metadata": {
    "ExecuteTime": {
     "end_time": "2020-02-28T12:35:25.195282Z",
     "start_time": "2020-02-28T12:35:25.166361Z"
    },
    "hidden": true
   },
   "outputs": [
    {
     "data": {
      "text/html": [
       "<div>\n",
       "<style scoped>\n",
       "    .dataframe tbody tr th:only-of-type {\n",
       "        vertical-align: middle;\n",
       "    }\n",
       "\n",
       "    .dataframe tbody tr th {\n",
       "        vertical-align: top;\n",
       "    }\n",
       "\n",
       "    .dataframe thead th {\n",
       "        text-align: right;\n",
       "    }\n",
       "</style>\n",
       "<table border=\"1\" class=\"dataframe\">\n",
       "  <thead>\n",
       "    <tr style=\"text-align: right;\">\n",
       "      <th></th>\n",
       "      <th>age</th>\n",
       "      <th>class of worker</th>\n",
       "      <th>detailed industry recode</th>\n",
       "      <th>detailed occupation recode</th>\n",
       "      <th>education</th>\n",
       "      <th>wage per hour</th>\n",
       "      <th>enroll in edu inst last wk</th>\n",
       "      <th>marital status</th>\n",
       "      <th>major industry code</th>\n",
       "      <th>major occupation code</th>\n",
       "      <th>...</th>\n",
       "      <th>country of birth father</th>\n",
       "      <th>country of birth mother</th>\n",
       "      <th>country of birth self</th>\n",
       "      <th>citizenship</th>\n",
       "      <th>own business or self employed</th>\n",
       "      <th>fill inc questionnaire for veteran's admin</th>\n",
       "      <th>veterans benefits</th>\n",
       "      <th>weeks worked in year</th>\n",
       "      <th>year</th>\n",
       "      <th>income class</th>\n",
       "    </tr>\n",
       "  </thead>\n",
       "  <tbody>\n",
       "    <tr>\n",
       "      <th>0</th>\n",
       "      <td>38</td>\n",
       "      <td>Private</td>\n",
       "      <td>6</td>\n",
       "      <td>36</td>\n",
       "      <td>1st 2nd 3rd or 4th grade</td>\n",
       "      <td>0</td>\n",
       "      <td>Not in universe</td>\n",
       "      <td>Married-civilian spouse present</td>\n",
       "      <td>Manufacturing-durable goods</td>\n",
       "      <td>Machine operators assmblrs &amp; inspctrs</td>\n",
       "      <td>...</td>\n",
       "      <td>Mexico</td>\n",
       "      <td>Mexico</td>\n",
       "      <td>Mexico</td>\n",
       "      <td>Foreign born- Not a citizen of U S</td>\n",
       "      <td>0</td>\n",
       "      <td>Not in universe</td>\n",
       "      <td>2</td>\n",
       "      <td>12</td>\n",
       "      <td>95</td>\n",
       "      <td>- 50000.</td>\n",
       "    </tr>\n",
       "    <tr>\n",
       "      <th>1</th>\n",
       "      <td>44</td>\n",
       "      <td>Self-employed-not incorporated</td>\n",
       "      <td>37</td>\n",
       "      <td>12</td>\n",
       "      <td>Associates degree-occup /vocational</td>\n",
       "      <td>0</td>\n",
       "      <td>Not in universe</td>\n",
       "      <td>Married-civilian spouse present</td>\n",
       "      <td>Business and repair services</td>\n",
       "      <td>Professional specialty</td>\n",
       "      <td>...</td>\n",
       "      <td>United-States</td>\n",
       "      <td>United-States</td>\n",
       "      <td>United-States</td>\n",
       "      <td>Native- Born in the United States</td>\n",
       "      <td>0</td>\n",
       "      <td>Not in universe</td>\n",
       "      <td>2</td>\n",
       "      <td>26</td>\n",
       "      <td>95</td>\n",
       "      <td>- 50000.</td>\n",
       "    </tr>\n",
       "    <tr>\n",
       "      <th>2</th>\n",
       "      <td>2</td>\n",
       "      <td>Not in universe</td>\n",
       "      <td>0</td>\n",
       "      <td>0</td>\n",
       "      <td>Children</td>\n",
       "      <td>0</td>\n",
       "      <td>Not in universe</td>\n",
       "      <td>Never married</td>\n",
       "      <td>Not in universe or children</td>\n",
       "      <td>Not in universe</td>\n",
       "      <td>...</td>\n",
       "      <td>United-States</td>\n",
       "      <td>United-States</td>\n",
       "      <td>United-States</td>\n",
       "      <td>Native- Born in the United States</td>\n",
       "      <td>0</td>\n",
       "      <td>Not in universe</td>\n",
       "      <td>0</td>\n",
       "      <td>0</td>\n",
       "      <td>95</td>\n",
       "      <td>- 50000.</td>\n",
       "    </tr>\n",
       "    <tr>\n",
       "      <th>3</th>\n",
       "      <td>35</td>\n",
       "      <td>Private</td>\n",
       "      <td>29</td>\n",
       "      <td>3</td>\n",
       "      <td>High school graduate</td>\n",
       "      <td>0</td>\n",
       "      <td>Not in universe</td>\n",
       "      <td>Divorced</td>\n",
       "      <td>Transportation</td>\n",
       "      <td>Executive admin and managerial</td>\n",
       "      <td>...</td>\n",
       "      <td>United-States</td>\n",
       "      <td>United-States</td>\n",
       "      <td>United-States</td>\n",
       "      <td>Native- Born in the United States</td>\n",
       "      <td>2</td>\n",
       "      <td>Not in universe</td>\n",
       "      <td>2</td>\n",
       "      <td>52</td>\n",
       "      <td>94</td>\n",
       "      <td>- 50000.</td>\n",
       "    </tr>\n",
       "    <tr>\n",
       "      <th>4</th>\n",
       "      <td>49</td>\n",
       "      <td>Private</td>\n",
       "      <td>4</td>\n",
       "      <td>34</td>\n",
       "      <td>High school graduate</td>\n",
       "      <td>0</td>\n",
       "      <td>Not in universe</td>\n",
       "      <td>Divorced</td>\n",
       "      <td>Construction</td>\n",
       "      <td>Precision production craft &amp; repair</td>\n",
       "      <td>...</td>\n",
       "      <td>United-States</td>\n",
       "      <td>United-States</td>\n",
       "      <td>United-States</td>\n",
       "      <td>Native- Born in the United States</td>\n",
       "      <td>0</td>\n",
       "      <td>Not in universe</td>\n",
       "      <td>2</td>\n",
       "      <td>50</td>\n",
       "      <td>95</td>\n",
       "      <td>- 50000.</td>\n",
       "    </tr>\n",
       "  </tbody>\n",
       "</table>\n",
       "<p>5 rows × 42 columns</p>\n",
       "</div>"
      ],
      "text/plain": [
       "   age                 class of worker  detailed industry recode  \\\n",
       "0   38                         Private                         6   \n",
       "1   44  Self-employed-not incorporated                        37   \n",
       "2    2                 Not in universe                         0   \n",
       "3   35                         Private                        29   \n",
       "4   49                         Private                         4   \n",
       "\n",
       "   detailed occupation recode                            education  \\\n",
       "0                          36             1st 2nd 3rd or 4th grade   \n",
       "1                          12  Associates degree-occup /vocational   \n",
       "2                           0                             Children   \n",
       "3                           3                 High school graduate   \n",
       "4                          34                 High school graduate   \n",
       "\n",
       "   wage per hour enroll in edu inst last wk                   marital status  \\\n",
       "0              0            Not in universe  Married-civilian spouse present   \n",
       "1              0            Not in universe  Married-civilian spouse present   \n",
       "2              0            Not in universe                    Never married   \n",
       "3              0            Not in universe                         Divorced   \n",
       "4              0            Not in universe                         Divorced   \n",
       "\n",
       "            major industry code                  major occupation code  ...  \\\n",
       "0   Manufacturing-durable goods  Machine operators assmblrs & inspctrs  ...   \n",
       "1  Business and repair services                 Professional specialty  ...   \n",
       "2   Not in universe or children                        Not in universe  ...   \n",
       "3                Transportation         Executive admin and managerial  ...   \n",
       "4                  Construction    Precision production craft & repair  ...   \n",
       "\n",
       "  country of birth father country of birth mother country of birth self  \\\n",
       "0                  Mexico                  Mexico                Mexico   \n",
       "1           United-States           United-States         United-States   \n",
       "2           United-States           United-States         United-States   \n",
       "3           United-States           United-States         United-States   \n",
       "4           United-States           United-States         United-States   \n",
       "\n",
       "                           citizenship own business or self employed  \\\n",
       "0  Foreign born- Not a citizen of U S                              0   \n",
       "1    Native- Born in the United States                             0   \n",
       "2    Native- Born in the United States                             0   \n",
       "3    Native- Born in the United States                             2   \n",
       "4    Native- Born in the United States                             0   \n",
       "\n",
       "  fill inc questionnaire for veteran's admin  veterans benefits  \\\n",
       "0                            Not in universe                  2   \n",
       "1                            Not in universe                  2   \n",
       "2                            Not in universe                  0   \n",
       "3                            Not in universe                  2   \n",
       "4                            Not in universe                  2   \n",
       "\n",
       "   weeks worked in year  year income class  \n",
       "0                    12    95     - 50000.  \n",
       "1                    26    95     - 50000.  \n",
       "2                     0    95     - 50000.  \n",
       "3                    52    94     - 50000.  \n",
       "4                    50    95     - 50000.  \n",
       "\n",
       "[5 rows x 42 columns]"
      ]
     },
     "execution_count": 44,
     "metadata": {},
     "output_type": "execute_result"
    }
   ],
   "source": [
    "census_test.columns = census_columns\n",
    "census_test.head()"
   ]
  },
  {
   "cell_type": "code",
   "execution_count": 45,
   "metadata": {
    "ExecuteTime": {
     "end_time": "2020-02-28T12:35:31.091825Z",
     "start_time": "2020-02-28T12:35:27.967550Z"
    },
    "hidden": true
   },
   "outputs": [
    {
     "name": "stdout",
     "output_type": "stream",
     "text": [
      "Memory usage of dataframe:  25.117202758789062  MB\n"
     ]
    },
    {
     "data": {
      "application/vnd.jupyter.widget-view+json": {
       "model_id": "368fc6781943401dbd0b74bc2abecc51",
       "version_major": 2,
       "version_minor": 0
      },
      "text/plain": [
       "HBox(children=(FloatProgress(value=0.0, max=33.0), HTML(value='')))"
      ]
     },
     "metadata": {},
     "output_type": "display_data"
    },
    {
     "name": "stdout",
     "output_type": "stream",
     "text": [
      "\n",
      "___MEMORY USAGE AFTER COMPLETION:___\n",
      "Memory usage is: 17.220544815063477 MB\n",
      "This is 68.56% of the initial size\n"
     ]
    },
    {
     "data": {
      "text/html": [
       "<div>\n",
       "<style scoped>\n",
       "    .dataframe tbody tr th:only-of-type {\n",
       "        vertical-align: middle;\n",
       "    }\n",
       "\n",
       "    .dataframe tbody tr th {\n",
       "        vertical-align: top;\n",
       "    }\n",
       "\n",
       "    .dataframe thead th {\n",
       "        text-align: right;\n",
       "    }\n",
       "</style>\n",
       "<table border=\"1\" class=\"dataframe\">\n",
       "  <thead>\n",
       "    <tr style=\"text-align: right;\">\n",
       "      <th></th>\n",
       "      <th>age</th>\n",
       "      <th>class of worker</th>\n",
       "      <th>detailed industry recode</th>\n",
       "      <th>detailed occupation recode</th>\n",
       "      <th>education</th>\n",
       "      <th>wage per hour</th>\n",
       "      <th>marital status</th>\n",
       "      <th>major industry code</th>\n",
       "      <th>major occupation code</th>\n",
       "      <th>race</th>\n",
       "      <th>...</th>\n",
       "      <th>num persons worked for employer</th>\n",
       "      <th>country of birth father</th>\n",
       "      <th>country of birth mother</th>\n",
       "      <th>country of birth self</th>\n",
       "      <th>citizenship</th>\n",
       "      <th>own business or self employed</th>\n",
       "      <th>veterans benefits</th>\n",
       "      <th>weeks worked in year</th>\n",
       "      <th>year</th>\n",
       "      <th>income class</th>\n",
       "    </tr>\n",
       "  </thead>\n",
       "  <tbody>\n",
       "    <tr>\n",
       "      <th>0</th>\n",
       "      <td>38</td>\n",
       "      <td>Private</td>\n",
       "      <td>6</td>\n",
       "      <td>36</td>\n",
       "      <td>1st 2nd 3rd or 4th grade</td>\n",
       "      <td>0</td>\n",
       "      <td>Married-civilian spouse present</td>\n",
       "      <td>Manufacturing-durable goods</td>\n",
       "      <td>Machine operators assmblrs &amp; inspctrs</td>\n",
       "      <td>White</td>\n",
       "      <td>...</td>\n",
       "      <td>4</td>\n",
       "      <td>Mexico</td>\n",
       "      <td>Mexico</td>\n",
       "      <td>Mexico</td>\n",
       "      <td>Foreign born- Not a citizen of U S</td>\n",
       "      <td>0</td>\n",
       "      <td>2</td>\n",
       "      <td>12</td>\n",
       "      <td>95</td>\n",
       "      <td>0</td>\n",
       "    </tr>\n",
       "    <tr>\n",
       "      <th>1</th>\n",
       "      <td>44</td>\n",
       "      <td>Self-employed-not incorporated</td>\n",
       "      <td>37</td>\n",
       "      <td>12</td>\n",
       "      <td>Associates degree-occup /vocational</td>\n",
       "      <td>0</td>\n",
       "      <td>Married-civilian spouse present</td>\n",
       "      <td>Business and repair services</td>\n",
       "      <td>Professional specialty</td>\n",
       "      <td>White</td>\n",
       "      <td>...</td>\n",
       "      <td>1</td>\n",
       "      <td>United-States</td>\n",
       "      <td>United-States</td>\n",
       "      <td>United-States</td>\n",
       "      <td>Native- Born in the United States</td>\n",
       "      <td>0</td>\n",
       "      <td>2</td>\n",
       "      <td>26</td>\n",
       "      <td>95</td>\n",
       "      <td>0</td>\n",
       "    </tr>\n",
       "    <tr>\n",
       "      <th>2</th>\n",
       "      <td>2</td>\n",
       "      <td>NaN</td>\n",
       "      <td>0</td>\n",
       "      <td>0</td>\n",
       "      <td>Children</td>\n",
       "      <td>0</td>\n",
       "      <td>Never married</td>\n",
       "      <td>NaN</td>\n",
       "      <td>NaN</td>\n",
       "      <td>White</td>\n",
       "      <td>...</td>\n",
       "      <td>0</td>\n",
       "      <td>United-States</td>\n",
       "      <td>United-States</td>\n",
       "      <td>United-States</td>\n",
       "      <td>Native- Born in the United States</td>\n",
       "      <td>0</td>\n",
       "      <td>0</td>\n",
       "      <td>0</td>\n",
       "      <td>95</td>\n",
       "      <td>0</td>\n",
       "    </tr>\n",
       "    <tr>\n",
       "      <th>3</th>\n",
       "      <td>35</td>\n",
       "      <td>Private</td>\n",
       "      <td>29</td>\n",
       "      <td>3</td>\n",
       "      <td>High school graduate</td>\n",
       "      <td>0</td>\n",
       "      <td>Divorced</td>\n",
       "      <td>Transportation</td>\n",
       "      <td>Executive admin and managerial</td>\n",
       "      <td>White</td>\n",
       "      <td>...</td>\n",
       "      <td>5</td>\n",
       "      <td>United-States</td>\n",
       "      <td>United-States</td>\n",
       "      <td>United-States</td>\n",
       "      <td>Native- Born in the United States</td>\n",
       "      <td>2</td>\n",
       "      <td>2</td>\n",
       "      <td>52</td>\n",
       "      <td>94</td>\n",
       "      <td>0</td>\n",
       "    </tr>\n",
       "    <tr>\n",
       "      <th>4</th>\n",
       "      <td>49</td>\n",
       "      <td>Private</td>\n",
       "      <td>4</td>\n",
       "      <td>34</td>\n",
       "      <td>High school graduate</td>\n",
       "      <td>0</td>\n",
       "      <td>Divorced</td>\n",
       "      <td>Construction</td>\n",
       "      <td>Precision production craft &amp; repair</td>\n",
       "      <td>White</td>\n",
       "      <td>...</td>\n",
       "      <td>4</td>\n",
       "      <td>United-States</td>\n",
       "      <td>United-States</td>\n",
       "      <td>United-States</td>\n",
       "      <td>Native- Born in the United States</td>\n",
       "      <td>0</td>\n",
       "      <td>2</td>\n",
       "      <td>50</td>\n",
       "      <td>95</td>\n",
       "      <td>0</td>\n",
       "    </tr>\n",
       "  </tbody>\n",
       "</table>\n",
       "<p>5 rows × 33 columns</p>\n",
       "</div>"
      ],
      "text/plain": [
       "   age                 class of worker  detailed industry recode  \\\n",
       "0   38                         Private                         6   \n",
       "1   44  Self-employed-not incorporated                        37   \n",
       "2    2                             NaN                         0   \n",
       "3   35                         Private                        29   \n",
       "4   49                         Private                         4   \n",
       "\n",
       "   detailed occupation recode                            education  \\\n",
       "0                          36             1st 2nd 3rd or 4th grade   \n",
       "1                          12  Associates degree-occup /vocational   \n",
       "2                           0                             Children   \n",
       "3                           3                 High school graduate   \n",
       "4                          34                 High school graduate   \n",
       "\n",
       "   wage per hour                   marital status  \\\n",
       "0              0  Married-civilian spouse present   \n",
       "1              0  Married-civilian spouse present   \n",
       "2              0                    Never married   \n",
       "3              0                         Divorced   \n",
       "4              0                         Divorced   \n",
       "\n",
       "            major industry code                  major occupation code   race  \\\n",
       "0   Manufacturing-durable goods  Machine operators assmblrs & inspctrs  White   \n",
       "1  Business and repair services                 Professional specialty  White   \n",
       "2                           NaN                                    NaN  White   \n",
       "3                Transportation         Executive admin and managerial  White   \n",
       "4                  Construction    Precision production craft & repair  White   \n",
       "\n",
       "   ... num persons worked for employer country of birth father  \\\n",
       "0  ...                               4                  Mexico   \n",
       "1  ...                               1           United-States   \n",
       "2  ...                               0           United-States   \n",
       "3  ...                               5           United-States   \n",
       "4  ...                               4           United-States   \n",
       "\n",
       "  country of birth mother  country of birth self  \\\n",
       "0                  Mexico                 Mexico   \n",
       "1           United-States          United-States   \n",
       "2           United-States          United-States   \n",
       "3           United-States          United-States   \n",
       "4           United-States          United-States   \n",
       "\n",
       "                           citizenship  own business or self employed  \\\n",
       "0  Foreign born- Not a citizen of U S                               0   \n",
       "1    Native- Born in the United States                              0   \n",
       "2    Native- Born in the United States                              0   \n",
       "3    Native- Born in the United States                              2   \n",
       "4    Native- Born in the United States                              0   \n",
       "\n",
       "  veterans benefits weeks worked in year year income class  \n",
       "0                 2                   12   95            0  \n",
       "1                 2                   26   95            0  \n",
       "2                 0                    0   95            0  \n",
       "3                 2                   52   94            0  \n",
       "4                 2                   50   95            0  \n",
       "\n",
       "[5 rows x 33 columns]"
      ]
     },
     "execution_count": 45,
     "metadata": {},
     "output_type": "execute_result"
    }
   ],
   "source": [
    "census_test = clean_dataset(census_test)\n",
    "census_test.head()"
   ]
  },
  {
   "cell_type": "code",
   "execution_count": 46,
   "metadata": {
    "ExecuteTime": {
     "end_time": "2020-02-28T12:35:33.911642Z",
     "start_time": "2020-02-28T12:35:33.833850Z"
    },
    "hidden": true,
    "scrolled": true
   },
   "outputs": [
    {
     "name": "stdout",
     "output_type": "stream",
     "text": [
      "<class 'pandas.core.frame.DataFrame'>\n",
      "RangeIndex: 99762 entries, 0 to 99761\n",
      "Data columns (total 33 columns):\n",
      " #   Column                                   Non-Null Count  Dtype \n",
      "---  ------                                   --------------  ----- \n",
      " 0   age                                      99762 non-null  uint8 \n",
      " 1   class of worker                          49683 non-null  object\n",
      " 2   detailed industry recode                 99762 non-null  uint8 \n",
      " 3   detailed occupation recode               99762 non-null  uint8 \n",
      " 4   education                                99762 non-null  object\n",
      " 5   wage per hour                            99762 non-null  uint16\n",
      " 6   marital status                           99762 non-null  object\n",
      " 7   major industry code                      49479 non-null  object\n",
      " 8   major occupation code                    49479 non-null  object\n",
      " 9   race                                     99762 non-null  object\n",
      " 10  hispanic origin                          99357 non-null  object\n",
      " 11  sex                                      99762 non-null  object\n",
      " 12  full or part time employment stat        99762 non-null  object\n",
      " 13  capital gains                            99762 non-null  uint32\n",
      " 14  capital losses                           99762 non-null  uint16\n",
      " 15  dividends from stocks                    99762 non-null  uint32\n",
      " 16  tax filer stat                           99762 non-null  object\n",
      " 17  detailed household and family stat       99762 non-null  object\n",
      " 18  detailed household summary in household  99762 non-null  object\n",
      " 19  migration code-change in msa             49093 non-null  object\n",
      " 20  migration code-change in reg             49093 non-null  object\n",
      " 21  migration code-move within reg           49093 non-null  object\n",
      " 22  live in this house 1 year ago            49093 non-null  object\n",
      " 23  num persons worked for employer          99762 non-null  uint8 \n",
      " 24  country of birth father                  96333 non-null  object\n",
      " 25  country of birth mother                  96690 non-null  object\n",
      " 26  country of birth self                    97998 non-null  object\n",
      " 27  citizenship                              99762 non-null  object\n",
      " 28  own business or self employed            99762 non-null  uint8 \n",
      " 29  veterans benefits                        99762 non-null  uint8 \n",
      " 30  weeks worked in year                     99762 non-null  uint8 \n",
      " 31  year                                     99762 non-null  uint8 \n",
      " 32  income class                             99762 non-null  uint8 \n",
      "dtypes: object(20), uint16(2), uint32(2), uint8(9)\n",
      "memory usage: 17.2+ MB\n"
     ]
    }
   ],
   "source": [
    "census_test.info()"
   ]
  },
  {
   "cell_type": "code",
   "execution_count": 47,
   "metadata": {
    "ExecuteTime": {
     "end_time": "2020-02-28T12:35:36.608404Z",
     "start_time": "2020-02-28T12:35:36.578269Z"
    },
    "hidden": true
   },
   "outputs": [],
   "source": [
    "X_test = census_test.drop('income class', axis=1)\n",
    "y_test = census_test['income class']"
   ]
  },
  {
   "cell_type": "code",
   "execution_count": null,
   "metadata": {
    "ExecuteTime": {
     "end_time": "2020-02-28T10:15:07.607521Z",
     "start_time": "2020-02-28T10:15:06.625150Z"
    },
    "hidden": true
   },
   "outputs": [],
   "source": [
    "#X_test_tr = pipeline.transform(X_test)"
   ]
  },
  {
   "cell_type": "code",
   "execution_count": 48,
   "metadata": {
    "ExecuteTime": {
     "end_time": "2020-02-28T12:37:32.725989Z",
     "start_time": "2020-02-28T12:35:42.675190Z"
    },
    "hidden": true
   },
   "outputs": [
    {
     "name": "stdout",
     "output_type": "stream",
     "text": [
      "              precision    recall  f1-score   support\n",
      "\n",
      "           0       0.99      0.86      0.92     93576\n",
      "           1       0.29      0.90      0.44      6186\n",
      "\n",
      "    accuracy                           0.86     99762\n",
      "   macro avg       0.64      0.88      0.68     99762\n",
      "weighted avg       0.95      0.86      0.89     99762\n",
      "\n",
      "AUC: 0.8783286739775186\n"
     ]
    }
   ],
   "source": [
    "y_pred_test = model.predict(X_test)\n",
    "\n",
    "print(classification_report(y_test, y_pred_test))\n",
    "fpr, tpr, thresholds = roc_curve(y_test, y_pred_test)\n",
    "\n",
    "print(\"AUC: %s\" % auc(fpr, tpr))"
   ]
  },
  {
   "cell_type": "markdown",
   "metadata": {},
   "source": [
    "## Prepare submission"
   ]
  },
  {
   "cell_type": "code",
   "execution_count": 50,
   "metadata": {
    "ExecuteTime": {
     "end_time": "2020-02-28T12:46:37.613549Z",
     "start_time": "2020-02-28T12:46:37.459867Z"
    }
   },
   "outputs": [],
   "source": [
    "submission = pd.DataFrame(y_pred_test).astype(float)\n",
    "submission.columns = ['income class']\n",
    "submission.reset_index(inplace=True)\n",
    "submission.to_csv('temp/submission.csv', index=False)"
   ]
  },
  {
   "cell_type": "code",
   "execution_count": null,
   "metadata": {},
   "outputs": [],
   "source": []
  }
 ],
 "metadata": {
  "kernelspec": {
   "display_name": "Python 3",
   "language": "python",
   "name": "python3"
  },
  "language_info": {
   "codemirror_mode": {
    "name": "ipython",
    "version": 3
   },
   "file_extension": ".py",
   "mimetype": "text/x-python",
   "name": "python",
   "nbconvert_exporter": "python",
   "pygments_lexer": "ipython3",
   "version": "3.7.6"
  },
  "toc": {
   "base_numbering": 1,
   "nav_menu": {},
   "number_sections": true,
   "sideBar": true,
   "skip_h1_title": false,
   "title_cell": "Table of Contents",
   "title_sidebar": "Contents",
   "toc_cell": false,
   "toc_position": {},
   "toc_section_display": true,
   "toc_window_display": true
  },
  "varInspector": {
   "cols": {
    "lenName": 16,
    "lenType": 16,
    "lenVar": 40
   },
   "kernels_config": {
    "python": {
     "delete_cmd_postfix": "",
     "delete_cmd_prefix": "del ",
     "library": "var_list.py",
     "varRefreshCmd": "print(var_dic_list())"
    },
    "r": {
     "delete_cmd_postfix": ") ",
     "delete_cmd_prefix": "rm(",
     "library": "var_list.r",
     "varRefreshCmd": "cat(var_dic_list()) "
    }
   },
   "types_to_exclude": [
    "module",
    "function",
    "builtin_function_or_method",
    "instance",
    "_Feature"
   ],
   "window_display": false
  }
 },
 "nbformat": 4,
 "nbformat_minor": 4
}
