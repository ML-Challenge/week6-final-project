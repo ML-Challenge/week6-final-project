{
 "cells": [
  {
   "cell_type": "markdown",
   "metadata": {},
   "source": [
    "## Import Dependencies"
   ]
  },
  {
   "cell_type": "code",
   "execution_count": 1,
   "metadata": {
    "ExecuteTime": {
     "end_time": "2020-03-16T14:55:12.675182Z",
     "start_time": "2020-03-16T14:55:09.394865Z"
    }
   },
   "outputs": [
    {
     "name": "stderr",
     "output_type": "stream",
     "text": [
      "Using TensorFlow backend.\n"
     ]
    }
   ],
   "source": [
    "import pandas as pd\n",
    "import numpy as np\n",
    "import matplotlib.pyplot as plt\n",
    "\n",
    "import seaborn as sns\n",
    "\n",
    "from utils import reduce_mem_usage\n",
    "\n",
    "#from sklearn.pipeline import Pipeline\n",
    "from imblearn.pipeline import Pipeline\n",
    "from sklearn.model_selection import train_test_split, GridSearchCV, cross_val_score\n",
    "from sklearn.decomposition import PCA\n",
    "from sklearn.feature_selection import SelectKBest\n",
    "from sklearn.compose import make_column_transformer\n",
    "from sklearn.preprocessing import OneHotEncoder, PowerTransformer, StandardScaler\n",
    "from sklearn.feature_extraction import FeatureHasher\n",
    "from sklearn.impute import SimpleImputer\n",
    "from sklearn.metrics import classification_report, plot_roc_curve, roc_curve, roc_auc_score, auc, make_scorer\n",
    "\n",
    "import xgboost as xgb\n",
    "from xgboost import XGBClassifier\n",
    "\n",
    "SEED = 666\n",
    "\n",
    "# Hyperparameters tuning\n",
    "from hyperopt import STATUS_OK, Trials, fmin, hp, tpe\n",
    "\n",
    "# magic word for producing visualizations in notebook\n",
    "%matplotlib inline\n",
    "\n",
    "# and setting the size of all plots.\n",
    "plt.rcParams['figure.figsize'] = [11, 7]"
   ]
  },
  {
   "cell_type": "markdown",
   "metadata": {},
   "source": [
    "## Load Dataset"
   ]
  },
  {
   "cell_type": "code",
   "execution_count": 2,
   "metadata": {
    "ExecuteTime": {
     "end_time": "2020-03-16T14:55:18.064607Z",
     "start_time": "2020-03-16T14:55:12.677086Z"
    }
   },
   "outputs": [],
   "source": [
    "# The C engine doesn't support RegEx so we set it to Python to avoid the warning\n",
    "census = pd.read_csv('data/census-income.data', header=None, sep=',\\s', na_values=['?', 'Do not know', 'Not identifiable'], engine='python')"
   ]
  },
  {
   "cell_type": "code",
   "execution_count": 3,
   "metadata": {
    "ExecuteTime": {
     "end_time": "2020-03-16T14:55:18.111388Z",
     "start_time": "2020-03-16T14:55:18.066510Z"
    }
   },
   "outputs": [
    {
     "data": {
      "text/html": [
       "<div>\n",
       "<style scoped>\n",
       "    .dataframe tbody tr th:only-of-type {\n",
       "        vertical-align: middle;\n",
       "    }\n",
       "\n",
       "    .dataframe tbody tr th {\n",
       "        vertical-align: top;\n",
       "    }\n",
       "\n",
       "    .dataframe thead th {\n",
       "        text-align: right;\n",
       "    }\n",
       "</style>\n",
       "<table border=\"1\" class=\"dataframe\">\n",
       "  <thead>\n",
       "    <tr style=\"text-align: right;\">\n",
       "      <th></th>\n",
       "      <th>age</th>\n",
       "      <th>class of worker</th>\n",
       "      <th>detailed industry recode</th>\n",
       "      <th>detailed occupation recode</th>\n",
       "      <th>education</th>\n",
       "      <th>wage per hour</th>\n",
       "      <th>enroll in edu inst last wk</th>\n",
       "      <th>marital status</th>\n",
       "      <th>major industry code</th>\n",
       "      <th>major occupation code</th>\n",
       "      <th>...</th>\n",
       "      <th>country of birth father</th>\n",
       "      <th>country of birth mother</th>\n",
       "      <th>country of birth self</th>\n",
       "      <th>citizenship</th>\n",
       "      <th>own business or self employed</th>\n",
       "      <th>fill inc questionnaire for veteran's admin</th>\n",
       "      <th>veterans benefits</th>\n",
       "      <th>weeks worked in year</th>\n",
       "      <th>year</th>\n",
       "      <th>income class</th>\n",
       "    </tr>\n",
       "  </thead>\n",
       "  <tbody>\n",
       "    <tr>\n",
       "      <th>0</th>\n",
       "      <td>73</td>\n",
       "      <td>Not in universe</td>\n",
       "      <td>0</td>\n",
       "      <td>0</td>\n",
       "      <td>High school graduate</td>\n",
       "      <td>0</td>\n",
       "      <td>Not in universe</td>\n",
       "      <td>Widowed</td>\n",
       "      <td>Not in universe or children</td>\n",
       "      <td>Not in universe</td>\n",
       "      <td>...</td>\n",
       "      <td>United-States</td>\n",
       "      <td>United-States</td>\n",
       "      <td>United-States</td>\n",
       "      <td>Native- Born in the United States</td>\n",
       "      <td>0</td>\n",
       "      <td>Not in universe</td>\n",
       "      <td>2</td>\n",
       "      <td>0</td>\n",
       "      <td>95</td>\n",
       "      <td>- 50000.</td>\n",
       "    </tr>\n",
       "    <tr>\n",
       "      <th>1</th>\n",
       "      <td>58</td>\n",
       "      <td>Self-employed-not incorporated</td>\n",
       "      <td>4</td>\n",
       "      <td>34</td>\n",
       "      <td>Some college but no degree</td>\n",
       "      <td>0</td>\n",
       "      <td>Not in universe</td>\n",
       "      <td>Divorced</td>\n",
       "      <td>Construction</td>\n",
       "      <td>Precision production craft &amp; repair</td>\n",
       "      <td>...</td>\n",
       "      <td>United-States</td>\n",
       "      <td>United-States</td>\n",
       "      <td>United-States</td>\n",
       "      <td>Native- Born in the United States</td>\n",
       "      <td>0</td>\n",
       "      <td>Not in universe</td>\n",
       "      <td>2</td>\n",
       "      <td>52</td>\n",
       "      <td>94</td>\n",
       "      <td>- 50000.</td>\n",
       "    </tr>\n",
       "    <tr>\n",
       "      <th>2</th>\n",
       "      <td>18</td>\n",
       "      <td>Not in universe</td>\n",
       "      <td>0</td>\n",
       "      <td>0</td>\n",
       "      <td>10th grade</td>\n",
       "      <td>0</td>\n",
       "      <td>High school</td>\n",
       "      <td>Never married</td>\n",
       "      <td>Not in universe or children</td>\n",
       "      <td>Not in universe</td>\n",
       "      <td>...</td>\n",
       "      <td>Vietnam</td>\n",
       "      <td>Vietnam</td>\n",
       "      <td>Vietnam</td>\n",
       "      <td>Foreign born- Not a citizen of U S</td>\n",
       "      <td>0</td>\n",
       "      <td>Not in universe</td>\n",
       "      <td>2</td>\n",
       "      <td>0</td>\n",
       "      <td>95</td>\n",
       "      <td>- 50000.</td>\n",
       "    </tr>\n",
       "    <tr>\n",
       "      <th>3</th>\n",
       "      <td>9</td>\n",
       "      <td>Not in universe</td>\n",
       "      <td>0</td>\n",
       "      <td>0</td>\n",
       "      <td>Children</td>\n",
       "      <td>0</td>\n",
       "      <td>Not in universe</td>\n",
       "      <td>Never married</td>\n",
       "      <td>Not in universe or children</td>\n",
       "      <td>Not in universe</td>\n",
       "      <td>...</td>\n",
       "      <td>United-States</td>\n",
       "      <td>United-States</td>\n",
       "      <td>United-States</td>\n",
       "      <td>Native- Born in the United States</td>\n",
       "      <td>0</td>\n",
       "      <td>Not in universe</td>\n",
       "      <td>0</td>\n",
       "      <td>0</td>\n",
       "      <td>94</td>\n",
       "      <td>- 50000.</td>\n",
       "    </tr>\n",
       "    <tr>\n",
       "      <th>4</th>\n",
       "      <td>10</td>\n",
       "      <td>Not in universe</td>\n",
       "      <td>0</td>\n",
       "      <td>0</td>\n",
       "      <td>Children</td>\n",
       "      <td>0</td>\n",
       "      <td>Not in universe</td>\n",
       "      <td>Never married</td>\n",
       "      <td>Not in universe or children</td>\n",
       "      <td>Not in universe</td>\n",
       "      <td>...</td>\n",
       "      <td>United-States</td>\n",
       "      <td>United-States</td>\n",
       "      <td>United-States</td>\n",
       "      <td>Native- Born in the United States</td>\n",
       "      <td>0</td>\n",
       "      <td>Not in universe</td>\n",
       "      <td>0</td>\n",
       "      <td>0</td>\n",
       "      <td>94</td>\n",
       "      <td>- 50000.</td>\n",
       "    </tr>\n",
       "  </tbody>\n",
       "</table>\n",
       "<p>5 rows × 42 columns</p>\n",
       "</div>"
      ],
      "text/plain": [
       "   age                 class of worker  detailed industry recode  \\\n",
       "0   73                 Not in universe                         0   \n",
       "1   58  Self-employed-not incorporated                         4   \n",
       "2   18                 Not in universe                         0   \n",
       "3    9                 Not in universe                         0   \n",
       "4   10                 Not in universe                         0   \n",
       "\n",
       "   detailed occupation recode                   education  wage per hour  \\\n",
       "0                           0        High school graduate              0   \n",
       "1                          34  Some college but no degree              0   \n",
       "2                           0                  10th grade              0   \n",
       "3                           0                    Children              0   \n",
       "4                           0                    Children              0   \n",
       "\n",
       "  enroll in edu inst last wk marital status          major industry code  \\\n",
       "0            Not in universe        Widowed  Not in universe or children   \n",
       "1            Not in universe       Divorced                 Construction   \n",
       "2                High school  Never married  Not in universe or children   \n",
       "3            Not in universe  Never married  Not in universe or children   \n",
       "4            Not in universe  Never married  Not in universe or children   \n",
       "\n",
       "                 major occupation code  ... country of birth father  \\\n",
       "0                      Not in universe  ...           United-States   \n",
       "1  Precision production craft & repair  ...           United-States   \n",
       "2                      Not in universe  ...                 Vietnam   \n",
       "3                      Not in universe  ...           United-States   \n",
       "4                      Not in universe  ...           United-States   \n",
       "\n",
       "  country of birth mother country of birth self  \\\n",
       "0           United-States         United-States   \n",
       "1           United-States         United-States   \n",
       "2                 Vietnam               Vietnam   \n",
       "3           United-States         United-States   \n",
       "4           United-States         United-States   \n",
       "\n",
       "                           citizenship own business or self employed  \\\n",
       "0    Native- Born in the United States                             0   \n",
       "1    Native- Born in the United States                             0   \n",
       "2  Foreign born- Not a citizen of U S                              0   \n",
       "3    Native- Born in the United States                             0   \n",
       "4    Native- Born in the United States                             0   \n",
       "\n",
       "  fill inc questionnaire for veteran's admin  veterans benefits  \\\n",
       "0                            Not in universe                  2   \n",
       "1                            Not in universe                  2   \n",
       "2                            Not in universe                  2   \n",
       "3                            Not in universe                  0   \n",
       "4                            Not in universe                  0   \n",
       "\n",
       "   weeks worked in year  year income class  \n",
       "0                     0    95     - 50000.  \n",
       "1                    52    94     - 50000.  \n",
       "2                     0    95     - 50000.  \n",
       "3                     0    94     - 50000.  \n",
       "4                     0    94     - 50000.  \n",
       "\n",
       "[5 rows x 42 columns]"
      ]
     },
     "execution_count": 3,
     "metadata": {},
     "output_type": "execute_result"
    }
   ],
   "source": [
    "census_columns = [\n",
    "    'age',\n",
    "    'class of worker',\n",
    "    'detailed industry recode',\n",
    "    'detailed occupation recode',\n",
    "    'education',\n",
    "    'wage per hour',\n",
    "    'enroll in edu inst last wk',\n",
    "    'marital status',\n",
    "    'major industry code',\n",
    "    'major occupation code',\n",
    "    'race',\n",
    "    'hispanic origin',\n",
    "    'sex',\n",
    "    'member of a labor union',\n",
    "    'reason for unemployment',\n",
    "    'full or part time employment stat',\n",
    "    'capital gains',\n",
    "    'capital losses',\n",
    "    'dividends from stocks',\n",
    "    'tax filer stat',\n",
    "    'region of previous residence',\n",
    "    'state of previous residence',\n",
    "    'detailed household and family stat',\n",
    "    'detailed household summary in household',\n",
    "    'instance weight',\n",
    "    'migration code-change in msa',\n",
    "    'migration code-change in reg',\n",
    "    'migration code-move within reg',\n",
    "    'live in this house 1 year ago',\n",
    "    'migration prev res in sunbelt',\n",
    "    'num persons worked for employer',\n",
    "    'family members under 18',\n",
    "    'country of birth father',\n",
    "    'country of birth mother',\n",
    "    'country of birth self',\n",
    "    'citizenship',\n",
    "    'own business or self employed',\n",
    "    'fill inc questionnaire for veteran\\'s admin',\n",
    "    'veterans benefits',\n",
    "    'weeks worked in year',\n",
    "    'year',\n",
    "    'income class'\n",
    "]\n",
    "\n",
    "features_to_drop = [\n",
    "    'instance weight', # Ignored\n",
    "    # more than 70% values missing\n",
    "    'enroll in edu inst last wk',\n",
    "    'member of a labor union',\n",
    "    'reason for unemployment',\n",
    "    'region of previous residence',\n",
    "    'state of previous residence',\n",
    "    'migration prev res in sunbelt',\n",
    "    'family members under 18',\n",
    "    \"fill inc questionnaire for veteran's admin\",\n",
    "    # more than 50% values missing\n",
    "    'class of worker',\n",
    "    'major industry code',\n",
    "    'major occupation code',\n",
    "    'migration code-change in msa',\n",
    "    'migration code-change in reg',\n",
    "    'migration code-move within reg',\n",
    "    'live in this house 1 year ago',\n",
    "    # Vlad Manolache\n",
    "    \"year\", # good call Vlad Manolache\n",
    "    'capital gains',\n",
    "    'capital losses'\n",
    "]\n",
    "\n",
    "categorical_features = [\n",
    "    #'class of worker',\n",
    "    'detailed industry recode',\n",
    "    'detailed occupation recode',\n",
    "    'education',\n",
    "    'marital status',\n",
    "    #'major industry code',\n",
    "    #'major occupation code',\n",
    "    'race',\n",
    "    'hispanic origin',\n",
    "    'sex',\n",
    "    'full or part time employment stat',\n",
    "    'tax filer stat',\n",
    "    'detailed household and family stat',\n",
    "    'detailed household summary in household',\n",
    "    #'migration code-change in msa',\n",
    "    #'migration code-change in reg',\n",
    "    #'migration code-move within reg',\n",
    "    #'live in this house 1 year ago',\n",
    "    'country of birth father',\n",
    "    'country of birth mother',\n",
    "    'country of birth self',\n",
    "    'citizenship',\n",
    "    'own business or self employed',\n",
    "    'veterans benefits',\n",
    "    #'year'\n",
    "]\n",
    "\n",
    "numerical_features = [\n",
    "    'age',\n",
    "    'wage per hour',\n",
    "    #'capital gains',\n",
    "    #'capital losses',  \n",
    "    'capital gains loss', #Vlad Manolache\n",
    "    'dividends from stocks',\n",
    "    'num persons worked for employer',\n",
    "    'weeks worked in year'\n",
    "]\n",
    "\n",
    "census.columns = census_columns\n",
    "census.head()"
   ]
  },
  {
   "cell_type": "code",
   "execution_count": 4,
   "metadata": {
    "ExecuteTime": {
     "end_time": "2020-03-16T14:55:18.312850Z",
     "start_time": "2020-03-16T14:55:18.113393Z"
    }
   },
   "outputs": [
    {
     "name": "stdout",
     "output_type": "stream",
     "text": [
      "<class 'pandas.core.frame.DataFrame'>\n",
      "RangeIndex: 199523 entries, 0 to 199522\n",
      "Data columns (total 42 columns):\n",
      " #   Column                                      Non-Null Count   Dtype  \n",
      "---  ------                                      --------------   -----  \n",
      " 0   age                                         199523 non-null  int64  \n",
      " 1   class of worker                             199523 non-null  object \n",
      " 2   detailed industry recode                    199523 non-null  int64  \n",
      " 3   detailed occupation recode                  199523 non-null  int64  \n",
      " 4   education                                   199523 non-null  object \n",
      " 5   wage per hour                               199523 non-null  int64  \n",
      " 6   enroll in edu inst last wk                  199523 non-null  object \n",
      " 7   marital status                              199523 non-null  object \n",
      " 8   major industry code                         199523 non-null  object \n",
      " 9   major occupation code                       199523 non-null  object \n",
      " 10  race                                        199523 non-null  object \n",
      " 11  hispanic origin                             198343 non-null  object \n",
      " 12  sex                                         199523 non-null  object \n",
      " 13  member of a labor union                     199523 non-null  object \n",
      " 14  reason for unemployment                     199523 non-null  object \n",
      " 15  full or part time employment stat           199523 non-null  object \n",
      " 16  capital gains                               199523 non-null  int64  \n",
      " 17  capital losses                              199523 non-null  int64  \n",
      " 18  dividends from stocks                       199523 non-null  int64  \n",
      " 19  tax filer stat                              199523 non-null  object \n",
      " 20  region of previous residence                199523 non-null  object \n",
      " 21  state of previous residence                 198815 non-null  object \n",
      " 22  detailed household and family stat          199523 non-null  object \n",
      " 23  detailed household summary in household     199523 non-null  object \n",
      " 24  instance weight                             199523 non-null  float64\n",
      " 25  migration code-change in msa                99397 non-null   object \n",
      " 26  migration code-change in reg                99827 non-null   object \n",
      " 27  migration code-move within reg              99827 non-null   object \n",
      " 28  live in this house 1 year ago               199523 non-null  object \n",
      " 29  migration prev res in sunbelt               99827 non-null   object \n",
      " 30  num persons worked for employer             199523 non-null  int64  \n",
      " 31  family members under 18                     199523 non-null  object \n",
      " 32  country of birth father                     192810 non-null  object \n",
      " 33  country of birth mother                     193404 non-null  object \n",
      " 34  country of birth self                       196130 non-null  object \n",
      " 35  citizenship                                 199523 non-null  object \n",
      " 36  own business or self employed               199523 non-null  int64  \n",
      " 37  fill inc questionnaire for veteran's admin  199523 non-null  object \n",
      " 38  veterans benefits                           199523 non-null  int64  \n",
      " 39  weeks worked in year                        199523 non-null  int64  \n",
      " 40  year                                        199523 non-null  int64  \n",
      " 41  income class                                199523 non-null  object \n",
      "dtypes: float64(1), int64(12), object(29)\n",
      "memory usage: 63.9+ MB\n"
     ]
    }
   ],
   "source": [
    "census.info()"
   ]
  },
  {
   "cell_type": "markdown",
   "metadata": {},
   "source": [
    " ## Clean Dataset"
   ]
  },
  {
   "cell_type": "code",
   "execution_count": 5,
   "metadata": {
    "ExecuteTime": {
     "end_time": "2020-03-16T14:55:18.327842Z",
     "start_time": "2020-03-16T14:55:18.313847Z"
    }
   },
   "outputs": [],
   "source": [
    "class DefaultZero(dict):\n",
    "    def __missing__(self, key):\n",
    "        return 0\n",
    "\n",
    "def clean_dataset(df):\n",
    "    # replace field that contains Not in Universe with NaN\n",
    "    df = df.replace(r'Not in universe\\w*?', np.nan, regex=True)\n",
    "    \n",
    "    # Fill NaN\n",
    "    df['hispanic origin'] = df['hispanic origin'].fillna(df['hispanic origin'].mode()[0])\n",
    "    df['country of birth father'] = df['country of birth father'].fillna(df['country of birth father'].mode()[0])\n",
    "    df['country of birth mother'] = df['country of birth mother'].fillna(df['country of birth mother'].mode()[0])\n",
    "    df['country of birth self'] = df['country of birth self'].fillna(df['country of birth self'].mode()[0])\n",
    "    \n",
    "    # Feature Engineering\n",
    "    df['sex'] = df['sex'].map({'Female': 0, 'Male': 1})\n",
    "    \n",
    "    # From Vlad Manolache\n",
    "    # -------------------------\n",
    "\n",
    "    # Collapse marrital status\n",
    "    marrital_status_single = ['Never married', 'Separated', 'Divorced', 'Widowed']\n",
    "    marrital_status_married = ['Married-civilian spouse present', 'Married-spouse absent', 'Married-A F spouse present']\n",
    "    df['marital status'] = df['marital status'].replace(marrital_status_single, 0)\n",
    "    df['marital status'] = df['marital status'].replace(marrital_status_married, 1)\n",
    "    \n",
    "    # Inspired by the winners\n",
    "    map_education = {\n",
    "        'Doctorate degree(PhD EdD)': 3,\n",
    "        'Prof school degree (MD DDS DVM LLB JD)': 3,\n",
    "        'Masters degree(MA MS MEng MEd MSW MBA)': 3,\n",
    "        'Bachelors degree(BA AB BS)': 2,\n",
    "        'Associates degree-academic program': 2,\n",
    "        'Associates degree-occup /vocational': 2,\n",
    "        'Some college but no degree': 1,\n",
    "        '12th grade no diploma': 1,\n",
    "        '11th grade': 1,\n",
    "        '10th grade': 1,\n",
    "        '9th grade': 1,\n",
    "        'High school graduate': 1,\n",
    "        '7th and 8th grade': 0,\n",
    "        '5th or 6th grade': 0,\n",
    "        '1st 2nd 3rd or 4th grade': 0,\n",
    "        'Less than 1st grade': 0,\n",
    "        'Children': 0\n",
    "    }\n",
    "    \n",
    "    df['education'] = df['education'].map(map_education)\n",
    "    \n",
    "    # From Vlad Manolache\n",
    "    df['capital gains loss'] = df['capital gains'] - df['capital losses']\n",
    "    \n",
    "    # From Jan Jakob Lameijer\n",
    "    map_race = {\n",
    "        'White': 1,\n",
    "        'Black': 0,\n",
    "        'Asian or Pacific Islander': 0,\n",
    "        'Other': 0,\n",
    "        'Amer Indian Aleut or Eskimo': 0\n",
    "    }\n",
    "\n",
    "    df['race'] = df['race'].map(map_race)\n",
    "\n",
    "    map_hisp = {\n",
    "        'All other': 0,\n",
    "        'Mexican (Mexicano)': 1,\n",
    "        'Mexican-American': 1,\n",
    "        'Puerto Rican': 1,\n",
    "        'Central or South American': 1,\n",
    "        'Other Spanish': 1,\n",
    "        'Chicano': 1,\n",
    "        'Cuban': 1\n",
    "    }\n",
    "    df['hispanic origin'] = df['hispanic origin'].map(map_hisp)\n",
    "\n",
    "    map_birth = DefaultZero({'United-States': 1})\n",
    "    df['country of birth self'] = df['country of birth self'].map(map_birth)\n",
    "    df['country of birth father'] = df['country of birth father'].map(map_birth)\n",
    "    df['country of birth mother'] = df['country of birth mother'].map(map_birth)\n",
    "    \n",
    "    # From Andrei Ratushin\n",
    "    \n",
    "    #First - I shall collect grandchilds 18+, as their numbers are non-representative (<1%) in current segmentation\n",
    "    df.loc[df['detailed household and family stat'].str.contains('Grandchild'),'detailed household and family stat']='Child 18+'\n",
    "    df.loc[df['detailed household and family stat'].str.contains('Child'),'detailed household summary in household']='Child 18+'\n",
    "    df.loc[df['detailed household and family stat'].str.contains('Child'),'detailed household and family stat']='Child 18+'\n",
    "    \n",
    "    # Drop features\n",
    "    df = df.drop(features_to_drop, axis=1)\n",
    "    \n",
    "    # Encode income class column\n",
    "    df['income class'] = df['income class'].map({'- 50000.': 0, '50000+.': 1})\n",
    "    \n",
    "    # Reduce memory usage\n",
    "    df, _ = reduce_mem_usage(df)\n",
    "\n",
    "    return df"
   ]
  },
  {
   "cell_type": "code",
   "execution_count": 6,
   "metadata": {
    "ExecuteTime": {
     "end_time": "2020-03-16T14:55:25.198285Z",
     "start_time": "2020-03-16T14:55:18.328808Z"
    }
   },
   "outputs": [
    {
     "name": "stdout",
     "output_type": "stream",
     "text": [
      "Memory usage of dataframe:  36.53387451171875  MB\n"
     ]
    },
    {
     "data": {
      "application/vnd.jupyter.widget-view+json": {
       "model_id": "7f4299da538240058dc71e96313779ea",
       "version_major": 2,
       "version_minor": 0
      },
      "text/plain": [
       "HBox(children=(FloatProgress(value=0.0, max=24.0), HTML(value='')))"
      ]
     },
     "metadata": {},
     "output_type": "display_data"
    },
    {
     "name": "stdout",
     "output_type": "stream",
     "text": [
      "\n",
      "___MEMORY USAGE AFTER COMPLETION:___\n",
      "Memory usage is: 12.558599472045898 MB\n",
      "This is 34.38% of the initial size\n"
     ]
    },
    {
     "data": {
      "text/html": [
       "<div>\n",
       "<style scoped>\n",
       "    .dataframe tbody tr th:only-of-type {\n",
       "        vertical-align: middle;\n",
       "    }\n",
       "\n",
       "    .dataframe tbody tr th {\n",
       "        vertical-align: top;\n",
       "    }\n",
       "\n",
       "    .dataframe thead th {\n",
       "        text-align: right;\n",
       "    }\n",
       "</style>\n",
       "<table border=\"1\" class=\"dataframe\">\n",
       "  <thead>\n",
       "    <tr style=\"text-align: right;\">\n",
       "      <th></th>\n",
       "      <th>age</th>\n",
       "      <th>detailed industry recode</th>\n",
       "      <th>detailed occupation recode</th>\n",
       "      <th>education</th>\n",
       "      <th>wage per hour</th>\n",
       "      <th>marital status</th>\n",
       "      <th>race</th>\n",
       "      <th>hispanic origin</th>\n",
       "      <th>sex</th>\n",
       "      <th>full or part time employment stat</th>\n",
       "      <th>...</th>\n",
       "      <th>num persons worked for employer</th>\n",
       "      <th>country of birth father</th>\n",
       "      <th>country of birth mother</th>\n",
       "      <th>country of birth self</th>\n",
       "      <th>citizenship</th>\n",
       "      <th>own business or self employed</th>\n",
       "      <th>veterans benefits</th>\n",
       "      <th>weeks worked in year</th>\n",
       "      <th>income class</th>\n",
       "      <th>capital gains loss</th>\n",
       "    </tr>\n",
       "  </thead>\n",
       "  <tbody>\n",
       "    <tr>\n",
       "      <th>0</th>\n",
       "      <td>73</td>\n",
       "      <td>0</td>\n",
       "      <td>0</td>\n",
       "      <td>1</td>\n",
       "      <td>0</td>\n",
       "      <td>0</td>\n",
       "      <td>1</td>\n",
       "      <td>0</td>\n",
       "      <td>0</td>\n",
       "      <td>Not in labor force</td>\n",
       "      <td>...</td>\n",
       "      <td>0</td>\n",
       "      <td>1</td>\n",
       "      <td>1</td>\n",
       "      <td>1</td>\n",
       "      <td>Native- Born in the United States</td>\n",
       "      <td>0</td>\n",
       "      <td>2</td>\n",
       "      <td>0</td>\n",
       "      <td>0</td>\n",
       "      <td>0</td>\n",
       "    </tr>\n",
       "    <tr>\n",
       "      <th>1</th>\n",
       "      <td>58</td>\n",
       "      <td>4</td>\n",
       "      <td>34</td>\n",
       "      <td>1</td>\n",
       "      <td>0</td>\n",
       "      <td>0</td>\n",
       "      <td>1</td>\n",
       "      <td>0</td>\n",
       "      <td>1</td>\n",
       "      <td>Children or Armed Forces</td>\n",
       "      <td>...</td>\n",
       "      <td>1</td>\n",
       "      <td>1</td>\n",
       "      <td>1</td>\n",
       "      <td>1</td>\n",
       "      <td>Native- Born in the United States</td>\n",
       "      <td>0</td>\n",
       "      <td>2</td>\n",
       "      <td>52</td>\n",
       "      <td>0</td>\n",
       "      <td>0</td>\n",
       "    </tr>\n",
       "    <tr>\n",
       "      <th>2</th>\n",
       "      <td>18</td>\n",
       "      <td>0</td>\n",
       "      <td>0</td>\n",
       "      <td>1</td>\n",
       "      <td>0</td>\n",
       "      <td>0</td>\n",
       "      <td>0</td>\n",
       "      <td>0</td>\n",
       "      <td>0</td>\n",
       "      <td>Not in labor force</td>\n",
       "      <td>...</td>\n",
       "      <td>0</td>\n",
       "      <td>0</td>\n",
       "      <td>0</td>\n",
       "      <td>0</td>\n",
       "      <td>Foreign born- Not a citizen of U S</td>\n",
       "      <td>0</td>\n",
       "      <td>2</td>\n",
       "      <td>0</td>\n",
       "      <td>0</td>\n",
       "      <td>0</td>\n",
       "    </tr>\n",
       "    <tr>\n",
       "      <th>3</th>\n",
       "      <td>9</td>\n",
       "      <td>0</td>\n",
       "      <td>0</td>\n",
       "      <td>0</td>\n",
       "      <td>0</td>\n",
       "      <td>0</td>\n",
       "      <td>1</td>\n",
       "      <td>0</td>\n",
       "      <td>0</td>\n",
       "      <td>Children or Armed Forces</td>\n",
       "      <td>...</td>\n",
       "      <td>0</td>\n",
       "      <td>1</td>\n",
       "      <td>1</td>\n",
       "      <td>1</td>\n",
       "      <td>Native- Born in the United States</td>\n",
       "      <td>0</td>\n",
       "      <td>0</td>\n",
       "      <td>0</td>\n",
       "      <td>0</td>\n",
       "      <td>0</td>\n",
       "    </tr>\n",
       "    <tr>\n",
       "      <th>4</th>\n",
       "      <td>10</td>\n",
       "      <td>0</td>\n",
       "      <td>0</td>\n",
       "      <td>0</td>\n",
       "      <td>0</td>\n",
       "      <td>0</td>\n",
       "      <td>1</td>\n",
       "      <td>0</td>\n",
       "      <td>0</td>\n",
       "      <td>Children or Armed Forces</td>\n",
       "      <td>...</td>\n",
       "      <td>0</td>\n",
       "      <td>1</td>\n",
       "      <td>1</td>\n",
       "      <td>1</td>\n",
       "      <td>Native- Born in the United States</td>\n",
       "      <td>0</td>\n",
       "      <td>0</td>\n",
       "      <td>0</td>\n",
       "      <td>0</td>\n",
       "      <td>0</td>\n",
       "    </tr>\n",
       "  </tbody>\n",
       "</table>\n",
       "<p>5 rows × 24 columns</p>\n",
       "</div>"
      ],
      "text/plain": [
       "   age  detailed industry recode  detailed occupation recode  education  \\\n",
       "0   73                         0                           0          1   \n",
       "1   58                         4                          34          1   \n",
       "2   18                         0                           0          1   \n",
       "3    9                         0                           0          0   \n",
       "4   10                         0                           0          0   \n",
       "\n",
       "   wage per hour  marital status  race  hispanic origin  sex  \\\n",
       "0              0               0     1                0    0   \n",
       "1              0               0     1                0    1   \n",
       "2              0               0     0                0    0   \n",
       "3              0               0     1                0    0   \n",
       "4              0               0     1                0    0   \n",
       "\n",
       "  full or part time employment stat  ...  num persons worked for employer  \\\n",
       "0                Not in labor force  ...                                0   \n",
       "1          Children or Armed Forces  ...                                1   \n",
       "2                Not in labor force  ...                                0   \n",
       "3          Children or Armed Forces  ...                                0   \n",
       "4          Children or Armed Forces  ...                                0   \n",
       "\n",
       "  country of birth father country of birth mother country of birth self  \\\n",
       "0                       1                       1                     1   \n",
       "1                       1                       1                     1   \n",
       "2                       0                       0                     0   \n",
       "3                       1                       1                     1   \n",
       "4                       1                       1                     1   \n",
       "\n",
       "                           citizenship  own business or self employed  \\\n",
       "0    Native- Born in the United States                              0   \n",
       "1    Native- Born in the United States                              0   \n",
       "2  Foreign born- Not a citizen of U S                               0   \n",
       "3    Native- Born in the United States                              0   \n",
       "4    Native- Born in the United States                              0   \n",
       "\n",
       "   veterans benefits  weeks worked in year income class  capital gains loss  \n",
       "0                  2                     0            0                   0  \n",
       "1                  2                    52            0                   0  \n",
       "2                  2                     0            0                   0  \n",
       "3                  0                     0            0                   0  \n",
       "4                  0                     0            0                   0  \n",
       "\n",
       "[5 rows x 24 columns]"
      ]
     },
     "execution_count": 6,
     "metadata": {},
     "output_type": "execute_result"
    }
   ],
   "source": [
    "census = clean_dataset(census)\n",
    "census.head()"
   ]
  },
  {
   "cell_type": "code",
   "execution_count": 7,
   "metadata": {
    "ExecuteTime": {
     "end_time": "2020-03-16T14:55:25.259091Z",
     "start_time": "2020-03-16T14:55:25.199284Z"
    }
   },
   "outputs": [
    {
     "name": "stdout",
     "output_type": "stream",
     "text": [
      "<class 'pandas.core.frame.DataFrame'>\n",
      "RangeIndex: 199523 entries, 0 to 199522\n",
      "Data columns (total 24 columns):\n",
      " #   Column                                   Non-Null Count   Dtype \n",
      "---  ------                                   --------------   ----- \n",
      " 0   age                                      199523 non-null  uint8 \n",
      " 1   detailed industry recode                 199523 non-null  uint8 \n",
      " 2   detailed occupation recode               199523 non-null  uint8 \n",
      " 3   education                                199523 non-null  uint8 \n",
      " 4   wage per hour                            199523 non-null  uint16\n",
      " 5   marital status                           199523 non-null  uint8 \n",
      " 6   race                                     199523 non-null  uint8 \n",
      " 7   hispanic origin                          199523 non-null  uint8 \n",
      " 8   sex                                      199523 non-null  uint8 \n",
      " 9   full or part time employment stat        199523 non-null  object\n",
      " 10  dividends from stocks                    199523 non-null  uint32\n",
      " 11  tax filer stat                           199523 non-null  object\n",
      " 12  detailed household and family stat       199523 non-null  object\n",
      " 13  detailed household summary in household  199523 non-null  object\n",
      " 14  num persons worked for employer          199523 non-null  uint8 \n",
      " 15  country of birth father                  199523 non-null  uint8 \n",
      " 16  country of birth mother                  199523 non-null  uint8 \n",
      " 17  country of birth self                    199523 non-null  uint8 \n",
      " 18  citizenship                              199523 non-null  object\n",
      " 19  own business or self employed            199523 non-null  uint8 \n",
      " 20  veterans benefits                        199523 non-null  uint8 \n",
      " 21  weeks worked in year                     199523 non-null  uint8 \n",
      " 22  income class                             199523 non-null  uint8 \n",
      " 23  capital gains loss                       199523 non-null  int32 \n",
      "dtypes: int32(1), object(5), uint16(1), uint32(1), uint8(16)\n",
      "memory usage: 12.6+ MB\n"
     ]
    }
   ],
   "source": [
    "census.info()"
   ]
  },
  {
   "cell_type": "markdown",
   "metadata": {},
   "source": [
    "## Split train and validation sets"
   ]
  },
  {
   "cell_type": "code",
   "execution_count": 8,
   "metadata": {
    "ExecuteTime": {
     "end_time": "2020-03-16T14:55:25.275084Z",
     "start_time": "2020-03-16T14:55:25.262083Z"
    }
   },
   "outputs": [],
   "source": [
    "X = census.drop('income class', axis=1)\n",
    "y = census['income class']"
   ]
  },
  {
   "cell_type": "code",
   "execution_count": 9,
   "metadata": {
    "ExecuteTime": {
     "end_time": "2020-03-16T14:55:25.291005Z",
     "start_time": "2020-03-16T14:55:25.276083Z"
    }
   },
   "outputs": [
    {
     "data": {
      "text/plain": [
       "0.06205800834991455"
      ]
     },
     "execution_count": 9,
     "metadata": {},
     "output_type": "execute_result"
    }
   ],
   "source": [
    "y.mean()"
   ]
  },
  {
   "cell_type": "code",
   "execution_count": 10,
   "metadata": {
    "ExecuteTime": {
     "end_time": "2020-03-16T14:55:25.429657Z",
     "start_time": "2020-03-16T14:55:25.292026Z"
    }
   },
   "outputs": [
    {
     "data": {
      "image/png": "[encoded data removed]",
      "text/plain": [
       "<Figure size 360x360 with 1 Axes>"
      ]
     },
     "metadata": {
      "needs_background": "light"
     },
     "output_type": "display_data"
    }
   ],
   "source": [
    "plt.figure(figsize=(5, 5))\n",
    "total = census.shape[0]\n",
    "ax = sns.countplot(x=\"income class\", data=census)\n",
    "for p in ax.patches:\n",
    "    height = p.get_height()\n",
    "    ax.text(p.get_x() + p.get_width()/2.,\n",
    "            height + 3,\n",
    "            '{0:.2%}'.format(height/total),\n",
    "            ha=\"center\")\n",
    "plt.title('Distribution of income classes', fontsize=15)\n",
    "plt.show()"
   ]
  },
  {
   "cell_type": "code",
   "execution_count": 11,
   "metadata": {
    "ExecuteTime": {
     "end_time": "2020-03-16T14:55:25.522568Z",
     "start_time": "2020-03-16T14:55:25.430655Z"
    }
   },
   "outputs": [],
   "source": [
    "X_train, X_val, y_train, y_val = train_test_split(X, y, test_size=0.2, stratify=y, random_state=SEED)"
   ]
  },
  {
   "cell_type": "code",
   "execution_count": 12,
   "metadata": {
    "ExecuteTime": {
     "end_time": "2020-03-16T14:55:25.538605Z",
     "start_time": "2020-03-16T14:55:25.523561Z"
    }
   },
   "outputs": [
    {
     "data": {
      "text/plain": [
       "15.113264688067838"
      ]
     },
     "execution_count": 12,
     "metadata": {},
     "output_type": "execute_result"
    }
   ],
   "source": [
    "ratio = float(np.sum(y_train == 0)) / np.sum(y_train == 1)\n",
    "ratio"
   ]
  },
  {
   "cell_type": "markdown",
   "metadata": {},
   "source": [
    "## Bayesian Hyperparameter Tuning with Hyperopt"
   ]
  },
  {
   "cell_type": "code",
   "execution_count": 13,
   "metadata": {
    "ExecuteTime": {
     "end_time": "2020-03-16T14:55:25.553565Z",
     "start_time": "2020-03-16T14:55:25.539607Z"
    }
   },
   "outputs": [],
   "source": [
    "preprocessor = make_column_transformer(\n",
    "    (Pipeline([\n",
    "        ('num', SimpleImputer()),\n",
    "        ('sc', StandardScaler()),\n",
    "    ]), numerical_features),\n",
    "    (Pipeline([\n",
    "        ('num', SimpleImputer(strategy='constant', fill_value='Unknown')),\n",
    "        ('enc', OneHotEncoder(categories='auto', sparse = False, handle_unknown='ignore'))\n",
    "    ]), categorical_features),\n",
    "    remainder='drop'\n",
    ")\n",
    "\n",
    "pipeline = Pipeline([\n",
    "    ('pre', preprocessor),\n",
    "    ('sel', SelectKBest(k=75))\n",
    "])"
   ]
  },
  {
   "cell_type": "code",
   "execution_count": 14,
   "metadata": {
    "ExecuteTime": {
     "end_time": "2020-03-16T14:55:27.144446Z",
     "start_time": "2020-03-16T14:55:25.554595Z"
    }
   },
   "outputs": [],
   "source": [
    "X_train = pipeline.fit_transform(X_train, y_train)\n",
    "X_val = pipeline.transform(X_val)"
   ]
  },
  {
   "cell_type": "code",
   "execution_count": 15,
   "metadata": {
    "ExecuteTime": {
     "end_time": "2020-03-16T14:55:27.160277Z",
     "start_time": "2020-03-16T14:55:27.145352Z"
    }
   },
   "outputs": [],
   "source": [
    "#scorer = make_scorer(roc_auc_score)"
   ]
  },
  {
   "cell_type": "code",
   "execution_count": 16,
   "metadata": {
    "ExecuteTime": {
     "end_time": "2020-03-16T14:55:27.176225Z",
     "start_time": "2020-03-16T14:55:27.162278Z"
    }
   },
   "outputs": [],
   "source": [
    "# Scoring and optimization functions\n",
    "def score(params):\n",
    "    print(\"Training with params: \")\n",
    "    print(params)\n",
    "    num_round = int(params['n_estimators'])\n",
    "    del params['n_estimators']\n",
    "    dtrain = xgb.DMatrix(X_train, label=y_train)\n",
    "    dvalid = xgb.DMatrix(X_val, label=y_val.values)\n",
    "    watchlist = [(dvalid, 'eval'), (dtrain, 'train')]\n",
    "    gbm_model = xgb.train(params, dtrain, num_round,\n",
    "                          evals=watchlist,\n",
    "                          verbose_eval=True)\n",
    "    \n",
    "    predictions = gbm_model.predict(dvalid, ntree_limit=gbm_model.best_iteration + 1)\n",
    "    \n",
    "    fpr, tpr, thresholds = roc_curve(y_val, predictions)\n",
    "    score = auc(fpr, tpr)\n",
    "    # TODO: Add the importance for the selected features\n",
    "    print(\"\\tScore {0}\\n\\n\".format(score))\n",
    "    # The score function should return the loss (1-score)\n",
    "    # since the optimize function looks for the minimum\n",
    "    loss = 1 - score\n",
    "    return {'loss': loss, 'status': STATUS_OK}"
   ]
  },
  {
   "cell_type": "code",
   "execution_count": 17,
   "metadata": {
    "ExecuteTime": {
     "end_time": "2020-03-16T14:55:27.191601Z",
     "start_time": "2020-03-16T14:55:27.177223Z"
    }
   },
   "outputs": [],
   "source": [
    "def optimize(random_state=SEED):\n",
    "    \"\"\"\n",
    "    This is the optimization function that given a space of hyperparameters and a scoring function, \n",
    "    finds the best hyperparameters.\n",
    "    \"\"\"\n",
    "    space = {\n",
    "        'n_estimators': hp.quniform('n_estimators', 100, 2000, 100),\n",
    "        'eta': hp.quniform('eta', 0.025, 0.1, 0.025),\n",
    "        # A problem with max_depth casted to float instead of int with\n",
    "        # the hp.quniform method.\n",
    "        'max_depth':  hp.choice('max_depth', np.arange(1, 14, dtype=int)),\n",
    "        'min_child_weight': hp.quniform('min_child_weight', 1, 6, 1),\n",
    "        'subsample': hp.quniform('subsample', 0.5, 1, 0.05),\n",
    "        'gamma': hp.quniform('gamma', 0.5, 1, 0.05),\n",
    "        'colsample_bytree': hp.quniform('colsample_bytree', 0.5, 1, 0.05),\n",
    "        'scale_pos_weight': ratio,\n",
    "        'eval_metric': 'auc',\n",
    "        'objective': 'binary:logistic',\n",
    "        # Increase this number if you have more cores. Otherwise, remove it and it will default \n",
    "        # to the maxium number. \n",
    "        'nthread': 5,\n",
    "        'booster': 'gbtree',\n",
    "        'tree_method': 'gpu_hist',\n",
    "        'silent': 1,\n",
    "        'seed': random_state\n",
    "    }\n",
    "    # Use the fmin function from Hyperopt to find the best hyperparameters\n",
    "    best = fmin(score, space, algo=tpe.suggest, max_evals=250, rstate=np.random.RandomState(random_state))\n",
    "    return best"
   ]
  },
  {
   "cell_type": "code",
   "execution_count": null,
   "metadata": {
    "ExecuteTime": {
     "end_time": "2020-03-16T19:24:29.760208Z",
     "start_time": "2020-03-16T14:55:27.192567Z"
    },
    "scrolled": false
   },
   "outputs": [],
   "source": [
    "best_hyperparams = optimize()\n",
    "best_hyperparams"
   ]
  },
  {
   "cell_type": "code",
   "execution_count": 20,
   "metadata": {
    "ExecuteTime": {
     "end_time": "2020-03-16T19:30:46.170497Z",
     "start_time": "2020-03-16T19:30:46.153542Z"
    }
   },
   "outputs": [],
   "source": [
    "preprocessor = make_column_transformer(\n",
    "    (Pipeline([\n",
    "        ('sc', StandardScaler()),\n",
    "    ]), numerical_features),\n",
    "    (Pipeline([\n",
    "        ('enc', OneHotEncoder(categories='auto', sparse = False, handle_unknown='ignore'))\n",
    "    ]), categorical_features),\n",
    "    remainder='drop'\n",
    ")\n",
    "\n",
    "selectKBest_model = Pipeline([\n",
    "    ('pre', preprocessor),\n",
    "    ('sel', SelectKBest(k=75)),\n",
    "    ('clf', XGBClassifier(\n",
    "        learning_rate=0.075,\n",
    "        n_estimators=1800,\n",
    "        max_depth=2,\n",
    "        min_child_weight=6,\n",
    "        gamma=0.95,    \n",
    "        subsample=0.95,\n",
    "        colsample_bytree=0.8,\n",
    "        scale_pos_weight=ratio,\n",
    "        random_state=666, \n",
    "        tree_method='gpu_hist',\n",
    "        objective='binary:logistic'))\n",
    "])"
   ]
  },
  {
   "cell_type": "code",
   "execution_count": 21,
   "metadata": {
    "ExecuteTime": {
     "end_time": "2020-03-16T19:31:00.202024Z",
     "start_time": "2020-03-16T19:30:48.576724Z"
    }
   },
   "outputs": [
    {
     "name": "stdout",
     "output_type": "stream",
     "text": [
      "              precision    recall  f1-score   support\n",
      "\n",
      "           0       0.99      0.87      0.92     37429\n",
      "           1       0.31      0.89      0.46      2476\n",
      "\n",
      "    accuracy                           0.87     39905\n",
      "   macro avg       0.65      0.88      0.69     39905\n",
      "weighted avg       0.95      0.87      0.90     39905\n",
      "\n",
      "AUC: 0.8788036744291863\n"
     ]
    }
   ],
   "source": [
    "X_train, X_val, y_train, y_val = train_test_split(X, y, test_size=0.2, stratify=y, random_state=SEED)\n",
    "selectKBest_model.fit(X_train, y_train);\n",
    "y_pred = selectKBest_model.predict(X_val)\n",
    "\n",
    "print(classification_report(y_val, y_pred))\n",
    "fpr, tpr, thresholds = roc_curve(y_val, y_pred)\n",
    "\n",
    "print(\"AUC: %s\" % auc(fpr, tpr))"
   ]
  },
  {
   "cell_type": "markdown",
   "metadata": {},
   "source": [
    "## Test"
   ]
  },
  {
   "cell_type": "markdown",
   "metadata": {},
   "source": [
    "### Load Dataset"
   ]
  },
  {
   "cell_type": "code",
   "execution_count": 22,
   "metadata": {
    "ExecuteTime": {
     "end_time": "2020-03-16T19:31:08.858982Z",
     "start_time": "2020-03-16T19:31:06.133940Z"
    }
   },
   "outputs": [],
   "source": [
    "# The C engine doesn't support RegEx so we set it to Python to avoid the warning\n",
    "census_test = pd.read_csv('data/census-income.test', header=None, sep=',\\s',  na_values=['?', 'Do not know', 'Not identifiable'], engine='python')"
   ]
  },
  {
   "cell_type": "code",
   "execution_count": 23,
   "metadata": {
    "ExecuteTime": {
     "end_time": "2020-03-16T19:31:10.204987Z",
     "start_time": "2020-03-16T19:31:10.174125Z"
    }
   },
   "outputs": [
    {
     "data": {
      "text/html": [
       "<div>\n",
       "<style scoped>\n",
       "    .dataframe tbody tr th:only-of-type {\n",
       "        vertical-align: middle;\n",
       "    }\n",
       "\n",
       "    .dataframe tbody tr th {\n",
       "        vertical-align: top;\n",
       "    }\n",
       "\n",
       "    .dataframe thead th {\n",
       "        text-align: right;\n",
       "    }\n",
       "</style>\n",
       "<table border=\"1\" class=\"dataframe\">\n",
       "  <thead>\n",
       "    <tr style=\"text-align: right;\">\n",
       "      <th></th>\n",
       "      <th>age</th>\n",
       "      <th>class of worker</th>\n",
       "      <th>detailed industry recode</th>\n",
       "      <th>detailed occupation recode</th>\n",
       "      <th>education</th>\n",
       "      <th>wage per hour</th>\n",
       "      <th>enroll in edu inst last wk</th>\n",
       "      <th>marital status</th>\n",
       "      <th>major industry code</th>\n",
       "      <th>major occupation code</th>\n",
       "      <th>...</th>\n",
       "      <th>country of birth father</th>\n",
       "      <th>country of birth mother</th>\n",
       "      <th>country of birth self</th>\n",
       "      <th>citizenship</th>\n",
       "      <th>own business or self employed</th>\n",
       "      <th>fill inc questionnaire for veteran's admin</th>\n",
       "      <th>veterans benefits</th>\n",
       "      <th>weeks worked in year</th>\n",
       "      <th>year</th>\n",
       "      <th>income class</th>\n",
       "    </tr>\n",
       "  </thead>\n",
       "  <tbody>\n",
       "    <tr>\n",
       "      <th>0</th>\n",
       "      <td>38</td>\n",
       "      <td>Private</td>\n",
       "      <td>6</td>\n",
       "      <td>36</td>\n",
       "      <td>1st 2nd 3rd or 4th grade</td>\n",
       "      <td>0</td>\n",
       "      <td>Not in universe</td>\n",
       "      <td>Married-civilian spouse present</td>\n",
       "      <td>Manufacturing-durable goods</td>\n",
       "      <td>Machine operators assmblrs &amp; inspctrs</td>\n",
       "      <td>...</td>\n",
       "      <td>Mexico</td>\n",
       "      <td>Mexico</td>\n",
       "      <td>Mexico</td>\n",
       "      <td>Foreign born- Not a citizen of U S</td>\n",
       "      <td>0</td>\n",
       "      <td>Not in universe</td>\n",
       "      <td>2</td>\n",
       "      <td>12</td>\n",
       "      <td>95</td>\n",
       "      <td>- 50000.</td>\n",
       "    </tr>\n",
       "    <tr>\n",
       "      <th>1</th>\n",
       "      <td>44</td>\n",
       "      <td>Self-employed-not incorporated</td>\n",
       "      <td>37</td>\n",
       "      <td>12</td>\n",
       "      <td>Associates degree-occup /vocational</td>\n",
       "      <td>0</td>\n",
       "      <td>Not in universe</td>\n",
       "      <td>Married-civilian spouse present</td>\n",
       "      <td>Business and repair services</td>\n",
       "      <td>Professional specialty</td>\n",
       "      <td>...</td>\n",
       "      <td>United-States</td>\n",
       "      <td>United-States</td>\n",
       "      <td>United-States</td>\n",
       "      <td>Native- Born in the United States</td>\n",
       "      <td>0</td>\n",
       "      <td>Not in universe</td>\n",
       "      <td>2</td>\n",
       "      <td>26</td>\n",
       "      <td>95</td>\n",
       "      <td>- 50000.</td>\n",
       "    </tr>\n",
       "    <tr>\n",
       "      <th>2</th>\n",
       "      <td>2</td>\n",
       "      <td>Not in universe</td>\n",
       "      <td>0</td>\n",
       "      <td>0</td>\n",
       "      <td>Children</td>\n",
       "      <td>0</td>\n",
       "      <td>Not in universe</td>\n",
       "      <td>Never married</td>\n",
       "      <td>Not in universe or children</td>\n",
       "      <td>Not in universe</td>\n",
       "      <td>...</td>\n",
       "      <td>United-States</td>\n",
       "      <td>United-States</td>\n",
       "      <td>United-States</td>\n",
       "      <td>Native- Born in the United States</td>\n",
       "      <td>0</td>\n",
       "      <td>Not in universe</td>\n",
       "      <td>0</td>\n",
       "      <td>0</td>\n",
       "      <td>95</td>\n",
       "      <td>- 50000.</td>\n",
       "    </tr>\n",
       "    <tr>\n",
       "      <th>3</th>\n",
       "      <td>35</td>\n",
       "      <td>Private</td>\n",
       "      <td>29</td>\n",
       "      <td>3</td>\n",
       "      <td>High school graduate</td>\n",
       "      <td>0</td>\n",
       "      <td>Not in universe</td>\n",
       "      <td>Divorced</td>\n",
       "      <td>Transportation</td>\n",
       "      <td>Executive admin and managerial</td>\n",
       "      <td>...</td>\n",
       "      <td>United-States</td>\n",
       "      <td>United-States</td>\n",
       "      <td>United-States</td>\n",
       "      <td>Native- Born in the United States</td>\n",
       "      <td>2</td>\n",
       "      <td>Not in universe</td>\n",
       "      <td>2</td>\n",
       "      <td>52</td>\n",
       "      <td>94</td>\n",
       "      <td>- 50000.</td>\n",
       "    </tr>\n",
       "    <tr>\n",
       "      <th>4</th>\n",
       "      <td>49</td>\n",
       "      <td>Private</td>\n",
       "      <td>4</td>\n",
       "      <td>34</td>\n",
       "      <td>High school graduate</td>\n",
       "      <td>0</td>\n",
       "      <td>Not in universe</td>\n",
       "      <td>Divorced</td>\n",
       "      <td>Construction</td>\n",
       "      <td>Precision production craft &amp; repair</td>\n",
       "      <td>...</td>\n",
       "      <td>United-States</td>\n",
       "      <td>United-States</td>\n",
       "      <td>United-States</td>\n",
       "      <td>Native- Born in the United States</td>\n",
       "      <td>0</td>\n",
       "      <td>Not in universe</td>\n",
       "      <td>2</td>\n",
       "      <td>50</td>\n",
       "      <td>95</td>\n",
       "      <td>- 50000.</td>\n",
       "    </tr>\n",
       "  </tbody>\n",
       "</table>\n",
       "<p>5 rows × 42 columns</p>\n",
       "</div>"
      ],
      "text/plain": [
       "   age                 class of worker  detailed industry recode  \\\n",
       "0   38                         Private                         6   \n",
       "1   44  Self-employed-not incorporated                        37   \n",
       "2    2                 Not in universe                         0   \n",
       "3   35                         Private                        29   \n",
       "4   49                         Private                         4   \n",
       "\n",
       "   detailed occupation recode                            education  \\\n",
       "0                          36             1st 2nd 3rd or 4th grade   \n",
       "1                          12  Associates degree-occup /vocational   \n",
       "2                           0                             Children   \n",
       "3                           3                 High school graduate   \n",
       "4                          34                 High school graduate   \n",
       "\n",
       "   wage per hour enroll in edu inst last wk                   marital status  \\\n",
       "0              0            Not in universe  Married-civilian spouse present   \n",
       "1              0            Not in universe  Married-civilian spouse present   \n",
       "2              0            Not in universe                    Never married   \n",
       "3              0            Not in universe                         Divorced   \n",
       "4              0            Not in universe                         Divorced   \n",
       "\n",
       "            major industry code                  major occupation code  ...  \\\n",
       "0   Manufacturing-durable goods  Machine operators assmblrs & inspctrs  ...   \n",
       "1  Business and repair services                 Professional specialty  ...   \n",
       "2   Not in universe or children                        Not in universe  ...   \n",
       "3                Transportation         Executive admin and managerial  ...   \n",
       "4                  Construction    Precision production craft & repair  ...   \n",
       "\n",
       "  country of birth father country of birth mother country of birth self  \\\n",
       "0                  Mexico                  Mexico                Mexico   \n",
       "1           United-States           United-States         United-States   \n",
       "2           United-States           United-States         United-States   \n",
       "3           United-States           United-States         United-States   \n",
       "4           United-States           United-States         United-States   \n",
       "\n",
       "                           citizenship own business or self employed  \\\n",
       "0  Foreign born- Not a citizen of U S                              0   \n",
       "1    Native- Born in the United States                             0   \n",
       "2    Native- Born in the United States                             0   \n",
       "3    Native- Born in the United States                             2   \n",
       "4    Native- Born in the United States                             0   \n",
       "\n",
       "  fill inc questionnaire for veteran's admin  veterans benefits  \\\n",
       "0                            Not in universe                  2   \n",
       "1                            Not in universe                  2   \n",
       "2                            Not in universe                  0   \n",
       "3                            Not in universe                  2   \n",
       "4                            Not in universe                  2   \n",
       "\n",
       "   weeks worked in year  year income class  \n",
       "0                    12    95     - 50000.  \n",
       "1                    26    95     - 50000.  \n",
       "2                     0    95     - 50000.  \n",
       "3                    52    94     - 50000.  \n",
       "4                    50    95     - 50000.  \n",
       "\n",
       "[5 rows x 42 columns]"
      ]
     },
     "execution_count": 23,
     "metadata": {},
     "output_type": "execute_result"
    }
   ],
   "source": [
    "census_test.columns = census_columns\n",
    "census_test.head()"
   ]
  },
  {
   "cell_type": "markdown",
   "metadata": {},
   "source": [
    "### Clean Dataset"
   ]
  },
  {
   "cell_type": "code",
   "execution_count": 24,
   "metadata": {
    "ExecuteTime": {
     "end_time": "2020-03-16T19:31:14.883976Z",
     "start_time": "2020-03-16T19:31:11.534214Z"
    }
   },
   "outputs": [
    {
     "name": "stdout",
     "output_type": "stream",
     "text": [
      "Memory usage of dataframe:  18.26708984375  MB\n"
     ]
    },
    {
     "data": {
      "application/vnd.jupyter.widget-view+json": {
       "model_id": "7c2927f0e7c249f399990e74f28dd029",
       "version_major": 2,
       "version_minor": 0
      },
      "text/plain": [
       "HBox(children=(FloatProgress(value=0.0, max=24.0), HTML(value='')))"
      ]
     },
     "metadata": {},
     "output_type": "display_data"
    },
    {
     "name": "stdout",
     "output_type": "stream",
     "text": [
      "\n",
      "___MEMORY USAGE AFTER COMPLETION:___\n",
      "Memory usage is: 6.279392242431641 MB\n",
      "This is 34.38% of the initial size\n"
     ]
    },
    {
     "data": {
      "text/html": [
       "<div>\n",
       "<style scoped>\n",
       "    .dataframe tbody tr th:only-of-type {\n",
       "        vertical-align: middle;\n",
       "    }\n",
       "\n",
       "    .dataframe tbody tr th {\n",
       "        vertical-align: top;\n",
       "    }\n",
       "\n",
       "    .dataframe thead th {\n",
       "        text-align: right;\n",
       "    }\n",
       "</style>\n",
       "<table border=\"1\" class=\"dataframe\">\n",
       "  <thead>\n",
       "    <tr style=\"text-align: right;\">\n",
       "      <th></th>\n",
       "      <th>age</th>\n",
       "      <th>detailed industry recode</th>\n",
       "      <th>detailed occupation recode</th>\n",
       "      <th>education</th>\n",
       "      <th>wage per hour</th>\n",
       "      <th>marital status</th>\n",
       "      <th>race</th>\n",
       "      <th>hispanic origin</th>\n",
       "      <th>sex</th>\n",
       "      <th>full or part time employment stat</th>\n",
       "      <th>...</th>\n",
       "      <th>num persons worked for employer</th>\n",
       "      <th>country of birth father</th>\n",
       "      <th>country of birth mother</th>\n",
       "      <th>country of birth self</th>\n",
       "      <th>citizenship</th>\n",
       "      <th>own business or self employed</th>\n",
       "      <th>veterans benefits</th>\n",
       "      <th>weeks worked in year</th>\n",
       "      <th>income class</th>\n",
       "      <th>capital gains loss</th>\n",
       "    </tr>\n",
       "  </thead>\n",
       "  <tbody>\n",
       "    <tr>\n",
       "      <th>0</th>\n",
       "      <td>38</td>\n",
       "      <td>6</td>\n",
       "      <td>36</td>\n",
       "      <td>0</td>\n",
       "      <td>0</td>\n",
       "      <td>1</td>\n",
       "      <td>1</td>\n",
       "      <td>1</td>\n",
       "      <td>0</td>\n",
       "      <td>Full-time schedules</td>\n",
       "      <td>...</td>\n",
       "      <td>4</td>\n",
       "      <td>0</td>\n",
       "      <td>0</td>\n",
       "      <td>0</td>\n",
       "      <td>Foreign born- Not a citizen of U S</td>\n",
       "      <td>0</td>\n",
       "      <td>2</td>\n",
       "      <td>12</td>\n",
       "      <td>0</td>\n",
       "      <td>0</td>\n",
       "    </tr>\n",
       "    <tr>\n",
       "      <th>1</th>\n",
       "      <td>44</td>\n",
       "      <td>37</td>\n",
       "      <td>12</td>\n",
       "      <td>2</td>\n",
       "      <td>0</td>\n",
       "      <td>1</td>\n",
       "      <td>1</td>\n",
       "      <td>0</td>\n",
       "      <td>0</td>\n",
       "      <td>PT for econ reasons usually PT</td>\n",
       "      <td>...</td>\n",
       "      <td>1</td>\n",
       "      <td>1</td>\n",
       "      <td>1</td>\n",
       "      <td>1</td>\n",
       "      <td>Native- Born in the United States</td>\n",
       "      <td>0</td>\n",
       "      <td>2</td>\n",
       "      <td>26</td>\n",
       "      <td>0</td>\n",
       "      <td>0</td>\n",
       "    </tr>\n",
       "    <tr>\n",
       "      <th>2</th>\n",
       "      <td>2</td>\n",
       "      <td>0</td>\n",
       "      <td>0</td>\n",
       "      <td>0</td>\n",
       "      <td>0</td>\n",
       "      <td>0</td>\n",
       "      <td>1</td>\n",
       "      <td>1</td>\n",
       "      <td>1</td>\n",
       "      <td>Children or Armed Forces</td>\n",
       "      <td>...</td>\n",
       "      <td>0</td>\n",
       "      <td>1</td>\n",
       "      <td>1</td>\n",
       "      <td>1</td>\n",
       "      <td>Native- Born in the United States</td>\n",
       "      <td>0</td>\n",
       "      <td>0</td>\n",
       "      <td>0</td>\n",
       "      <td>0</td>\n",
       "      <td>0</td>\n",
       "    </tr>\n",
       "    <tr>\n",
       "      <th>3</th>\n",
       "      <td>35</td>\n",
       "      <td>29</td>\n",
       "      <td>3</td>\n",
       "      <td>1</td>\n",
       "      <td>0</td>\n",
       "      <td>0</td>\n",
       "      <td>1</td>\n",
       "      <td>0</td>\n",
       "      <td>0</td>\n",
       "      <td>Children or Armed Forces</td>\n",
       "      <td>...</td>\n",
       "      <td>5</td>\n",
       "      <td>1</td>\n",
       "      <td>1</td>\n",
       "      <td>1</td>\n",
       "      <td>Native- Born in the United States</td>\n",
       "      <td>2</td>\n",
       "      <td>2</td>\n",
       "      <td>52</td>\n",
       "      <td>0</td>\n",
       "      <td>0</td>\n",
       "    </tr>\n",
       "    <tr>\n",
       "      <th>4</th>\n",
       "      <td>49</td>\n",
       "      <td>4</td>\n",
       "      <td>34</td>\n",
       "      <td>1</td>\n",
       "      <td>0</td>\n",
       "      <td>0</td>\n",
       "      <td>1</td>\n",
       "      <td>0</td>\n",
       "      <td>1</td>\n",
       "      <td>Full-time schedules</td>\n",
       "      <td>...</td>\n",
       "      <td>4</td>\n",
       "      <td>1</td>\n",
       "      <td>1</td>\n",
       "      <td>1</td>\n",
       "      <td>Native- Born in the United States</td>\n",
       "      <td>0</td>\n",
       "      <td>2</td>\n",
       "      <td>50</td>\n",
       "      <td>0</td>\n",
       "      <td>0</td>\n",
       "    </tr>\n",
       "  </tbody>\n",
       "</table>\n",
       "<p>5 rows × 24 columns</p>\n",
       "</div>"
      ],
      "text/plain": [
       "   age  detailed industry recode  detailed occupation recode  education  \\\n",
       "0   38                         6                          36          0   \n",
       "1   44                        37                          12          2   \n",
       "2    2                         0                           0          0   \n",
       "3   35                        29                           3          1   \n",
       "4   49                         4                          34          1   \n",
       "\n",
       "   wage per hour  marital status  race  hispanic origin  sex  \\\n",
       "0              0               1     1                1    0   \n",
       "1              0               1     1                0    0   \n",
       "2              0               0     1                1    1   \n",
       "3              0               0     1                0    0   \n",
       "4              0               0     1                0    1   \n",
       "\n",
       "  full or part time employment stat  ...  num persons worked for employer  \\\n",
       "0               Full-time schedules  ...                                4   \n",
       "1    PT for econ reasons usually PT  ...                                1   \n",
       "2          Children or Armed Forces  ...                                0   \n",
       "3          Children or Armed Forces  ...                                5   \n",
       "4               Full-time schedules  ...                                4   \n",
       "\n",
       "  country of birth father country of birth mother country of birth self  \\\n",
       "0                       0                       0                     0   \n",
       "1                       1                       1                     1   \n",
       "2                       1                       1                     1   \n",
       "3                       1                       1                     1   \n",
       "4                       1                       1                     1   \n",
       "\n",
       "                           citizenship  own business or self employed  \\\n",
       "0  Foreign born- Not a citizen of U S                               0   \n",
       "1    Native- Born in the United States                              0   \n",
       "2    Native- Born in the United States                              0   \n",
       "3    Native- Born in the United States                              2   \n",
       "4    Native- Born in the United States                              0   \n",
       "\n",
       "   veterans benefits  weeks worked in year income class  capital gains loss  \n",
       "0                  2                    12            0                   0  \n",
       "1                  2                    26            0                   0  \n",
       "2                  0                     0            0                   0  \n",
       "3                  2                    52            0                   0  \n",
       "4                  2                    50            0                   0  \n",
       "\n",
       "[5 rows x 24 columns]"
      ]
     },
     "execution_count": 24,
     "metadata": {},
     "output_type": "execute_result"
    }
   ],
   "source": [
    "census_test = clean_dataset(census_test)\n",
    "census_test.head()"
   ]
  },
  {
   "cell_type": "code",
   "execution_count": 25,
   "metadata": {
    "ExecuteTime": {
     "end_time": "2020-03-16T19:31:17.779612Z",
     "start_time": "2020-03-16T19:31:17.738741Z"
    },
    "scrolled": true
   },
   "outputs": [
    {
     "name": "stdout",
     "output_type": "stream",
     "text": [
      "<class 'pandas.core.frame.DataFrame'>\n",
      "RangeIndex: 99762 entries, 0 to 99761\n",
      "Data columns (total 24 columns):\n",
      " #   Column                                   Non-Null Count  Dtype \n",
      "---  ------                                   --------------  ----- \n",
      " 0   age                                      99762 non-null  uint8 \n",
      " 1   detailed industry recode                 99762 non-null  uint8 \n",
      " 2   detailed occupation recode               99762 non-null  uint8 \n",
      " 3   education                                99762 non-null  uint8 \n",
      " 4   wage per hour                            99762 non-null  uint16\n",
      " 5   marital status                           99762 non-null  uint8 \n",
      " 6   race                                     99762 non-null  uint8 \n",
      " 7   hispanic origin                          99762 non-null  uint8 \n",
      " 8   sex                                      99762 non-null  uint8 \n",
      " 9   full or part time employment stat        99762 non-null  object\n",
      " 10  dividends from stocks                    99762 non-null  uint32\n",
      " 11  tax filer stat                           99762 non-null  object\n",
      " 12  detailed household and family stat       99762 non-null  object\n",
      " 13  detailed household summary in household  99762 non-null  object\n",
      " 14  num persons worked for employer          99762 non-null  uint8 \n",
      " 15  country of birth father                  99762 non-null  uint8 \n",
      " 16  country of birth mother                  99762 non-null  uint8 \n",
      " 17  country of birth self                    99762 non-null  uint8 \n",
      " 18  citizenship                              99762 non-null  object\n",
      " 19  own business or self employed            99762 non-null  uint8 \n",
      " 20  veterans benefits                        99762 non-null  uint8 \n",
      " 21  weeks worked in year                     99762 non-null  uint8 \n",
      " 22  income class                             99762 non-null  uint8 \n",
      " 23  capital gains loss                       99762 non-null  int32 \n",
      "dtypes: int32(1), object(5), uint16(1), uint32(1), uint8(16)\n",
      "memory usage: 6.3+ MB\n"
     ]
    }
   ],
   "source": [
    "census_test.info()"
   ]
  },
  {
   "cell_type": "markdown",
   "metadata": {},
   "source": [
    "### Predictions"
   ]
  },
  {
   "cell_type": "code",
   "execution_count": 26,
   "metadata": {
    "ExecuteTime": {
     "end_time": "2020-03-16T19:31:21.734963Z",
     "start_time": "2020-03-16T19:31:21.711059Z"
    }
   },
   "outputs": [],
   "source": [
    "X_test = census_test.drop('income class', axis=1)\n",
    "y_test = census_test['income class']"
   ]
  },
  {
   "cell_type": "markdown",
   "metadata": {},
   "source": [
    "#### SelectKBest"
   ]
  },
  {
   "cell_type": "code",
   "execution_count": 27,
   "metadata": {
    "ExecuteTime": {
     "end_time": "2020-03-16T19:31:25.772995Z",
     "start_time": "2020-03-16T19:31:24.526638Z"
    }
   },
   "outputs": [
    {
     "name": "stdout",
     "output_type": "stream",
     "text": [
      "              precision    recall  f1-score   support\n",
      "\n",
      "           0       0.99      0.87      0.93     93576\n",
      "           1       0.31      0.89      0.46      6186\n",
      "\n",
      "    accuracy                           0.87     99762\n",
      "   macro avg       0.65      0.88      0.69     99762\n",
      "weighted avg       0.95      0.87      0.90     99762\n",
      "\n",
      "AUC: 0.8793472602382482\n"
     ]
    }
   ],
   "source": [
    "y_pred_test = selectKBest_model.predict(X_test)\n",
    "\n",
    "print(classification_report(y_test, y_pred_test))\n",
    "fpr, tpr, thresholds = roc_curve(y_test, y_pred_test)\n",
    "\n",
    "print(\"AUC: %s\" % auc(fpr, tpr))"
   ]
  },
  {
   "cell_type": "code",
   "execution_count": null,
   "metadata": {
    "ExecuteTime": {
     "end_time": "2020-03-15T13:27:59.673485Z",
     "start_time": "2020-03-15T13:27:59.492172Z"
    }
   },
   "outputs": [],
   "source": [
    "submission = pd.DataFrame(y_pred_test).astype(float)\n",
    "submission.columns = ['income class']\n",
    "submission.reset_index(inplace=True)\n",
    "submission.to_csv('temp/XGBoost HyperOpt with SelectKBest.csv', index=False)"
   ]
  },
  {
   "cell_type": "code",
   "execution_count": null,
   "metadata": {},
   "outputs": [],
   "source": []
  }
 ],
 "metadata": {
  "kernelspec": {
   "display_name": "Python 3",
   "language": "python",
   "name": "python3"
  },
  "language_info": {
   "codemirror_mode": {
    "name": "ipython",
    "version": 3
   },
   "file_extension": ".py",
   "mimetype": "text/x-python",
   "name": "python",
   "nbconvert_exporter": "python",
   "pygments_lexer": "ipython3",
   "version": "3.7.6"
  },
  "toc": {
   "base_numbering": 1,
   "nav_menu": {},
   "number_sections": true,
   "sideBar": true,
   "skip_h1_title": false,
   "title_cell": "Table of Contents",
   "title_sidebar": "Contents",
   "toc_cell": false,
   "toc_position": {},
   "toc_section_display": true,
   "toc_window_display": false
  },
  "varInspector": {
   "cols": {
    "lenName": 16,
    "lenType": 16,
    "lenVar": 40
   },
   "kernels_config": {
    "python": {
     "delete_cmd_postfix": "",
     "delete_cmd_prefix": "del ",
     "library": "var_list.py",
     "varRefreshCmd": "print(var_dic_list())"
    },
    "r": {
     "delete_cmd_postfix": ") ",
     "delete_cmd_prefix": "rm(",
     "library": "var_list.r",
     "varRefreshCmd": "cat(var_dic_list()) "
    }
   },
   "types_to_exclude": [
    "module",
    "function",
    "builtin_function_or_method",
    "instance",
    "_Feature"
   ],
   "window_display": false
  }
 },
 "nbformat": 4,
 "nbformat_minor": 4
}
