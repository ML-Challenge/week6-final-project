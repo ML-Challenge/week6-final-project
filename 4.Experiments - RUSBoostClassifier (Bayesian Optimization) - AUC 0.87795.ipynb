{
 "cells": [
  {
   "cell_type": "markdown",
   "metadata": {},
   "source": [
    "## Import Dependencies"
   ]
  },
  {
   "cell_type": "code",
   "execution_count": 1,
   "metadata": {
    "ExecuteTime": {
     "end_time": "2020-03-15T13:38:19.449705Z",
     "start_time": "2020-03-15T13:38:15.051468Z"
    }
   },
   "outputs": [
    {
     "name": "stderr",
     "output_type": "stream",
     "text": [
      "Using TensorFlow backend.\n"
     ]
    }
   ],
   "source": [
    "import pandas as pd\n",
    "import numpy as np\n",
    "import matplotlib.pyplot as plt\n",
    "\n",
    "import seaborn as sns\n",
    "\n",
    "#from sklearn.pipeline import Pipeline\n",
    "from imblearn.pipeline import Pipeline\n",
    "from sklearn.model_selection import train_test_split, GridSearchCV, cross_val_score\n",
    "from sklearn.decomposition import PCA\n",
    "from sklearn.feature_selection import SelectKBest\n",
    "from sklearn.compose import make_column_transformer\n",
    "from sklearn.preprocessing import OneHotEncoder, PowerTransformer, StandardScaler\n",
    "from sklearn.feature_extraction import FeatureHasher\n",
    "from sklearn.impute import SimpleImputer\n",
    "from sklearn.metrics import classification_report, plot_roc_curve, roc_curve, roc_auc_score, auc\n",
    "\n",
    "from imblearn.ensemble import BalancedRandomForestClassifier, RUSBoostClassifier, BalancedBaggingClassifier\n",
    "\n",
    "# Hyperparameters tuning\n",
    "from hyperopt import STATUS_OK, Trials, fmin, hp, tpe\n",
    "\n",
    "# magic word for producing visualizations in notebook\n",
    "%matplotlib inline\n",
    "\n",
    "# and setting the size of all plots.\n",
    "plt.rcParams['figure.figsize'] = [11, 7]"
   ]
  },
  {
   "cell_type": "markdown",
   "metadata": {},
   "source": [
    "## Load Dataset"
   ]
  },
  {
   "cell_type": "code",
   "execution_count": 2,
   "metadata": {
    "ExecuteTime": {
     "end_time": "2020-03-15T13:38:25.191280Z",
     "start_time": "2020-03-15T13:38:19.469552Z"
    }
   },
   "outputs": [],
   "source": [
    "# The C engine doesn't support RegEx so we set it to Python to avoid the warning\n",
    "census = pd.read_csv('data/census-income.data', header=None, sep=',\\s', na_values=['?'], engine='python')"
   ]
  },
  {
   "cell_type": "code",
   "execution_count": 3,
   "metadata": {
    "ExecuteTime": {
     "end_time": "2020-03-15T13:38:25.298984Z",
     "start_time": "2020-03-15T13:38:25.270072Z"
    }
   },
   "outputs": [
    {
     "data": {
      "text/html": [
       "<div>\n",
       "<style scoped>\n",
       "    .dataframe tbody tr th:only-of-type {\n",
       "        vertical-align: middle;\n",
       "    }\n",
       "\n",
       "    .dataframe tbody tr th {\n",
       "        vertical-align: top;\n",
       "    }\n",
       "\n",
       "    .dataframe thead th {\n",
       "        text-align: right;\n",
       "    }\n",
       "</style>\n",
       "<table border=\"1\" class=\"dataframe\">\n",
       "  <thead>\n",
       "    <tr style=\"text-align: right;\">\n",
       "      <th></th>\n",
       "      <th>age</th>\n",
       "      <th>class of worker</th>\n",
       "      <th>detailed industry recode</th>\n",
       "      <th>detailed occupation recode</th>\n",
       "      <th>education</th>\n",
       "      <th>wage per hour</th>\n",
       "      <th>enroll in edu inst last wk</th>\n",
       "      <th>marital status</th>\n",
       "      <th>major industry code</th>\n",
       "      <th>major occupation code</th>\n",
       "      <th>...</th>\n",
       "      <th>country of birth father</th>\n",
       "      <th>country of birth mother</th>\n",
       "      <th>country of birth self</th>\n",
       "      <th>citizenship</th>\n",
       "      <th>own business or self employed</th>\n",
       "      <th>fill inc questionnaire for veteran's admin</th>\n",
       "      <th>veterans benefits</th>\n",
       "      <th>weeks worked in year</th>\n",
       "      <th>year</th>\n",
       "      <th>income class</th>\n",
       "    </tr>\n",
       "  </thead>\n",
       "  <tbody>\n",
       "    <tr>\n",
       "      <th>0</th>\n",
       "      <td>73</td>\n",
       "      <td>Not in universe</td>\n",
       "      <td>0</td>\n",
       "      <td>0</td>\n",
       "      <td>High school graduate</td>\n",
       "      <td>0</td>\n",
       "      <td>Not in universe</td>\n",
       "      <td>Widowed</td>\n",
       "      <td>Not in universe or children</td>\n",
       "      <td>Not in universe</td>\n",
       "      <td>...</td>\n",
       "      <td>United-States</td>\n",
       "      <td>United-States</td>\n",
       "      <td>United-States</td>\n",
       "      <td>Native- Born in the United States</td>\n",
       "      <td>0</td>\n",
       "      <td>Not in universe</td>\n",
       "      <td>2</td>\n",
       "      <td>0</td>\n",
       "      <td>95</td>\n",
       "      <td>- 50000.</td>\n",
       "    </tr>\n",
       "    <tr>\n",
       "      <th>1</th>\n",
       "      <td>58</td>\n",
       "      <td>Self-employed-not incorporated</td>\n",
       "      <td>4</td>\n",
       "      <td>34</td>\n",
       "      <td>Some college but no degree</td>\n",
       "      <td>0</td>\n",
       "      <td>Not in universe</td>\n",
       "      <td>Divorced</td>\n",
       "      <td>Construction</td>\n",
       "      <td>Precision production craft &amp; repair</td>\n",
       "      <td>...</td>\n",
       "      <td>United-States</td>\n",
       "      <td>United-States</td>\n",
       "      <td>United-States</td>\n",
       "      <td>Native- Born in the United States</td>\n",
       "      <td>0</td>\n",
       "      <td>Not in universe</td>\n",
       "      <td>2</td>\n",
       "      <td>52</td>\n",
       "      <td>94</td>\n",
       "      <td>- 50000.</td>\n",
       "    </tr>\n",
       "    <tr>\n",
       "      <th>2</th>\n",
       "      <td>18</td>\n",
       "      <td>Not in universe</td>\n",
       "      <td>0</td>\n",
       "      <td>0</td>\n",
       "      <td>10th grade</td>\n",
       "      <td>0</td>\n",
       "      <td>High school</td>\n",
       "      <td>Never married</td>\n",
       "      <td>Not in universe or children</td>\n",
       "      <td>Not in universe</td>\n",
       "      <td>...</td>\n",
       "      <td>Vietnam</td>\n",
       "      <td>Vietnam</td>\n",
       "      <td>Vietnam</td>\n",
       "      <td>Foreign born- Not a citizen of U S</td>\n",
       "      <td>0</td>\n",
       "      <td>Not in universe</td>\n",
       "      <td>2</td>\n",
       "      <td>0</td>\n",
       "      <td>95</td>\n",
       "      <td>- 50000.</td>\n",
       "    </tr>\n",
       "    <tr>\n",
       "      <th>3</th>\n",
       "      <td>9</td>\n",
       "      <td>Not in universe</td>\n",
       "      <td>0</td>\n",
       "      <td>0</td>\n",
       "      <td>Children</td>\n",
       "      <td>0</td>\n",
       "      <td>Not in universe</td>\n",
       "      <td>Never married</td>\n",
       "      <td>Not in universe or children</td>\n",
       "      <td>Not in universe</td>\n",
       "      <td>...</td>\n",
       "      <td>United-States</td>\n",
       "      <td>United-States</td>\n",
       "      <td>United-States</td>\n",
       "      <td>Native- Born in the United States</td>\n",
       "      <td>0</td>\n",
       "      <td>Not in universe</td>\n",
       "      <td>0</td>\n",
       "      <td>0</td>\n",
       "      <td>94</td>\n",
       "      <td>- 50000.</td>\n",
       "    </tr>\n",
       "    <tr>\n",
       "      <th>4</th>\n",
       "      <td>10</td>\n",
       "      <td>Not in universe</td>\n",
       "      <td>0</td>\n",
       "      <td>0</td>\n",
       "      <td>Children</td>\n",
       "      <td>0</td>\n",
       "      <td>Not in universe</td>\n",
       "      <td>Never married</td>\n",
       "      <td>Not in universe or children</td>\n",
       "      <td>Not in universe</td>\n",
       "      <td>...</td>\n",
       "      <td>United-States</td>\n",
       "      <td>United-States</td>\n",
       "      <td>United-States</td>\n",
       "      <td>Native- Born in the United States</td>\n",
       "      <td>0</td>\n",
       "      <td>Not in universe</td>\n",
       "      <td>0</td>\n",
       "      <td>0</td>\n",
       "      <td>94</td>\n",
       "      <td>- 50000.</td>\n",
       "    </tr>\n",
       "  </tbody>\n",
       "</table>\n",
       "<p>5 rows × 42 columns</p>\n",
       "</div>"
      ],
      "text/plain": [
       "   age                 class of worker  detailed industry recode  \\\n",
       "0   73                 Not in universe                         0   \n",
       "1   58  Self-employed-not incorporated                         4   \n",
       "2   18                 Not in universe                         0   \n",
       "3    9                 Not in universe                         0   \n",
       "4   10                 Not in universe                         0   \n",
       "\n",
       "   detailed occupation recode                   education  wage per hour  \\\n",
       "0                           0        High school graduate              0   \n",
       "1                          34  Some college but no degree              0   \n",
       "2                           0                  10th grade              0   \n",
       "3                           0                    Children              0   \n",
       "4                           0                    Children              0   \n",
       "\n",
       "  enroll in edu inst last wk marital status          major industry code  \\\n",
       "0            Not in universe        Widowed  Not in universe or children   \n",
       "1            Not in universe       Divorced                 Construction   \n",
       "2                High school  Never married  Not in universe or children   \n",
       "3            Not in universe  Never married  Not in universe or children   \n",
       "4            Not in universe  Never married  Not in universe or children   \n",
       "\n",
       "                 major occupation code  ... country of birth father  \\\n",
       "0                      Not in universe  ...           United-States   \n",
       "1  Precision production craft & repair  ...           United-States   \n",
       "2                      Not in universe  ...                 Vietnam   \n",
       "3                      Not in universe  ...           United-States   \n",
       "4                      Not in universe  ...           United-States   \n",
       "\n",
       "  country of birth mother country of birth self  \\\n",
       "0           United-States         United-States   \n",
       "1           United-States         United-States   \n",
       "2                 Vietnam               Vietnam   \n",
       "3           United-States         United-States   \n",
       "4           United-States         United-States   \n",
       "\n",
       "                           citizenship own business or self employed  \\\n",
       "0    Native- Born in the United States                             0   \n",
       "1    Native- Born in the United States                             0   \n",
       "2  Foreign born- Not a citizen of U S                              0   \n",
       "3    Native- Born in the United States                             0   \n",
       "4    Native- Born in the United States                             0   \n",
       "\n",
       "  fill inc questionnaire for veteran's admin  veterans benefits  \\\n",
       "0                            Not in universe                  2   \n",
       "1                            Not in universe                  2   \n",
       "2                            Not in universe                  2   \n",
       "3                            Not in universe                  0   \n",
       "4                            Not in universe                  0   \n",
       "\n",
       "   weeks worked in year  year income class  \n",
       "0                     0    95     - 50000.  \n",
       "1                    52    94     - 50000.  \n",
       "2                     0    95     - 50000.  \n",
       "3                     0    94     - 50000.  \n",
       "4                     0    94     - 50000.  \n",
       "\n",
       "[5 rows x 42 columns]"
      ]
     },
     "execution_count": 3,
     "metadata": {},
     "output_type": "execute_result"
    }
   ],
   "source": [
    "census_columns = [\n",
    "    'age',\n",
    "    'class of worker',\n",
    "    'detailed industry recode',\n",
    "    'detailed occupation recode',\n",
    "    'education',\n",
    "    'wage per hour',\n",
    "    'enroll in edu inst last wk',\n",
    "    'marital status',\n",
    "    'major industry code',\n",
    "    'major occupation code',\n",
    "    'race',\n",
    "    'hispanic origin',\n",
    "    'sex',\n",
    "    'member of a labor union',\n",
    "    'reason for unemployment',\n",
    "    'full or part time employment stat',\n",
    "    'capital gains',\n",
    "    'capital losses',\n",
    "    'dividends from stocks',\n",
    "    'tax filer stat',\n",
    "    'region of previous residence',\n",
    "    'state of previous residence',\n",
    "    'detailed household and family stat',\n",
    "    'detailed household summary in household',\n",
    "    'instance weight',\n",
    "    'migration code-change in msa',\n",
    "    'migration code-change in reg',\n",
    "    'migration code-move within reg',\n",
    "    'live in this house 1 year ago',\n",
    "    'migration prev res in sunbelt',\n",
    "    'num persons worked for employer',\n",
    "    'family members under 18',\n",
    "    'country of birth father',\n",
    "    'country of birth mother',\n",
    "    'country of birth self',\n",
    "    'citizenship',\n",
    "    'own business or self employed',\n",
    "    'fill inc questionnaire for veteran\\'s admin',\n",
    "    'veterans benefits',\n",
    "    'weeks worked in year',\n",
    "    'year',\n",
    "    'income class'\n",
    "]\n",
    "\n",
    "features_to_drop = ['instance weight']\n",
    "\n",
    "categorical_features = ['class of worker',\n",
    "                        'detailed industry recode',\n",
    "                        'detailed occupation recode',\n",
    "                        'education',\n",
    "                        'marital status',\n",
    "                        'major industry code',\n",
    "                        'major occupation code',\n",
    "                        'race',\n",
    "                        'hispanic origin',\n",
    "                        'sex',\n",
    "                        'full or part time employment stat',\n",
    "                        'tax filer stat',\n",
    "                        'detailed household and family stat',\n",
    "                        'detailed household summary in household',\n",
    "                        'migration code-change in msa',\n",
    "                        'migration code-change in reg',\n",
    "                        'migration code-move within reg',\n",
    "                        'live in this house 1 year ago',\n",
    "                        'country of birth father',\n",
    "                        'country of birth mother',\n",
    "                        'country of birth self',\n",
    "                        'citizenship',\n",
    "                        'own business or self employed',\n",
    "                        'veterans benefits',\n",
    "                        'enroll in edu inst last wk',\n",
    "                        'member of a labor union',\n",
    "                        'reason for unemployment',\n",
    "                        'region of previous residence',\n",
    "                        'state of previous residence',\n",
    "                        'migration prev res in sunbelt',\n",
    "                        'family members under 18',\n",
    "                        \"fill inc questionnaire for veteran\\'s admin\",\n",
    "                        'year']\n",
    "\n",
    "numerical_features = ['age',\n",
    "                      'wage per hour',\n",
    "                      'capital gains',\n",
    "                      'capital losses',\n",
    "                      'dividends from stocks',\n",
    "                      'num persons worked for employer',\n",
    "                      'weeks worked in year']\n",
    "\n",
    "census.columns = census_columns\n",
    "census.head()"
   ]
  },
  {
   "cell_type": "code",
   "execution_count": 4,
   "metadata": {
    "ExecuteTime": {
     "end_time": "2020-03-15T13:38:25.592175Z",
     "start_time": "2020-03-15T13:38:25.393707Z"
    }
   },
   "outputs": [
    {
     "name": "stdout",
     "output_type": "stream",
     "text": [
      "<class 'pandas.core.frame.DataFrame'>\n",
      "RangeIndex: 199523 entries, 0 to 199522\n",
      "Data columns (total 42 columns):\n",
      " #   Column                                      Non-Null Count   Dtype  \n",
      "---  ------                                      --------------   -----  \n",
      " 0   age                                         199523 non-null  int64  \n",
      " 1   class of worker                             199523 non-null  object \n",
      " 2   detailed industry recode                    199523 non-null  int64  \n",
      " 3   detailed occupation recode                  199523 non-null  int64  \n",
      " 4   education                                   199523 non-null  object \n",
      " 5   wage per hour                               199523 non-null  int64  \n",
      " 6   enroll in edu inst last wk                  199523 non-null  object \n",
      " 7   marital status                              199523 non-null  object \n",
      " 8   major industry code                         199523 non-null  object \n",
      " 9   major occupation code                       199523 non-null  object \n",
      " 10  race                                        199523 non-null  object \n",
      " 11  hispanic origin                             198649 non-null  object \n",
      " 12  sex                                         199523 non-null  object \n",
      " 13  member of a labor union                     199523 non-null  object \n",
      " 14  reason for unemployment                     199523 non-null  object \n",
      " 15  full or part time employment stat           199523 non-null  object \n",
      " 16  capital gains                               199523 non-null  int64  \n",
      " 17  capital losses                              199523 non-null  int64  \n",
      " 18  dividends from stocks                       199523 non-null  int64  \n",
      " 19  tax filer stat                              199523 non-null  object \n",
      " 20  region of previous residence                199523 non-null  object \n",
      " 21  state of previous residence                 198815 non-null  object \n",
      " 22  detailed household and family stat          199523 non-null  object \n",
      " 23  detailed household summary in household     199523 non-null  object \n",
      " 24  instance weight                             199523 non-null  float64\n",
      " 25  migration code-change in msa                99827 non-null   object \n",
      " 26  migration code-change in reg                99827 non-null   object \n",
      " 27  migration code-move within reg              99827 non-null   object \n",
      " 28  live in this house 1 year ago               199523 non-null  object \n",
      " 29  migration prev res in sunbelt               99827 non-null   object \n",
      " 30  num persons worked for employer             199523 non-null  int64  \n",
      " 31  family members under 18                     199523 non-null  object \n",
      " 32  country of birth father                     192810 non-null  object \n",
      " 33  country of birth mother                     193404 non-null  object \n",
      " 34  country of birth self                       196130 non-null  object \n",
      " 35  citizenship                                 199523 non-null  object \n",
      " 36  own business or self employed               199523 non-null  int64  \n",
      " 37  fill inc questionnaire for veteran's admin  199523 non-null  object \n",
      " 38  veterans benefits                           199523 non-null  int64  \n",
      " 39  weeks worked in year                        199523 non-null  int64  \n",
      " 40  year                                        199523 non-null  int64  \n",
      " 41  income class                                199523 non-null  object \n",
      "dtypes: float64(1), int64(12), object(29)\n",
      "memory usage: 63.9+ MB\n"
     ]
    }
   ],
   "source": [
    "census.info()"
   ]
  },
  {
   "cell_type": "markdown",
   "metadata": {},
   "source": [
    " ## Clean Dataset"
   ]
  },
  {
   "cell_type": "code",
   "execution_count": 5,
   "metadata": {
    "ExecuteTime": {
     "end_time": "2020-03-15T13:38:25.684928Z",
     "start_time": "2020-03-15T13:38:25.672959Z"
    }
   },
   "outputs": [],
   "source": [
    "def clean_dataset(df):\n",
    "    # Drop features\n",
    "    df = df.drop(features_to_drop, axis=1)\n",
    "    \n",
    "    # Fill NaN\n",
    "    df['hispanic origin'] = df['hispanic origin'].fillna('Do not know')\n",
    "    df['migration code-change in msa'] = df['migration code-change in msa'].fillna('Not identifiable')\n",
    "    \n",
    "    df['state of previous residence'] = df['state of previous residence'].fillna('Not in universe')\n",
    "    df['migration code-change in reg'] = df['migration code-change in reg'].fillna('Not in universe')\n",
    "    df['migration code-move within reg'] = df['migration code-move within reg'].fillna('Not in universe')\n",
    "    df['migration prev res in sunbelt'] = df['migration prev res in sunbelt'].fillna('Not in universe')\n",
    "    \n",
    "    df['country of birth father'] = df['country of birth father'].fillna(df['country of birth father'].mode()[0])\n",
    "    df['country of birth mother'] = df['country of birth mother'].fillna(df['country of birth mother'].mode()[0])\n",
    "    df['country of birth self'] = df['country of birth self'].fillna(df['country of birth self'].mode()[0])\n",
    "    \n",
    "    df[categorical_features] = df[categorical_features].astype(str)\n",
    "    \n",
    "    # Encode income class column\n",
    "    df['income class'] = df['income class'].map({'- 50000.': 0, '50000+.': 1})\n",
    "\n",
    "    return df"
   ]
  },
  {
   "cell_type": "code",
   "execution_count": 6,
   "metadata": {
    "ExecuteTime": {
     "end_time": "2020-03-15T13:38:27.071251Z",
     "start_time": "2020-03-15T13:38:25.795646Z"
    }
   },
   "outputs": [
    {
     "data": {
      "text/html": [
       "<div>\n",
       "<style scoped>\n",
       "    .dataframe tbody tr th:only-of-type {\n",
       "        vertical-align: middle;\n",
       "    }\n",
       "\n",
       "    .dataframe tbody tr th {\n",
       "        vertical-align: top;\n",
       "    }\n",
       "\n",
       "    .dataframe thead th {\n",
       "        text-align: right;\n",
       "    }\n",
       "</style>\n",
       "<table border=\"1\" class=\"dataframe\">\n",
       "  <thead>\n",
       "    <tr style=\"text-align: right;\">\n",
       "      <th></th>\n",
       "      <th>age</th>\n",
       "      <th>class of worker</th>\n",
       "      <th>detailed industry recode</th>\n",
       "      <th>detailed occupation recode</th>\n",
       "      <th>education</th>\n",
       "      <th>wage per hour</th>\n",
       "      <th>enroll in edu inst last wk</th>\n",
       "      <th>marital status</th>\n",
       "      <th>major industry code</th>\n",
       "      <th>major occupation code</th>\n",
       "      <th>...</th>\n",
       "      <th>country of birth father</th>\n",
       "      <th>country of birth mother</th>\n",
       "      <th>country of birth self</th>\n",
       "      <th>citizenship</th>\n",
       "      <th>own business or self employed</th>\n",
       "      <th>fill inc questionnaire for veteran's admin</th>\n",
       "      <th>veterans benefits</th>\n",
       "      <th>weeks worked in year</th>\n",
       "      <th>year</th>\n",
       "      <th>income class</th>\n",
       "    </tr>\n",
       "  </thead>\n",
       "  <tbody>\n",
       "    <tr>\n",
       "      <th>0</th>\n",
       "      <td>73</td>\n",
       "      <td>Not in universe</td>\n",
       "      <td>0</td>\n",
       "      <td>0</td>\n",
       "      <td>High school graduate</td>\n",
       "      <td>0</td>\n",
       "      <td>Not in universe</td>\n",
       "      <td>Widowed</td>\n",
       "      <td>Not in universe or children</td>\n",
       "      <td>Not in universe</td>\n",
       "      <td>...</td>\n",
       "      <td>United-States</td>\n",
       "      <td>United-States</td>\n",
       "      <td>United-States</td>\n",
       "      <td>Native- Born in the United States</td>\n",
       "      <td>0</td>\n",
       "      <td>Not in universe</td>\n",
       "      <td>2</td>\n",
       "      <td>0</td>\n",
       "      <td>95</td>\n",
       "      <td>0</td>\n",
       "    </tr>\n",
       "    <tr>\n",
       "      <th>1</th>\n",
       "      <td>58</td>\n",
       "      <td>Self-employed-not incorporated</td>\n",
       "      <td>4</td>\n",
       "      <td>34</td>\n",
       "      <td>Some college but no degree</td>\n",
       "      <td>0</td>\n",
       "      <td>Not in universe</td>\n",
       "      <td>Divorced</td>\n",
       "      <td>Construction</td>\n",
       "      <td>Precision production craft &amp; repair</td>\n",
       "      <td>...</td>\n",
       "      <td>United-States</td>\n",
       "      <td>United-States</td>\n",
       "      <td>United-States</td>\n",
       "      <td>Native- Born in the United States</td>\n",
       "      <td>0</td>\n",
       "      <td>Not in universe</td>\n",
       "      <td>2</td>\n",
       "      <td>52</td>\n",
       "      <td>94</td>\n",
       "      <td>0</td>\n",
       "    </tr>\n",
       "    <tr>\n",
       "      <th>2</th>\n",
       "      <td>18</td>\n",
       "      <td>Not in universe</td>\n",
       "      <td>0</td>\n",
       "      <td>0</td>\n",
       "      <td>10th grade</td>\n",
       "      <td>0</td>\n",
       "      <td>High school</td>\n",
       "      <td>Never married</td>\n",
       "      <td>Not in universe or children</td>\n",
       "      <td>Not in universe</td>\n",
       "      <td>...</td>\n",
       "      <td>Vietnam</td>\n",
       "      <td>Vietnam</td>\n",
       "      <td>Vietnam</td>\n",
       "      <td>Foreign born- Not a citizen of U S</td>\n",
       "      <td>0</td>\n",
       "      <td>Not in universe</td>\n",
       "      <td>2</td>\n",
       "      <td>0</td>\n",
       "      <td>95</td>\n",
       "      <td>0</td>\n",
       "    </tr>\n",
       "    <tr>\n",
       "      <th>3</th>\n",
       "      <td>9</td>\n",
       "      <td>Not in universe</td>\n",
       "      <td>0</td>\n",
       "      <td>0</td>\n",
       "      <td>Children</td>\n",
       "      <td>0</td>\n",
       "      <td>Not in universe</td>\n",
       "      <td>Never married</td>\n",
       "      <td>Not in universe or children</td>\n",
       "      <td>Not in universe</td>\n",
       "      <td>...</td>\n",
       "      <td>United-States</td>\n",
       "      <td>United-States</td>\n",
       "      <td>United-States</td>\n",
       "      <td>Native- Born in the United States</td>\n",
       "      <td>0</td>\n",
       "      <td>Not in universe</td>\n",
       "      <td>0</td>\n",
       "      <td>0</td>\n",
       "      <td>94</td>\n",
       "      <td>0</td>\n",
       "    </tr>\n",
       "    <tr>\n",
       "      <th>4</th>\n",
       "      <td>10</td>\n",
       "      <td>Not in universe</td>\n",
       "      <td>0</td>\n",
       "      <td>0</td>\n",
       "      <td>Children</td>\n",
       "      <td>0</td>\n",
       "      <td>Not in universe</td>\n",
       "      <td>Never married</td>\n",
       "      <td>Not in universe or children</td>\n",
       "      <td>Not in universe</td>\n",
       "      <td>...</td>\n",
       "      <td>United-States</td>\n",
       "      <td>United-States</td>\n",
       "      <td>United-States</td>\n",
       "      <td>Native- Born in the United States</td>\n",
       "      <td>0</td>\n",
       "      <td>Not in universe</td>\n",
       "      <td>0</td>\n",
       "      <td>0</td>\n",
       "      <td>94</td>\n",
       "      <td>0</td>\n",
       "    </tr>\n",
       "  </tbody>\n",
       "</table>\n",
       "<p>5 rows × 41 columns</p>\n",
       "</div>"
      ],
      "text/plain": [
       "   age                 class of worker detailed industry recode  \\\n",
       "0   73                 Not in universe                        0   \n",
       "1   58  Self-employed-not incorporated                        4   \n",
       "2   18                 Not in universe                        0   \n",
       "3    9                 Not in universe                        0   \n",
       "4   10                 Not in universe                        0   \n",
       "\n",
       "  detailed occupation recode                   education  wage per hour  \\\n",
       "0                          0        High school graduate              0   \n",
       "1                         34  Some college but no degree              0   \n",
       "2                          0                  10th grade              0   \n",
       "3                          0                    Children              0   \n",
       "4                          0                    Children              0   \n",
       "\n",
       "  enroll in edu inst last wk marital status          major industry code  \\\n",
       "0            Not in universe        Widowed  Not in universe or children   \n",
       "1            Not in universe       Divorced                 Construction   \n",
       "2                High school  Never married  Not in universe or children   \n",
       "3            Not in universe  Never married  Not in universe or children   \n",
       "4            Not in universe  Never married  Not in universe or children   \n",
       "\n",
       "                 major occupation code  ... country of birth father  \\\n",
       "0                      Not in universe  ...           United-States   \n",
       "1  Precision production craft & repair  ...           United-States   \n",
       "2                      Not in universe  ...                 Vietnam   \n",
       "3                      Not in universe  ...           United-States   \n",
       "4                      Not in universe  ...           United-States   \n",
       "\n",
       "  country of birth mother country of birth self  \\\n",
       "0           United-States         United-States   \n",
       "1           United-States         United-States   \n",
       "2                 Vietnam               Vietnam   \n",
       "3           United-States         United-States   \n",
       "4           United-States         United-States   \n",
       "\n",
       "                           citizenship own business or self employed  \\\n",
       "0    Native- Born in the United States                             0   \n",
       "1    Native- Born in the United States                             0   \n",
       "2  Foreign born- Not a citizen of U S                              0   \n",
       "3    Native- Born in the United States                             0   \n",
       "4    Native- Born in the United States                             0   \n",
       "\n",
       "  fill inc questionnaire for veteran's admin  veterans benefits  \\\n",
       "0                            Not in universe                  2   \n",
       "1                            Not in universe                  2   \n",
       "2                            Not in universe                  2   \n",
       "3                            Not in universe                  0   \n",
       "4                            Not in universe                  0   \n",
       "\n",
       "   weeks worked in year  year income class  \n",
       "0                     0    95            0  \n",
       "1                    52    94            0  \n",
       "2                     0    95            0  \n",
       "3                     0    94            0  \n",
       "4                     0    94            0  \n",
       "\n",
       "[5 rows x 41 columns]"
      ]
     },
     "execution_count": 6,
     "metadata": {},
     "output_type": "execute_result"
    }
   ],
   "source": [
    "census = clean_dataset(census)\n",
    "census.head()"
   ]
  },
  {
   "cell_type": "code",
   "execution_count": 7,
   "metadata": {
    "ExecuteTime": {
     "end_time": "2020-03-15T13:38:27.549971Z",
     "start_time": "2020-03-15T13:38:27.242761Z"
    }
   },
   "outputs": [
    {
     "name": "stdout",
     "output_type": "stream",
     "text": [
      "<class 'pandas.core.frame.DataFrame'>\n",
      "RangeIndex: 199523 entries, 0 to 199522\n",
      "Data columns (total 41 columns):\n",
      " #   Column                                      Non-Null Count   Dtype \n",
      "---  ------                                      --------------   ----- \n",
      " 0   age                                         199523 non-null  int64 \n",
      " 1   class of worker                             199523 non-null  object\n",
      " 2   detailed industry recode                    199523 non-null  object\n",
      " 3   detailed occupation recode                  199523 non-null  object\n",
      " 4   education                                   199523 non-null  object\n",
      " 5   wage per hour                               199523 non-null  int64 \n",
      " 6   enroll in edu inst last wk                  199523 non-null  object\n",
      " 7   marital status                              199523 non-null  object\n",
      " 8   major industry code                         199523 non-null  object\n",
      " 9   major occupation code                       199523 non-null  object\n",
      " 10  race                                        199523 non-null  object\n",
      " 11  hispanic origin                             199523 non-null  object\n",
      " 12  sex                                         199523 non-null  object\n",
      " 13  member of a labor union                     199523 non-null  object\n",
      " 14  reason for unemployment                     199523 non-null  object\n",
      " 15  full or part time employment stat           199523 non-null  object\n",
      " 16  capital gains                               199523 non-null  int64 \n",
      " 17  capital losses                              199523 non-null  int64 \n",
      " 18  dividends from stocks                       199523 non-null  int64 \n",
      " 19  tax filer stat                              199523 non-null  object\n",
      " 20  region of previous residence                199523 non-null  object\n",
      " 21  state of previous residence                 199523 non-null  object\n",
      " 22  detailed household and family stat          199523 non-null  object\n",
      " 23  detailed household summary in household     199523 non-null  object\n",
      " 24  migration code-change in msa                199523 non-null  object\n",
      " 25  migration code-change in reg                199523 non-null  object\n",
      " 26  migration code-move within reg              199523 non-null  object\n",
      " 27  live in this house 1 year ago               199523 non-null  object\n",
      " 28  migration prev res in sunbelt               199523 non-null  object\n",
      " 29  num persons worked for employer             199523 non-null  int64 \n",
      " 30  family members under 18                     199523 non-null  object\n",
      " 31  country of birth father                     199523 non-null  object\n",
      " 32  country of birth mother                     199523 non-null  object\n",
      " 33  country of birth self                       199523 non-null  object\n",
      " 34  citizenship                                 199523 non-null  object\n",
      " 35  own business or self employed               199523 non-null  object\n",
      " 36  fill inc questionnaire for veteran's admin  199523 non-null  object\n",
      " 37  veterans benefits                           199523 non-null  object\n",
      " 38  weeks worked in year                        199523 non-null  int64 \n",
      " 39  year                                        199523 non-null  object\n",
      " 40  income class                                199523 non-null  int64 \n",
      "dtypes: int64(8), object(33)\n",
      "memory usage: 62.4+ MB\n"
     ]
    }
   ],
   "source": [
    "census.info()"
   ]
  },
  {
   "cell_type": "markdown",
   "metadata": {},
   "source": [
    "## Split train and validation sets"
   ]
  },
  {
   "cell_type": "code",
   "execution_count": 8,
   "metadata": {
    "ExecuteTime": {
     "end_time": "2020-03-15T13:38:27.719485Z",
     "start_time": "2020-03-15T13:38:27.659646Z"
    }
   },
   "outputs": [],
   "source": [
    "X = census.drop('income class', axis=1)\n",
    "y = census['income class']"
   ]
  },
  {
   "cell_type": "code",
   "execution_count": 9,
   "metadata": {
    "ExecuteTime": {
     "end_time": "2020-03-15T13:38:27.934194Z",
     "start_time": "2020-03-15T13:38:27.919208Z"
    }
   },
   "outputs": [
    {
     "data": {
      "text/plain": [
       "0.06205800834991455"
      ]
     },
     "execution_count": 9,
     "metadata": {},
     "output_type": "execute_result"
    }
   ],
   "source": [
    "y.mean()"
   ]
  },
  {
   "cell_type": "code",
   "execution_count": 10,
   "metadata": {
    "ExecuteTime": {
     "end_time": "2020-03-15T13:38:28.274351Z",
     "start_time": "2020-03-15T13:38:28.137626Z"
    }
   },
   "outputs": [
    {
     "data": {
      "image/png": "[encoded data removed]",
      "text/plain": [
       "<Figure size 360x360 with 1 Axes>"
      ]
     },
     "metadata": {
      "needs_background": "light"
     },
     "output_type": "display_data"
    }
   ],
   "source": [
    "plt.figure(figsize=(5, 5))\n",
    "total = census.shape[0]\n",
    "ax = sns.countplot(x=\"income class\", data=census)\n",
    "for p in ax.patches:\n",
    "    height = p.get_height()\n",
    "    ax.text(p.get_x() + p.get_width()/2.,\n",
    "            height + 3,\n",
    "            '{0:.2%}'.format(height/total),\n",
    "            ha=\"center\")\n",
    "plt.title('Distribution of income classes', fontsize=15)\n",
    "plt.show()"
   ]
  },
  {
   "cell_type": "code",
   "execution_count": 11,
   "metadata": {
    "ExecuteTime": {
     "end_time": "2020-03-15T13:38:28.687506Z",
     "start_time": "2020-03-15T13:38:28.474557Z"
    }
   },
   "outputs": [],
   "source": [
    "X_train, X_val, y_train, y_val = train_test_split(X, y, test_size=0.2, stratify=y, random_state=666)"
   ]
  },
  {
   "cell_type": "markdown",
   "metadata": {},
   "source": [
    "## Bayesian Hyperparameter Tuning with Hyperopt"
   ]
  },
  {
   "cell_type": "code",
   "execution_count": 15,
   "metadata": {
    "ExecuteTime": {
     "end_time": "2020-03-15T13:38:59.602360Z",
     "start_time": "2020-03-15T13:38:59.593361Z"
    }
   },
   "outputs": [],
   "source": [
    "# Scoring and optimization functions\n",
    "def objective_rus(params):\n",
    "    print(\"Training with params: \")\n",
    "    print(params)\n",
    "    \n",
    "    model = RUSBoostClassifier(n_estimators=int(params['n_estimators']), \n",
    "                               learning_rate=params['learning_rate'], \n",
    "                               random_state=666)\n",
    "   \n",
    "    # The score function should return the loss (1-score)\n",
    "    # since the optimize function looks for the minimum\n",
    "    best_score = cross_val_score(model, X_tr, y, scoring='roc_auc', cv=2, n_jobs=5).mean()\n",
    "    loss = 1 - best_score\n",
    "    \n",
    "    return {'loss': loss, 'status': STATUS_OK}"
   ]
  },
  {
   "cell_type": "code",
   "execution_count": 19,
   "metadata": {
    "ExecuteTime": {
     "end_time": "2020-03-15T13:39:26.889363Z",
     "start_time": "2020-03-15T13:39:26.876399Z"
    }
   },
   "outputs": [],
   "source": [
    "# Set up space dictionary with specified hyperparameters\n",
    "space = {\n",
    "    'n_estimators': hp.quniform('n_estimators', 50, 1000, 1),\n",
    "    'learning_rate': hp.quniform('eta', 0.025, 1, 0.025),\n",
    "}"
   ]
  },
  {
   "cell_type": "markdown",
   "metadata": {
    "heading_collapsed": true
   },
   "source": [
    "### Simple Pipeline"
   ]
  },
  {
   "cell_type": "code",
   "execution_count": 14,
   "metadata": {
    "ExecuteTime": {
     "end_time": "2020-03-15T10:20:57.504769Z",
     "start_time": "2020-03-15T10:20:57.491804Z"
    },
    "hidden": true
   },
   "outputs": [],
   "source": [
    "preprocessor = make_column_transformer(\n",
    "    (Pipeline([\n",
    "        ('num', SimpleImputer()),\n",
    "        ('sc', StandardScaler()),\n",
    "    ]), numerical_features),\n",
    "    (Pipeline([\n",
    "        ('num', SimpleImputer(strategy='constant', fill_value='Unknown')),\n",
    "        ( 'enc', OneHotEncoder(categories='auto', sparse = False, handle_unknown='ignore' ))\n",
    "    ]), categorical_features),\n",
    "    remainder='drop'\n",
    ")\n",
    "\n",
    "pipeline = Pipeline([\n",
    "    ('pre', preprocessor)\n",
    "])"
   ]
  },
  {
   "cell_type": "code",
   "execution_count": 15,
   "metadata": {
    "ExecuteTime": {
     "end_time": "2020-03-15T10:21:00.423976Z",
     "start_time": "2020-03-15T10:20:58.392012Z"
    },
    "hidden": true
   },
   "outputs": [],
   "source": [
    "X_tr = pipeline.fit_transform(X)"
   ]
  },
  {
   "cell_type": "code",
   "execution_count": 17,
   "metadata": {
    "ExecuteTime": {
     "end_time": "2020-03-15T12:19:52.410647Z",
     "start_time": "2020-03-15T10:21:10.073009Z"
    },
    "hidden": true,
    "scrolled": true
   },
   "outputs": [
    {
     "name": "stdout",
     "output_type": "stream",
     "text": [
      "Training with params:                                                                    \n",
      "{'learning_rate': 0.7250000000000001, 'n_estimators': 577.0}                             \n",
      "Training with params:                                                                    \n",
      "{'learning_rate': 0.225, 'n_estimators': 614.0}                                          \n",
      "Training with params:                                                                    \n",
      "{'learning_rate': 0.15000000000000002, 'n_estimators': 886.0}                            \n",
      "Training with params:                                                                    \n",
      "{'learning_rate': 0.4, 'n_estimators': 80.0}                                             \n",
      "Training with params:                                                                    \n",
      "{'learning_rate': 0.05, 'n_estimators': 56.0}                                            \n",
      "Training with params:                                                                    \n",
      "{'learning_rate': 0.675, 'n_estimators': 779.0}                                          \n",
      "Training with params:                                                                    \n",
      "{'learning_rate': 0.875, 'n_estimators': 843.0}                                          \n",
      "Training with params:                                                                    \n",
      "{'learning_rate': 1.0, 'n_estimators': 663.0}                                            \n",
      "Training with params:                                                                    \n",
      "{'learning_rate': 0.7250000000000001, 'n_estimators': 536.0}                             \n",
      "Training with params:                                                                    \n",
      "{'learning_rate': 0.7250000000000001, 'n_estimators': 374.0}                             \n",
      "Training with params:                                                                    \n",
      "{'learning_rate': 0.625, 'n_estimators': 734.0}                                          \n",
      "Training with params:                                                                    \n",
      "{'learning_rate': 0.25, 'n_estimators': 104.0}                                           \n",
      "Training with params:                                                                    \n",
      "{'learning_rate': 0.025, 'n_estimators': 157.0}                                          \n",
      "Training with params:                                                                    \n",
      "{'learning_rate': 0.47500000000000003, 'n_estimators': 880.0}                            \n",
      "Training with params:                                                                    \n",
      "{'learning_rate': 0.125, 'n_estimators': 204.0}                                          \n",
      "Training with params:                                                                    \n",
      "{'learning_rate': 0.125, 'n_estimators': 685.0}                                          \n",
      "Training with params:                                                                    \n",
      "{'learning_rate': 0.9500000000000001, 'n_estimators': 633.0}                             \n",
      "Training with params:                                                                    \n",
      "{'learning_rate': 0.125, 'n_estimators': 135.0}                                          \n",
      "Training with params:                                                                    \n",
      "{'learning_rate': 0.4, 'n_estimators': 330.0}                                            \n",
      "Training with params:                                                                    \n",
      "{'learning_rate': 0.35000000000000003, 'n_estimators': 339.0}                            \n",
      "100%|████████████████| 20/20 [1:58:42<00:00, 356.11s/it, best loss: 0.052507797584134375]\n"
     ]
    },
    {
     "data": {
      "text/plain": [
       "{'eta': 0.15000000000000002, 'n_estimators': 886.0}"
      ]
     },
     "execution_count": 17,
     "metadata": {},
     "output_type": "execute_result"
    }
   ],
   "source": [
    "# Run the algorithm\n",
    "best = fmin(fn=objective_rus,space=space, max_evals=20, rstate=np.random.RandomState(666), algo=tpe.suggest)\n",
    "best"
   ]
  },
  {
   "cell_type": "markdown",
   "metadata": {
    "hidden": true
   },
   "source": [
    "Adapt the pipeline with the best parameters"
   ]
  },
  {
   "cell_type": "code",
   "execution_count": 18,
   "metadata": {
    "ExecuteTime": {
     "end_time": "2020-03-15T12:21:40.786191Z",
     "start_time": "2020-03-15T12:21:40.772207Z"
    },
    "hidden": true
   },
   "outputs": [],
   "source": [
    "preprocessor = make_column_transformer(\n",
    "    (Pipeline([\n",
    "        ('num', SimpleImputer()),\n",
    "        ('sc', StandardScaler()),\n",
    "    ]), numerical_features),\n",
    "    (Pipeline([\n",
    "        ('num', SimpleImputer(strategy='constant', fill_value='Unknown')),\n",
    "        ( 'enc', OneHotEncoder(categories='auto', sparse = False, handle_unknown='ignore' ))\n",
    "    ]), categorical_features),\n",
    "    remainder='drop'\n",
    ")\n",
    "\n",
    "simple_pipeline = Pipeline([\n",
    "    ('pre', preprocessor),\n",
    "    ('clf', RUSBoostClassifier(n_estimators=886, learning_rate=0.15, random_state=666))\n",
    "])"
   ]
  },
  {
   "cell_type": "code",
   "execution_count": 20,
   "metadata": {
    "ExecuteTime": {
     "end_time": "2020-03-15T12:29:33.814668Z",
     "start_time": "2020-03-15T12:21:52.897262Z"
    },
    "hidden": true
   },
   "outputs": [
    {
     "name": "stdout",
     "output_type": "stream",
     "text": [
      "              precision    recall  f1-score   support\n",
      "\n",
      "           0       0.99      0.86      0.92     37429\n",
      "           1       0.29      0.90      0.44      2476\n",
      "\n",
      "    accuracy                           0.86     39905\n",
      "   macro avg       0.64      0.88      0.68     39905\n",
      "weighted avg       0.95      0.86      0.89     39905\n",
      "\n",
      "AUC: 0.8758552110142753\n"
     ]
    }
   ],
   "source": [
    "simple_pipeline.fit(X_train, y_train);\n",
    "y_pred = simple_pipeline.predict(X_val)\n",
    "\n",
    "print(classification_report(y_val, y_pred))\n",
    "fpr, tpr, thresholds = roc_curve(y_val, y_pred)\n",
    "\n",
    "print(\"AUC: %s\" % auc(fpr, tpr))"
   ]
  },
  {
   "cell_type": "markdown",
   "metadata": {},
   "source": [
    "### SelectKBest"
   ]
  },
  {
   "cell_type": "code",
   "execution_count": 16,
   "metadata": {
    "ExecuteTime": {
     "end_time": "2020-03-15T13:39:04.504238Z",
     "start_time": "2020-03-15T13:39:04.490297Z"
    }
   },
   "outputs": [],
   "source": [
    "preprocessor = make_column_transformer(\n",
    "    (Pipeline([\n",
    "        ('num', SimpleImputer()),\n",
    "        ('sc', StandardScaler()),\n",
    "    ]), numerical_features),\n",
    "    (Pipeline([\n",
    "        ('num', SimpleImputer(strategy='constant', fill_value='Unknown')),\n",
    "        ( 'enc', OneHotEncoder(categories='auto', sparse = False, handle_unknown='ignore' ))\n",
    "    ]), categorical_features),\n",
    "    remainder='drop'\n",
    ")\n",
    "\n",
    "pipeline = Pipeline([\n",
    "    ('pre', preprocessor),\n",
    "    ('sel', SelectKBest(k=94))\n",
    "])"
   ]
  },
  {
   "cell_type": "code",
   "execution_count": 17,
   "metadata": {
    "ExecuteTime": {
     "end_time": "2020-03-15T13:39:08.545401Z",
     "start_time": "2020-03-15T13:39:04.899186Z"
    }
   },
   "outputs": [],
   "source": [
    "X_tr = pipeline.fit_transform(X, y)"
   ]
  },
  {
   "cell_type": "code",
   "execution_count": 20,
   "metadata": {
    "ExecuteTime": {
     "end_time": "2020-03-15T16:53:00.028400Z",
     "start_time": "2020-03-15T13:39:35.611455Z"
    },
    "scrolled": true
   },
   "outputs": [
    {
     "name": "stdout",
     "output_type": "stream",
     "text": [
      "Training with params:                                                                    \n",
      "{'learning_rate': 0.7250000000000001, 'n_estimators': 577.0}                             \n",
      "Training with params:                                                                    \n",
      "{'learning_rate': 0.225, 'n_estimators': 614.0}                                          \n",
      "Training with params:                                                                    \n",
      "{'learning_rate': 0.15000000000000002, 'n_estimators': 886.0}                            \n",
      "Training with params:                                                                    \n",
      "{'learning_rate': 0.4, 'n_estimators': 80.0}                                             \n",
      "Training with params:                                                                    \n",
      "{'learning_rate': 0.05, 'n_estimators': 56.0}                                            \n",
      "Training with params:                                                                    \n",
      "{'learning_rate': 0.675, 'n_estimators': 779.0}                                          \n",
      "Training with params:                                                                    \n",
      "{'learning_rate': 0.875, 'n_estimators': 843.0}                                          \n",
      "Training with params:                                                                    \n",
      "{'learning_rate': 1.0, 'n_estimators': 663.0}                                            \n",
      "Training with params:                                                                    \n",
      "{'learning_rate': 0.7250000000000001, 'n_estimators': 536.0}                             \n",
      "Training with params:                                                                    \n",
      "{'learning_rate': 0.7250000000000001, 'n_estimators': 374.0}                             \n",
      "Training with params:                                                                    \n",
      "{'learning_rate': 0.625, 'n_estimators': 734.0}                                          \n",
      "Training with params:                                                                    \n",
      "{'learning_rate': 0.25, 'n_estimators': 104.0}                                           \n",
      "Training with params:                                                                    \n",
      "{'learning_rate': 0.025, 'n_estimators': 157.0}                                          \n",
      "Training with params:                                                                    \n",
      "{'learning_rate': 0.47500000000000003, 'n_estimators': 880.0}                            \n",
      "Training with params:                                                                    \n",
      "{'learning_rate': 0.125, 'n_estimators': 204.0}                                          \n",
      "Training with params:                                                                    \n",
      "{'learning_rate': 0.125, 'n_estimators': 685.0}                                          \n",
      "Training with params:                                                                    \n",
      "{'learning_rate': 0.9500000000000001, 'n_estimators': 633.0}                             \n",
      "Training with params:                                                                    \n",
      "{'learning_rate': 0.125, 'n_estimators': 135.0}                                          \n",
      "Training with params:                                                                    \n",
      "{'learning_rate': 0.4, 'n_estimators': 330.0}                                            \n",
      "Training with params:                                                                    \n",
      "{'learning_rate': 0.35000000000000003, 'n_estimators': 339.0}                            \n",
      "Training with params:                                                                    \n",
      "{'learning_rate': 0.25, 'n_estimators': 989.0}                                           \n",
      "Training with params:                                                                    \n",
      "{'learning_rate': 0.15000000000000002, 'n_estimators': 994.0}                            \n",
      "Training with params:                                                                    \n",
      "{'learning_rate': 0.55, 'n_estimators': 948.0}                                           \n",
      "Training with params:                                                                    \n",
      "{'learning_rate': 0.30000000000000004, 'n_estimators': 924.0}                            \n",
      "Training with params:                                                                    \n",
      "{'learning_rate': 0.17500000000000002, 'n_estimators': 829.0}                            \n",
      "Training with params:                                                                    \n",
      "{'learning_rate': 0.05, 'n_estimators': 993.0}                                           \n",
      "Training with params:                                                                    \n",
      "{'learning_rate': 0.5, 'n_estimators': 749.0}                                            \n",
      "Training with params:                                                                    \n",
      "{'learning_rate': 0.325, 'n_estimators': 438.0}                                          \n",
      "Training with params:                                                                    \n",
      "{'learning_rate': 0.8250000000000001, 'n_estimators': 996.0}                             \n",
      "Training with params:                                                                    \n",
      "{'learning_rate': 0.17500000000000002, 'n_estimators': 901.0}                            \n",
      "Training with params:                                                                    \n",
      "{'learning_rate': 0.4, 'n_estimators': 571.0}                                            \n",
      "Training with params:                                                                    \n",
      "{'learning_rate': 0.2, 'n_estimators': 456.0}                                            \n",
      "Training with params:                                                                    \n",
      "{'learning_rate': 0.07500000000000001, 'n_estimators': 811.0}                            \n",
      "Training with params:                                                                    \n",
      "{'learning_rate': 0.6000000000000001, 'n_estimators': 948.0}                             \n",
      "Training with params:                                                                    \n",
      "{'learning_rate': 0.45, 'n_estimators': 718.0}                                           \n",
      "Training with params:                                                                    \n",
      "{'learning_rate': 0.275, 'n_estimators': 868.0}                                          \n",
      "Training with params:                                                                    \n",
      "{'learning_rate': 0.1, 'n_estimators': 787.0}                                            \n",
      "Training with params:                                                                    \n",
      "{'learning_rate': 0.35000000000000003, 'n_estimators': 583.0}                            \n",
      "Training with params:                                                                    \n",
      "{'learning_rate': 0.55, 'n_estimators': 680.0}                                           \n",
      "Training with params:                                                                    \n",
      "{'learning_rate': 0.025, 'n_estimators': 998.0}                                          \n",
      "Training with params:                                                                    \n",
      "{'learning_rate': 0.225, 'n_estimators': 492.0}                                          \n",
      "Training with params:                                                                    \n",
      "{'learning_rate': 0.17500000000000002, 'n_estimators': 859.0}                            \n",
      "Training with params:                                                                    \n",
      "{'learning_rate': 0.42500000000000004, 'n_estimators': 278.0}                            \n",
      "Training with params:                                                                    \n",
      "{'learning_rate': 0.625, 'n_estimators': 949.0}                                          \n",
      "Training with params:                                                                    \n",
      "{'learning_rate': 0.675, 'n_estimators': 756.0}                                          \n",
      "Training with params:                                                                    \n"
     ]
    },
    {
     "name": "stdout",
     "output_type": "stream",
     "text": [
      "{'learning_rate': 0.775, 'n_estimators': 631.0}                                          \n",
      "Training with params:                                                                    \n",
      "{'learning_rate': 0.025, 'n_estimators': 801.0}                                          \n",
      "Training with params:                                                                    \n",
      "{'learning_rate': 0.9500000000000001, 'n_estimators': 908.0}                             \n",
      "Training with params:                                                                    \n",
      "{'learning_rate': 0.15000000000000002, 'n_estimators': 716.0}                            \n",
      "Training with params:                                                                    \n",
      "{'learning_rate': 0.07500000000000001, 'n_estimators': 523.0}                            \n",
      "Training with params:                                                                    \n",
      "{'learning_rate': 0.375, 'n_estimators': 400.0}                                          \n",
      "Training with params:                                                                    \n",
      "{'learning_rate': 0.275, 'n_estimators': 948.0}                                          \n",
      "Training with params:                                                                    \n",
      "{'learning_rate': 0.225, 'n_estimators': 225.0}                                          \n",
      "Training with params:                                                                    \n",
      "{'learning_rate': 0.30000000000000004, 'n_estimators': 842.0}                            \n",
      "Training with params:                                                                    \n",
      "{'learning_rate': 0.47500000000000003, 'n_estimators': 663.0}                            \n",
      "Training with params:                                                                    \n",
      "{'learning_rate': 0.55, 'n_estimators': 583.0}                                           \n",
      "Training with params:                                                                    \n",
      "{'learning_rate': 0.1, 'n_estimators': 53.0}                                             \n",
      "Training with params:                                                                    \n",
      "{'learning_rate': 0.15000000000000002, 'n_estimators': 964.0}                            \n",
      "Training with params:                                                                    \n",
      "{'learning_rate': 0.35000000000000003, 'n_estimators': 978.0}                            \n",
      "Training with params:                                                                    \n",
      "{'learning_rate': 0.05, 'n_estimators': 877.0}                                           \n",
      "Training with params:                                                                    \n",
      "{'learning_rate': 0.2, 'n_estimators': 752.0}                                            \n",
      "Training with params:                                                                    \n",
      "{'learning_rate': 0.675, 'n_estimators': 922.0}                                          \n",
      "Training with params:                                                                    \n",
      "{'learning_rate': 0.15000000000000002, 'n_estimators': 99.0}                             \n",
      "Training with params:                                                                    \n",
      "{'learning_rate': 0.25, 'n_estimators': 831.0}                                           \n",
      "Training with params:                                                                    \n",
      "{'learning_rate': 0.875, 'n_estimators': 969.0}                                          \n",
      "Training with params:                                                                    \n",
      "{'learning_rate': 0.125, 'n_estimators': 894.0}                                          \n",
      "Training with params:                                                                    \n",
      "{'learning_rate': 0.30000000000000004, 'n_estimators': 769.0}                            \n",
      "Training with params:                                                                    \n",
      "{'learning_rate': 0.07500000000000001, 'n_estimators': 814.0}                            \n",
      "Training with params:                                                                    \n",
      "{'learning_rate': 0.2, 'n_estimators': 711.0}                                            \n",
      "Training with params:                                                                    \n",
      "{'learning_rate': 0.15000000000000002, 'n_estimators': 969.0}                            \n",
      "Training with params:                                                                    \n",
      "{'learning_rate': 0.25, 'n_estimators': 935.0}                                           \n",
      "Training with params:                                                                    \n",
      "{'learning_rate': 0.1, 'n_estimators': 997.0}                                            \n",
      "Training with params:                                                                    \n",
      "{'learning_rate': 0.1, 'n_estimators': 854.0}                                            \n",
      "Training with params:                                                                    \n",
      "{'learning_rate': 0.05, 'n_estimators': 1000.0}                                          \n",
      "Training with params:                                                                    \n",
      "{'learning_rate': 0.325, 'n_estimators': 791.0}                                          \n",
      "Training with params:                                                                    \n",
      "{'learning_rate': 0.42500000000000004, 'n_estimators': 888.0}                            \n",
      "Training with params:                                                                    \n",
      "{'learning_rate': 0.2, 'n_estimators': 604.0}                                            \n",
      "Training with params:                                                                    \n",
      "{'learning_rate': 0.375, 'n_estimators': 907.0}                                          \n",
      "Training with params:                                                                    \n",
      "{'learning_rate': 0.17500000000000002, 'n_estimators': 529.0}                            \n",
      "Training with params:                                                                    \n",
      "{'learning_rate': 0.275, 'n_estimators': 688.0}                                          \n",
      "Training with params:                                                                    \n",
      "{'learning_rate': 0.125, 'n_estimators': 158.0}                                          \n",
      "Training with params:                                                                    \n",
      "{'learning_rate': 0.05, 'n_estimators': 320.0}                                           \n",
      "Training with params:                                                                    \n",
      "{'learning_rate': 0.5, 'n_estimators': 965.0}                                            \n",
      "Training with params:                                                                    \n",
      "{'learning_rate': 0.225, 'n_estimators': 925.0}                                          \n",
      "Training with params:                                                                    \n",
      "{'learning_rate': 0.025, 'n_estimators': 473.0}                                          \n",
      "Training with params:                                                                    \n",
      "{'learning_rate': 0.325, 'n_estimators': 997.0}                                          \n",
      "Training with params:                                                                    \n",
      "{'learning_rate': 0.07500000000000001, 'n_estimators': 421.0}                            \n",
      "Training with params:                                                                    \n",
      "{'learning_rate': 0.75, 'n_estimators': 554.0}                                           \n",
      "Training with params:                                                                    \n",
      "{'learning_rate': 0.45, 'n_estimators': 734.0}                                           \n",
      "Training with params:                                                                    \n",
      "{'learning_rate': 0.1, 'n_estimators': 647.0}                                            \n",
      "Training with params:                                                                    \n",
      "{'learning_rate': 0.17500000000000002, 'n_estimators': 870.0}                            \n"
     ]
    },
    {
     "name": "stdout",
     "output_type": "stream",
     "text": [
      "Training with params:                                                                    \n",
      "{'learning_rate': 0.525, 'n_estimators': 841.0}                                          \n",
      "Training with params:                                                                    \n",
      "{'learning_rate': 0.375, 'n_estimators': 810.0}                                          \n",
      "Training with params:                                                                    \n",
      "{'learning_rate': 0.6000000000000001, 'n_estimators': 249.0}                             \n",
      "Training with params:                                                                    \n",
      "{'learning_rate': 0.25, 'n_estimators': 774.0}                                           \n",
      "Training with params:                                                                    \n",
      "{'learning_rate': 0.125, 'n_estimators': 948.0}                                          \n",
      "Training with params:                                                                    \n",
      "{'learning_rate': 0.15000000000000002, 'n_estimators': 606.0}                            \n",
      "Training with params:                                                                    \n",
      "{'learning_rate': 0.275, 'n_estimators': 356.0}                                          \n",
      "Training with params:                                                                    \n",
      "{'learning_rate': 0.4, 'n_estimators': 986.0}                                            \n",
      "Training with params:                                                                    \n",
      "{'learning_rate': 0.9750000000000001, 'n_estimators': 694.0}                             \n",
      "100%|███████████████| 100/100 [3:13:24<00:00, 116.04s/it, best loss: 0.05435477030197655]\n"
     ]
    },
    {
     "data": {
      "text/plain": [
       "{'eta': 0.1, 'n_estimators': 997.0}"
      ]
     },
     "execution_count": 20,
     "metadata": {},
     "output_type": "execute_result"
    }
   ],
   "source": [
    "# Run the algorithm\n",
    "best = fmin(fn=objective_rus,space=space, max_evals=100, rstate=np.random.RandomState(666), algo=tpe.suggest)\n",
    "best"
   ]
  },
  {
   "cell_type": "code",
   "execution_count": 21,
   "metadata": {
    "ExecuteTime": {
     "end_time": "2020-03-15T16:53:18.013293Z",
     "start_time": "2020-03-15T16:53:17.991377Z"
    }
   },
   "outputs": [],
   "source": [
    "preprocessor = make_column_transformer(\n",
    "    (Pipeline([\n",
    "        ('num', SimpleImputer()),\n",
    "        ('sc', StandardScaler()),\n",
    "    ]), numerical_features),\n",
    "    (Pipeline([\n",
    "        ('num', SimpleImputer(strategy='constant', fill_value='Unknown')),\n",
    "        ( 'enc', OneHotEncoder(categories='auto', sparse = False, handle_unknown='ignore' ))\n",
    "    ]), categorical_features),\n",
    "    remainder='drop'\n",
    ")\n",
    "\n",
    "selectKBest_model = Pipeline([\n",
    "    ('pre', preprocessor),\n",
    "    ('sel', SelectKBest(k=94)),\n",
    "    #('clf', RUSBoostClassifier(n_estimators=886, learning_rate=0.15, random_state=666))\n",
    "    ('clf', RUSBoostClassifier(n_estimators=997, learning_rate=0.1, random_state=666))\n",
    "])"
   ]
  },
  {
   "cell_type": "code",
   "execution_count": 22,
   "metadata": {
    "ExecuteTime": {
     "end_time": "2020-03-15T16:57:32.832454Z",
     "start_time": "2020-03-15T16:53:19.960085Z"
    }
   },
   "outputs": [
    {
     "name": "stdout",
     "output_type": "stream",
     "text": [
      "              precision    recall  f1-score   support\n",
      "\n",
      "           0       0.99      0.85      0.92     37429\n",
      "           1       0.29      0.89      0.43      2476\n",
      "\n",
      "    accuracy                           0.86     39905\n",
      "   macro avg       0.64      0.87      0.68     39905\n",
      "weighted avg       0.95      0.86      0.89     39905\n",
      "\n",
      "AUC: 0.8733257530865871\n"
     ]
    }
   ],
   "source": [
    "selectKBest_model.fit(X_train, y_train);\n",
    "y_pred = selectKBest_model.predict(X_val)\n",
    "\n",
    "print(classification_report(y_val, y_pred))\n",
    "fpr, tpr, thresholds = roc_curve(y_val, y_pred)\n",
    "\n",
    "print(\"AUC: %s\" % auc(fpr, tpr))"
   ]
  },
  {
   "cell_type": "markdown",
   "metadata": {
    "heading_collapsed": true
   },
   "source": [
    "### PCA"
   ]
  },
  {
   "cell_type": "code",
   "execution_count": 37,
   "metadata": {
    "ExecuteTime": {
     "end_time": "2020-03-14T14:12:08.525726Z",
     "start_time": "2020-03-14T14:12:08.507802Z"
    },
    "hidden": true
   },
   "outputs": [],
   "source": [
    "preprocessor = make_column_transformer(\n",
    "    (Pipeline([\n",
    "        ('num', SimpleImputer()),\n",
    "        ('sc', StandardScaler()),\n",
    "    ]), numerical_features),\n",
    "    (Pipeline([\n",
    "        ('num', SimpleImputer(strategy='constant', fill_value='Unknown')),\n",
    "        ( 'enc', OneHotEncoder(categories='auto', sparse = False, handle_unknown='ignore' ))\n",
    "    ]), categorical_features),\n",
    "    remainder='drop'\n",
    ")\n",
    "\n",
    "pipeline = Pipeline([\n",
    "    ('pre', preprocessor),\n",
    "    ('pca', PCA(n_components=81, random_state=666))\n",
    "])"
   ]
  },
  {
   "cell_type": "code",
   "execution_count": 38,
   "metadata": {
    "ExecuteTime": {
     "end_time": "2020-03-14T14:12:31.153982Z",
     "start_time": "2020-03-14T14:12:19.529473Z"
    },
    "hidden": true
   },
   "outputs": [],
   "source": [
    "X_tr = pipeline.fit_transform(X)"
   ]
  },
  {
   "cell_type": "code",
   "execution_count": 80,
   "metadata": {
    "ExecuteTime": {
     "end_time": "2020-03-14T15:05:17.089830Z",
     "start_time": "2020-03-14T14:26:45.152872Z"
    },
    "hidden": true
   },
   "outputs": [
    {
     "name": "stdout",
     "output_type": "stream",
     "text": [
      "Training with params:                                                                    \n",
      "{'learning_rate': 0.7250000000000001, 'n_estimators': 577.0}                             \n",
      "Training with params:                                                                    \n",
      "{'learning_rate': 0.225, 'n_estimators': 614.0}                                          \n",
      "Training with params:                                                                    \n",
      "{'learning_rate': 0.15000000000000002, 'n_estimators': 886.0}                            \n",
      "Training with params:                                                                    \n",
      "{'learning_rate': 0.4, 'n_estimators': 80.0}                                             \n",
      "Training with params:                                                                    \n",
      "{'learning_rate': 0.05, 'n_estimators': 56.0}                                            \n",
      "Training with params:                                                                    \n",
      "{'learning_rate': 0.675, 'n_estimators': 779.0}                                          \n",
      "Training with params:                                                                    \n",
      "{'learning_rate': 0.875, 'n_estimators': 843.0}                                          \n",
      "Training with params:                                                                    \n",
      "{'learning_rate': 1.0, 'n_estimators': 663.0}                                            \n",
      "Training with params:                                                                    \n",
      "{'learning_rate': 0.7250000000000001, 'n_estimators': 536.0}                             \n",
      "Training with params:                                                                    \n",
      "{'learning_rate': 0.7250000000000001, 'n_estimators': 374.0}                             \n",
      "Training with params:                                                                    \n",
      "{'learning_rate': 0.625, 'n_estimators': 734.0}                                          \n",
      "Training with params:                                                                    \n",
      "{'learning_rate': 0.25, 'n_estimators': 104.0}                                           \n",
      "Training with params:                                                                    \n",
      "{'learning_rate': 0.025, 'n_estimators': 157.0}                                          \n",
      "Training with params:                                                                    \n",
      "{'learning_rate': 0.47500000000000003, 'n_estimators': 880.0}                            \n",
      "Training with params:                                                                    \n",
      "{'learning_rate': 0.125, 'n_estimators': 204.0}                                          \n",
      "Training with params:                                                                    \n",
      "{'learning_rate': 0.125, 'n_estimators': 685.0}                                          \n",
      "Training with params:                                                                    \n",
      "{'learning_rate': 0.9500000000000001, 'n_estimators': 633.0}                             \n",
      "Training with params:                                                                    \n",
      "{'learning_rate': 0.125, 'n_estimators': 135.0}                                          \n",
      "Training with params:                                                                    \n",
      "{'learning_rate': 0.4, 'n_estimators': 330.0}                                            \n",
      "Training with params:                                                                    \n",
      "{'learning_rate': 0.35000000000000003, 'n_estimators': 339.0}                            \n",
      "100%|██████████████████| 20/20 [38:31<00:00, 115.60s/it, best loss: 0.058663254035118295]\n"
     ]
    },
    {
     "data": {
      "text/plain": [
       "{'eta': 0.125, 'n_estimators': 685.0}"
      ]
     },
     "execution_count": 80,
     "metadata": {},
     "output_type": "execute_result"
    }
   ],
   "source": [
    "# Run the algorithm\n",
    "best = fmin(fn=objective_rus,space=space, max_evals=20, rstate=np.random.RandomState(666), algo=tpe.suggest)\n",
    "best"
   ]
  },
  {
   "cell_type": "code",
   "execution_count": 32,
   "metadata": {
    "ExecuteTime": {
     "end_time": "2020-03-15T13:01:47.298163Z",
     "start_time": "2020-03-15T13:01:47.287192Z"
    },
    "hidden": true
   },
   "outputs": [],
   "source": [
    "preprocessor = make_column_transformer(\n",
    "    (Pipeline([\n",
    "        ('num', SimpleImputer()),\n",
    "        ('sc', StandardScaler()),\n",
    "    ]), numerical_features),\n",
    "    (Pipeline([\n",
    "        ('num', SimpleImputer(strategy='constant', fill_value='Unknown')),\n",
    "        ( 'enc', OneHotEncoder(categories='auto', sparse = False, handle_unknown='ignore' ))\n",
    "    ]), categorical_features),\n",
    "    remainder='drop'\n",
    ")\n",
    "\n",
    "pca_model = Pipeline([\n",
    "    ('pre', preprocessor),\n",
    "    ('pca', PCA(n_components=81, random_state=666)),\n",
    "    ('clf', RUSBoostClassifier(n_estimators=685, learning_rate=0.125, random_state=666))\n",
    "])"
   ]
  },
  {
   "cell_type": "code",
   "execution_count": 33,
   "metadata": {
    "ExecuteTime": {
     "end_time": "2020-03-15T13:05:09.734684Z",
     "start_time": "2020-03-15T13:01:47.826725Z"
    },
    "hidden": true
   },
   "outputs": [
    {
     "name": "stdout",
     "output_type": "stream",
     "text": [
      "              precision    recall  f1-score   support\n",
      "\n",
      "           0       0.99      0.85      0.92     37429\n",
      "           1       0.28      0.88      0.43      2476\n",
      "\n",
      "    accuracy                           0.85     39905\n",
      "   macro avg       0.64      0.87      0.67     39905\n",
      "weighted avg       0.95      0.85      0.88     39905\n",
      "\n",
      "AUC: 0.8659152551232056\n"
     ]
    }
   ],
   "source": [
    "pca_model.fit(X_train, y_train);\n",
    "y_pred = pca_model.predict(X_val)\n",
    "\n",
    "print(classification_report(y_val, y_pred))\n",
    "fpr, tpr, thresholds = roc_curve(y_val, y_pred)\n",
    "\n",
    "print(\"AUC: %s\" % auc(fpr, tpr))"
   ]
  },
  {
   "cell_type": "markdown",
   "metadata": {},
   "source": [
    "## Test"
   ]
  },
  {
   "cell_type": "markdown",
   "metadata": {},
   "source": [
    "### Load Dataset"
   ]
  },
  {
   "cell_type": "code",
   "execution_count": 23,
   "metadata": {
    "ExecuteTime": {
     "end_time": "2020-03-15T16:58:13.501688Z",
     "start_time": "2020-03-15T16:58:09.071519Z"
    }
   },
   "outputs": [],
   "source": [
    "# The C engine doesn't support RegEx so we set it to Python to avoid the warning\n",
    "census_test = pd.read_csv('data/census-income.test', header=None, sep=',\\s', na_values=['?'], engine='python')"
   ]
  },
  {
   "cell_type": "code",
   "execution_count": 24,
   "metadata": {
    "ExecuteTime": {
     "end_time": "2020-03-15T16:58:14.180852Z",
     "start_time": "2020-03-15T16:58:14.137966Z"
    }
   },
   "outputs": [
    {
     "data": {
      "text/html": [
       "<div>\n",
       "<style scoped>\n",
       "    .dataframe tbody tr th:only-of-type {\n",
       "        vertical-align: middle;\n",
       "    }\n",
       "\n",
       "    .dataframe tbody tr th {\n",
       "        vertical-align: top;\n",
       "    }\n",
       "\n",
       "    .dataframe thead th {\n",
       "        text-align: right;\n",
       "    }\n",
       "</style>\n",
       "<table border=\"1\" class=\"dataframe\">\n",
       "  <thead>\n",
       "    <tr style=\"text-align: right;\">\n",
       "      <th></th>\n",
       "      <th>age</th>\n",
       "      <th>class of worker</th>\n",
       "      <th>detailed industry recode</th>\n",
       "      <th>detailed occupation recode</th>\n",
       "      <th>education</th>\n",
       "      <th>wage per hour</th>\n",
       "      <th>enroll in edu inst last wk</th>\n",
       "      <th>marital status</th>\n",
       "      <th>major industry code</th>\n",
       "      <th>major occupation code</th>\n",
       "      <th>...</th>\n",
       "      <th>country of birth father</th>\n",
       "      <th>country of birth mother</th>\n",
       "      <th>country of birth self</th>\n",
       "      <th>citizenship</th>\n",
       "      <th>own business or self employed</th>\n",
       "      <th>fill inc questionnaire for veteran's admin</th>\n",
       "      <th>veterans benefits</th>\n",
       "      <th>weeks worked in year</th>\n",
       "      <th>year</th>\n",
       "      <th>income class</th>\n",
       "    </tr>\n",
       "  </thead>\n",
       "  <tbody>\n",
       "    <tr>\n",
       "      <th>0</th>\n",
       "      <td>38</td>\n",
       "      <td>Private</td>\n",
       "      <td>6</td>\n",
       "      <td>36</td>\n",
       "      <td>1st 2nd 3rd or 4th grade</td>\n",
       "      <td>0</td>\n",
       "      <td>Not in universe</td>\n",
       "      <td>Married-civilian spouse present</td>\n",
       "      <td>Manufacturing-durable goods</td>\n",
       "      <td>Machine operators assmblrs &amp; inspctrs</td>\n",
       "      <td>...</td>\n",
       "      <td>Mexico</td>\n",
       "      <td>Mexico</td>\n",
       "      <td>Mexico</td>\n",
       "      <td>Foreign born- Not a citizen of U S</td>\n",
       "      <td>0</td>\n",
       "      <td>Not in universe</td>\n",
       "      <td>2</td>\n",
       "      <td>12</td>\n",
       "      <td>95</td>\n",
       "      <td>- 50000.</td>\n",
       "    </tr>\n",
       "    <tr>\n",
       "      <th>1</th>\n",
       "      <td>44</td>\n",
       "      <td>Self-employed-not incorporated</td>\n",
       "      <td>37</td>\n",
       "      <td>12</td>\n",
       "      <td>Associates degree-occup /vocational</td>\n",
       "      <td>0</td>\n",
       "      <td>Not in universe</td>\n",
       "      <td>Married-civilian spouse present</td>\n",
       "      <td>Business and repair services</td>\n",
       "      <td>Professional specialty</td>\n",
       "      <td>...</td>\n",
       "      <td>United-States</td>\n",
       "      <td>United-States</td>\n",
       "      <td>United-States</td>\n",
       "      <td>Native- Born in the United States</td>\n",
       "      <td>0</td>\n",
       "      <td>Not in universe</td>\n",
       "      <td>2</td>\n",
       "      <td>26</td>\n",
       "      <td>95</td>\n",
       "      <td>- 50000.</td>\n",
       "    </tr>\n",
       "    <tr>\n",
       "      <th>2</th>\n",
       "      <td>2</td>\n",
       "      <td>Not in universe</td>\n",
       "      <td>0</td>\n",
       "      <td>0</td>\n",
       "      <td>Children</td>\n",
       "      <td>0</td>\n",
       "      <td>Not in universe</td>\n",
       "      <td>Never married</td>\n",
       "      <td>Not in universe or children</td>\n",
       "      <td>Not in universe</td>\n",
       "      <td>...</td>\n",
       "      <td>United-States</td>\n",
       "      <td>United-States</td>\n",
       "      <td>United-States</td>\n",
       "      <td>Native- Born in the United States</td>\n",
       "      <td>0</td>\n",
       "      <td>Not in universe</td>\n",
       "      <td>0</td>\n",
       "      <td>0</td>\n",
       "      <td>95</td>\n",
       "      <td>- 50000.</td>\n",
       "    </tr>\n",
       "    <tr>\n",
       "      <th>3</th>\n",
       "      <td>35</td>\n",
       "      <td>Private</td>\n",
       "      <td>29</td>\n",
       "      <td>3</td>\n",
       "      <td>High school graduate</td>\n",
       "      <td>0</td>\n",
       "      <td>Not in universe</td>\n",
       "      <td>Divorced</td>\n",
       "      <td>Transportation</td>\n",
       "      <td>Executive admin and managerial</td>\n",
       "      <td>...</td>\n",
       "      <td>United-States</td>\n",
       "      <td>United-States</td>\n",
       "      <td>United-States</td>\n",
       "      <td>Native- Born in the United States</td>\n",
       "      <td>2</td>\n",
       "      <td>Not in universe</td>\n",
       "      <td>2</td>\n",
       "      <td>52</td>\n",
       "      <td>94</td>\n",
       "      <td>- 50000.</td>\n",
       "    </tr>\n",
       "    <tr>\n",
       "      <th>4</th>\n",
       "      <td>49</td>\n",
       "      <td>Private</td>\n",
       "      <td>4</td>\n",
       "      <td>34</td>\n",
       "      <td>High school graduate</td>\n",
       "      <td>0</td>\n",
       "      <td>Not in universe</td>\n",
       "      <td>Divorced</td>\n",
       "      <td>Construction</td>\n",
       "      <td>Precision production craft &amp; repair</td>\n",
       "      <td>...</td>\n",
       "      <td>United-States</td>\n",
       "      <td>United-States</td>\n",
       "      <td>United-States</td>\n",
       "      <td>Native- Born in the United States</td>\n",
       "      <td>0</td>\n",
       "      <td>Not in universe</td>\n",
       "      <td>2</td>\n",
       "      <td>50</td>\n",
       "      <td>95</td>\n",
       "      <td>- 50000.</td>\n",
       "    </tr>\n",
       "  </tbody>\n",
       "</table>\n",
       "<p>5 rows × 42 columns</p>\n",
       "</div>"
      ],
      "text/plain": [
       "   age                 class of worker  detailed industry recode  \\\n",
       "0   38                         Private                         6   \n",
       "1   44  Self-employed-not incorporated                        37   \n",
       "2    2                 Not in universe                         0   \n",
       "3   35                         Private                        29   \n",
       "4   49                         Private                         4   \n",
       "\n",
       "   detailed occupation recode                            education  \\\n",
       "0                          36             1st 2nd 3rd or 4th grade   \n",
       "1                          12  Associates degree-occup /vocational   \n",
       "2                           0                             Children   \n",
       "3                           3                 High school graduate   \n",
       "4                          34                 High school graduate   \n",
       "\n",
       "   wage per hour enroll in edu inst last wk                   marital status  \\\n",
       "0              0            Not in universe  Married-civilian spouse present   \n",
       "1              0            Not in universe  Married-civilian spouse present   \n",
       "2              0            Not in universe                    Never married   \n",
       "3              0            Not in universe                         Divorced   \n",
       "4              0            Not in universe                         Divorced   \n",
       "\n",
       "            major industry code                  major occupation code  ...  \\\n",
       "0   Manufacturing-durable goods  Machine operators assmblrs & inspctrs  ...   \n",
       "1  Business and repair services                 Professional specialty  ...   \n",
       "2   Not in universe or children                        Not in universe  ...   \n",
       "3                Transportation         Executive admin and managerial  ...   \n",
       "4                  Construction    Precision production craft & repair  ...   \n",
       "\n",
       "  country of birth father country of birth mother country of birth self  \\\n",
       "0                  Mexico                  Mexico                Mexico   \n",
       "1           United-States           United-States         United-States   \n",
       "2           United-States           United-States         United-States   \n",
       "3           United-States           United-States         United-States   \n",
       "4           United-States           United-States         United-States   \n",
       "\n",
       "                           citizenship own business or self employed  \\\n",
       "0  Foreign born- Not a citizen of U S                              0   \n",
       "1    Native- Born in the United States                             0   \n",
       "2    Native- Born in the United States                             0   \n",
       "3    Native- Born in the United States                             2   \n",
       "4    Native- Born in the United States                             0   \n",
       "\n",
       "  fill inc questionnaire for veteran's admin  veterans benefits  \\\n",
       "0                            Not in universe                  2   \n",
       "1                            Not in universe                  2   \n",
       "2                            Not in universe                  0   \n",
       "3                            Not in universe                  2   \n",
       "4                            Not in universe                  2   \n",
       "\n",
       "   weeks worked in year  year income class  \n",
       "0                    12    95     - 50000.  \n",
       "1                    26    95     - 50000.  \n",
       "2                     0    95     - 50000.  \n",
       "3                    52    94     - 50000.  \n",
       "4                    50    95     - 50000.  \n",
       "\n",
       "[5 rows x 42 columns]"
      ]
     },
     "execution_count": 24,
     "metadata": {},
     "output_type": "execute_result"
    }
   ],
   "source": [
    "census_test.columns = census_columns\n",
    "census_test.head()"
   ]
  },
  {
   "cell_type": "markdown",
   "metadata": {},
   "source": [
    "### Clean Dataset"
   ]
  },
  {
   "cell_type": "code",
   "execution_count": 25,
   "metadata": {
    "ExecuteTime": {
     "end_time": "2020-03-15T16:58:15.706770Z",
     "start_time": "2020-03-15T16:58:14.800196Z"
    }
   },
   "outputs": [
    {
     "data": {
      "text/html": [
       "<div>\n",
       "<style scoped>\n",
       "    .dataframe tbody tr th:only-of-type {\n",
       "        vertical-align: middle;\n",
       "    }\n",
       "\n",
       "    .dataframe tbody tr th {\n",
       "        vertical-align: top;\n",
       "    }\n",
       "\n",
       "    .dataframe thead th {\n",
       "        text-align: right;\n",
       "    }\n",
       "</style>\n",
       "<table border=\"1\" class=\"dataframe\">\n",
       "  <thead>\n",
       "    <tr style=\"text-align: right;\">\n",
       "      <th></th>\n",
       "      <th>age</th>\n",
       "      <th>class of worker</th>\n",
       "      <th>detailed industry recode</th>\n",
       "      <th>detailed occupation recode</th>\n",
       "      <th>education</th>\n",
       "      <th>wage per hour</th>\n",
       "      <th>enroll in edu inst last wk</th>\n",
       "      <th>marital status</th>\n",
       "      <th>major industry code</th>\n",
       "      <th>major occupation code</th>\n",
       "      <th>...</th>\n",
       "      <th>country of birth father</th>\n",
       "      <th>country of birth mother</th>\n",
       "      <th>country of birth self</th>\n",
       "      <th>citizenship</th>\n",
       "      <th>own business or self employed</th>\n",
       "      <th>fill inc questionnaire for veteran's admin</th>\n",
       "      <th>veterans benefits</th>\n",
       "      <th>weeks worked in year</th>\n",
       "      <th>year</th>\n",
       "      <th>income class</th>\n",
       "    </tr>\n",
       "  </thead>\n",
       "  <tbody>\n",
       "    <tr>\n",
       "      <th>0</th>\n",
       "      <td>38</td>\n",
       "      <td>Private</td>\n",
       "      <td>6</td>\n",
       "      <td>36</td>\n",
       "      <td>1st 2nd 3rd or 4th grade</td>\n",
       "      <td>0</td>\n",
       "      <td>Not in universe</td>\n",
       "      <td>Married-civilian spouse present</td>\n",
       "      <td>Manufacturing-durable goods</td>\n",
       "      <td>Machine operators assmblrs &amp; inspctrs</td>\n",
       "      <td>...</td>\n",
       "      <td>Mexico</td>\n",
       "      <td>Mexico</td>\n",
       "      <td>Mexico</td>\n",
       "      <td>Foreign born- Not a citizen of U S</td>\n",
       "      <td>0</td>\n",
       "      <td>Not in universe</td>\n",
       "      <td>2</td>\n",
       "      <td>12</td>\n",
       "      <td>95</td>\n",
       "      <td>0</td>\n",
       "    </tr>\n",
       "    <tr>\n",
       "      <th>1</th>\n",
       "      <td>44</td>\n",
       "      <td>Self-employed-not incorporated</td>\n",
       "      <td>37</td>\n",
       "      <td>12</td>\n",
       "      <td>Associates degree-occup /vocational</td>\n",
       "      <td>0</td>\n",
       "      <td>Not in universe</td>\n",
       "      <td>Married-civilian spouse present</td>\n",
       "      <td>Business and repair services</td>\n",
       "      <td>Professional specialty</td>\n",
       "      <td>...</td>\n",
       "      <td>United-States</td>\n",
       "      <td>United-States</td>\n",
       "      <td>United-States</td>\n",
       "      <td>Native- Born in the United States</td>\n",
       "      <td>0</td>\n",
       "      <td>Not in universe</td>\n",
       "      <td>2</td>\n",
       "      <td>26</td>\n",
       "      <td>95</td>\n",
       "      <td>0</td>\n",
       "    </tr>\n",
       "    <tr>\n",
       "      <th>2</th>\n",
       "      <td>2</td>\n",
       "      <td>Not in universe</td>\n",
       "      <td>0</td>\n",
       "      <td>0</td>\n",
       "      <td>Children</td>\n",
       "      <td>0</td>\n",
       "      <td>Not in universe</td>\n",
       "      <td>Never married</td>\n",
       "      <td>Not in universe or children</td>\n",
       "      <td>Not in universe</td>\n",
       "      <td>...</td>\n",
       "      <td>United-States</td>\n",
       "      <td>United-States</td>\n",
       "      <td>United-States</td>\n",
       "      <td>Native- Born in the United States</td>\n",
       "      <td>0</td>\n",
       "      <td>Not in universe</td>\n",
       "      <td>0</td>\n",
       "      <td>0</td>\n",
       "      <td>95</td>\n",
       "      <td>0</td>\n",
       "    </tr>\n",
       "    <tr>\n",
       "      <th>3</th>\n",
       "      <td>35</td>\n",
       "      <td>Private</td>\n",
       "      <td>29</td>\n",
       "      <td>3</td>\n",
       "      <td>High school graduate</td>\n",
       "      <td>0</td>\n",
       "      <td>Not in universe</td>\n",
       "      <td>Divorced</td>\n",
       "      <td>Transportation</td>\n",
       "      <td>Executive admin and managerial</td>\n",
       "      <td>...</td>\n",
       "      <td>United-States</td>\n",
       "      <td>United-States</td>\n",
       "      <td>United-States</td>\n",
       "      <td>Native- Born in the United States</td>\n",
       "      <td>2</td>\n",
       "      <td>Not in universe</td>\n",
       "      <td>2</td>\n",
       "      <td>52</td>\n",
       "      <td>94</td>\n",
       "      <td>0</td>\n",
       "    </tr>\n",
       "    <tr>\n",
       "      <th>4</th>\n",
       "      <td>49</td>\n",
       "      <td>Private</td>\n",
       "      <td>4</td>\n",
       "      <td>34</td>\n",
       "      <td>High school graduate</td>\n",
       "      <td>0</td>\n",
       "      <td>Not in universe</td>\n",
       "      <td>Divorced</td>\n",
       "      <td>Construction</td>\n",
       "      <td>Precision production craft &amp; repair</td>\n",
       "      <td>...</td>\n",
       "      <td>United-States</td>\n",
       "      <td>United-States</td>\n",
       "      <td>United-States</td>\n",
       "      <td>Native- Born in the United States</td>\n",
       "      <td>0</td>\n",
       "      <td>Not in universe</td>\n",
       "      <td>2</td>\n",
       "      <td>50</td>\n",
       "      <td>95</td>\n",
       "      <td>0</td>\n",
       "    </tr>\n",
       "  </tbody>\n",
       "</table>\n",
       "<p>5 rows × 41 columns</p>\n",
       "</div>"
      ],
      "text/plain": [
       "   age                 class of worker detailed industry recode  \\\n",
       "0   38                         Private                        6   \n",
       "1   44  Self-employed-not incorporated                       37   \n",
       "2    2                 Not in universe                        0   \n",
       "3   35                         Private                       29   \n",
       "4   49                         Private                        4   \n",
       "\n",
       "  detailed occupation recode                            education  \\\n",
       "0                         36             1st 2nd 3rd or 4th grade   \n",
       "1                         12  Associates degree-occup /vocational   \n",
       "2                          0                             Children   \n",
       "3                          3                 High school graduate   \n",
       "4                         34                 High school graduate   \n",
       "\n",
       "   wage per hour enroll in edu inst last wk                   marital status  \\\n",
       "0              0            Not in universe  Married-civilian spouse present   \n",
       "1              0            Not in universe  Married-civilian spouse present   \n",
       "2              0            Not in universe                    Never married   \n",
       "3              0            Not in universe                         Divorced   \n",
       "4              0            Not in universe                         Divorced   \n",
       "\n",
       "            major industry code                  major occupation code  ...  \\\n",
       "0   Manufacturing-durable goods  Machine operators assmblrs & inspctrs  ...   \n",
       "1  Business and repair services                 Professional specialty  ...   \n",
       "2   Not in universe or children                        Not in universe  ...   \n",
       "3                Transportation         Executive admin and managerial  ...   \n",
       "4                  Construction    Precision production craft & repair  ...   \n",
       "\n",
       "  country of birth father country of birth mother country of birth self  \\\n",
       "0                  Mexico                  Mexico                Mexico   \n",
       "1           United-States           United-States         United-States   \n",
       "2           United-States           United-States         United-States   \n",
       "3           United-States           United-States         United-States   \n",
       "4           United-States           United-States         United-States   \n",
       "\n",
       "                           citizenship own business or self employed  \\\n",
       "0  Foreign born- Not a citizen of U S                              0   \n",
       "1    Native- Born in the United States                             0   \n",
       "2    Native- Born in the United States                             0   \n",
       "3    Native- Born in the United States                             2   \n",
       "4    Native- Born in the United States                             0   \n",
       "\n",
       "  fill inc questionnaire for veteran's admin  veterans benefits  \\\n",
       "0                            Not in universe                  2   \n",
       "1                            Not in universe                  2   \n",
       "2                            Not in universe                  0   \n",
       "3                            Not in universe                  2   \n",
       "4                            Not in universe                  2   \n",
       "\n",
       "   weeks worked in year  year income class  \n",
       "0                    12    95            0  \n",
       "1                    26    95            0  \n",
       "2                     0    95            0  \n",
       "3                    52    94            0  \n",
       "4                    50    95            0  \n",
       "\n",
       "[5 rows x 41 columns]"
      ]
     },
     "execution_count": 25,
     "metadata": {},
     "output_type": "execute_result"
    }
   ],
   "source": [
    "census_test = clean_dataset(census_test)\n",
    "census_test.head()"
   ]
  },
  {
   "cell_type": "code",
   "execution_count": 26,
   "metadata": {
    "ExecuteTime": {
     "end_time": "2020-03-15T16:58:16.616369Z",
     "start_time": "2020-03-15T16:58:16.371991Z"
    },
    "scrolled": true
   },
   "outputs": [
    {
     "name": "stdout",
     "output_type": "stream",
     "text": [
      "<class 'pandas.core.frame.DataFrame'>\n",
      "RangeIndex: 99762 entries, 0 to 99761\n",
      "Data columns (total 41 columns):\n",
      " #   Column                                      Non-Null Count  Dtype \n",
      "---  ------                                      --------------  ----- \n",
      " 0   age                                         99762 non-null  int64 \n",
      " 1   class of worker                             99762 non-null  object\n",
      " 2   detailed industry recode                    99762 non-null  object\n",
      " 3   detailed occupation recode                  99762 non-null  object\n",
      " 4   education                                   99762 non-null  object\n",
      " 5   wage per hour                               99762 non-null  int64 \n",
      " 6   enroll in edu inst last wk                  99762 non-null  object\n",
      " 7   marital status                              99762 non-null  object\n",
      " 8   major industry code                         99762 non-null  object\n",
      " 9   major occupation code                       99762 non-null  object\n",
      " 10  race                                        99762 non-null  object\n",
      " 11  hispanic origin                             99762 non-null  object\n",
      " 12  sex                                         99762 non-null  object\n",
      " 13  member of a labor union                     99762 non-null  object\n",
      " 14  reason for unemployment                     99762 non-null  object\n",
      " 15  full or part time employment stat           99762 non-null  object\n",
      " 16  capital gains                               99762 non-null  int64 \n",
      " 17  capital losses                              99762 non-null  int64 \n",
      " 18  dividends from stocks                       99762 non-null  int64 \n",
      " 19  tax filer stat                              99762 non-null  object\n",
      " 20  region of previous residence                99762 non-null  object\n",
      " 21  state of previous residence                 99762 non-null  object\n",
      " 22  detailed household and family stat          99762 non-null  object\n",
      " 23  detailed household summary in household     99762 non-null  object\n",
      " 24  migration code-change in msa                99762 non-null  object\n",
      " 25  migration code-change in reg                99762 non-null  object\n",
      " 26  migration code-move within reg              99762 non-null  object\n",
      " 27  live in this house 1 year ago               99762 non-null  object\n",
      " 28  migration prev res in sunbelt               99762 non-null  object\n",
      " 29  num persons worked for employer             99762 non-null  int64 \n",
      " 30  family members under 18                     99762 non-null  object\n",
      " 31  country of birth father                     99762 non-null  object\n",
      " 32  country of birth mother                     99762 non-null  object\n",
      " 33  country of birth self                       99762 non-null  object\n",
      " 34  citizenship                                 99762 non-null  object\n",
      " 35  own business or self employed               99762 non-null  object\n",
      " 36  fill inc questionnaire for veteran's admin  99762 non-null  object\n",
      " 37  veterans benefits                           99762 non-null  object\n",
      " 38  weeks worked in year                        99762 non-null  int64 \n",
      " 39  year                                        99762 non-null  object\n",
      " 40  income class                                99762 non-null  int64 \n",
      "dtypes: int64(8), object(33)\n",
      "memory usage: 31.2+ MB\n"
     ]
    }
   ],
   "source": [
    "census_test.info()"
   ]
  },
  {
   "cell_type": "markdown",
   "metadata": {},
   "source": [
    "### Predictions"
   ]
  },
  {
   "cell_type": "code",
   "execution_count": 27,
   "metadata": {
    "ExecuteTime": {
     "end_time": "2020-03-15T16:58:17.325441Z",
     "start_time": "2020-03-15T16:58:17.281559Z"
    }
   },
   "outputs": [],
   "source": [
    "X_test = census_test.drop('income class', axis=1)\n",
    "y_test = census_test['income class']"
   ]
  },
  {
   "cell_type": "markdown",
   "metadata": {
    "ExecuteTime": {
     "end_time": "2020-03-14T15:20:49.095707Z",
     "start_time": "2020-03-14T15:20:49.080778Z"
    },
    "heading_collapsed": true
   },
   "source": [
    "#### Simple pipeline"
   ]
  },
  {
   "cell_type": "code",
   "execution_count": 44,
   "metadata": {
    "ExecuteTime": {
     "end_time": "2020-03-15T13:27:11.274944Z",
     "start_time": "2020-03-15T13:25:03.880456Z"
    },
    "hidden": true
   },
   "outputs": [
    {
     "name": "stdout",
     "output_type": "stream",
     "text": [
      "              precision    recall  f1-score   support\n",
      "\n",
      "           0       0.99      0.86      0.92     93576\n",
      "           1       0.29      0.90      0.44      6186\n",
      "\n",
      "    accuracy                           0.86     99762\n",
      "   macro avg       0.64      0.88      0.68     99762\n",
      "weighted avg       0.95      0.86      0.89     99762\n",
      "\n",
      "AUC: 0.8779499821179911\n"
     ]
    }
   ],
   "source": [
    "y_pred_test = simple_pipeline.predict(X_test)\n",
    "\n",
    "print(classification_report(y_test, y_pred_test))\n",
    "fpr, tpr, thresholds = roc_curve(y_test, y_pred_test)\n",
    "\n",
    "print(\"AUC: %s\" % auc(fpr, tpr))"
   ]
  },
  {
   "cell_type": "code",
   "execution_count": 46,
   "metadata": {
    "ExecuteTime": {
     "end_time": "2020-03-15T13:27:57.388153Z",
     "start_time": "2020-03-15T13:27:57.222592Z"
    },
    "hidden": true
   },
   "outputs": [],
   "source": [
    "submission = pd.DataFrame(y_pred_test).astype(float)\n",
    "submission.columns = ['income class']\n",
    "submission.reset_index(inplace=True)\n",
    "submission.to_csv('temp/RUSBoostClassifier.csv', index=False)"
   ]
  },
  {
   "cell_type": "markdown",
   "metadata": {},
   "source": [
    "#### SelectKBest"
   ]
  },
  {
   "cell_type": "code",
   "execution_count": 28,
   "metadata": {
    "ExecuteTime": {
     "end_time": "2020-03-15T16:59:15.433012Z",
     "start_time": "2020-03-15T16:58:24.889211Z"
    }
   },
   "outputs": [
    {
     "name": "stdout",
     "output_type": "stream",
     "text": [
      "              precision    recall  f1-score   support\n",
      "\n",
      "           0       0.99      0.85      0.92     93576\n",
      "           1       0.29      0.89      0.43      6186\n",
      "\n",
      "    accuracy                           0.86     99762\n",
      "   macro avg       0.64      0.87      0.68     99762\n",
      "weighted avg       0.95      0.86      0.89     99762\n",
      "\n",
      "AUC: 0.8735774930310748\n"
     ]
    }
   ],
   "source": [
    "y_pred_test = selectKBest_model.predict(X_test)\n",
    "\n",
    "print(classification_report(y_test, y_pred_test))\n",
    "fpr, tpr, thresholds = roc_curve(y_test, y_pred_test)\n",
    "\n",
    "print(\"AUC: %s\" % auc(fpr, tpr))"
   ]
  },
  {
   "cell_type": "code",
   "execution_count": 47,
   "metadata": {
    "ExecuteTime": {
     "end_time": "2020-03-15T13:27:59.673485Z",
     "start_time": "2020-03-15T13:27:59.492172Z"
    }
   },
   "outputs": [],
   "source": [
    "submission = pd.DataFrame(y_pred_test).astype(float)\n",
    "submission.columns = ['income class']\n",
    "submission.reset_index(inplace=True)\n",
    "submission.to_csv('temp/RUSBoostClassifier with SelectKBest.csv', index=False)"
   ]
  },
  {
   "cell_type": "markdown",
   "metadata": {},
   "source": [
    "#### PCA"
   ]
  },
  {
   "cell_type": "code",
   "execution_count": 48,
   "metadata": {
    "ExecuteTime": {
     "end_time": "2020-03-15T13:28:26.564148Z",
     "start_time": "2020-03-15T13:28:03.366117Z"
    }
   },
   "outputs": [
    {
     "name": "stdout",
     "output_type": "stream",
     "text": [
      "              precision    recall  f1-score   support\n",
      "\n",
      "           0       0.99      0.85      0.92     93576\n",
      "           1       0.28      0.89      0.43      6186\n",
      "\n",
      "    accuracy                           0.85     99762\n",
      "   macro avg       0.64      0.87      0.67     99762\n",
      "weighted avg       0.95      0.85      0.89     99762\n",
      "\n",
      "AUC: 0.8702789972757818\n"
     ]
    }
   ],
   "source": [
    "y_pred_test = pca_model.predict(X_test)\n",
    "\n",
    "print(classification_report(y_test, y_pred_test))\n",
    "fpr, tpr, thresholds = roc_curve(y_test, y_pred_test)\n",
    "\n",
    "print(\"AUC: %s\" % auc(fpr, tpr))"
   ]
  },
  {
   "cell_type": "code",
   "execution_count": 49,
   "metadata": {
    "ExecuteTime": {
     "end_time": "2020-03-15T13:28:27.275255Z",
     "start_time": "2020-03-15T13:28:27.107668Z"
    }
   },
   "outputs": [],
   "source": [
    "submission = pd.DataFrame(y_pred_test).astype(float)\n",
    "submission.columns = ['income class']\n",
    "submission.reset_index(inplace=True)\n",
    "submission.to_csv('temp/RUSBoostClassifier with PCA.csv', index=False)"
   ]
  },
  {
   "cell_type": "code",
   "execution_count": null,
   "metadata": {},
   "outputs": [],
   "source": []
  }
 ],
 "metadata": {
  "kernelspec": {
   "display_name": "Python 3",
   "language": "python",
   "name": "python3"
  },
  "language_info": {
   "codemirror_mode": {
    "name": "ipython",
    "version": 3
   },
   "file_extension": ".py",
   "mimetype": "text/x-python",
   "name": "python",
   "nbconvert_exporter": "python",
   "pygments_lexer": "ipython3",
   "version": "3.7.6"
  },
  "toc": {
   "base_numbering": 1,
   "nav_menu": {},
   "number_sections": true,
   "sideBar": true,
   "skip_h1_title": false,
   "title_cell": "Table of Contents",
   "title_sidebar": "Contents",
   "toc_cell": false,
   "toc_position": {},
   "toc_section_display": true,
   "toc_window_display": true
  },
  "varInspector": {
   "cols": {
    "lenName": 16,
    "lenType": 16,
    "lenVar": 40
   },
   "kernels_config": {
    "python": {
     "delete_cmd_postfix": "",
     "delete_cmd_prefix": "del ",
     "library": "var_list.py",
     "varRefreshCmd": "print(var_dic_list())"
    },
    "r": {
     "delete_cmd_postfix": ") ",
     "delete_cmd_prefix": "rm(",
     "library": "var_list.r",
     "varRefreshCmd": "cat(var_dic_list()) "
    }
   },
   "types_to_exclude": [
    "module",
    "function",
    "builtin_function_or_method",
    "instance",
    "_Feature"
   ],
   "window_display": false
  }
 },
 "nbformat": 4,
 "nbformat_minor": 4
}
