{
 "cells": [
  {
   "cell_type": "markdown",
   "metadata": {},
   "source": [
    "## Import Dependencies"
   ]
  },
  {
   "cell_type": "code",
   "execution_count": 1,
   "metadata": {
    "ExecuteTime": {
     "end_time": "2020-03-16T10:31:56.944490Z",
     "start_time": "2020-03-16T10:31:55.158417Z"
    }
   },
   "outputs": [],
   "source": [
    "import pandas as pd\n",
    "import numpy as np\n",
    "import matplotlib.pyplot as plt\n",
    "import seaborn as sns\n",
    "\n",
    "from sklearn.model_selection import train_test_split\n",
    "\n",
    "from fastai import *\n",
    "from fastai.tabular import * \n",
    "\n",
    "SEED = 666\n",
    "\n",
    "# magic word for producing visualizations in notebook\n",
    "%matplotlib inline\n",
    "\n",
    "# and setting the size of all plots.\n",
    "plt.rcParams['figure.figsize'] = [11, 7]"
   ]
  },
  {
   "cell_type": "code",
   "execution_count": 2,
   "metadata": {
    "ExecuteTime": {
     "end_time": "2020-03-16T10:31:56.959447Z",
     "start_time": "2020-03-16T10:31:56.945484Z"
    },
    "scrolled": true
   },
   "outputs": [],
   "source": [
    "census_columns = [\n",
    "    'age',\n",
    "    'class of worker',\n",
    "    'detailed industry recode',\n",
    "    'detailed occupation recode',\n",
    "    'education',\n",
    "    'wage per hour',\n",
    "    'enroll in edu inst last wk',\n",
    "    'marital status',\n",
    "    'major industry code',\n",
    "    'major occupation code',\n",
    "    'race',\n",
    "    'hispanic origin',\n",
    "    'sex',\n",
    "    'member of a labor union',\n",
    "    'reason for unemployment',\n",
    "    'full or part time employment stat',\n",
    "    'capital gains',\n",
    "    'capital losses',\n",
    "    'dividends from stocks',\n",
    "    'tax filer stat',\n",
    "    'region of previous residence',\n",
    "    'state of previous residence',\n",
    "    'detailed household and family stat',\n",
    "    'detailed household summary in household',\n",
    "    'instance weight',\n",
    "    'migration code-change in msa',\n",
    "    'migration code-change in reg',\n",
    "    'migration code-move within reg',\n",
    "    'live in this house 1 year ago',\n",
    "    'migration prev res in sunbelt',\n",
    "    'num persons worked for employer',\n",
    "    'family members under 18',\n",
    "    'country of birth father',\n",
    "    'country of birth mother',\n",
    "    'country of birth self',\n",
    "    'citizenship',\n",
    "    'own business or self employed',\n",
    "    'fill inc questionnaire for veteran\\'s admin',\n",
    "    'veterans benefits',\n",
    "    'weeks worked in year',\n",
    "    'year',\n",
    "    'income class'\n",
    "]\n",
    "\n",
    "features_to_drop = [\n",
    "    'instance weight', # Ignored\n",
    "    # more than 70% values missing\n",
    "    'enroll in edu inst last wk',\n",
    "    'member of a labor union',\n",
    "    'reason for unemployment',\n",
    "    'region of previous residence',\n",
    "    'state of previous residence',\n",
    "    'migration prev res in sunbelt',\n",
    "    'family members under 18',\n",
    "    \"fill inc questionnaire for veteran's admin\",\n",
    "    # more than 50% values missing\n",
    "    'class of worker',\n",
    "    'major industry code',\n",
    "    'major occupation code',\n",
    "    'migration code-change in msa',\n",
    "    'migration code-change in reg',\n",
    "    'migration code-move within reg',\n",
    "    'live in this house 1 year ago',\n",
    "    # Vlad Manolache\n",
    "    \"year\", # good call Vlad Manolache\n",
    "    'capital gains',\n",
    "    'capital losses'\n",
    "]\n",
    "\n",
    "categorical_features = [\n",
    "    #'class of worker',\n",
    "    'detailed industry recode',\n",
    "    'detailed occupation recode',\n",
    "    'education',\n",
    "    'marital status',\n",
    "    #'major industry code',\n",
    "    #'major occupation code',\n",
    "    'race',\n",
    "    'hispanic origin',\n",
    "    'sex',\n",
    "    'full or part time employment stat',\n",
    "    'tax filer stat',\n",
    "    'detailed household and family stat',\n",
    "    'detailed household summary in household',\n",
    "    #'migration code-change in msa',\n",
    "    #'migration code-change in reg',\n",
    "    #'migration code-move within reg',\n",
    "    #'live in this house 1 year ago',\n",
    "    'country of birth father',\n",
    "    'country of birth mother',\n",
    "    'country of birth self',\n",
    "    'citizenship',\n",
    "    'own business or self employed',\n",
    "    'veterans benefits',\n",
    "    #'year'\n",
    "]\n",
    "\n",
    "numerical_features = [\n",
    "    'age',\n",
    "    'wage per hour',\n",
    "    #'capital gains',\n",
    "    #'capital losses',  \n",
    "    'capital gains loss', #Vlad Manolache\n",
    "    'dividends from stocks',\n",
    "    'num persons worked for employer',\n",
    "    'weeks worked in year'\n",
    "]\n",
    "\n",
    "\n",
    "label_feature = 'income class'"
   ]
  },
  {
   "cell_type": "markdown",
   "metadata": {},
   "source": [
    "## Load Datasets"
   ]
  },
  {
   "cell_type": "markdown",
   "metadata": {},
   "source": [
    "### Train"
   ]
  },
  {
   "cell_type": "code",
   "execution_count": 3,
   "metadata": {
    "ExecuteTime": {
     "end_time": "2020-03-16T10:32:02.443774Z",
     "start_time": "2020-03-16T10:31:56.960444Z"
    }
   },
   "outputs": [],
   "source": [
    "# The C engine doesn't support RegEx so we set it to Python to avoid the warning\n",
    "census = pd.read_csv('data/census-income.data', header=None, sep=',\\s', na_values=['?', 'Do not know', 'Not identifiable'], engine='python')"
   ]
  },
  {
   "cell_type": "code",
   "execution_count": 4,
   "metadata": {
    "ExecuteTime": {
     "end_time": "2020-03-16T10:32:02.474692Z",
     "start_time": "2020-03-16T10:32:02.444771Z"
    }
   },
   "outputs": [
    {
     "data": {
      "text/html": [
       "<div>\n",
       "<style scoped>\n",
       "    .dataframe tbody tr th:only-of-type {\n",
       "        vertical-align: middle;\n",
       "    }\n",
       "\n",
       "    .dataframe tbody tr th {\n",
       "        vertical-align: top;\n",
       "    }\n",
       "\n",
       "    .dataframe thead th {\n",
       "        text-align: right;\n",
       "    }\n",
       "</style>\n",
       "<table border=\"1\" class=\"dataframe\">\n",
       "  <thead>\n",
       "    <tr style=\"text-align: right;\">\n",
       "      <th></th>\n",
       "      <th>age</th>\n",
       "      <th>class of worker</th>\n",
       "      <th>detailed industry recode</th>\n",
       "      <th>detailed occupation recode</th>\n",
       "      <th>education</th>\n",
       "      <th>wage per hour</th>\n",
       "      <th>enroll in edu inst last wk</th>\n",
       "      <th>marital status</th>\n",
       "      <th>major industry code</th>\n",
       "      <th>major occupation code</th>\n",
       "      <th>...</th>\n",
       "      <th>country of birth father</th>\n",
       "      <th>country of birth mother</th>\n",
       "      <th>country of birth self</th>\n",
       "      <th>citizenship</th>\n",
       "      <th>own business or self employed</th>\n",
       "      <th>fill inc questionnaire for veteran's admin</th>\n",
       "      <th>veterans benefits</th>\n",
       "      <th>weeks worked in year</th>\n",
       "      <th>year</th>\n",
       "      <th>income class</th>\n",
       "    </tr>\n",
       "  </thead>\n",
       "  <tbody>\n",
       "    <tr>\n",
       "      <th>0</th>\n",
       "      <td>73</td>\n",
       "      <td>Not in universe</td>\n",
       "      <td>0</td>\n",
       "      <td>0</td>\n",
       "      <td>High school graduate</td>\n",
       "      <td>0</td>\n",
       "      <td>Not in universe</td>\n",
       "      <td>Widowed</td>\n",
       "      <td>Not in universe or children</td>\n",
       "      <td>Not in universe</td>\n",
       "      <td>...</td>\n",
       "      <td>United-States</td>\n",
       "      <td>United-States</td>\n",
       "      <td>United-States</td>\n",
       "      <td>Native- Born in the United States</td>\n",
       "      <td>0</td>\n",
       "      <td>Not in universe</td>\n",
       "      <td>2</td>\n",
       "      <td>0</td>\n",
       "      <td>95</td>\n",
       "      <td>- 50000.</td>\n",
       "    </tr>\n",
       "    <tr>\n",
       "      <th>1</th>\n",
       "      <td>58</td>\n",
       "      <td>Self-employed-not incorporated</td>\n",
       "      <td>4</td>\n",
       "      <td>34</td>\n",
       "      <td>Some college but no degree</td>\n",
       "      <td>0</td>\n",
       "      <td>Not in universe</td>\n",
       "      <td>Divorced</td>\n",
       "      <td>Construction</td>\n",
       "      <td>Precision production craft &amp; repair</td>\n",
       "      <td>...</td>\n",
       "      <td>United-States</td>\n",
       "      <td>United-States</td>\n",
       "      <td>United-States</td>\n",
       "      <td>Native- Born in the United States</td>\n",
       "      <td>0</td>\n",
       "      <td>Not in universe</td>\n",
       "      <td>2</td>\n",
       "      <td>52</td>\n",
       "      <td>94</td>\n",
       "      <td>- 50000.</td>\n",
       "    </tr>\n",
       "    <tr>\n",
       "      <th>2</th>\n",
       "      <td>18</td>\n",
       "      <td>Not in universe</td>\n",
       "      <td>0</td>\n",
       "      <td>0</td>\n",
       "      <td>10th grade</td>\n",
       "      <td>0</td>\n",
       "      <td>High school</td>\n",
       "      <td>Never married</td>\n",
       "      <td>Not in universe or children</td>\n",
       "      <td>Not in universe</td>\n",
       "      <td>...</td>\n",
       "      <td>Vietnam</td>\n",
       "      <td>Vietnam</td>\n",
       "      <td>Vietnam</td>\n",
       "      <td>Foreign born- Not a citizen of U S</td>\n",
       "      <td>0</td>\n",
       "      <td>Not in universe</td>\n",
       "      <td>2</td>\n",
       "      <td>0</td>\n",
       "      <td>95</td>\n",
       "      <td>- 50000.</td>\n",
       "    </tr>\n",
       "    <tr>\n",
       "      <th>3</th>\n",
       "      <td>9</td>\n",
       "      <td>Not in universe</td>\n",
       "      <td>0</td>\n",
       "      <td>0</td>\n",
       "      <td>Children</td>\n",
       "      <td>0</td>\n",
       "      <td>Not in universe</td>\n",
       "      <td>Never married</td>\n",
       "      <td>Not in universe or children</td>\n",
       "      <td>Not in universe</td>\n",
       "      <td>...</td>\n",
       "      <td>United-States</td>\n",
       "      <td>United-States</td>\n",
       "      <td>United-States</td>\n",
       "      <td>Native- Born in the United States</td>\n",
       "      <td>0</td>\n",
       "      <td>Not in universe</td>\n",
       "      <td>0</td>\n",
       "      <td>0</td>\n",
       "      <td>94</td>\n",
       "      <td>- 50000.</td>\n",
       "    </tr>\n",
       "    <tr>\n",
       "      <th>4</th>\n",
       "      <td>10</td>\n",
       "      <td>Not in universe</td>\n",
       "      <td>0</td>\n",
       "      <td>0</td>\n",
       "      <td>Children</td>\n",
       "      <td>0</td>\n",
       "      <td>Not in universe</td>\n",
       "      <td>Never married</td>\n",
       "      <td>Not in universe or children</td>\n",
       "      <td>Not in universe</td>\n",
       "      <td>...</td>\n",
       "      <td>United-States</td>\n",
       "      <td>United-States</td>\n",
       "      <td>United-States</td>\n",
       "      <td>Native- Born in the United States</td>\n",
       "      <td>0</td>\n",
       "      <td>Not in universe</td>\n",
       "      <td>0</td>\n",
       "      <td>0</td>\n",
       "      <td>94</td>\n",
       "      <td>- 50000.</td>\n",
       "    </tr>\n",
       "  </tbody>\n",
       "</table>\n",
       "<p>5 rows × 42 columns</p>\n",
       "</div>"
      ],
      "text/plain": [
       "   age                 class of worker  detailed industry recode  \\\n",
       "0   73                 Not in universe                         0   \n",
       "1   58  Self-employed-not incorporated                         4   \n",
       "2   18                 Not in universe                         0   \n",
       "3    9                 Not in universe                         0   \n",
       "4   10                 Not in universe                         0   \n",
       "\n",
       "   detailed occupation recode                   education  wage per hour  \\\n",
       "0                           0        High school graduate              0   \n",
       "1                          34  Some college but no degree              0   \n",
       "2                           0                  10th grade              0   \n",
       "3                           0                    Children              0   \n",
       "4                           0                    Children              0   \n",
       "\n",
       "  enroll in edu inst last wk marital status          major industry code  \\\n",
       "0            Not in universe        Widowed  Not in universe or children   \n",
       "1            Not in universe       Divorced                 Construction   \n",
       "2                High school  Never married  Not in universe or children   \n",
       "3            Not in universe  Never married  Not in universe or children   \n",
       "4            Not in universe  Never married  Not in universe or children   \n",
       "\n",
       "                 major occupation code  ... country of birth father  \\\n",
       "0                      Not in universe  ...           United-States   \n",
       "1  Precision production craft & repair  ...           United-States   \n",
       "2                      Not in universe  ...                 Vietnam   \n",
       "3                      Not in universe  ...           United-States   \n",
       "4                      Not in universe  ...           United-States   \n",
       "\n",
       "  country of birth mother country of birth self  \\\n",
       "0           United-States         United-States   \n",
       "1           United-States         United-States   \n",
       "2                 Vietnam               Vietnam   \n",
       "3           United-States         United-States   \n",
       "4           United-States         United-States   \n",
       "\n",
       "                           citizenship own business or self employed  \\\n",
       "0    Native- Born in the United States                             0   \n",
       "1    Native- Born in the United States                             0   \n",
       "2  Foreign born- Not a citizen of U S                              0   \n",
       "3    Native- Born in the United States                             0   \n",
       "4    Native- Born in the United States                             0   \n",
       "\n",
       "  fill inc questionnaire for veteran's admin  veterans benefits  \\\n",
       "0                            Not in universe                  2   \n",
       "1                            Not in universe                  2   \n",
       "2                            Not in universe                  2   \n",
       "3                            Not in universe                  0   \n",
       "4                            Not in universe                  0   \n",
       "\n",
       "   weeks worked in year  year income class  \n",
       "0                     0    95     - 50000.  \n",
       "1                    52    94     - 50000.  \n",
       "2                     0    95     - 50000.  \n",
       "3                     0    94     - 50000.  \n",
       "4                     0    94     - 50000.  \n",
       "\n",
       "[5 rows x 42 columns]"
      ]
     },
     "execution_count": 4,
     "metadata": {},
     "output_type": "execute_result"
    }
   ],
   "source": [
    "census.columns = census_columns\n",
    "census.head()"
   ]
  },
  {
   "cell_type": "code",
   "execution_count": 5,
   "metadata": {
    "ExecuteTime": {
     "end_time": "2020-03-16T10:32:02.675156Z",
     "start_time": "2020-03-16T10:32:02.476687Z"
    },
    "scrolled": true
   },
   "outputs": [
    {
     "name": "stdout",
     "output_type": "stream",
     "text": [
      "<class 'pandas.core.frame.DataFrame'>\n",
      "RangeIndex: 199523 entries, 0 to 199522\n",
      "Data columns (total 42 columns):\n",
      " #   Column                                      Non-Null Count   Dtype  \n",
      "---  ------                                      --------------   -----  \n",
      " 0   age                                         199523 non-null  int64  \n",
      " 1   class of worker                             199523 non-null  object \n",
      " 2   detailed industry recode                    199523 non-null  int64  \n",
      " 3   detailed occupation recode                  199523 non-null  int64  \n",
      " 4   education                                   199523 non-null  object \n",
      " 5   wage per hour                               199523 non-null  int64  \n",
      " 6   enroll in edu inst last wk                  199523 non-null  object \n",
      " 7   marital status                              199523 non-null  object \n",
      " 8   major industry code                         199523 non-null  object \n",
      " 9   major occupation code                       199523 non-null  object \n",
      " 10  race                                        199523 non-null  object \n",
      " 11  hispanic origin                             198343 non-null  object \n",
      " 12  sex                                         199523 non-null  object \n",
      " 13  member of a labor union                     199523 non-null  object \n",
      " 14  reason for unemployment                     199523 non-null  object \n",
      " 15  full or part time employment stat           199523 non-null  object \n",
      " 16  capital gains                               199523 non-null  int64  \n",
      " 17  capital losses                              199523 non-null  int64  \n",
      " 18  dividends from stocks                       199523 non-null  int64  \n",
      " 19  tax filer stat                              199523 non-null  object \n",
      " 20  region of previous residence                199523 non-null  object \n",
      " 21  state of previous residence                 198815 non-null  object \n",
      " 22  detailed household and family stat          199523 non-null  object \n",
      " 23  detailed household summary in household     199523 non-null  object \n",
      " 24  instance weight                             199523 non-null  float64\n",
      " 25  migration code-change in msa                99397 non-null   object \n",
      " 26  migration code-change in reg                99827 non-null   object \n",
      " 27  migration code-move within reg              99827 non-null   object \n",
      " 28  live in this house 1 year ago               199523 non-null  object \n",
      " 29  migration prev res in sunbelt               99827 non-null   object \n",
      " 30  num persons worked for employer             199523 non-null  int64  \n",
      " 31  family members under 18                     199523 non-null  object \n",
      " 32  country of birth father                     192810 non-null  object \n",
      " 33  country of birth mother                     193404 non-null  object \n",
      " 34  country of birth self                       196130 non-null  object \n",
      " 35  citizenship                                 199523 non-null  object \n",
      " 36  own business or self employed               199523 non-null  int64  \n",
      " 37  fill inc questionnaire for veteran's admin  199523 non-null  object \n",
      " 38  veterans benefits                           199523 non-null  int64  \n",
      " 39  weeks worked in year                        199523 non-null  int64  \n",
      " 40  year                                        199523 non-null  int64  \n",
      " 41  income class                                199523 non-null  object \n",
      "dtypes: float64(1), int64(12), object(29)\n",
      "memory usage: 63.9+ MB\n"
     ]
    }
   ],
   "source": [
    "census.info()"
   ]
  },
  {
   "cell_type": "markdown",
   "metadata": {},
   "source": [
    "### Load Test Dataset"
   ]
  },
  {
   "cell_type": "code",
   "execution_count": 6,
   "metadata": {
    "ExecuteTime": {
     "end_time": "2020-03-16T10:32:05.331535Z",
     "start_time": "2020-03-16T10:32:02.676154Z"
    }
   },
   "outputs": [],
   "source": [
    "# The C engine doesn't support RegEx so we set it to Python to avoid the warning\n",
    "census_test = pd.read_csv('data/census-income.test', header=None, sep=',\\s', na_values=['?', 'Do not know', 'Not identifiable'], engine='python')"
   ]
  },
  {
   "cell_type": "code",
   "execution_count": 7,
   "metadata": {
    "ExecuteTime": {
     "end_time": "2020-03-16T10:32:05.362452Z",
     "start_time": "2020-03-16T10:32:05.332532Z"
    }
   },
   "outputs": [
    {
     "data": {
      "text/html": [
       "<div>\n",
       "<style scoped>\n",
       "    .dataframe tbody tr th:only-of-type {\n",
       "        vertical-align: middle;\n",
       "    }\n",
       "\n",
       "    .dataframe tbody tr th {\n",
       "        vertical-align: top;\n",
       "    }\n",
       "\n",
       "    .dataframe thead th {\n",
       "        text-align: right;\n",
       "    }\n",
       "</style>\n",
       "<table border=\"1\" class=\"dataframe\">\n",
       "  <thead>\n",
       "    <tr style=\"text-align: right;\">\n",
       "      <th></th>\n",
       "      <th>age</th>\n",
       "      <th>class of worker</th>\n",
       "      <th>detailed industry recode</th>\n",
       "      <th>detailed occupation recode</th>\n",
       "      <th>education</th>\n",
       "      <th>wage per hour</th>\n",
       "      <th>enroll in edu inst last wk</th>\n",
       "      <th>marital status</th>\n",
       "      <th>major industry code</th>\n",
       "      <th>major occupation code</th>\n",
       "      <th>...</th>\n",
       "      <th>country of birth father</th>\n",
       "      <th>country of birth mother</th>\n",
       "      <th>country of birth self</th>\n",
       "      <th>citizenship</th>\n",
       "      <th>own business or self employed</th>\n",
       "      <th>fill inc questionnaire for veteran's admin</th>\n",
       "      <th>veterans benefits</th>\n",
       "      <th>weeks worked in year</th>\n",
       "      <th>year</th>\n",
       "      <th>income class</th>\n",
       "    </tr>\n",
       "  </thead>\n",
       "  <tbody>\n",
       "    <tr>\n",
       "      <th>0</th>\n",
       "      <td>38</td>\n",
       "      <td>Private</td>\n",
       "      <td>6</td>\n",
       "      <td>36</td>\n",
       "      <td>1st 2nd 3rd or 4th grade</td>\n",
       "      <td>0</td>\n",
       "      <td>Not in universe</td>\n",
       "      <td>Married-civilian spouse present</td>\n",
       "      <td>Manufacturing-durable goods</td>\n",
       "      <td>Machine operators assmblrs &amp; inspctrs</td>\n",
       "      <td>...</td>\n",
       "      <td>Mexico</td>\n",
       "      <td>Mexico</td>\n",
       "      <td>Mexico</td>\n",
       "      <td>Foreign born- Not a citizen of U S</td>\n",
       "      <td>0</td>\n",
       "      <td>Not in universe</td>\n",
       "      <td>2</td>\n",
       "      <td>12</td>\n",
       "      <td>95</td>\n",
       "      <td>- 50000.</td>\n",
       "    </tr>\n",
       "    <tr>\n",
       "      <th>1</th>\n",
       "      <td>44</td>\n",
       "      <td>Self-employed-not incorporated</td>\n",
       "      <td>37</td>\n",
       "      <td>12</td>\n",
       "      <td>Associates degree-occup /vocational</td>\n",
       "      <td>0</td>\n",
       "      <td>Not in universe</td>\n",
       "      <td>Married-civilian spouse present</td>\n",
       "      <td>Business and repair services</td>\n",
       "      <td>Professional specialty</td>\n",
       "      <td>...</td>\n",
       "      <td>United-States</td>\n",
       "      <td>United-States</td>\n",
       "      <td>United-States</td>\n",
       "      <td>Native- Born in the United States</td>\n",
       "      <td>0</td>\n",
       "      <td>Not in universe</td>\n",
       "      <td>2</td>\n",
       "      <td>26</td>\n",
       "      <td>95</td>\n",
       "      <td>- 50000.</td>\n",
       "    </tr>\n",
       "    <tr>\n",
       "      <th>2</th>\n",
       "      <td>2</td>\n",
       "      <td>Not in universe</td>\n",
       "      <td>0</td>\n",
       "      <td>0</td>\n",
       "      <td>Children</td>\n",
       "      <td>0</td>\n",
       "      <td>Not in universe</td>\n",
       "      <td>Never married</td>\n",
       "      <td>Not in universe or children</td>\n",
       "      <td>Not in universe</td>\n",
       "      <td>...</td>\n",
       "      <td>United-States</td>\n",
       "      <td>United-States</td>\n",
       "      <td>United-States</td>\n",
       "      <td>Native- Born in the United States</td>\n",
       "      <td>0</td>\n",
       "      <td>Not in universe</td>\n",
       "      <td>0</td>\n",
       "      <td>0</td>\n",
       "      <td>95</td>\n",
       "      <td>- 50000.</td>\n",
       "    </tr>\n",
       "    <tr>\n",
       "      <th>3</th>\n",
       "      <td>35</td>\n",
       "      <td>Private</td>\n",
       "      <td>29</td>\n",
       "      <td>3</td>\n",
       "      <td>High school graduate</td>\n",
       "      <td>0</td>\n",
       "      <td>Not in universe</td>\n",
       "      <td>Divorced</td>\n",
       "      <td>Transportation</td>\n",
       "      <td>Executive admin and managerial</td>\n",
       "      <td>...</td>\n",
       "      <td>United-States</td>\n",
       "      <td>United-States</td>\n",
       "      <td>United-States</td>\n",
       "      <td>Native- Born in the United States</td>\n",
       "      <td>2</td>\n",
       "      <td>Not in universe</td>\n",
       "      <td>2</td>\n",
       "      <td>52</td>\n",
       "      <td>94</td>\n",
       "      <td>- 50000.</td>\n",
       "    </tr>\n",
       "    <tr>\n",
       "      <th>4</th>\n",
       "      <td>49</td>\n",
       "      <td>Private</td>\n",
       "      <td>4</td>\n",
       "      <td>34</td>\n",
       "      <td>High school graduate</td>\n",
       "      <td>0</td>\n",
       "      <td>Not in universe</td>\n",
       "      <td>Divorced</td>\n",
       "      <td>Construction</td>\n",
       "      <td>Precision production craft &amp; repair</td>\n",
       "      <td>...</td>\n",
       "      <td>United-States</td>\n",
       "      <td>United-States</td>\n",
       "      <td>United-States</td>\n",
       "      <td>Native- Born in the United States</td>\n",
       "      <td>0</td>\n",
       "      <td>Not in universe</td>\n",
       "      <td>2</td>\n",
       "      <td>50</td>\n",
       "      <td>95</td>\n",
       "      <td>- 50000.</td>\n",
       "    </tr>\n",
       "  </tbody>\n",
       "</table>\n",
       "<p>5 rows × 42 columns</p>\n",
       "</div>"
      ],
      "text/plain": [
       "   age                 class of worker  detailed industry recode  \\\n",
       "0   38                         Private                         6   \n",
       "1   44  Self-employed-not incorporated                        37   \n",
       "2    2                 Not in universe                         0   \n",
       "3   35                         Private                        29   \n",
       "4   49                         Private                         4   \n",
       "\n",
       "   detailed occupation recode                            education  \\\n",
       "0                          36             1st 2nd 3rd or 4th grade   \n",
       "1                          12  Associates degree-occup /vocational   \n",
       "2                           0                             Children   \n",
       "3                           3                 High school graduate   \n",
       "4                          34                 High school graduate   \n",
       "\n",
       "   wage per hour enroll in edu inst last wk                   marital status  \\\n",
       "0              0            Not in universe  Married-civilian spouse present   \n",
       "1              0            Not in universe  Married-civilian spouse present   \n",
       "2              0            Not in universe                    Never married   \n",
       "3              0            Not in universe                         Divorced   \n",
       "4              0            Not in universe                         Divorced   \n",
       "\n",
       "            major industry code                  major occupation code  ...  \\\n",
       "0   Manufacturing-durable goods  Machine operators assmblrs & inspctrs  ...   \n",
       "1  Business and repair services                 Professional specialty  ...   \n",
       "2   Not in universe or children                        Not in universe  ...   \n",
       "3                Transportation         Executive admin and managerial  ...   \n",
       "4                  Construction    Precision production craft & repair  ...   \n",
       "\n",
       "  country of birth father country of birth mother country of birth self  \\\n",
       "0                  Mexico                  Mexico                Mexico   \n",
       "1           United-States           United-States         United-States   \n",
       "2           United-States           United-States         United-States   \n",
       "3           United-States           United-States         United-States   \n",
       "4           United-States           United-States         United-States   \n",
       "\n",
       "                           citizenship own business or self employed  \\\n",
       "0  Foreign born- Not a citizen of U S                              0   \n",
       "1    Native- Born in the United States                             0   \n",
       "2    Native- Born in the United States                             0   \n",
       "3    Native- Born in the United States                             2   \n",
       "4    Native- Born in the United States                             0   \n",
       "\n",
       "  fill inc questionnaire for veteran's admin  veterans benefits  \\\n",
       "0                            Not in universe                  2   \n",
       "1                            Not in universe                  2   \n",
       "2                            Not in universe                  0   \n",
       "3                            Not in universe                  2   \n",
       "4                            Not in universe                  2   \n",
       "\n",
       "   weeks worked in year  year income class  \n",
       "0                    12    95     - 50000.  \n",
       "1                    26    95     - 50000.  \n",
       "2                     0    95     - 50000.  \n",
       "3                    52    94     - 50000.  \n",
       "4                    50    95     - 50000.  \n",
       "\n",
       "[5 rows x 42 columns]"
      ]
     },
     "execution_count": 7,
     "metadata": {},
     "output_type": "execute_result"
    }
   ],
   "source": [
    "census_test.columns = census_columns\n",
    "census_test.head()"
   ]
  },
  {
   "cell_type": "markdown",
   "metadata": {},
   "source": [
    " ## Clean Datasets"
   ]
  },
  {
   "cell_type": "code",
   "execution_count": 8,
   "metadata": {
    "ExecuteTime": {
     "end_time": "2020-03-16T10:32:05.393369Z",
     "start_time": "2020-03-16T10:32:05.365444Z"
    }
   },
   "outputs": [],
   "source": [
    "class DefaultZero(dict):\n",
    "    def __missing__(self, key):\n",
    "        return 0\n",
    "\n",
    "def clean_dataset(df):\n",
    "    # replace field that contains Not in Universe with NaN\n",
    "    df = df.replace(r'Not in universe\\w*?', np.nan, regex=True)\n",
    "    \n",
    "    # Fill NaN\n",
    "    df['hispanic origin'] = df['hispanic origin'].fillna(df['hispanic origin'].mode()[0])\n",
    "    df['country of birth father'] = df['country of birth father'].fillna(df['country of birth father'].mode()[0])\n",
    "    df['country of birth mother'] = df['country of birth mother'].fillna(df['country of birth mother'].mode()[0])\n",
    "    df['country of birth self'] = df['country of birth self'].fillna(df['country of birth self'].mode()[0])\n",
    "    \n",
    "    # Feature Engineering\n",
    "    \n",
    "    # From Vlad Manolache\n",
    "    # -------------------------\n",
    "\n",
    "    # Collapse marrital status\n",
    "    marrital_status_single = ['Never married', 'Separated', 'Divorced', 'Widowed']\n",
    "    marrital_status_married = ['Married-civilian spouse present', 'Married-spouse absent', 'Married-A F spouse present']\n",
    "    df['marital status'] = df['marital status'].replace(marrital_status_single, 'Single')\n",
    "    df['marital status'] = df['marital status'].replace(marrital_status_married, 'Married')\n",
    "    \n",
    "    # Inspired by the winners\n",
    "    map_education = {\n",
    "        'Doctorate degree(PhD EdD)': 3,\n",
    "        'Prof school degree (MD DDS DVM LLB JD)': 3,\n",
    "        'Masters degree(MA MS MEng MEd MSW MBA)': 3,\n",
    "        'Bachelors degree(BA AB BS)': 2,\n",
    "        'Associates degree-academic program': 2,\n",
    "        'Associates degree-occup /vocational': 2,\n",
    "        'Some college but no degree': 1,\n",
    "        '12th grade no diploma': 1,\n",
    "        '11th grade': 1,\n",
    "        '10th grade': 1,\n",
    "        '9th grade': 1,\n",
    "        'High school graduate': 1,\n",
    "        '7th and 8th grade': 0,\n",
    "        '5th or 6th grade': 0,\n",
    "        '1st 2nd 3rd or 4th grade': 0,\n",
    "        'Less than 1st grade': 0,\n",
    "        'Children': 0\n",
    "    }\n",
    "    \n",
    "    df['education'] = df['education'].map(map_education)\n",
    "    \n",
    "    # From Vlad Manolache\n",
    "    df['capital gains loss'] = df['capital gains'] - df['capital losses']\n",
    "    \n",
    "    # From Jan Jakob Lameijer\n",
    "    map_race = {\n",
    "        'White': 1,\n",
    "        'Black': 0,\n",
    "        'Asian or Pacific Islander': 0,\n",
    "        'Other': 0,\n",
    "        'Amer Indian Aleut or Eskimo': 0\n",
    "    }\n",
    "\n",
    "    df['race'] = df['race'].map(map_race)\n",
    "\n",
    "    map_hisp = {\n",
    "        'All other': 0,\n",
    "        'Mexican (Mexicano)': 1,\n",
    "        'Mexican-American': 1,\n",
    "        'Puerto Rican': 1,\n",
    "        'Central or South American': 1,\n",
    "        'Other Spanish': 1,\n",
    "        'Chicano': 1,\n",
    "        'Cuban': 1\n",
    "    }\n",
    "    df['hispanic origin'] = df['hispanic origin'].map(map_hisp)\n",
    "\n",
    "    map_birth = DefaultZero({'United-States': 1})\n",
    "    df['country of birth self'] = df['country of birth self'].map(map_birth)\n",
    "    df['country of birth father'] = df['country of birth father'].map(map_birth)\n",
    "    df['country of birth mother'] = df['country of birth mother'].map(map_birth)\n",
    "    \n",
    "    map_birth = DefaultZero({'United-States': 1})\n",
    "    df['country of birth self'] = df['country of birth self'].map(map_birth)\n",
    "    df['country of birth father'] = df['country of birth father'].map(map_birth)\n",
    "    df['country of birth mother'] = df['country of birth mother'].map(map_birth)\n",
    "    \n",
    "    # From Andrei Ratushin\n",
    "    \n",
    "    #First - I shall collect grandchilds 18+, as their numbers are non-representative (<1%) in current segmentation\n",
    "    df.loc[df['detailed household and family stat'].str.contains('Grandchild'),'detailed household and family stat']='Child 18+'\n",
    "    df.loc[df['detailed household and family stat'].str.contains('Child'),'detailed household summary in household']='Child 18+'\n",
    "    df.loc[df['detailed household and family stat'].str.contains('Child'),'detailed household and family stat']='Child 18+'\n",
    "    \n",
    "    # Drop features\n",
    "    df = df.drop(features_to_drop, axis=1)\n",
    "    \n",
    "    # Encode income class column\n",
    "    df['income class'] = df['income class'].map({'- 50000.': 0, '50000+.': 1})\n",
    "\n",
    "    return df"
   ]
  },
  {
   "cell_type": "markdown",
   "metadata": {},
   "source": [
    "### Train"
   ]
  },
  {
   "cell_type": "code",
   "execution_count": 9,
   "metadata": {
    "ExecuteTime": {
     "end_time": "2020-03-16T10:32:12.773490Z",
     "start_time": "2020-03-16T10:32:05.395364Z"
    },
    "scrolled": true
   },
   "outputs": [
    {
     "data": {
      "text/html": [
       "<div>\n",
       "<style scoped>\n",
       "    .dataframe tbody tr th:only-of-type {\n",
       "        vertical-align: middle;\n",
       "    }\n",
       "\n",
       "    .dataframe tbody tr th {\n",
       "        vertical-align: top;\n",
       "    }\n",
       "\n",
       "    .dataframe thead th {\n",
       "        text-align: right;\n",
       "    }\n",
       "</style>\n",
       "<table border=\"1\" class=\"dataframe\">\n",
       "  <thead>\n",
       "    <tr style=\"text-align: right;\">\n",
       "      <th></th>\n",
       "      <th>age</th>\n",
       "      <th>detailed industry recode</th>\n",
       "      <th>detailed occupation recode</th>\n",
       "      <th>education</th>\n",
       "      <th>wage per hour</th>\n",
       "      <th>marital status</th>\n",
       "      <th>race</th>\n",
       "      <th>hispanic origin</th>\n",
       "      <th>sex</th>\n",
       "      <th>full or part time employment stat</th>\n",
       "      <th>...</th>\n",
       "      <th>num persons worked for employer</th>\n",
       "      <th>country of birth father</th>\n",
       "      <th>country of birth mother</th>\n",
       "      <th>country of birth self</th>\n",
       "      <th>citizenship</th>\n",
       "      <th>own business or self employed</th>\n",
       "      <th>veterans benefits</th>\n",
       "      <th>weeks worked in year</th>\n",
       "      <th>income class</th>\n",
       "      <th>capital gains loss</th>\n",
       "    </tr>\n",
       "  </thead>\n",
       "  <tbody>\n",
       "    <tr>\n",
       "      <th>0</th>\n",
       "      <td>73</td>\n",
       "      <td>0</td>\n",
       "      <td>0</td>\n",
       "      <td>1</td>\n",
       "      <td>0</td>\n",
       "      <td>Single</td>\n",
       "      <td>1</td>\n",
       "      <td>0</td>\n",
       "      <td>Female</td>\n",
       "      <td>Not in labor force</td>\n",
       "      <td>...</td>\n",
       "      <td>0</td>\n",
       "      <td>0</td>\n",
       "      <td>0</td>\n",
       "      <td>0</td>\n",
       "      <td>Native- Born in the United States</td>\n",
       "      <td>0</td>\n",
       "      <td>2</td>\n",
       "      <td>0</td>\n",
       "      <td>0</td>\n",
       "      <td>0</td>\n",
       "    </tr>\n",
       "    <tr>\n",
       "      <th>1</th>\n",
       "      <td>58</td>\n",
       "      <td>4</td>\n",
       "      <td>34</td>\n",
       "      <td>1</td>\n",
       "      <td>0</td>\n",
       "      <td>Single</td>\n",
       "      <td>1</td>\n",
       "      <td>0</td>\n",
       "      <td>Male</td>\n",
       "      <td>Children or Armed Forces</td>\n",
       "      <td>...</td>\n",
       "      <td>1</td>\n",
       "      <td>0</td>\n",
       "      <td>0</td>\n",
       "      <td>0</td>\n",
       "      <td>Native- Born in the United States</td>\n",
       "      <td>0</td>\n",
       "      <td>2</td>\n",
       "      <td>52</td>\n",
       "      <td>0</td>\n",
       "      <td>0</td>\n",
       "    </tr>\n",
       "    <tr>\n",
       "      <th>2</th>\n",
       "      <td>18</td>\n",
       "      <td>0</td>\n",
       "      <td>0</td>\n",
       "      <td>1</td>\n",
       "      <td>0</td>\n",
       "      <td>Single</td>\n",
       "      <td>0</td>\n",
       "      <td>0</td>\n",
       "      <td>Female</td>\n",
       "      <td>Not in labor force</td>\n",
       "      <td>...</td>\n",
       "      <td>0</td>\n",
       "      <td>0</td>\n",
       "      <td>0</td>\n",
       "      <td>0</td>\n",
       "      <td>Foreign born- Not a citizen of U S</td>\n",
       "      <td>0</td>\n",
       "      <td>2</td>\n",
       "      <td>0</td>\n",
       "      <td>0</td>\n",
       "      <td>0</td>\n",
       "    </tr>\n",
       "    <tr>\n",
       "      <th>3</th>\n",
       "      <td>9</td>\n",
       "      <td>0</td>\n",
       "      <td>0</td>\n",
       "      <td>0</td>\n",
       "      <td>0</td>\n",
       "      <td>Single</td>\n",
       "      <td>1</td>\n",
       "      <td>0</td>\n",
       "      <td>Female</td>\n",
       "      <td>Children or Armed Forces</td>\n",
       "      <td>...</td>\n",
       "      <td>0</td>\n",
       "      <td>0</td>\n",
       "      <td>0</td>\n",
       "      <td>0</td>\n",
       "      <td>Native- Born in the United States</td>\n",
       "      <td>0</td>\n",
       "      <td>0</td>\n",
       "      <td>0</td>\n",
       "      <td>0</td>\n",
       "      <td>0</td>\n",
       "    </tr>\n",
       "    <tr>\n",
       "      <th>4</th>\n",
       "      <td>10</td>\n",
       "      <td>0</td>\n",
       "      <td>0</td>\n",
       "      <td>0</td>\n",
       "      <td>0</td>\n",
       "      <td>Single</td>\n",
       "      <td>1</td>\n",
       "      <td>0</td>\n",
       "      <td>Female</td>\n",
       "      <td>Children or Armed Forces</td>\n",
       "      <td>...</td>\n",
       "      <td>0</td>\n",
       "      <td>0</td>\n",
       "      <td>0</td>\n",
       "      <td>0</td>\n",
       "      <td>Native- Born in the United States</td>\n",
       "      <td>0</td>\n",
       "      <td>0</td>\n",
       "      <td>0</td>\n",
       "      <td>0</td>\n",
       "      <td>0</td>\n",
       "    </tr>\n",
       "  </tbody>\n",
       "</table>\n",
       "<p>5 rows × 24 columns</p>\n",
       "</div>"
      ],
      "text/plain": [
       "   age  detailed industry recode  detailed occupation recode  education  \\\n",
       "0   73                         0                           0          1   \n",
       "1   58                         4                          34          1   \n",
       "2   18                         0                           0          1   \n",
       "3    9                         0                           0          0   \n",
       "4   10                         0                           0          0   \n",
       "\n",
       "   wage per hour marital status  race  hispanic origin     sex  \\\n",
       "0              0         Single     1                0  Female   \n",
       "1              0         Single     1                0    Male   \n",
       "2              0         Single     0                0  Female   \n",
       "3              0         Single     1                0  Female   \n",
       "4              0         Single     1                0  Female   \n",
       "\n",
       "  full or part time employment stat  ...  num persons worked for employer  \\\n",
       "0                Not in labor force  ...                                0   \n",
       "1          Children or Armed Forces  ...                                1   \n",
       "2                Not in labor force  ...                                0   \n",
       "3          Children or Armed Forces  ...                                0   \n",
       "4          Children or Armed Forces  ...                                0   \n",
       "\n",
       "  country of birth father country of birth mother country of birth self  \\\n",
       "0                       0                       0                     0   \n",
       "1                       0                       0                     0   \n",
       "2                       0                       0                     0   \n",
       "3                       0                       0                     0   \n",
       "4                       0                       0                     0   \n",
       "\n",
       "                           citizenship  own business or self employed  \\\n",
       "0    Native- Born in the United States                              0   \n",
       "1    Native- Born in the United States                              0   \n",
       "2  Foreign born- Not a citizen of U S                               0   \n",
       "3    Native- Born in the United States                              0   \n",
       "4    Native- Born in the United States                              0   \n",
       "\n",
       "   veterans benefits  weeks worked in year income class  capital gains loss  \n",
       "0                  2                     0            0                   0  \n",
       "1                  2                    52            0                   0  \n",
       "2                  2                     0            0                   0  \n",
       "3                  0                     0            0                   0  \n",
       "4                  0                     0            0                   0  \n",
       "\n",
       "[5 rows x 24 columns]"
      ]
     },
     "execution_count": 9,
     "metadata": {},
     "output_type": "execute_result"
    }
   ],
   "source": [
    "census = clean_dataset(census)\n",
    "census.head()"
   ]
  },
  {
   "cell_type": "code",
   "execution_count": 10,
   "metadata": {
    "ExecuteTime": {
     "end_time": "2020-03-16T10:32:12.866226Z",
     "start_time": "2020-03-16T10:32:12.774470Z"
    }
   },
   "outputs": [
    {
     "name": "stdout",
     "output_type": "stream",
     "text": [
      "<class 'pandas.core.frame.DataFrame'>\n",
      "RangeIndex: 199523 entries, 0 to 199522\n",
      "Data columns (total 24 columns):\n",
      " #   Column                                   Non-Null Count   Dtype \n",
      "---  ------                                   --------------   ----- \n",
      " 0   age                                      199523 non-null  int64 \n",
      " 1   detailed industry recode                 199523 non-null  int64 \n",
      " 2   detailed occupation recode               199523 non-null  int64 \n",
      " 3   education                                199523 non-null  int64 \n",
      " 4   wage per hour                            199523 non-null  int64 \n",
      " 5   marital status                           199523 non-null  object\n",
      " 6   race                                     199523 non-null  int64 \n",
      " 7   hispanic origin                          199523 non-null  int64 \n",
      " 8   sex                                      199523 non-null  object\n",
      " 9   full or part time employment stat        199523 non-null  object\n",
      " 10  dividends from stocks                    199523 non-null  int64 \n",
      " 11  tax filer stat                           199523 non-null  object\n",
      " 12  detailed household and family stat       199523 non-null  object\n",
      " 13  detailed household summary in household  199523 non-null  object\n",
      " 14  num persons worked for employer          199523 non-null  int64 \n",
      " 15  country of birth father                  199523 non-null  int64 \n",
      " 16  country of birth mother                  199523 non-null  int64 \n",
      " 17  country of birth self                    199523 non-null  int64 \n",
      " 18  citizenship                              199523 non-null  object\n",
      " 19  own business or self employed            199523 non-null  int64 \n",
      " 20  veterans benefits                        199523 non-null  int64 \n",
      " 21  weeks worked in year                     199523 non-null  int64 \n",
      " 22  income class                             199523 non-null  int64 \n",
      " 23  capital gains loss                       199523 non-null  int64 \n",
      "dtypes: int64(17), object(7)\n",
      "memory usage: 36.5+ MB\n"
     ]
    }
   ],
   "source": [
    "census.info()"
   ]
  },
  {
   "cell_type": "code",
   "execution_count": 11,
   "metadata": {
    "ExecuteTime": {
     "end_time": "2020-03-16T10:32:13.932245Z",
     "start_time": "2020-03-16T10:32:12.867222Z"
    },
    "scrolled": true
   },
   "outputs": [],
   "source": [
    "census.to_csv('data/train.csv', index=False)"
   ]
  },
  {
   "cell_type": "markdown",
   "metadata": {},
   "source": [
    "### Test"
   ]
  },
  {
   "cell_type": "code",
   "execution_count": 12,
   "metadata": {
    "ExecuteTime": {
     "end_time": "2020-03-16T10:32:17.807868Z",
     "start_time": "2020-03-16T10:32:13.933211Z"
    }
   },
   "outputs": [
    {
     "data": {
      "text/html": [
       "<div>\n",
       "<style scoped>\n",
       "    .dataframe tbody tr th:only-of-type {\n",
       "        vertical-align: middle;\n",
       "    }\n",
       "\n",
       "    .dataframe tbody tr th {\n",
       "        vertical-align: top;\n",
       "    }\n",
       "\n",
       "    .dataframe thead th {\n",
       "        text-align: right;\n",
       "    }\n",
       "</style>\n",
       "<table border=\"1\" class=\"dataframe\">\n",
       "  <thead>\n",
       "    <tr style=\"text-align: right;\">\n",
       "      <th></th>\n",
       "      <th>age</th>\n",
       "      <th>detailed industry recode</th>\n",
       "      <th>detailed occupation recode</th>\n",
       "      <th>education</th>\n",
       "      <th>wage per hour</th>\n",
       "      <th>marital status</th>\n",
       "      <th>race</th>\n",
       "      <th>hispanic origin</th>\n",
       "      <th>sex</th>\n",
       "      <th>full or part time employment stat</th>\n",
       "      <th>...</th>\n",
       "      <th>num persons worked for employer</th>\n",
       "      <th>country of birth father</th>\n",
       "      <th>country of birth mother</th>\n",
       "      <th>country of birth self</th>\n",
       "      <th>citizenship</th>\n",
       "      <th>own business or self employed</th>\n",
       "      <th>veterans benefits</th>\n",
       "      <th>weeks worked in year</th>\n",
       "      <th>income class</th>\n",
       "      <th>capital gains loss</th>\n",
       "    </tr>\n",
       "  </thead>\n",
       "  <tbody>\n",
       "    <tr>\n",
       "      <th>0</th>\n",
       "      <td>38</td>\n",
       "      <td>6</td>\n",
       "      <td>36</td>\n",
       "      <td>0</td>\n",
       "      <td>0</td>\n",
       "      <td>Married</td>\n",
       "      <td>1</td>\n",
       "      <td>1</td>\n",
       "      <td>Female</td>\n",
       "      <td>Full-time schedules</td>\n",
       "      <td>...</td>\n",
       "      <td>4</td>\n",
       "      <td>0</td>\n",
       "      <td>0</td>\n",
       "      <td>0</td>\n",
       "      <td>Foreign born- Not a citizen of U S</td>\n",
       "      <td>0</td>\n",
       "      <td>2</td>\n",
       "      <td>12</td>\n",
       "      <td>0</td>\n",
       "      <td>0</td>\n",
       "    </tr>\n",
       "    <tr>\n",
       "      <th>1</th>\n",
       "      <td>44</td>\n",
       "      <td>37</td>\n",
       "      <td>12</td>\n",
       "      <td>2</td>\n",
       "      <td>0</td>\n",
       "      <td>Married</td>\n",
       "      <td>1</td>\n",
       "      <td>0</td>\n",
       "      <td>Female</td>\n",
       "      <td>PT for econ reasons usually PT</td>\n",
       "      <td>...</td>\n",
       "      <td>1</td>\n",
       "      <td>0</td>\n",
       "      <td>0</td>\n",
       "      <td>0</td>\n",
       "      <td>Native- Born in the United States</td>\n",
       "      <td>0</td>\n",
       "      <td>2</td>\n",
       "      <td>26</td>\n",
       "      <td>0</td>\n",
       "      <td>0</td>\n",
       "    </tr>\n",
       "    <tr>\n",
       "      <th>2</th>\n",
       "      <td>2</td>\n",
       "      <td>0</td>\n",
       "      <td>0</td>\n",
       "      <td>0</td>\n",
       "      <td>0</td>\n",
       "      <td>Single</td>\n",
       "      <td>1</td>\n",
       "      <td>1</td>\n",
       "      <td>Male</td>\n",
       "      <td>Children or Armed Forces</td>\n",
       "      <td>...</td>\n",
       "      <td>0</td>\n",
       "      <td>0</td>\n",
       "      <td>0</td>\n",
       "      <td>0</td>\n",
       "      <td>Native- Born in the United States</td>\n",
       "      <td>0</td>\n",
       "      <td>0</td>\n",
       "      <td>0</td>\n",
       "      <td>0</td>\n",
       "      <td>0</td>\n",
       "    </tr>\n",
       "    <tr>\n",
       "      <th>3</th>\n",
       "      <td>35</td>\n",
       "      <td>29</td>\n",
       "      <td>3</td>\n",
       "      <td>1</td>\n",
       "      <td>0</td>\n",
       "      <td>Single</td>\n",
       "      <td>1</td>\n",
       "      <td>0</td>\n",
       "      <td>Female</td>\n",
       "      <td>Children or Armed Forces</td>\n",
       "      <td>...</td>\n",
       "      <td>5</td>\n",
       "      <td>0</td>\n",
       "      <td>0</td>\n",
       "      <td>0</td>\n",
       "      <td>Native- Born in the United States</td>\n",
       "      <td>2</td>\n",
       "      <td>2</td>\n",
       "      <td>52</td>\n",
       "      <td>0</td>\n",
       "      <td>0</td>\n",
       "    </tr>\n",
       "    <tr>\n",
       "      <th>4</th>\n",
       "      <td>49</td>\n",
       "      <td>4</td>\n",
       "      <td>34</td>\n",
       "      <td>1</td>\n",
       "      <td>0</td>\n",
       "      <td>Single</td>\n",
       "      <td>1</td>\n",
       "      <td>0</td>\n",
       "      <td>Male</td>\n",
       "      <td>Full-time schedules</td>\n",
       "      <td>...</td>\n",
       "      <td>4</td>\n",
       "      <td>0</td>\n",
       "      <td>0</td>\n",
       "      <td>0</td>\n",
       "      <td>Native- Born in the United States</td>\n",
       "      <td>0</td>\n",
       "      <td>2</td>\n",
       "      <td>50</td>\n",
       "      <td>0</td>\n",
       "      <td>0</td>\n",
       "    </tr>\n",
       "  </tbody>\n",
       "</table>\n",
       "<p>5 rows × 24 columns</p>\n",
       "</div>"
      ],
      "text/plain": [
       "   age  detailed industry recode  detailed occupation recode  education  \\\n",
       "0   38                         6                          36          0   \n",
       "1   44                        37                          12          2   \n",
       "2    2                         0                           0          0   \n",
       "3   35                        29                           3          1   \n",
       "4   49                         4                          34          1   \n",
       "\n",
       "   wage per hour marital status  race  hispanic origin     sex  \\\n",
       "0              0        Married     1                1  Female   \n",
       "1              0        Married     1                0  Female   \n",
       "2              0         Single     1                1    Male   \n",
       "3              0         Single     1                0  Female   \n",
       "4              0         Single     1                0    Male   \n",
       "\n",
       "  full or part time employment stat  ...  num persons worked for employer  \\\n",
       "0               Full-time schedules  ...                                4   \n",
       "1    PT for econ reasons usually PT  ...                                1   \n",
       "2          Children or Armed Forces  ...                                0   \n",
       "3          Children or Armed Forces  ...                                5   \n",
       "4               Full-time schedules  ...                                4   \n",
       "\n",
       "  country of birth father country of birth mother country of birth self  \\\n",
       "0                       0                       0                     0   \n",
       "1                       0                       0                     0   \n",
       "2                       0                       0                     0   \n",
       "3                       0                       0                     0   \n",
       "4                       0                       0                     0   \n",
       "\n",
       "                           citizenship  own business or self employed  \\\n",
       "0  Foreign born- Not a citizen of U S                               0   \n",
       "1    Native- Born in the United States                              0   \n",
       "2    Native- Born in the United States                              0   \n",
       "3    Native- Born in the United States                              2   \n",
       "4    Native- Born in the United States                              0   \n",
       "\n",
       "   veterans benefits  weeks worked in year income class  capital gains loss  \n",
       "0                  2                    12            0                   0  \n",
       "1                  2                    26            0                   0  \n",
       "2                  0                     0            0                   0  \n",
       "3                  2                    52            0                   0  \n",
       "4                  2                    50            0                   0  \n",
       "\n",
       "[5 rows x 24 columns]"
      ]
     },
     "execution_count": 12,
     "metadata": {},
     "output_type": "execute_result"
    }
   ],
   "source": [
    "census_test = clean_dataset(census_test)\n",
    "census_test.head()"
   ]
  },
  {
   "cell_type": "code",
   "execution_count": 13,
   "metadata": {
    "ExecuteTime": {
     "end_time": "2020-03-16T10:32:18.363610Z",
     "start_time": "2020-03-16T10:32:17.808875Z"
    }
   },
   "outputs": [],
   "source": [
    "census_test.to_csv('data/test.csv', index=False)"
   ]
  },
  {
   "cell_type": "markdown",
   "metadata": {},
   "source": [
    "## Sampling"
   ]
  },
  {
   "cell_type": "code",
   "execution_count": 14,
   "metadata": {
    "ExecuteTime": {
     "end_time": "2020-03-16T10:32:18.503238Z",
     "start_time": "2020-03-16T10:32:18.364606Z"
    }
   },
   "outputs": [
    {
     "data": {
      "image/png": "[encoded data removed]",
      "text/plain": [
       "<Figure size 360x360 with 1 Axes>"
      ]
     },
     "metadata": {
      "needs_background": "light"
     },
     "output_type": "display_data"
    }
   ],
   "source": [
    "plt.figure(figsize=(5, 5))\n",
    "total = census.shape[0]\n",
    "ax = sns.countplot(x=\"income class\", data=census)\n",
    "for p in ax.patches:\n",
    "    height = p.get_height()\n",
    "    ax.text(p.get_x() + p.get_width()/2.,\n",
    "            height + 3,\n",
    "            '{0:.2%}'.format(height/total),\n",
    "            ha=\"center\")\n",
    "plt.title('Distribution of income classes', fontsize=15)\n",
    "plt.show()"
   ]
  },
  {
   "cell_type": "code",
   "execution_count": 15,
   "metadata": {
    "ExecuteTime": {
     "end_time": "2020-03-16T10:33:17.961634Z",
     "start_time": "2020-03-16T10:32:18.505231Z"
    }
   },
   "outputs": [
    {
     "name": "stderr",
     "output_type": "stream",
     "text": [
      "Using TensorFlow backend.\n"
     ]
    }
   ],
   "source": [
    "from imblearn.over_sampling import SMOTENC\n",
    "cat_indexes = [census.columns.get_loc(c) for c in categorical_features if c in census]\n",
    "sm = SMOTENC(categorical_features=cat_indexes, random_state=SEED)\n",
    "X_res, y_res = sm.fit_resample(census.drop('income class', axis=1), census['income class'])\n",
    "census_res = pd.concat([X_res, y_res], axis=1)"
   ]
  },
  {
   "cell_type": "code",
   "execution_count": 16,
   "metadata": {
    "ExecuteTime": {
     "end_time": "2020-03-16T10:33:18.116077Z",
     "start_time": "2020-03-16T10:33:17.963518Z"
    }
   },
   "outputs": [
    {
     "data": {
      "image/png": "[encoded data removed]",
      "text/plain": [
       "<Figure size 360x360 with 1 Axes>"
      ]
     },
     "metadata": {
      "needs_background": "light"
     },
     "output_type": "display_data"
    }
   ],
   "source": [
    "plt.figure(figsize=(5, 5))\n",
    "total = census_res.shape[0]\n",
    "ax = sns.countplot(x=\"income class\", data=census_res)\n",
    "for p in ax.patches:\n",
    "    height = p.get_height()\n",
    "    ax.text(p.get_x() + p.get_width()/2.,\n",
    "            height + 3,\n",
    "            '{0:.2%}'.format(height/total),\n",
    "            ha=\"center\")\n",
    "plt.title('Distribution of income classes', fontsize=15)\n",
    "plt.show()"
   ]
  },
  {
   "cell_type": "markdown",
   "metadata": {},
   "source": [
    "## Fast.ai"
   ]
  },
  {
   "cell_type": "code",
   "execution_count": 17,
   "metadata": {
    "ExecuteTime": {
     "end_time": "2020-03-16T10:33:18.132035Z",
     "start_time": "2020-03-16T10:33:18.118074Z"
    }
   },
   "outputs": [],
   "source": [
    "procs = [FillMissing, Categorify, Normalize]"
   ]
  },
  {
   "cell_type": "code",
   "execution_count": 18,
   "metadata": {
    "ExecuteTime": {
     "end_time": "2020-03-16T10:33:18.178602Z",
     "start_time": "2020-03-16T10:33:18.134030Z"
    }
   },
   "outputs": [],
   "source": [
    "test = TabularList.from_df(census_test.drop('income class', axis=1), \n",
    "                           cat_names=categorical_features, \n",
    "                           cont_names=numerical_features, \n",
    "                           procs=procs)"
   ]
  },
  {
   "cell_type": "code",
   "execution_count": 19,
   "metadata": {
    "ExecuteTime": {
     "end_time": "2020-03-16T10:33:18.287233Z",
     "start_time": "2020-03-16T10:33:18.180507Z"
    }
   },
   "outputs": [],
   "source": [
    "train = TabularList.from_df(census_res, path='temp', \n",
    "                            cat_names=categorical_features, \n",
    "                            cont_names=numerical_features, \n",
    "                            procs=procs)"
   ]
  },
  {
   "cell_type": "code",
   "execution_count": 20,
   "metadata": {
    "ExecuteTime": {
     "end_time": "2020-03-16T10:33:19.522345Z",
     "start_time": "2020-03-16T10:33:18.288251Z"
    }
   },
   "outputs": [],
   "source": [
    "data = (train\n",
    "            .split_by_rand_pct(valid_pct=0.2, seed=SEED)\n",
    "            .label_from_df(cols=label_feature)\n",
    "            .add_test(test, label=0)\n",
    "            .databunch())"
   ]
  },
  {
   "cell_type": "code",
   "execution_count": 21,
   "metadata": {
    "ExecuteTime": {
     "end_time": "2020-03-16T10:33:21.620702Z",
     "start_time": "2020-03-16T10:33:19.524338Z"
    },
    "scrolled": true
   },
   "outputs": [
    {
     "data": {
      "text/html": [
       "<table border=\"1\" class=\"dataframe\">\n",
       "  <thead>\n",
       "    <tr style=\"text-align: right;\">\n",
       "      <th>detailed industry recode</th>\n",
       "      <th>detailed occupation recode</th>\n",
       "      <th>education</th>\n",
       "      <th>marital status</th>\n",
       "      <th>race</th>\n",
       "      <th>hispanic origin</th>\n",
       "      <th>sex</th>\n",
       "      <th>full or part time employment stat</th>\n",
       "      <th>tax filer stat</th>\n",
       "      <th>detailed household and family stat</th>\n",
       "      <th>detailed household summary in household</th>\n",
       "      <th>country of birth father</th>\n",
       "      <th>country of birth mother</th>\n",
       "      <th>country of birth self</th>\n",
       "      <th>citizenship</th>\n",
       "      <th>own business or self employed</th>\n",
       "      <th>veterans benefits</th>\n",
       "      <th>age</th>\n",
       "      <th>wage per hour</th>\n",
       "      <th>capital gains loss</th>\n",
       "      <th>dividends from stocks</th>\n",
       "      <th>num persons worked for employer</th>\n",
       "      <th>weeks worked in year</th>\n",
       "      <th>target</th>\n",
       "    </tr>\n",
       "  </thead>\n",
       "  <tbody>\n",
       "    <tr>\n",
       "      <td>34</td>\n",
       "      <td>17</td>\n",
       "      <td>2</td>\n",
       "      <td>Single</td>\n",
       "      <td>1</td>\n",
       "      <td>0</td>\n",
       "      <td>Male</td>\n",
       "      <td>Full-time schedules</td>\n",
       "      <td>Single</td>\n",
       "      <td>Child 18+</td>\n",
       "      <td>Child 18+</td>\n",
       "      <td>0</td>\n",
       "      <td>0</td>\n",
       "      <td>0</td>\n",
       "      <td>Native- Born in the United States</td>\n",
       "      <td>0</td>\n",
       "      <td>2</td>\n",
       "      <td>0.5495</td>\n",
       "      <td>-0.1914</td>\n",
       "      <td>0.9066</td>\n",
       "      <td>-0.1649</td>\n",
       "      <td>0.9614</td>\n",
       "      <td>0.7427</td>\n",
       "      <td>1</td>\n",
       "    </tr>\n",
       "    <tr>\n",
       "      <td>0</td>\n",
       "      <td>0</td>\n",
       "      <td>0</td>\n",
       "      <td>Single</td>\n",
       "      <td>0</td>\n",
       "      <td>1</td>\n",
       "      <td>Female</td>\n",
       "      <td>Not in labor force</td>\n",
       "      <td>Nonfiler</td>\n",
       "      <td>Other Rel 18+ ever marr not in subfamily</td>\n",
       "      <td>Other relative of householder</td>\n",
       "      <td>0</td>\n",
       "      <td>0</td>\n",
       "      <td>0</td>\n",
       "      <td>Foreign born- Not a citizen of U S</td>\n",
       "      <td>0</td>\n",
       "      <td>2</td>\n",
       "      <td>1.5132</td>\n",
       "      <td>-0.1914</td>\n",
       "      <td>-0.1939</td>\n",
       "      <td>-0.1649</td>\n",
       "      <td>-1.1842</td>\n",
       "      <td>-1.5083</td>\n",
       "      <td>0</td>\n",
       "    </tr>\n",
       "    <tr>\n",
       "      <td>29</td>\n",
       "      <td>25</td>\n",
       "      <td>1</td>\n",
       "      <td>Married</td>\n",
       "      <td>1</td>\n",
       "      <td>1</td>\n",
       "      <td>Male</td>\n",
       "      <td>Children or Armed Forces</td>\n",
       "      <td>Joint both under 65</td>\n",
       "      <td>Spouse of householder</td>\n",
       "      <td>Spouse of householder</td>\n",
       "      <td>0</td>\n",
       "      <td>0</td>\n",
       "      <td>0</td>\n",
       "      <td>Native- Born in Puerto Rico or U S Outlying</td>\n",
       "      <td>0</td>\n",
       "      <td>2</td>\n",
       "      <td>0.4424</td>\n",
       "      <td>-0.1914</td>\n",
       "      <td>-0.1939</td>\n",
       "      <td>-0.1649</td>\n",
       "      <td>1.3906</td>\n",
       "      <td>0.7427</td>\n",
       "      <td>0</td>\n",
       "    </tr>\n",
       "    <tr>\n",
       "      <td>45</td>\n",
       "      <td>5</td>\n",
       "      <td>2</td>\n",
       "      <td>Married</td>\n",
       "      <td>1</td>\n",
       "      <td>0</td>\n",
       "      <td>Male</td>\n",
       "      <td>Full-time schedules</td>\n",
       "      <td>Joint both under 65</td>\n",
       "      <td>Householder</td>\n",
       "      <td>Householder</td>\n",
       "      <td>0</td>\n",
       "      <td>0</td>\n",
       "      <td>0</td>\n",
       "      <td>Native- Born in the United States</td>\n",
       "      <td>0</td>\n",
       "      <td>2</td>\n",
       "      <td>-0.2001</td>\n",
       "      <td>-0.1914</td>\n",
       "      <td>-0.1939</td>\n",
       "      <td>-0.1649</td>\n",
       "      <td>0.9614</td>\n",
       "      <td>0.7427</td>\n",
       "      <td>1</td>\n",
       "    </tr>\n",
       "    <tr>\n",
       "      <td>33</td>\n",
       "      <td>16</td>\n",
       "      <td>1</td>\n",
       "      <td>Single</td>\n",
       "      <td>1</td>\n",
       "      <td>0</td>\n",
       "      <td>Female</td>\n",
       "      <td>Full-time schedules</td>\n",
       "      <td>Single</td>\n",
       "      <td>Householder</td>\n",
       "      <td>Householder</td>\n",
       "      <td>0</td>\n",
       "      <td>0</td>\n",
       "      <td>0</td>\n",
       "      <td>Native- Born in the United States</td>\n",
       "      <td>0</td>\n",
       "      <td>2</td>\n",
       "      <td>0.4424</td>\n",
       "      <td>-0.1914</td>\n",
       "      <td>-0.1939</td>\n",
       "      <td>-0.1649</td>\n",
       "      <td>-0.7550</td>\n",
       "      <td>0.7427</td>\n",
       "      <td>0</td>\n",
       "    </tr>\n",
       "    <tr>\n",
       "      <td>16</td>\n",
       "      <td>3</td>\n",
       "      <td>3</td>\n",
       "      <td>Married</td>\n",
       "      <td>1</td>\n",
       "      <td>0</td>\n",
       "      <td>Male</td>\n",
       "      <td>Children or Armed Forces</td>\n",
       "      <td>Joint both under 65</td>\n",
       "      <td>Householder</td>\n",
       "      <td>Householder</td>\n",
       "      <td>0</td>\n",
       "      <td>0</td>\n",
       "      <td>0</td>\n",
       "      <td>Native- Born in the United States</td>\n",
       "      <td>0</td>\n",
       "      <td>2</td>\n",
       "      <td>0.2282</td>\n",
       "      <td>-0.1914</td>\n",
       "      <td>-0.1939</td>\n",
       "      <td>-0.0464</td>\n",
       "      <td>0.9614</td>\n",
       "      <td>0.7427</td>\n",
       "      <td>1</td>\n",
       "    </tr>\n",
       "    <tr>\n",
       "      <td>41</td>\n",
       "      <td>6</td>\n",
       "      <td>2</td>\n",
       "      <td>Married</td>\n",
       "      <td>1</td>\n",
       "      <td>0</td>\n",
       "      <td>Male</td>\n",
       "      <td>Full-time schedules</td>\n",
       "      <td>Joint both under 65</td>\n",
       "      <td>Householder</td>\n",
       "      <td>Householder</td>\n",
       "      <td>0</td>\n",
       "      <td>0</td>\n",
       "      <td>0</td>\n",
       "      <td>Native- Born in the United States</td>\n",
       "      <td>0</td>\n",
       "      <td>2</td>\n",
       "      <td>0.1747</td>\n",
       "      <td>8.8708</td>\n",
       "      <td>-0.3531</td>\n",
       "      <td>-0.1649</td>\n",
       "      <td>-0.3259</td>\n",
       "      <td>0.7427</td>\n",
       "      <td>1</td>\n",
       "    </tr>\n",
       "    <tr>\n",
       "      <td>29</td>\n",
       "      <td>26</td>\n",
       "      <td>1</td>\n",
       "      <td>Single</td>\n",
       "      <td>1</td>\n",
       "      <td>0</td>\n",
       "      <td>Female</td>\n",
       "      <td>Children or Armed Forces</td>\n",
       "      <td>Single</td>\n",
       "      <td>Child 18+</td>\n",
       "      <td>Child 18+</td>\n",
       "      <td>0</td>\n",
       "      <td>0</td>\n",
       "      <td>0</td>\n",
       "      <td>Native- Born in the United States</td>\n",
       "      <td>0</td>\n",
       "      <td>2</td>\n",
       "      <td>-0.4143</td>\n",
       "      <td>-0.1914</td>\n",
       "      <td>-0.1939</td>\n",
       "      <td>-0.1452</td>\n",
       "      <td>-0.7550</td>\n",
       "      <td>-0.7724</td>\n",
       "      <td>0</td>\n",
       "    </tr>\n",
       "    <tr>\n",
       "      <td>4</td>\n",
       "      <td>14</td>\n",
       "      <td>2</td>\n",
       "      <td>Married</td>\n",
       "      <td>1</td>\n",
       "      <td>0</td>\n",
       "      <td>Male</td>\n",
       "      <td>PT for non-econ reasons usually FT</td>\n",
       "      <td>Joint both under 65</td>\n",
       "      <td>Householder</td>\n",
       "      <td>Householder</td>\n",
       "      <td>0</td>\n",
       "      <td>0</td>\n",
       "      <td>0</td>\n",
       "      <td>Native- Born in the United States</td>\n",
       "      <td>0</td>\n",
       "      <td>2</td>\n",
       "      <td>0.4424</td>\n",
       "      <td>-0.1914</td>\n",
       "      <td>0.4305</td>\n",
       "      <td>-0.1649</td>\n",
       "      <td>1.3906</td>\n",
       "      <td>0.7427</td>\n",
       "      <td>0</td>\n",
       "    </tr>\n",
       "    <tr>\n",
       "      <td>45</td>\n",
       "      <td>2</td>\n",
       "      <td>3</td>\n",
       "      <td>Married</td>\n",
       "      <td>1</td>\n",
       "      <td>0</td>\n",
       "      <td>Male</td>\n",
       "      <td>Full-time schedules</td>\n",
       "      <td>Joint both under 65</td>\n",
       "      <td>Householder</td>\n",
       "      <td>Householder</td>\n",
       "      <td>0</td>\n",
       "      <td>0</td>\n",
       "      <td>0</td>\n",
       "      <td>Native- Born in the United States</td>\n",
       "      <td>0</td>\n",
       "      <td>2</td>\n",
       "      <td>0.3353</td>\n",
       "      <td>-0.1914</td>\n",
       "      <td>-0.3497</td>\n",
       "      <td>0.2528</td>\n",
       "      <td>0.5323</td>\n",
       "      <td>0.7427</td>\n",
       "      <td>1</td>\n",
       "    </tr>\n",
       "  </tbody>\n",
       "</table>"
      ],
      "text/plain": [
       "<IPython.core.display.HTML object>"
      ]
     },
     "metadata": {},
     "output_type": "display_data"
    }
   ],
   "source": [
    "data.show_batch(rows=10)"
   ]
  },
  {
   "cell_type": "markdown",
   "metadata": {},
   "source": [
    "## Defining a model"
   ]
  },
  {
   "cell_type": "code",
   "execution_count": 22,
   "metadata": {
    "ExecuteTime": {
     "end_time": "2020-03-16T10:33:21.636687Z",
     "start_time": "2020-03-16T10:33:21.621700Z"
    }
   },
   "outputs": [],
   "source": [
    "learn = tabular_learner(data, \n",
    "                        layers=[64, 32, 16], \n",
    "                        #ps=[0.001,0.01], \n",
    "                        emb_drop=0.04, \n",
    "                        metrics=AUROC())"
   ]
  },
  {
   "cell_type": "code",
   "execution_count": 23,
   "metadata": {
    "ExecuteTime": {
     "end_time": "2020-03-16T10:33:21.652657Z",
     "start_time": "2020-03-16T10:33:21.640653Z"
    }
   },
   "outputs": [
    {
     "data": {
      "text/plain": [
       "TabularModel(\n",
       "  (embeds): ModuleList(\n",
       "    (0): Embedding(53, 15)\n",
       "    (1): Embedding(48, 14)\n",
       "    (2): Embedding(5, 4)\n",
       "    (3): Embedding(3, 3)\n",
       "    (4): Embedding(3, 3)\n",
       "    (5): Embedding(3, 3)\n",
       "    (6): Embedding(3, 3)\n",
       "    (7): Embedding(9, 5)\n",
       "    (8): Embedding(7, 5)\n",
       "    (9): Embedding(20, 9)\n",
       "    (10): Embedding(9, 5)\n",
       "    (11): Embedding(2, 2)\n",
       "    (12): Embedding(2, 2)\n",
       "    (13): Embedding(2, 2)\n",
       "    (14): Embedding(6, 4)\n",
       "    (15): Embedding(4, 3)\n",
       "    (16): Embedding(4, 3)\n",
       "  )\n",
       "  (emb_drop): Dropout(p=0.04, inplace=False)\n",
       "  (bn_cont): BatchNorm1d(6, eps=1e-05, momentum=0.1, affine=True, track_running_stats=True)\n",
       "  (layers): Sequential(\n",
       "    (0): Linear(in_features=91, out_features=64, bias=True)\n",
       "    (1): ReLU(inplace=True)\n",
       "    (2): BatchNorm1d(64, eps=1e-05, momentum=0.1, affine=True, track_running_stats=True)\n",
       "    (3): Linear(in_features=64, out_features=32, bias=True)\n",
       "    (4): ReLU(inplace=True)\n",
       "    (5): BatchNorm1d(32, eps=1e-05, momentum=0.1, affine=True, track_running_stats=True)\n",
       "    (6): Linear(in_features=32, out_features=16, bias=True)\n",
       "    (7): ReLU(inplace=True)\n",
       "    (8): BatchNorm1d(16, eps=1e-05, momentum=0.1, affine=True, track_running_stats=True)\n",
       "    (9): Linear(in_features=16, out_features=2, bias=True)\n",
       "  )\n",
       ")"
      ]
     },
     "execution_count": 23,
     "metadata": {},
     "output_type": "execute_result"
    }
   ],
   "source": [
    "learn.model"
   ]
  },
  {
   "cell_type": "code",
   "execution_count": 24,
   "metadata": {
    "ExecuteTime": {
     "end_time": "2020-03-16T10:33:53.064798Z",
     "start_time": "2020-03-16T10:33:21.654612Z"
    }
   },
   "outputs": [
    {
     "data": {
      "text/html": [
       "\n",
       "    <div>\n",
       "        <style>\n",
       "            /* Turns off some styling */\n",
       "            progress {\n",
       "                /* gets rid of default border in Firefox and Opera. */\n",
       "                border: none;\n",
       "                /* Needs to be in here for Safari polyfill so background images work as expected. */\n",
       "                background-size: auto;\n",
       "            }\n",
       "            .progress-bar-interrupted, .progress-bar-interrupted::-webkit-progress-bar {\n",
       "                background: #F44336;\n",
       "            }\n",
       "        </style>\n",
       "      <progress value='0' class='' max='1', style='width:300px; height:20px; vertical-align: middle;'></progress>\n",
       "      0.00% [0/1 00:00<00:00]\n",
       "    </div>\n",
       "    \n",
       "<table border=\"1\" class=\"dataframe\">\n",
       "  <thead>\n",
       "    <tr style=\"text-align: left;\">\n",
       "      <th>epoch</th>\n",
       "      <th>train_loss</th>\n",
       "      <th>valid_loss</th>\n",
       "      <th>auroc</th>\n",
       "      <th>time</th>\n",
       "    </tr>\n",
       "  </thead>\n",
       "  <tbody>\n",
       "  </tbody>\n",
       "</table><p>\n",
       "\n",
       "    <div>\n",
       "        <style>\n",
       "            /* Turns off some styling */\n",
       "            progress {\n",
       "                /* gets rid of default border in Firefox and Opera. */\n",
       "                border: none;\n",
       "                /* Needs to be in here for Safari polyfill so background images work as expected. */\n",
       "                background-size: auto;\n",
       "            }\n",
       "            .progress-bar-interrupted, .progress-bar-interrupted::-webkit-progress-bar {\n",
       "                background: #F44336;\n",
       "            }\n",
       "        </style>\n",
       "      <progress value='97' class='' max='4678', style='width:300px; height:20px; vertical-align: middle;'></progress>\n",
       "      2.07% [97/4678 00:30<23:55 1.9929]\n",
       "    </div>\n",
       "    "
      ],
      "text/plain": [
       "<IPython.core.display.HTML object>"
      ]
     },
     "metadata": {},
     "output_type": "display_data"
    },
    {
     "name": "stdout",
     "output_type": "stream",
     "text": [
      "LR Finder is complete, type {learner_name}.recorder.plot() to see the graph.\n"
     ]
    }
   ],
   "source": [
    "learn.lr_find()"
   ]
  },
  {
   "cell_type": "code",
   "execution_count": 25,
   "metadata": {
    "ExecuteTime": {
     "end_time": "2020-03-16T10:33:53.434837Z",
     "start_time": "2020-03-16T10:33:53.066793Z"
    }
   },
   "outputs": [
    {
     "name": "stdout",
     "output_type": "stream",
     "text": [
      "Min numerical gradient: 6.92E-02\n",
      "Min loss divided by 10: 1.10E-01\n"
     ]
    },
    {
     "data": {
      "image/png": "[encoded data removed]",
      "text/plain": [
       "<Figure size 792x504 with 1 Axes>"
      ]
     },
     "metadata": {
      "needs_background": "light"
     },
     "output_type": "display_data"
    }
   ],
   "source": [
    "learn.recorder.plot(suggestion=True)"
   ]
  },
  {
   "cell_type": "code",
   "execution_count": 26,
   "metadata": {
    "ExecuteTime": {
     "end_time": "2020-03-16T10:47:34.405398Z",
     "start_time": "2020-03-16T10:34:13.180568Z"
    }
   },
   "outputs": [
    {
     "data": {
      "text/html": [
       "<table border=\"1\" class=\"dataframe\">\n",
       "  <thead>\n",
       "    <tr style=\"text-align: left;\">\n",
       "      <th>epoch</th>\n",
       "      <th>train_loss</th>\n",
       "      <th>valid_loss</th>\n",
       "      <th>auroc</th>\n",
       "      <th>time</th>\n",
       "    </tr>\n",
       "  </thead>\n",
       "  <tbody>\n",
       "    <tr>\n",
       "      <td>0</td>\n",
       "      <td>0.319650</td>\n",
       "      <td>0.716515</td>\n",
       "      <td>0.944374</td>\n",
       "      <td>02:36</td>\n",
       "    </tr>\n",
       "    <tr>\n",
       "      <td>1</td>\n",
       "      <td>0.330505</td>\n",
       "      <td>0.310416</td>\n",
       "      <td>0.941778</td>\n",
       "      <td>02:34</td>\n",
       "    </tr>\n",
       "    <tr>\n",
       "      <td>2</td>\n",
       "      <td>0.313059</td>\n",
       "      <td>0.289052</td>\n",
       "      <td>0.946583</td>\n",
       "      <td>02:38</td>\n",
       "    </tr>\n",
       "    <tr>\n",
       "      <td>3</td>\n",
       "      <td>0.295203</td>\n",
       "      <td>0.290077</td>\n",
       "      <td>0.946840</td>\n",
       "      <td>02:46</td>\n",
       "    </tr>\n",
       "    <tr>\n",
       "      <td>4</td>\n",
       "      <td>0.266317</td>\n",
       "      <td>0.255842</td>\n",
       "      <td>0.959277</td>\n",
       "      <td>02:45</td>\n",
       "    </tr>\n",
       "  </tbody>\n",
       "</table>"
      ],
      "text/plain": [
       "<IPython.core.display.HTML object>"
      ]
     },
     "metadata": {},
     "output_type": "display_data"
    }
   ],
   "source": [
    "learn.fit_one_cycle(5, 6.92e-2, wd=0.2)"
   ]
  },
  {
   "cell_type": "code",
   "execution_count": 27,
   "metadata": {
    "ExecuteTime": {
     "end_time": "2020-03-16T10:56:46.628427Z",
     "start_time": "2020-03-16T10:56:15.556917Z"
    }
   },
   "outputs": [
    {
     "data": {
      "text/html": [
       "\n",
       "    <div>\n",
       "        <style>\n",
       "            /* Turns off some styling */\n",
       "            progress {\n",
       "                /* gets rid of default border in Firefox and Opera. */\n",
       "                border: none;\n",
       "                /* Needs to be in here for Safari polyfill so background images work as expected. */\n",
       "                background-size: auto;\n",
       "            }\n",
       "            .progress-bar-interrupted, .progress-bar-interrupted::-webkit-progress-bar {\n",
       "                background: #F44336;\n",
       "            }\n",
       "        </style>\n",
       "      <progress value='0' class='' max='1', style='width:300px; height:20px; vertical-align: middle;'></progress>\n",
       "      0.00% [0/1 00:00<00:00]\n",
       "    </div>\n",
       "    \n",
       "<table border=\"1\" class=\"dataframe\">\n",
       "  <thead>\n",
       "    <tr style=\"text-align: left;\">\n",
       "      <th>epoch</th>\n",
       "      <th>train_loss</th>\n",
       "      <th>valid_loss</th>\n",
       "      <th>auroc</th>\n",
       "      <th>time</th>\n",
       "    </tr>\n",
       "  </thead>\n",
       "  <tbody>\n",
       "  </tbody>\n",
       "</table><p>\n",
       "\n",
       "    <div>\n",
       "        <style>\n",
       "            /* Turns off some styling */\n",
       "            progress {\n",
       "                /* gets rid of default border in Firefox and Opera. */\n",
       "                border: none;\n",
       "                /* Needs to be in here for Safari polyfill so background images work as expected. */\n",
       "                background-size: auto;\n",
       "            }\n",
       "            .progress-bar-interrupted, .progress-bar-interrupted::-webkit-progress-bar {\n",
       "                background: #F44336;\n",
       "            }\n",
       "        </style>\n",
       "      <progress value='91' class='' max='4678', style='width:300px; height:20px; vertical-align: middle;'></progress>\n",
       "      1.95% [91/4678 00:29<24:52 0.7037]\n",
       "    </div>\n",
       "    "
      ],
      "text/plain": [
       "<IPython.core.display.HTML object>"
      ]
     },
     "metadata": {},
     "output_type": "display_data"
    },
    {
     "name": "stdout",
     "output_type": "stream",
     "text": [
      "LR Finder is complete, type {learner_name}.recorder.plot() to see the graph.\n",
      "Min numerical gradient: 6.31E-07\n",
      "Min loss divided by 10: 5.75E-05\n"
     ]
    },
    {
     "data": {
      "image/png": "[encoded data removed]",
      "text/plain": [
       "<Figure size 792x504 with 1 Axes>"
      ]
     },
     "metadata": {
      "needs_background": "light"
     },
     "output_type": "display_data"
    }
   ],
   "source": [
    "learn.unfreeze()\n",
    "learn.lr_find()\n",
    "learn.recorder.plot(suggestion=True)"
   ]
  },
  {
   "cell_type": "code",
   "execution_count": 28,
   "metadata": {
    "ExecuteTime": {
     "end_time": "2020-03-16T11:02:45.635578Z",
     "start_time": "2020-03-16T10:57:25.011667Z"
    }
   },
   "outputs": [
    {
     "data": {
      "text/html": [
       "<table border=\"1\" class=\"dataframe\">\n",
       "  <thead>\n",
       "    <tr style=\"text-align: left;\">\n",
       "      <th>epoch</th>\n",
       "      <th>train_loss</th>\n",
       "      <th>valid_loss</th>\n",
       "      <th>auroc</th>\n",
       "      <th>time</th>\n",
       "    </tr>\n",
       "  </thead>\n",
       "  <tbody>\n",
       "    <tr>\n",
       "      <td>0</td>\n",
       "      <td>0.276579</td>\n",
       "      <td>0.256882</td>\n",
       "      <td>0.958916</td>\n",
       "      <td>02:40</td>\n",
       "    </tr>\n",
       "    <tr>\n",
       "      <td>1</td>\n",
       "      <td>0.275867</td>\n",
       "      <td>0.256689</td>\n",
       "      <td>0.958807</td>\n",
       "      <td>02:40</td>\n",
       "    </tr>\n",
       "  </tbody>\n",
       "</table>"
      ],
      "text/plain": [
       "<IPython.core.display.HTML object>"
      ]
     },
     "metadata": {},
     "output_type": "display_data"
    }
   ],
   "source": [
    "learn.fit_one_cycle(2, 6.31e-7, wd=0.2)"
   ]
  },
  {
   "cell_type": "code",
   "execution_count": 29,
   "metadata": {
    "ExecuteTime": {
     "end_time": "2020-03-16T11:02:49.544080Z",
     "start_time": "2020-03-16T11:02:49.338596Z"
    }
   },
   "outputs": [
    {
     "data": {
      "image/png": "[encoded data removed]",
      "text/plain": [
       "<Figure size 792x504 with 1 Axes>"
      ]
     },
     "metadata": {
      "needs_background": "light"
     },
     "output_type": "display_data"
    }
   ],
   "source": [
    "# Analyse our model\n",
    "learn.model\n",
    "learn.recorder.plot_losses()"
   ]
  },
  {
   "cell_type": "code",
   "execution_count": 30,
   "metadata": {
    "ExecuteTime": {
     "end_time": "2020-03-16T11:03:25.082001Z",
     "start_time": "2020-03-16T11:02:50.769923Z"
    }
   },
   "outputs": [
    {
     "data": {
      "text/html": [],
      "text/plain": [
       "<IPython.core.display.HTML object>"
      ]
     },
     "metadata": {},
     "output_type": "display_data"
    }
   ],
   "source": [
    "predictions, *_ = learn.get_preds(DatasetType.Test)\n",
    "labels = np.argmax(predictions, 1)"
   ]
  },
  {
   "cell_type": "code",
   "execution_count": 31,
   "metadata": {
    "ExecuteTime": {
     "end_time": "2020-03-16T11:03:26.409396Z",
     "start_time": "2020-03-16T11:03:26.274757Z"
    }
   },
   "outputs": [
    {
     "name": "stdout",
     "output_type": "stream",
     "text": [
      "              precision    recall  f1-score   support\n",
      "\n",
      "           0       0.99      0.87      0.92     93576\n",
      "           1       0.29      0.82      0.43      6186\n",
      "\n",
      "    accuracy                           0.87     99762\n",
      "   macro avg       0.64      0.84      0.68     99762\n",
      "weighted avg       0.94      0.87      0.89     99762\n",
      "\n",
      "AUC: 0.8441917976680334\n"
     ]
    }
   ],
   "source": [
    "from sklearn.metrics import roc_curve, classification_report, auc\n",
    "\n",
    "print(classification_report(census_test['income class'], labels))\n",
    "fpr, tpr, thresholds = roc_curve(census_test['income class'], labels)\n",
    "\n",
    "print(\"AUC: %s\" % auc(fpr, tpr))"
   ]
  },
  {
   "cell_type": "markdown",
   "metadata": {},
   "source": [
    "## Prepare submission"
   ]
  },
  {
   "cell_type": "code",
   "execution_count": null,
   "metadata": {
    "ExecuteTime": {
     "end_time": "2020-03-15T00:01:30.439807Z",
     "start_time": "2020-03-15T00:01:30.328107Z"
    }
   },
   "outputs": [],
   "source": [
    "# create submission file to submit in Kaggle competition\n",
    "submission = pd.DataFrame({'income class': labels})\n",
    "submission.reset_index(inplace=True)\n",
    "submission.to_csv('temp/submission_fastai.csv', index=False)\n",
    "submission.head()"
   ]
  }
 ],
 "metadata": {
  "kernelspec": {
   "display_name": "Python 3",
   "language": "python",
   "name": "python3"
  },
  "language_info": {
   "codemirror_mode": {
    "name": "ipython",
    "version": 3
   },
   "file_extension": ".py",
   "mimetype": "text/x-python",
   "name": "python",
   "nbconvert_exporter": "python",
   "pygments_lexer": "ipython3",
   "version": "3.7.6"
  },
  "toc": {
   "base_numbering": 1,
   "nav_menu": {},
   "number_sections": true,
   "sideBar": true,
   "skip_h1_title": false,
   "title_cell": "Table of Contents",
   "title_sidebar": "Contents",
   "toc_cell": false,
   "toc_position": {},
   "toc_section_display": true,
   "toc_window_display": false
  },
  "varInspector": {
   "cols": {
    "lenName": 16,
    "lenType": 16,
    "lenVar": 40
   },
   "kernels_config": {
    "python": {
     "delete_cmd_postfix": "",
     "delete_cmd_prefix": "del ",
     "library": "var_list.py",
     "varRefreshCmd": "print(var_dic_list())"
    },
    "r": {
     "delete_cmd_postfix": ") ",
     "delete_cmd_prefix": "rm(",
     "library": "var_list.r",
     "varRefreshCmd": "cat(var_dic_list()) "
    }
   },
   "types_to_exclude": [
    "module",
    "function",
    "builtin_function_or_method",
    "instance",
    "_Feature"
   ],
   "window_display": false
  }
 },
 "nbformat": 4,
 "nbformat_minor": 4
}
